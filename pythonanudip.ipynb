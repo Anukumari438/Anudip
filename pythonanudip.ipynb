{
 "cells": [
  {
   "cell_type": "code",
   "execution_count": 2,
   "id": "d7cca6ce-08cc-4aad-ae2b-58ce6294d757",
   "metadata": {},
   "outputs": [
    {
     "data": {
      "text/plain": [
       "'hello world'"
      ]
     },
     "execution_count": 2,
     "metadata": {},
     "output_type": "execute_result"
    }
   ],
   "source": [
    "\"hello world\""
   ]
  },
  {
   "cell_type": "code",
   "execution_count": 4,
   "id": "8ccfa891-b0e2-4fc1-928c-e71aef1beb45",
   "metadata": {},
   "outputs": [
    {
     "name": "stdout",
     "output_type": "stream",
     "text": [
      "hello world\n"
     ]
    }
   ],
   "source": [
    "print(\"hello world\")"
   ]
  },
  {
   "cell_type": "code",
   "execution_count": 6,
   "id": "0968a61e-376d-4c9e-99e5-18d9b65a4a05",
   "metadata": {},
   "outputs": [
    {
     "name": "stdout",
     "output_type": "stream",
     "text": [
      "\n"
     ]
    }
   ],
   "source": [
    "print(\"\")"
   ]
  },
  {
   "cell_type": "code",
   "execution_count": 8,
   "id": "d0a44ddc-ca4e-42c9-bd22-d7cb8200dd4e",
   "metadata": {},
   "outputs": [],
   "source": [
    "#case sensitive\n",
    "\n",
    "a = 10"
   ]
  },
  {
   "cell_type": "code",
   "execution_count": 10,
   "id": "29ef6409-4670-447f-8dcf-a4de72d37b8e",
   "metadata": {},
   "outputs": [],
   "source": [
    "A = 50"
   ]
  },
  {
   "cell_type": "code",
   "execution_count": 12,
   "id": "697548ac-9a77-4bb5-81fc-e81935f0166a",
   "metadata": {},
   "outputs": [
    {
     "data": {
      "text/plain": [
       "10"
      ]
     },
     "execution_count": 12,
     "metadata": {},
     "output_type": "execute_result"
    }
   ],
   "source": [
    "a"
   ]
  },
  {
   "cell_type": "code",
   "execution_count": 14,
   "id": "9265acf0-6771-4b31-ab51-cd88a7fd84ee",
   "metadata": {},
   "outputs": [
    {
     "data": {
      "text/plain": [
       "50"
      ]
     },
     "execution_count": 14,
     "metadata": {},
     "output_type": "execute_result"
    }
   ],
   "source": [
    "A"
   ]
  },
  {
   "cell_type": "code",
   "execution_count": 16,
   "id": "5edc34ba-d0c2-4a52-96e3-920fe58face5",
   "metadata": {},
   "outputs": [
    {
     "name": "stdout",
     "output_type": "stream",
     "text": [
      "Hello World\n"
     ]
    }
   ],
   "source": [
    "# Python is a case sensitive language\n",
    "print('Hello World')   "
   ]
  },
  {
   "cell_type": "code",
   "execution_count": 18,
   "id": "621242e5-1c04-4ccf-b55e-1dde2351b069",
   "metadata": {},
   "outputs": [
    {
     "ename": "NameError",
     "evalue": "name 'Print' is not defined",
     "output_type": "error",
     "traceback": [
      "\u001b[1;31m---------------------------------------------------------------------------\u001b[0m",
      "\u001b[1;31mNameError\u001b[0m                                 Traceback (most recent call last)",
      "Cell \u001b[1;32mIn[18], line 1\u001b[0m\n\u001b[1;32m----> 1\u001b[0m Print()\n",
      "\u001b[1;31mNameError\u001b[0m: name 'Print' is not defined"
     ]
    }
   ],
   "source": [
    "Print()      #case sensitive"
   ]
  },
  {
   "cell_type": "code",
   "execution_count": 20,
   "id": "b2eacfa1-aa8a-4ff5-8dd7-72145cb02027",
   "metadata": {},
   "outputs": [
    {
     "name": "stdout",
     "output_type": "stream",
     "text": [
      "\n"
     ]
    }
   ],
   "source": [
    "print()"
   ]
  },
  {
   "cell_type": "code",
   "execution_count": 22,
   "id": "9a0c505b-f031-4f6a-ba15-c8b397352a14",
   "metadata": {},
   "outputs": [
    {
     "name": "stdout",
     "output_type": "stream",
     "text": [
      "raj\n"
     ]
    }
   ],
   "source": [
    "print('raj')"
   ]
  },
  {
   "cell_type": "code",
   "execution_count": 24,
   "id": "a7b2c2c9-ee17-4795-88cf-1c657dcf555a",
   "metadata": {},
   "outputs": [
    {
     "ename": "NameError",
     "evalue": "name 'raj' is not defined",
     "output_type": "error",
     "traceback": [
      "\u001b[1;31m---------------------------------------------------------------------------\u001b[0m",
      "\u001b[1;31mNameError\u001b[0m                                 Traceback (most recent call last)",
      "Cell \u001b[1;32mIn[24], line 1\u001b[0m\n\u001b[1;32m----> 1\u001b[0m \u001b[38;5;28mprint\u001b[39m(raj)\n",
      "\u001b[1;31mNameError\u001b[0m: name 'raj' is not defined"
     ]
    }
   ],
   "source": [
    "print(raj)   #its not string unless inverted comma"
   ]
  },
  {
   "cell_type": "code",
   "execution_count": null,
   "id": "f592d070-0a57-467b-96cb-c707084fd59f",
   "metadata": {},
   "outputs": [],
   "source": []
  },
  {
   "cell_type": "code",
   "execution_count": 27,
   "id": "d29ca513-39cc-4d6e-a3ba-b9a367c9c3a3",
   "metadata": {},
   "outputs": [
    {
     "name": "stdout",
     "output_type": "stream",
     "text": [
      "7\n"
     ]
    }
   ],
   "source": [
    "print(7)"
   ]
  },
  {
   "cell_type": "code",
   "execution_count": 29,
   "id": "d9b148d1-3daf-4389-9517-9171ce7a0bad",
   "metadata": {},
   "outputs": [
    {
     "name": "stdout",
     "output_type": "stream",
     "text": [
      "7.7\n"
     ]
    }
   ],
   "source": [
    "print(7.7)"
   ]
  },
  {
   "cell_type": "code",
   "execution_count": 31,
   "id": "6355d3fc-c575-4817-8992-09f5f3ace790",
   "metadata": {},
   "outputs": [
    {
     "name": "stdout",
     "output_type": "stream",
     "text": [
      "True\n"
     ]
    }
   ],
   "source": [
    "print(True)"
   ]
  },
  {
   "cell_type": "code",
   "execution_count": 33,
   "id": "82f7d09b-59b3-4c56-8ce6-675592b6309d",
   "metadata": {},
   "outputs": [
    {
     "name": "stdout",
     "output_type": "stream",
     "text": [
      "Hello 1 4.5 True\n"
     ]
    }
   ],
   "source": [
    "print('Hello',1,4.5,True)   #multiple Data type or multiple things at once\n",
    "                            #observe in the op the spaces given its because of the by default"
   ]
  },
  {
   "cell_type": "code",
   "execution_count": 35,
   "id": "94b246de-549a-48f6-b49a-d248916512ef",
   "metadata": {},
   "outputs": [],
   "source": [
    " #a new thing called arguements in the function will learn that as well\n",
    "                                        #for now understand that it is a way separtate the values"
   ]
  },
  {
   "cell_type": "code",
   "execution_count": 37,
   "id": "90ba7896-d613-46f5-a99e-2235c677ced8",
   "metadata": {},
   "outputs": [
    {
     "name": "stdout",
     "output_type": "stream",
     "text": [
      "hello\n",
      "world\n"
     ]
    }
   ],
   "source": [
    "print('hello')     #Learn how the python interpreter moves\n",
    "print('world')"
   ]
  },
  {
   "cell_type": "code",
   "execution_count": 39,
   "id": "2f10e175-fc38-4d38-9edf-4176bb878daa",
   "metadata": {},
   "outputs": [
    {
     "name": "stdout",
     "output_type": "stream",
     "text": [
      "hello hi\n"
     ]
    }
   ],
   "source": [
    "print('hello', end=' ')\n",
    "print('hi')"
   ]
  },
  {
   "cell_type": "code",
   "execution_count": 41,
   "id": "737927e2-2894-47ee-b44b-42861b22deb2",
   "metadata": {},
   "outputs": [
    {
     "name": "stdout",
     "output_type": "stream",
     "text": [
      "hello****world\n"
     ]
    }
   ],
   "source": [
    "print('hello',end='****')    #this will make the output in same line\n",
    "print('world')"
   ]
  },
  {
   "cell_type": "code",
   "execution_count": 43,
   "id": "9f66227f-17a1-4278-bc91-b40723d7543f",
   "metadata": {},
   "outputs": [
    {
     "name": "stdout",
     "output_type": "stream",
     "text": [
      "hellonotworld\n",
      "now the pointer is here in the second line\n"
     ]
    }
   ],
   "source": [
    "print('hello',end='not')\n",
    "print('world')\n",
    "print(\"now the pointer is here in the second line\")"
   ]
  },
  {
   "cell_type": "markdown",
   "id": "c5bdb582-87f7-43b0-aad9-ed53774506a8",
   "metadata": {},
   "source": [
    "# example\n",
    "\"\"\"what all data we see in the world\n",
    "lets take an exapmle of mobile phone what all data we have\n",
    "1)video  (gallery)\n",
    "2)audio  (some other mp3 folder)\n",
    "3)images (gallery since similar to video)\n",
    "4)text   (Some Document)\n",
    "5)pdf    (some document)\n",
    "\n",
    "we have differnt space for differnt data\"\"\"\n"
   ]
  },
  {
   "cell_type": "code",
   "execution_count": 48,
   "id": "b5730b12-af1d-45f8-ac47-27cf9de3417a",
   "metadata": {},
   "outputs": [],
   "source": [
    "age = 25"
   ]
  },
  {
   "cell_type": "code",
   "execution_count": 50,
   "id": "fca0ef25-cb67-4b86-9fb2-bee787f6daa4",
   "metadata": {},
   "outputs": [
    {
     "data": {
      "text/plain": [
       "int"
      ]
     },
     "execution_count": 50,
     "metadata": {},
     "output_type": "execute_result"
    }
   ],
   "source": [
    "type(age)"
   ]
  },
  {
   "cell_type": "code",
   "execution_count": 52,
   "id": "1734e769-f4b0-4433-87d9-b9fb87475799",
   "metadata": {},
   "outputs": [],
   "source": [
    "age = 25\n",
    "temperature = -5"
   ]
  },
  {
   "cell_type": "code",
   "execution_count": 54,
   "id": "ef8c49ee-65a5-4c92-a04f-3f9af9a8cef2",
   "metadata": {},
   "outputs": [],
   "source": [
    "price = 19.99\n",
    "pi = 3.14159"
   ]
  },
  {
   "cell_type": "code",
   "execution_count": 56,
   "id": "68ed37e0-9a95-4313-bd04-5298bb7cbf00",
   "metadata": {},
   "outputs": [
    {
     "data": {
      "text/plain": [
       "float"
      ]
     },
     "execution_count": 56,
     "metadata": {},
     "output_type": "execute_result"
    }
   ],
   "source": [
    "type(price)"
   ]
  },
  {
   "cell_type": "code",
   "execution_count": 58,
   "id": "f34c7975-7f22-4c49-a5c5-c27d50b09386",
   "metadata": {},
   "outputs": [
    {
     "data": {
      "text/plain": [
       "int"
      ]
     },
     "execution_count": 58,
     "metadata": {},
     "output_type": "execute_result"
    }
   ],
   "source": [
    "type(11)"
   ]
  },
  {
   "cell_type": "code",
   "execution_count": 60,
   "id": "c846624c-97c4-4b81-a614-adf03ead5660",
   "metadata": {},
   "outputs": [
    {
     "data": {
      "text/plain": [
       "bool"
      ]
     },
     "execution_count": 60,
     "metadata": {},
     "output_type": "execute_result"
    }
   ],
   "source": [
    "is_sunny = True\n",
    "has_permission = False\n",
    "type(is_sunny)"
   ]
  },
  {
   "cell_type": "code",
   "execution_count": 62,
   "id": "073004c8-3412-4d5f-8c4a-8e7bd0602f30",
   "metadata": {},
   "outputs": [
    {
     "data": {
      "text/plain": [
       "str"
      ]
     },
     "execution_count": 62,
     "metadata": {},
     "output_type": "execute_result"
    }
   ],
   "source": [
    "name = 'Alice'\n",
    "greeting = \"Hello, World!\"\n",
    "type(name)"
   ]
  },
  {
   "cell_type": "code",
   "execution_count": 64,
   "id": "dc470155-5a39-431b-a11a-e02a9e0133b8",
   "metadata": {},
   "outputs": [
    {
     "data": {
      "text/plain": [
       "int"
      ]
     },
     "execution_count": 64,
     "metadata": {},
     "output_type": "execute_result"
    }
   ],
   "source": [
    "type(age)"
   ]
  },
  {
   "cell_type": "code",
   "execution_count": 66,
   "id": "bc3e1a4e-db59-4b48-aba0-3c72087fbf09",
   "metadata": {},
   "outputs": [
    {
     "data": {
      "text/plain": [
       "complex"
      ]
     },
     "execution_count": 66,
     "metadata": {},
     "output_type": "execute_result"
    }
   ],
   "source": [
    "z = 3 + 4j\n",
    "type(z)"
   ]
  },
  {
   "cell_type": "code",
   "execution_count": 68,
   "id": "a6d0537f-c4e3-4bf5-a91a-1844c653dae6",
   "metadata": {},
   "outputs": [],
   "source": [
    "lis = [\"apple\",5,20.3]\n",
    "numbers = [1, 2, 3, 4, 5]\n",
    "mixed = [1, \"apple\", 3.5, True]"
   ]
  },
  {
   "cell_type": "code",
   "execution_count": 70,
   "id": "eb30e5d2-c3ef-4ab7-8831-3846b8869814",
   "metadata": {},
   "outputs": [
    {
     "data": {
      "text/plain": [
       "list"
      ]
     },
     "execution_count": 70,
     "metadata": {},
     "output_type": "execute_result"
    }
   ],
   "source": [
    "type(lis)"
   ]
  },
  {
   "cell_type": "code",
   "execution_count": 72,
   "id": "61b894d4-b2f4-4c4e-a0f6-4e62ebd990cd",
   "metadata": {},
   "outputs": [],
   "source": [
    "point = (3, 4)\n",
    "person = (\"John\", 30, \"Engineer\")\n",
    "colors = (\"red\", \"green\", \"blue\")"
   ]
  },
  {
   "cell_type": "code",
   "execution_count": 74,
   "id": "c8b4cf29-1764-4136-9af9-63a3f95673b8",
   "metadata": {},
   "outputs": [
    {
     "data": {
      "text/plain": [
       "tuple"
      ]
     },
     "execution_count": 74,
     "metadata": {},
     "output_type": "execute_result"
    }
   ],
   "source": [
    "type(point)"
   ]
  },
  {
   "cell_type": "code",
   "execution_count": 76,
   "id": "90d2a5c7-a434-4c6e-8682-7312adb5accd",
   "metadata": {},
   "outputs": [],
   "source": [
    "unique_numbers = {1, 2, 3, 4, 4, 5}\n",
    "fruits = {\"apple\", \"banana\", \"cherry\"}"
   ]
  },
  {
   "cell_type": "code",
   "execution_count": 78,
   "id": "24db74e1-6927-403c-9e2f-9129732536b1",
   "metadata": {},
   "outputs": [
    {
     "data": {
      "text/plain": [
       "{1, 2, 3, 4, 5}"
      ]
     },
     "execution_count": 78,
     "metadata": {},
     "output_type": "execute_result"
    }
   ],
   "source": [
    "unique_numbers"
   ]
  },
  {
   "cell_type": "code",
   "execution_count": 80,
   "id": "832c0068-8519-4521-a0e4-c2c5ff29209e",
   "metadata": {},
   "outputs": [
    {
     "data": {
      "text/plain": [
       "set"
      ]
     },
     "execution_count": 80,
     "metadata": {},
     "output_type": "execute_result"
    }
   ],
   "source": [
    "type(fruits)"
   ]
  },
  {
   "cell_type": "code",
   "execution_count": 82,
   "id": "0ace9f90-1dd8-44f6-bf40-f31ccd6dddab",
   "metadata": {},
   "outputs": [],
   "source": [
    "student = {\"name\": \"Alice\"  ,    \"age\": 23,    \"major\": \"Computer Science\"}\n",
    "prices = {\"apple\": 1.2, \"banana\": 0.5, \"cherry\": 2.5}\n"
   ]
  },
  {
   "cell_type": "code",
   "execution_count": 84,
   "id": "17090061-5248-4283-9af2-777a2049247f",
   "metadata": {},
   "outputs": [],
   "source": [
    "student = {\"Names\":[\"Raj\",\"Alice\"],\"Age\":[20,22]}"
   ]
  },
  {
   "cell_type": "code",
   "execution_count": 86,
   "id": "2c9bd2c0-d529-4fd2-bc32-78d64624e107",
   "metadata": {},
   "outputs": [
    {
     "data": {
      "text/plain": [
       "{'Names': ['Raj', 'Alice'], 'Age': [20, 22]}"
      ]
     },
     "execution_count": 86,
     "metadata": {},
     "output_type": "execute_result"
    }
   ],
   "source": [
    "student"
   ]
  },
  {
   "cell_type": "code",
   "execution_count": 88,
   "id": "69a96d39-1670-4212-a673-581d65e82b2c",
   "metadata": {},
   "outputs": [
    {
     "data": {
      "text/plain": [
       "list"
      ]
     },
     "execution_count": 88,
     "metadata": {},
     "output_type": "execute_result"
    }
   ],
   "source": [
    "\n",
    "# type\n",
    "type([1,2,4])"
   ]
  },
  {
   "cell_type": "code",
   "execution_count": 90,
   "id": "1b9f6d34-03e9-4375-a194-44a4f80b53a7",
   "metadata": {},
   "outputs": [],
   "source": [
    "var = 123"
   ]
  },
  {
   "cell_type": "code",
   "execution_count": 92,
   "id": "be3a8edf-3316-49b0-975e-8cde4b803356",
   "metadata": {},
   "outputs": [],
   "source": [
    "abc  = 2.02"
   ]
  },
  {
   "cell_type": "code",
   "execution_count": 94,
   "id": "41aad681-d4e9-4394-80c8-286714a6b585",
   "metadata": {},
   "outputs": [],
   "source": [
    "abf = \"akljsh\""
   ]
  },
  {
   "cell_type": "code",
   "execution_count": 96,
   "id": "5987b60a-52ec-4171-809f-40a1c005bc9d",
   "metadata": {},
   "outputs": [],
   "source": [
    "raj_salary = 350000"
   ]
  },
  {
   "cell_type": "code",
   "execution_count": 98,
   "id": "29a5055b-c85a-4328-9765-b52d20e1c3ee",
   "metadata": {},
   "outputs": [
    {
     "data": {
      "text/plain": [
       "350000"
      ]
     },
     "execution_count": 98,
     "metadata": {},
     "output_type": "execute_result"
    }
   ],
   "source": [
    "raj_salary"
   ]
  },
  {
   "cell_type": "code",
   "execution_count": 100,
   "id": "4a156dcf-84b4-42f0-a2cc-b3a11036e229",
   "metadata": {},
   "outputs": [],
   "source": [
    "raj_salary = \"Raj\""
   ]
  },
  {
   "cell_type": "code",
   "execution_count": 102,
   "id": "d7df4fa4-3af2-43ff-b01d-a7570960ca13",
   "metadata": {},
   "outputs": [
    {
     "data": {
      "text/plain": [
       "'Raj'"
      ]
     },
     "execution_count": 102,
     "metadata": {},
     "output_type": "execute_result"
    }
   ],
   "source": [
    "raj_salary"
   ]
  },
  {
   "cell_type": "code",
   "execution_count": 104,
   "id": "2afb6dca-c430-4c78-ab2e-81980075cdda",
   "metadata": {},
   "outputs": [],
   "source": [
    "a = 12345"
   ]
  },
  {
   "cell_type": "code",
   "execution_count": 106,
   "id": "70cf3465-3ca2-45d2-9f6f-ebd3a38eab49",
   "metadata": {},
   "outputs": [
    {
     "data": {
      "text/plain": [
       "int"
      ]
     },
     "execution_count": 106,
     "metadata": {},
     "output_type": "execute_result"
    }
   ],
   "source": [
    "type(a)"
   ]
  },
  {
   "cell_type": "code",
   "execution_count": 108,
   "id": "2a1813a5-bd25-4965-a77a-d326e795a373",
   "metadata": {},
   "outputs": [],
   "source": [
    "b = 20.25"
   ]
  },
  {
   "cell_type": "code",
   "execution_count": 110,
   "id": "ab3e401b-b005-46e0-8131-feaa6a811296",
   "metadata": {},
   "outputs": [
    {
     "data": {
      "text/plain": [
       "float"
      ]
     },
     "execution_count": 110,
     "metadata": {},
     "output_type": "execute_result"
    }
   ],
   "source": [
    "type(b)"
   ]
  },
  {
   "cell_type": "code",
   "execution_count": 112,
   "id": "846e7fdb-ad45-48d7-91ad-72c5044c144f",
   "metadata": {},
   "outputs": [],
   "source": [
    "c = 'text data'"
   ]
  },
  {
   "cell_type": "code",
   "execution_count": 114,
   "id": "13b123a9-a9bb-44d6-b4e6-da357e8bedd9",
   "metadata": {},
   "outputs": [
    {
     "data": {
      "text/plain": [
       "str"
      ]
     },
     "execution_count": 114,
     "metadata": {},
     "output_type": "execute_result"
    }
   ],
   "source": [
    "type(c)"
   ]
  },
  {
   "cell_type": "markdown",
   "id": "07c42134-fcb4-4e2e-bbb4-99e5ff07dbeb",
   "metadata": {},
   "source": [
    "# Data Sciecnce \n",
    "\n",
    "Extract information from the data \n",
    "data comes from business \n",
    "data in the shape \n",
    "\n",
    "review --- Text data Extract information from the text data\n",
    "\"   \"\n",
    "\n",
    "[  ]\n",
    "\n",
    "tabular data \n",
    "images\n",
    "video \n"
   ]
  },
  {
   "cell_type": "code",
   "execution_count": 117,
   "id": "7352db47-ff96-4823-8d12-3d838165e4d4",
   "metadata": {},
   "outputs": [],
   "source": [
    "e = [1,2,3,45,6]"
   ]
  },
  {
   "cell_type": "code",
   "execution_count": 119,
   "id": "5760eee3-3215-4dc0-84d9-11dd95cc07eb",
   "metadata": {},
   "outputs": [
    {
     "data": {
      "text/plain": [
       "list"
      ]
     },
     "execution_count": 119,
     "metadata": {},
     "output_type": "execute_result"
    }
   ],
   "source": [
    "type(e)"
   ]
  },
  {
   "cell_type": "code",
   "execution_count": 121,
   "id": "5b778233-073e-4187-aa73-82ce1e546040",
   "metadata": {},
   "outputs": [],
   "source": [
    "t = (1,2,5)"
   ]
  },
  {
   "cell_type": "code",
   "execution_count": 123,
   "id": "29c11861-de82-469b-89ea-350f7cdac42f",
   "metadata": {},
   "outputs": [
    {
     "data": {
      "text/plain": [
       "tuple"
      ]
     },
     "execution_count": 123,
     "metadata": {},
     "output_type": "execute_result"
    }
   ],
   "source": [
    "type(t)"
   ]
  },
  {
   "cell_type": "code",
   "execution_count": 125,
   "id": "ce1234dc-5696-4472-abf2-2349c1bdc423",
   "metadata": {},
   "outputs": [],
   "source": [
    "raj = 20.25"
   ]
  },
  {
   "cell_type": "code",
   "execution_count": 127,
   "id": "f4673440-75b7-4fdc-8cb0-18a0f18d2e6c",
   "metadata": {},
   "outputs": [],
   "source": [
    "dic = {\"name\":\"Raj\",}"
   ]
  },
  {
   "cell_type": "code",
   "execution_count": 129,
   "id": "f4e70688-8bda-4124-b981-44cf5be5b98c",
   "metadata": {},
   "outputs": [
    {
     "data": {
      "text/plain": [
       "{'name': 'Raj'}"
      ]
     },
     "execution_count": 129,
     "metadata": {},
     "output_type": "execute_result"
    }
   ],
   "source": [
    "dic"
   ]
  },
  {
   "cell_type": "code",
   "execution_count": 131,
   "id": "ddd22020-4bb2-4427-a941-46d0998a8532",
   "metadata": {},
   "outputs": [
    {
     "data": {
      "text/plain": [
       "20.25"
      ]
     },
     "execution_count": 131,
     "metadata": {},
     "output_type": "execute_result"
    }
   ],
   "source": [
    "raj"
   ]
  },
  {
   "cell_type": "raw",
   "id": "6e31a780-aae0-4d78-a54a-4baa5d7c3a5e",
   "metadata": {},
   "source": [
    "age = 25\n",
    "name = \"Alice\"\n",
    "height = 5.7"
   ]
  },
  {
   "cell_type": "code",
   "execution_count": 135,
   "id": "77829979-583c-4c84-94b6-13a06fa64e8f",
   "metadata": {},
   "outputs": [
    {
     "ename": "NameError",
     "evalue": "name 'this' is not defined",
     "output_type": "error",
     "traceback": [
      "\u001b[1;31m---------------------------------------------------------------------------\u001b[0m",
      "\u001b[1;31mNameError\u001b[0m                                 Traceback (most recent call last)",
      "Cell \u001b[1;32mIn[135], line 1\u001b[0m\n\u001b[1;32m----> 1\u001b[0m this\n",
      "\u001b[1;31mNameError\u001b[0m: name 'this' is not defined"
     ]
    }
   ],
   "source": [
    "this"
   ]
  },
  {
   "cell_type": "code",
   "execution_count": 137,
   "id": "e39236f5-3cba-4c63-a5f7-bb93c72bf3d4",
   "metadata": {},
   "outputs": [
    {
     "ename": "NameError",
     "evalue": "name 'This' is not defined",
     "output_type": "error",
     "traceback": [
      "\u001b[1;31m---------------------------------------------------------------------------\u001b[0m",
      "\u001b[1;31mNameError\u001b[0m                                 Traceback (most recent call last)",
      "Cell \u001b[1;32mIn[137], line 1\u001b[0m\n\u001b[1;32m----> 1\u001b[0m This\n",
      "\u001b[1;31mNameError\u001b[0m: name 'This' is not defined"
     ]
    }
   ],
   "source": [
    "This"
   ]
  },
  {
   "cell_type": "raw",
   "id": "3d9aef7d-3ca8-4ecd-824d-d34ccbac52ee",
   "metadata": {},
   "source": [
    "This \n",
    "Is Raw NB Convert"
   ]
  },
  {
   "cell_type": "code",
   "execution_count": 139,
   "id": "3ecdd2b5-a0d0-4306-8809-8e469edd970f",
   "metadata": {},
   "outputs": [
    {
     "ename": "SyntaxError",
     "evalue": "invalid decimal literal (213241377.py, line 1)",
     "output_type": "error",
     "traceback": [
      "\u001b[1;36m  Cell \u001b[1;32mIn[139], line 1\u001b[1;36m\u001b[0m\n\u001b[1;33m    1ab = 10\u001b[0m\n\u001b[1;37m    ^\u001b[0m\n\u001b[1;31mSyntaxError\u001b[0m\u001b[1;31m:\u001b[0m invalid decimal literal\n"
     ]
    }
   ],
   "source": [
    "1ab = 10"
   ]
  },
  {
   "cell_type": "code",
   "execution_count": 141,
   "id": "54868cbd-632e-419a-ab49-e92a3acfbca2",
   "metadata": {},
   "outputs": [
    {
     "ename": "SyntaxError",
     "evalue": "cannot assign to literal here. Maybe you meant '==' instead of '='? (4016595276.py, line 1)",
     "output_type": "error",
     "traceback": [
      "\u001b[1;36m  Cell \u001b[1;32mIn[141], line 1\u001b[1;36m\u001b[0m\n\u001b[1;33m    483746='ap'\u001b[0m\n\u001b[1;37m    ^\u001b[0m\n\u001b[1;31mSyntaxError\u001b[0m\u001b[1;31m:\u001b[0m cannot assign to literal here. Maybe you meant '==' instead of '='?\n"
     ]
    }
   ],
   "source": [
    "483746='ap'"
   ]
  },
  {
   "cell_type": "code",
   "execution_count": 143,
   "id": "eef9abd6-594e-4d6c-a373-fa17c710a930",
   "metadata": {},
   "outputs": [],
   "source": [
    "_AB = 20"
   ]
  },
  {
   "cell_type": "code",
   "execution_count": 145,
   "id": "23b56706-2948-4c29-a703-8b4d507e813d",
   "metadata": {},
   "outputs": [
    {
     "data": {
      "text/plain": [
       "20"
      ]
     },
     "execution_count": 145,
     "metadata": {},
     "output_type": "execute_result"
    }
   ],
   "source": [
    "_AB"
   ]
  },
  {
   "cell_type": "code",
   "execution_count": 147,
   "id": "61e3755a-9981-4d17-878d-bba984baa77d",
   "metadata": {},
   "outputs": [],
   "source": [
    "_ab = 30"
   ]
  },
  {
   "cell_type": "code",
   "execution_count": 149,
   "id": "d27d84e2-8fcc-4918-919d-108ec583bf4a",
   "metadata": {},
   "outputs": [
    {
     "data": {
      "text/plain": [
       "30"
      ]
     },
     "execution_count": 149,
     "metadata": {},
     "output_type": "execute_result"
    }
   ],
   "source": [
    "_ab"
   ]
  },
  {
   "cell_type": "code",
   "execution_count": 153,
   "id": "83dccfa2-8311-4aed-8f99-545f76f620b3",
   "metadata": {},
   "outputs": [
    {
     "ename": "SyntaxError",
     "evalue": "cannot assign to literal here. Maybe you meant '==' instead of '='? (3583800072.py, line 1)",
     "output_type": "error",
     "traceback": [
      "\u001b[1;36m  Cell \u001b[1;32mIn[153], line 1\u001b[1;36m\u001b[0m\n\u001b[1;33m    1 = 336\u001b[0m\n\u001b[1;37m    ^\u001b[0m\n\u001b[1;31mSyntaxError\u001b[0m\u001b[1;31m:\u001b[0m cannot assign to literal here. Maybe you meant '==' instead of '='?\n"
     ]
    }
   ],
   "source": [
    "1 = 336"
   ]
  },
  {
   "cell_type": "code",
   "execution_count": 155,
   "id": "e3e5a291-3720-4cf3-b02a-18af497b904f",
   "metadata": {},
   "outputs": [],
   "source": [
    "ab_1 = 23"
   ]
  },
  {
   "cell_type": "code",
   "execution_count": 157,
   "id": "a44665f5-6940-4334-ab1d-fb5647deb1cc",
   "metadata": {},
   "outputs": [],
   "source": [
    "a_1 = 222"
   ]
  },
  {
   "cell_type": "code",
   "execution_count": 159,
   "id": "4d7308d2-3448-4cde-91bb-4a1fc7920830",
   "metadata": {},
   "outputs": [],
   "source": [
    "_raj = 55"
   ]
  },
  {
   "cell_type": "code",
   "execution_count": 161,
   "id": "fbbbf842-ed31-42ba-bc3e-ecc97183fa55",
   "metadata": {},
   "outputs": [
    {
     "data": {
      "text/plain": [
       "55"
      ]
     },
     "execution_count": 161,
     "metadata": {},
     "output_type": "execute_result"
    }
   ],
   "source": [
    "_raj"
   ]
  },
  {
   "cell_type": "code",
   "execution_count": 163,
   "id": "12890b35-a97a-4e98-83de-976f0a24ed86",
   "metadata": {},
   "outputs": [],
   "source": [
    "student_roll_number = 225"
   ]
  },
  {
   "cell_type": "code",
   "execution_count": 165,
   "id": "f6a933c4-c46c-47d9-a276-4a70a7a2a596",
   "metadata": {},
   "outputs": [],
   "source": [
    "myVariable = 255"
   ]
  },
  {
   "cell_type": "code",
   "execution_count": 167,
   "id": "15314b0b-0b09-4061-bee4-fae2a8976742",
   "metadata": {},
   "outputs": [
    {
     "data": {
      "text/plain": [
       "255"
      ]
     },
     "execution_count": 167,
     "metadata": {},
     "output_type": "execute_result"
    }
   ],
   "source": [
    "myVariable\n"
   ]
  },
  {
   "cell_type": "code",
   "execution_count": 169,
   "id": "463b5275-86e4-4e6e-a57b-8cf5521b2e89",
   "metadata": {},
   "outputs": [],
   "source": [
    "Myvariable = 330"
   ]
  },
  {
   "cell_type": "code",
   "execution_count": 171,
   "id": "68b31a88-18bf-4a98-a6be-551a3ea29f91",
   "metadata": {},
   "outputs": [
    {
     "data": {
      "text/plain": [
       "330"
      ]
     },
     "execution_count": 171,
     "metadata": {},
     "output_type": "execute_result"
    }
   ],
   "source": [
    "Myvariable"
   ]
  },
  {
   "cell_type": "code",
   "execution_count": 173,
   "id": "0c2c7155-a294-4400-82d1-c20b23b3bff8",
   "metadata": {},
   "outputs": [],
   "source": [
    "user_age = 30"
   ]
  },
  {
   "cell_type": "code",
   "execution_count": 175,
   "id": "58b63fb6-395e-4eac-af3d-a3559d066401",
   "metadata": {},
   "outputs": [],
   "source": [
    "roll_number = 112"
   ]
  },
  {
   "cell_type": "code",
   "execution_count": 177,
   "id": "689cc526-74a2-4ee0-afc4-38ae7190bc11",
   "metadata": {},
   "outputs": [],
   "source": [
    "for_4 = 44"
   ]
  },
  {
   "cell_type": "code",
   "execution_count": 179,
   "id": "94aacd77-19d1-4372-99b5-dd56c5fc33ee",
   "metadata": {},
   "outputs": [],
   "source": [
    "for_4= 23"
   ]
  },
  {
   "cell_type": "code",
   "execution_count": 181,
   "id": "d95bb102-1880-4d8d-a965-a2daba36459a",
   "metadata": {},
   "outputs": [
    {
     "ename": "SyntaxError",
     "evalue": "invalid syntax (2607967547.py, line 1)",
     "output_type": "error",
     "traceback": [
      "\u001b[1;36m  Cell \u001b[1;32mIn[181], line 1\u001b[1;36m\u001b[0m\n\u001b[1;33m    is = 225\u001b[0m\n\u001b[1;37m    ^\u001b[0m\n\u001b[1;31mSyntaxError\u001b[0m\u001b[1;31m:\u001b[0m invalid syntax\n"
     ]
    }
   ],
   "source": [
    "is = 225"
   ]
  },
  {
   "cell_type": "code",
   "execution_count": 183,
   "id": "3174f01b-b959-4c88-8a52-9d600c5ad9a1",
   "metadata": {},
   "outputs": [
    {
     "ename": "SyntaxError",
     "evalue": "invalid syntax (4258171486.py, line 1)",
     "output_type": "error",
     "traceback": [
      "\u001b[1;36m  Cell \u001b[1;32mIn[183], line 1\u001b[1;36m\u001b[0m\n\u001b[1;33m    for=10\u001b[0m\n\u001b[1;37m       ^\u001b[0m\n\u001b[1;31mSyntaxError\u001b[0m\u001b[1;31m:\u001b[0m invalid syntax\n"
     ]
    }
   ],
   "source": [
    "for=10"
   ]
  },
  {
   "cell_type": "code",
   "execution_count": 185,
   "id": "f5adcbb6-1059-4684-b459-519fb6c32f85",
   "metadata": {},
   "outputs": [],
   "source": [
    "saturday_sales = 15555"
   ]
  },
  {
   "cell_type": "code",
   "execution_count": 187,
   "id": "547ba117-05ea-415a-8afd-d707473ebbb5",
   "metadata": {},
   "outputs": [
    {
     "ename": "SyntaxError",
     "evalue": "invalid syntax (917535140.py, line 1)",
     "output_type": "error",
     "traceback": [
      "\u001b[1;36m  Cell \u001b[1;32mIn[187], line 1\u001b[1;36m\u001b[0m\n\u001b[1;33m    roll_number  =\u001b[0m\n\u001b[1;37m                   ^\u001b[0m\n\u001b[1;31mSyntaxError\u001b[0m\u001b[1;31m:\u001b[0m invalid syntax\n"
     ]
    }
   ],
   "source": [
    "roll_number  = "
   ]
  },
  {
   "cell_type": "code",
   "execution_count": 189,
   "id": "1bce904c-33c2-4850-8f2d-ef28f1b4269a",
   "metadata": {},
   "outputs": [
    {
     "ename": "SyntaxError",
     "evalue": "invalid syntax (3789636838.py, line 1)",
     "output_type": "error",
     "traceback": [
      "\u001b[1;36m  Cell \u001b[1;32mIn[189], line 1\u001b[1;36m\u001b[0m\n\u001b[1;33m    sales  =\u001b[0m\n\u001b[1;37m             ^\u001b[0m\n\u001b[1;31mSyntaxError\u001b[0m\u001b[1;31m:\u001b[0m invalid syntax\n"
     ]
    }
   ],
   "source": [
    "sales  = "
   ]
  },
  {
   "cell_type": "code",
   "execution_count": 191,
   "id": "ef9ffe71-1823-4b09-afab-49264ec3558d",
   "metadata": {},
   "outputs": [],
   "source": [
    "profit=1000"
   ]
  },
  {
   "cell_type": "code",
   "execution_count": 193,
   "id": "39c3e2d7-6bcd-429f-bf2c-3d00dfc4a32d",
   "metadata": {},
   "outputs": [],
   "source": [
    "list = 55"
   ]
  },
  {
   "cell_type": "code",
   "execution_count": 195,
   "id": "b07edcac-1ad3-498c-b5a9-78f6f8f7e7a3",
   "metadata": {},
   "outputs": [],
   "source": [
    "tuple = 66"
   ]
  },
  {
   "cell_type": "code",
   "execution_count": 197,
   "id": "51042bfa-0cbf-4de7-b900-c1c59495b88c",
   "metadata": {},
   "outputs": [
    {
     "data": {
      "text/plain": [
       "55"
      ]
     },
     "execution_count": 197,
     "metadata": {},
     "output_type": "execute_result"
    }
   ],
   "source": [
    "list"
   ]
  },
  {
   "cell_type": "code",
   "execution_count": 199,
   "id": "c1f4f2e7-0431-4f6b-be9f-7765da033902",
   "metadata": {},
   "outputs": [],
   "source": [
    "average_score=25"
   ]
  },
  {
   "cell_type": "code",
   "execution_count": 201,
   "id": "7303afbc-f272-4772-af04-dcc918121d03",
   "metadata": {},
   "outputs": [
    {
     "data": {
      "text/plain": [
       "'Ram'"
      ]
     },
     "execution_count": 201,
     "metadata": {},
     "output_type": "execute_result"
    }
   ],
   "source": [
    "age=25\n",
    "name='Ram'\n",
    "name"
   ]
  },
  {
   "cell_type": "code",
   "execution_count": 203,
   "id": "73600854-8db2-4ce0-9a4c-9910d6b227ba",
   "metadata": {},
   "outputs": [],
   "source": [
    "user_name='ram'\n",
    "user_name2='sham'"
   ]
  },
  {
   "cell_type": "markdown",
   "id": "68d06215-070e-4be0-a8cc-62a93752f06c",
   "metadata": {},
   "source": [
    "# Example 1: Variable names must start with a letter or underscore\n",
    "variable_name = 10  # valid"
   ]
  },
  {
   "cell_type": "code",
   "execution_count": 206,
   "id": "69f4a553-fc2d-449d-8138-87462d52f77f",
   "metadata": {},
   "outputs": [
    {
     "data": {
      "text/plain": [
       "10"
      ]
     },
     "execution_count": 206,
     "metadata": {},
     "output_type": "execute_result"
    }
   ],
   "source": [
    "_variable_name=10\n",
    "_variable_name"
   ]
  },
  {
   "cell_type": "code",
   "execution_count": 208,
   "id": "ec177c5e-3d4a-4842-9d4b-0b15d30e790f",
   "metadata": {},
   "outputs": [],
   "source": [
    "# Example 2: Variable names can contain letters, numbers, and underscores; case-sensitive\n",
    "user_age = 30\n",
    "User_Age = 25  # different from user_age\n"
   ]
  },
  {
   "cell_type": "code",
   "execution_count": 210,
   "id": "95689dde-5c19-4b49-a21f-3003f42aa017",
   "metadata": {},
   "outputs": [
    {
     "data": {
      "text/plain": [
       "30"
      ]
     },
     "execution_count": 210,
     "metadata": {},
     "output_type": "execute_result"
    }
   ],
   "source": [
    "user_age"
   ]
  },
  {
   "cell_type": "code",
   "execution_count": 212,
   "id": "e714115c-c27d-4f71-b105-39b910f532ef",
   "metadata": {},
   "outputs": [
    {
     "data": {
      "text/plain": [
       "25"
      ]
     },
     "execution_count": 212,
     "metadata": {},
     "output_type": "execute_result"
    }
   ],
   "source": [
    "User_Age"
   ]
  },
  {
   "cell_type": "markdown",
   "id": "3ba877c3-c6f6-4c9d-85a4-ff0eae61d8e5",
   "metadata": {},
   "source": [
    "# Example 3: Python keywords cannot be used as variable names\n",
    " #for = 10  # invalid, 'for' is a keyword"
   ]
  },
  {
   "cell_type": "code",
   "execution_count": 217,
   "id": "c6e50c85-0f62-41a2-9f68-fe8fce7ffbdd",
   "metadata": {},
   "outputs": [],
   "source": [
    "total_sales = 5000 "
   ]
  },
  {
   "cell_type": "code",
   "execution_count": 219,
   "id": "2dcd68e7-0328-4fa3-afc2-1bf7b6f5bdae",
   "metadata": {},
   "outputs": [
    {
     "ename": "SyntaxError",
     "evalue": "invalid syntax (3421156698.py, line 1)",
     "output_type": "error",
     "traceback": [
      "\u001b[1;36m  Cell \u001b[1;32mIn[219], line 1\u001b[1;36m\u001b[0m\n\u001b[1;33m    list for in True False tuple\u001b[0m\n\u001b[1;37m         ^\u001b[0m\n\u001b[1;31mSyntaxError\u001b[0m\u001b[1;31m:\u001b[0m invalid syntax\n"
     ]
    }
   ],
   "source": [
    "list for in True False tuple"
   ]
  },
  {
   "cell_type": "code",
   "execution_count": 221,
   "id": "1c7accab-e7bb-4eea-b462-7c3cd9b2be3d",
   "metadata": {},
   "outputs": [],
   "source": [
    " list = [1, 2, 3]"
   ]
  },
  {
   "cell_type": "code",
   "execution_count": 223,
   "id": "7e6a09eb-ea65-4c02-a9fe-be6ee4af50b9",
   "metadata": {},
   "outputs": [],
   "source": [
    "average_score = 85 "
   ]
  },
  {
   "cell_type": "code",
   "execution_count": 225,
   "id": "f2f4bb8a-3cba-4291-8c1a-f45e75266b43",
   "metadata": {},
   "outputs": [],
   "source": [
    "item_count = 42 "
   ]
  },
  {
   "cell_type": "code",
   "execution_count": 227,
   "id": "b81ef683-ceea-4093-88b7-ede3f052897d",
   "metadata": {},
   "outputs": [],
   "source": [
    "# Example 8: Consistent naming style\n",
    "user_name = \"Alice\"\n",
    "user_age = 30\n",
    "user_email = \"alice@example.com\""
   ]
  },
  {
   "cell_type": "code",
   "execution_count": 229,
   "id": "37b6d5f3-57ad-471f-b61f-f0ef40c53841",
   "metadata": {},
   "outputs": [
    {
     "name": "stdout",
     "output_type": "stream",
     "text": [
      "5 2 3\n"
     ]
    }
   ],
   "source": [
    "a = 5\n",
    "b = 2\n",
    "c = 3\n",
    "print(a,b,c)"
   ]
  },
  {
   "cell_type": "code",
   "execution_count": 231,
   "id": "90373b6c-8705-4bd2-92b9-f425476daf57",
   "metadata": {},
   "outputs": [
    {
     "data": {
      "text/plain": [
       "5"
      ]
     },
     "execution_count": 231,
     "metadata": {},
     "output_type": "execute_result"
    }
   ],
   "source": [
    "a"
   ]
  },
  {
   "cell_type": "code",
   "execution_count": 233,
   "id": "9b698c52-ebe4-4f26-8a03-3b66d200c2bb",
   "metadata": {},
   "outputs": [
    {
     "data": {
      "text/plain": [
       "2"
      ]
     },
     "execution_count": 233,
     "metadata": {},
     "output_type": "execute_result"
    }
   ],
   "source": [
    "b"
   ]
  },
  {
   "cell_type": "code",
   "execution_count": 235,
   "id": "54183325-db77-4c33-8714-7c90191c3c70",
   "metadata": {},
   "outputs": [
    {
     "name": "stdout",
     "output_type": "stream",
     "text": [
      "5 2 3\n"
     ]
    }
   ],
   "source": [
    "a,b,c = 5,2,3\n",
    "print(a,b,c)"
   ]
  },
  {
   "cell_type": "code",
   "execution_count": 237,
   "id": "091922bf-4c5c-4859-a72d-b274915703b2",
   "metadata": {},
   "outputs": [
    {
     "name": "stdout",
     "output_type": "stream",
     "text": [
      "5 5 5\n"
     ]
    }
   ],
   "source": [
    "a=b=c= 5\n",
    "print(a,b,c)"
   ]
  },
  {
   "cell_type": "code",
   "execution_count": 239,
   "id": "6a40acd9-c5b6-41ba-bdee-155338255cb3",
   "metadata": {},
   "outputs": [
    {
     "data": {
      "text/plain": [
       "5"
      ]
     },
     "execution_count": 239,
     "metadata": {},
     "output_type": "execute_result"
    }
   ],
   "source": [
    "a"
   ]
  },
  {
   "cell_type": "code",
   "execution_count": 241,
   "id": "221b5f48-6ab1-4ba8-aabb-f084e7979f7c",
   "metadata": {},
   "outputs": [],
   "source": [
    " # this is a comment "
   ]
  },
  {
   "cell_type": "code",
   "execution_count": 243,
   "id": "ba357087-67af-4ec6-b744-6f3d1c773d0d",
   "metadata": {},
   "outputs": [],
   "source": [
    "# this is about the salary of an employee\n",
    "salary = 50000"
   ]
  },
  {
   "cell_type": "code",
   "execution_count": 245,
   "id": "8ba7dd3f-7c19-44b4-bc01-96f7c351bbf5",
   "metadata": {},
   "outputs": [
    {
     "data": {
      "text/plain": [
       "'this is \\na multiline comment\\nand i am '"
      ]
     },
     "execution_count": 245,
     "metadata": {},
     "output_type": "execute_result"
    }
   ],
   "source": [
    "\"\"\"this is \n",
    "a multiline comment\n",
    "and i am \"\"\""
   ]
  },
  {
   "cell_type": "code",
   "execution_count": 247,
   "id": "8fcb97f8-ca74-4e89-a8b5-10bddbb1acf8",
   "metadata": {},
   "outputs": [
    {
     "data": {
      "text/plain": [
       "'\\nthis is a multi\\nline  \\ncomment \\n'"
      ]
     },
     "execution_count": 247,
     "metadata": {},
     "output_type": "execute_result"
    }
   ],
   "source": [
    "\"\"\"\n",
    "this is a multi\n",
    "line  \n",
    "comment \n",
    "\"\"\""
   ]
  },
  {
   "cell_type": "code",
   "execution_count": 249,
   "id": "94eb77fc-027c-41f6-84c3-7e86888fc9ae",
   "metadata": {},
   "outputs": [],
   "source": [
    "#print(\"hello \\n world\")"
   ]
  },
  {
   "cell_type": "code",
   "execution_count": 251,
   "id": "9874a7a1-d936-4ff1-808b-9cda9f8ee1ad",
   "metadata": {},
   "outputs": [
    {
     "name": "stdout",
     "output_type": "stream",
     "text": [
      "hello\n"
     ]
    }
   ],
   "source": [
    "# i am printing hello\n",
    "print(\"hello\")  "
   ]
  },
  {
   "cell_type": "code",
   "execution_count": 253,
   "id": "6bdafe0e-5a88-4643-a916-eb9eb643eef1",
   "metadata": {},
   "outputs": [
    {
     "data": {
      "text/plain": [
       "'   \\nasldkfjlskf\\nlskdfjslkdjf\\n;lkdfk\\n\\n\\n'"
      ]
     },
     "execution_count": 253,
     "metadata": {},
     "output_type": "execute_result"
    }
   ],
   "source": [
    "\"\"\"   \n",
    "asldkfjlskf\n",
    "lskdfjslkdjf\n",
    ";lkdfk\n",
    "\n",
    "\n",
    "\"\"\""
   ]
  },
  {
   "cell_type": "code",
   "execution_count": 259,
   "id": "04f88359-5baa-4f55-854d-83cf640661d8",
   "metadata": {},
   "outputs": [],
   "source": [
    "var = 20"
   ]
  },
  {
   "cell_type": "code",
   "execution_count": 261,
   "id": "0f4c3a27-25b8-45ac-b85d-684037c304c7",
   "metadata": {},
   "outputs": [
    {
     "ename": "SyntaxError",
     "evalue": "invalid syntax (2990096196.py, line 1)",
     "output_type": "error",
     "traceback": [
      "\u001b[1;36m  Cell \u001b[1;32mIn[261], line 1\u001b[1;36m\u001b[0m\n\u001b[1;33m    if = 0\u001b[0m\n\u001b[1;37m       ^\u001b[0m\n\u001b[1;31mSyntaxError\u001b[0m\u001b[1;31m:\u001b[0m invalid syntax\n"
     ]
    }
   ],
   "source": [
    "if = 0"
   ]
  },
  {
   "cell_type": "code",
   "execution_count": 263,
   "id": "cbebe775-20ca-420d-ae30-ff22ec6b0eef",
   "metadata": {},
   "outputs": [
    {
     "ename": "SyntaxError",
     "evalue": "expected ':' (2722054247.py, line 1)",
     "output_type": "error",
     "traceback": [
      "\u001b[1;36m  Cell \u001b[1;32mIn[263], line 1\u001b[1;36m\u001b[0m\n\u001b[1;33m    def func ()\u001b[0m\n\u001b[1;37m                ^\u001b[0m\n\u001b[1;31mSyntaxError\u001b[0m\u001b[1;31m:\u001b[0m expected ':'\n"
     ]
    }
   ],
   "source": [
    "def func () "
   ]
  },
  {
   "cell_type": "code",
   "execution_count": 265,
   "id": "ba6cc193-a9d6-4171-af3e-80592a51dacc",
   "metadata": {},
   "outputs": [],
   "source": [
    "my_salary = 5555"
   ]
  },
  {
   "cell_type": "code",
   "execution_count": 267,
   "id": "cbff59d7-d298-40be-b654-6ed6cd40279e",
   "metadata": {},
   "outputs": [
    {
     "name": "stdout",
     "output_type": "stream",
     "text": [
      "raj\n",
      "hel\n"
     ]
    }
   ],
   "source": [
    "# Identifiers\n",
    "# You can't start with a digit\n",
    "name1 = 'raj'\n",
    "print(name1)\n",
    "# You can use special chars\n",
    "_ = 'hel'\n",
    "print(_)\n",
    "# identiers can not be keyword"
   ]
  },
  {
   "cell_type": "code",
   "execution_count": 269,
   "id": "4adeacf3-1427-4c81-93cf-495e6970cedd",
   "metadata": {},
   "outputs": [],
   "source": [
    "user_name = \"abx@gmail\"\n",
    "password  = 123456"
   ]
  },
  {
   "cell_type": "code",
   "execution_count": 271,
   "id": "7cc8cabb-689c-4082-9113-8544801bb199",
   "metadata": {},
   "outputs": [
    {
     "name": "stdin",
     "output_type": "stream",
     "text": [
      " ram\n"
     ]
    }
   ],
   "source": [
    "name=input()"
   ]
  },
  {
   "cell_type": "code",
   "execution_count": 273,
   "id": "24413ac0-ba5d-4161-ba3b-b6993163bc4e",
   "metadata": {},
   "outputs": [
    {
     "data": {
      "text/plain": [
       "str"
      ]
     },
     "execution_count": 273,
     "metadata": {},
     "output_type": "execute_result"
    }
   ],
   "source": [
    "type(name)"
   ]
  },
  {
   "cell_type": "code",
   "execution_count": 275,
   "id": "65ef1ee5-b3a0-4639-a575-3c419b4560c0",
   "metadata": {},
   "outputs": [
    {
     "name": "stdin",
     "output_type": "stream",
     "text": [
      "What is your name  raj\n"
     ]
    }
   ],
   "source": [
    "name=input('What is your name ')"
   ]
  },
  {
   "cell_type": "code",
   "execution_count": 277,
   "id": "fc4a36cb-09a7-4260-8626-f988f4ded683",
   "metadata": {},
   "outputs": [
    {
     "data": {
      "text/plain": [
       "'raj'"
      ]
     },
     "execution_count": 277,
     "metadata": {},
     "output_type": "execute_result"
    }
   ],
   "source": [
    "name"
   ]
  },
  {
   "cell_type": "code",
   "execution_count": 279,
   "id": "81849978-73e3-490d-9a2c-701ce5fa86f6",
   "metadata": {},
   "outputs": [
    {
     "name": "stdin",
     "output_type": "stream",
     "text": [
      "Enter the name  raj\n"
     ]
    },
    {
     "data": {
      "text/plain": [
       "'raj'"
      ]
     },
     "execution_count": 279,
     "metadata": {},
     "output_type": "execute_result"
    }
   ],
   "source": [
    "input(\"Enter the name \")"
   ]
  },
  {
   "cell_type": "code",
   "execution_count": 281,
   "id": "5419b64f-6574-4e91-a0cb-92b55a5bb460",
   "metadata": {},
   "outputs": [
    {
     "name": "stdin",
     "output_type": "stream",
     "text": [
      "enter the user name  abc@gmail.com\n"
     ]
    },
    {
     "data": {
      "text/plain": [
       "'abc@gmail.com'"
      ]
     },
     "execution_count": 281,
     "metadata": {},
     "output_type": "execute_result"
    }
   ],
   "source": [
    "#I want to store the username and password \n",
    "input(\"enter the user name \")"
   ]
  },
  {
   "cell_type": "code",
   "execution_count": 283,
   "id": "0d4d8790-68e9-475e-8501-e2c0803877c7",
   "metadata": {},
   "outputs": [
    {
     "name": "stdin",
     "output_type": "stream",
     "text": [
      "enter the username  abc@hotmail.com\n"
     ]
    }
   ],
   "source": [
    "user_name = input(\"enter the username \")"
   ]
  },
  {
   "cell_type": "code",
   "execution_count": 285,
   "id": "b672d0db-667c-42a9-a3ca-dcb841f1a427",
   "metadata": {},
   "outputs": [
    {
     "data": {
      "text/plain": [
       "'abc@hotmail.com'"
      ]
     },
     "execution_count": 285,
     "metadata": {},
     "output_type": "execute_result"
    }
   ],
   "source": [
    "user_name"
   ]
  },
  {
   "cell_type": "raw",
   "id": "6f17a3a5-fdb2-47f5-97ba-d24ea3326068",
   "metadata": {},
   "source": []
  },
  {
   "cell_type": "code",
   "execution_count": 289,
   "id": "e00eebd9-e30f-4a86-8a93-e5b77e1b544e",
   "metadata": {},
   "outputs": [
    {
     "name": "stdin",
     "output_type": "stream",
     "text": [
      "enter your password  123\n"
     ]
    }
   ],
   "source": [
    "user_password = input(\"enter your password \")"
   ]
  },
  {
   "cell_type": "code",
   "execution_count": 291,
   "id": "708c884c-d868-4d45-ba04-94784dc02639",
   "metadata": {},
   "outputs": [
    {
     "data": {
      "text/plain": [
       "'123'"
      ]
     },
     "execution_count": 291,
     "metadata": {},
     "output_type": "execute_result"
    }
   ],
   "source": [
    "user_password"
   ]
  },
  {
   "cell_type": "code",
   "execution_count": 293,
   "id": "55c1cbaf-ff23-46dd-910e-1c7732a58c68",
   "metadata": {},
   "outputs": [
    {
     "name": "stdin",
     "output_type": "stream",
     "text": [
      "enter anything hello\n"
     ]
    },
    {
     "data": {
      "text/plain": [
       "'hello'"
      ]
     },
     "execution_count": 293,
     "metadata": {},
     "output_type": "execute_result"
    }
   ],
   "source": [
    "input (\"enter anything\")"
   ]
  },
  {
   "cell_type": "code",
   "execution_count": 295,
   "id": "0d34db8c-ef3e-4313-bc09-5f0b81c86117",
   "metadata": {},
   "outputs": [
    {
     "name": "stdin",
     "output_type": "stream",
     "text": [
      "enter the first number  10\n"
     ]
    }
   ],
   "source": [
    "num1 = int(input(\"enter the first number \"))\n"
   ]
  },
  {
   "cell_type": "code",
   "execution_count": 297,
   "id": "4fad4c75-e4cb-4372-aff7-fbd611598fd9",
   "metadata": {},
   "outputs": [
    {
     "data": {
      "text/plain": [
       "10"
      ]
     },
     "execution_count": 297,
     "metadata": {},
     "output_type": "execute_result"
    }
   ],
   "source": [
    "num1"
   ]
  },
  {
   "cell_type": "code",
   "execution_count": 299,
   "id": "e6196e65-7d6b-4596-9b45-3bbfb4ff98ad",
   "metadata": {},
   "outputs": [
    {
     "data": {
      "text/plain": [
       "int"
      ]
     },
     "execution_count": 299,
     "metadata": {},
     "output_type": "execute_result"
    }
   ],
   "source": [
    "type(num1)"
   ]
  },
  {
   "cell_type": "code",
   "execution_count": 301,
   "id": "2fb083bb-6ffb-4daa-8fa7-8a6b169a6312",
   "metadata": {},
   "outputs": [
    {
     "name": "stdin",
     "output_type": "stream",
     "text": [
      "enter the second number 20\n"
     ]
    }
   ],
   "source": [
    "num2 = int(input(\"enter the second number\"))"
   ]
  },
  {
   "cell_type": "code",
   "execution_count": 303,
   "id": "a69e3e2f-cbe5-4d2a-ab9c-23f81e913b28",
   "metadata": {},
   "outputs": [
    {
     "data": {
      "text/plain": [
       "int"
      ]
     },
     "execution_count": 303,
     "metadata": {},
     "output_type": "execute_result"
    }
   ],
   "source": [
    "type(num2)"
   ]
  },
  {
   "cell_type": "code",
   "execution_count": 305,
   "id": "dd5d7dda-2339-4a86-85cb-93dc66204330",
   "metadata": {},
   "outputs": [
    {
     "data": {
      "text/plain": [
       "30"
      ]
     },
     "execution_count": 305,
     "metadata": {},
     "output_type": "execute_result"
    }
   ],
   "source": [
    "num1 + num2 "
   ]
  },
  {
   "cell_type": "code",
   "execution_count": 307,
   "id": "2a82c8a4-795b-480d-bee2-25e839655d15",
   "metadata": {},
   "outputs": [
    {
     "name": "stdin",
     "output_type": "stream",
     "text": [
      "enter first number 20\n",
      "enter second number 30\n"
     ]
    }
   ],
   "source": [
    "num1 = int(input('enter first number'))\n",
    "num2 = int(input('enter second number'))"
   ]
  },
  {
   "cell_type": "code",
   "execution_count": 309,
   "id": "510369e6-74f5-489f-93c3-9cd6564c6861",
   "metadata": {},
   "outputs": [
    {
     "name": "stdin",
     "output_type": "stream",
     "text": [
      "enter first number  10\n"
     ]
    }
   ],
   "source": [
    "num1 = float(input('enter first number '))"
   ]
  },
  {
   "cell_type": "code",
   "execution_count": 311,
   "id": "fe08c84e-cbcf-4368-a248-3588e9ebd1ad",
   "metadata": {},
   "outputs": [
    {
     "data": {
      "text/plain": [
       "10.0"
      ]
     },
     "execution_count": 311,
     "metadata": {},
     "output_type": "execute_result"
    }
   ],
   "source": [
    "num1"
   ]
  },
  {
   "cell_type": "code",
   "execution_count": 313,
   "id": "d8187165-0e1e-4010-8d2f-b54f48972bf3",
   "metadata": {},
   "outputs": [
    {
     "name": "stdin",
     "output_type": "stream",
     "text": [
      "enter first number  10\n"
     ]
    }
   ],
   "source": [
    "num1 = int(input('enter first number '))"
   ]
  },
  {
   "cell_type": "code",
   "execution_count": 315,
   "id": "a1e9aece-a53c-4fc8-a385-365b535c8152",
   "metadata": {},
   "outputs": [
    {
     "data": {
      "text/plain": [
       "10"
      ]
     },
     "execution_count": 315,
     "metadata": {},
     "output_type": "execute_result"
    }
   ],
   "source": [
    "num1"
   ]
  },
  {
   "cell_type": "code",
   "execution_count": 317,
   "id": "c97bcfca-f228-4aaa-916e-cacb56fd973c",
   "metadata": {},
   "outputs": [
    {
     "name": "stdin",
     "output_type": "stream",
     "text": [
      "enter second number 20\n"
     ]
    }
   ],
   "source": [
    "num2 = float(input('enter second number'))"
   ]
  },
  {
   "cell_type": "code",
   "execution_count": 319,
   "id": "6005c9bd-ed44-42fd-8964-1984f29c6ca1",
   "metadata": {},
   "outputs": [
    {
     "data": {
      "text/plain": [
       "10"
      ]
     },
     "execution_count": 319,
     "metadata": {},
     "output_type": "execute_result"
    }
   ],
   "source": [
    "num1"
   ]
  },
  {
   "cell_type": "code",
   "execution_count": 321,
   "id": "707d0634-1de9-4582-ab74-f85c2a42b1ec",
   "metadata": {},
   "outputs": [
    {
     "data": {
      "text/plain": [
       "20.0"
      ]
     },
     "execution_count": 321,
     "metadata": {},
     "output_type": "execute_result"
    }
   ],
   "source": [
    "num2"
   ]
  },
  {
   "cell_type": "code",
   "execution_count": 323,
   "id": "ba04386a-0cda-4240-a7bd-08525f293a61",
   "metadata": {},
   "outputs": [
    {
     "data": {
      "text/plain": [
       "30.0"
      ]
     },
     "execution_count": 323,
     "metadata": {},
     "output_type": "execute_result"
    }
   ],
   "source": [
    "num1 + num2"
   ]
  },
  {
   "cell_type": "code",
   "execution_count": 327,
   "id": "027c6e44-9bc8-45b7-b363-be191dad2e7e",
   "metadata": {},
   "outputs": [
    {
     "name": "stdin",
     "output_type": "stream",
     "text": [
      "enter first number 100\n",
      "enter second number 10\n"
     ]
    },
    {
     "name": "stdout",
     "output_type": "stream",
     "text": [
      "Difference is  90\n",
      "sum is  110\n",
      "product is  1000\n",
      "ratio is  10.0\n"
     ]
    }
   ],
   "source": [
    "num1 = int(input('enter first number'))\n",
    "num2 = int(input('enter second number'))\n",
    "\n",
    "\n",
    "\n",
    "sub = num1 - num2\n",
    "add=num1+num2\n",
    "mul=num1*num2\n",
    "div=num1/num2\n",
    "\n",
    "print('Difference is ',sub)\n",
    "print('sum is ',add)\n",
    "print('product is ', mul)\n",
    "print('ratio is ',div)\n"
   ]
  },
  {
   "cell_type": "code",
   "execution_count": 329,
   "id": "045d4d87-dff4-4940-bf21-962069c0c979",
   "metadata": {},
   "outputs": [
    {
     "name": "stdin",
     "output_type": "stream",
     "text": [
      "enter a number  110\n"
     ]
    }
   ],
   "source": [
    "num3 = input(\"enter a number \")"
   ]
  },
  {
   "cell_type": "code",
   "execution_count": 331,
   "id": "9bb7ae43-e573-4e9f-8830-fee49c2799a6",
   "metadata": {},
   "outputs": [
    {
     "data": {
      "text/plain": [
       "str"
      ]
     },
     "execution_count": 331,
     "metadata": {},
     "output_type": "execute_result"
    }
   ],
   "source": [
    "type(num3)"
   ]
  },
  {
   "cell_type": "code",
   "execution_count": 333,
   "id": "5c9e327c-93de-4877-88ac-a6ba3cfb2d13",
   "metadata": {},
   "outputs": [
    {
     "name": "stdin",
     "output_type": "stream",
     "text": [
      "enter first number  20\n",
      "enter second number  30\n"
     ]
    },
    {
     "name": "stdout",
     "output_type": "stream",
     "text": [
      "50\n"
     ]
    },
    {
     "data": {
      "text/plain": [
       "int"
      ]
     },
     "execution_count": 333,
     "metadata": {},
     "output_type": "execute_result"
    }
   ],
   "source": [
    "num1 = (input('enter first number '))\n",
    "num2 = (input('enter second number '))\n",
    "\n",
    "\n",
    "#subtract two varaible\n",
    "result = int(num1) + int(num2)\n",
    "# print the result\n",
    "print(result)\n",
    "type(result)"
   ]
  },
  {
   "cell_type": "code",
   "execution_count": 335,
   "id": "0f890176-177b-41f1-95f6-15da799b0b73",
   "metadata": {},
   "outputs": [
    {
     "data": {
      "text/plain": [
       "str"
      ]
     },
     "execution_count": 335,
     "metadata": {},
     "output_type": "execute_result"
    }
   ],
   "source": [
    "type(num1) "
   ]
  },
  {
   "cell_type": "code",
   "execution_count": 337,
   "id": "f1756029-d340-49d9-a676-953fc129c93e",
   "metadata": {},
   "outputs": [],
   "source": [
    "int_value=10"
   ]
  },
  {
   "cell_type": "code",
   "execution_count": 339,
   "id": "63eb12a1-c54e-4216-93a3-9b358ac22e4d",
   "metadata": {},
   "outputs": [
    {
     "data": {
      "text/plain": [
       "int"
      ]
     },
     "execution_count": 339,
     "metadata": {},
     "output_type": "execute_result"
    }
   ],
   "source": [
    "type(int_value)"
   ]
  },
  {
   "cell_type": "code",
   "execution_count": 341,
   "id": "330a21d3-6a3c-419f-89b2-41b24e06a400",
   "metadata": {},
   "outputs": [],
   "source": [
    "float_value=float(int_value)"
   ]
  },
  {
   "cell_type": "code",
   "execution_count": 343,
   "id": "30835368-c4c4-4c91-aa4f-323c1a9a786b",
   "metadata": {},
   "outputs": [
    {
     "data": {
      "text/plain": [
       "float"
      ]
     },
     "execution_count": 343,
     "metadata": {},
     "output_type": "execute_result"
    }
   ],
   "source": [
    "type(float_value)"
   ]
  },
  {
   "cell_type": "code",
   "execution_count": 345,
   "id": "5ef0b887-b260-41bf-b6e0-97050fbc1a09",
   "metadata": {},
   "outputs": [],
   "source": [
    "age_str = '25'"
   ]
  },
  {
   "cell_type": "code",
   "execution_count": 347,
   "id": "46e2cf69-45be-42e3-aced-5edc7df8c13d",
   "metadata": {},
   "outputs": [
    {
     "data": {
      "text/plain": [
       "str"
      ]
     },
     "execution_count": 347,
     "metadata": {},
     "output_type": "execute_result"
    }
   ],
   "source": [
    "type(age_str)"
   ]
  },
  {
   "cell_type": "code",
   "execution_count": 349,
   "id": "6d452400-216d-41a2-a7a5-06f4c0f5635e",
   "metadata": {},
   "outputs": [],
   "source": [
    "age_int = int(age_str)"
   ]
  },
  {
   "cell_type": "code",
   "execution_count": 351,
   "id": "3cf811c1-b9b9-4a8f-8756-b8a5c73aa4d2",
   "metadata": {},
   "outputs": [
    {
     "data": {
      "text/plain": [
       "int"
      ]
     },
     "execution_count": 351,
     "metadata": {},
     "output_type": "execute_result"
    }
   ],
   "source": [
    "type(age_int)"
   ]
  },
  {
   "cell_type": "code",
   "execution_count": 353,
   "id": "56905d1a-1997-4faa-83f9-2c665f1037ec",
   "metadata": {},
   "outputs": [
    {
     "data": {
      "text/plain": [
       "str"
      ]
     },
     "execution_count": 353,
     "metadata": {},
     "output_type": "execute_result"
    }
   ],
   "source": [
    "type(age_str)"
   ]
  },
  {
   "cell_type": "code",
   "execution_count": 355,
   "id": "855430c8-953f-46d9-a168-149f6e128d9a",
   "metadata": {},
   "outputs": [
    {
     "name": "stdout",
     "output_type": "stream",
     "text": [
      "18.5\n"
     ]
    }
   ],
   "source": [
    "print(8+10.5)"
   ]
  },
  {
   "cell_type": "code",
   "execution_count": 357,
   "id": "b7615c0e-1809-4848-83c7-7e77227f193b",
   "metadata": {},
   "outputs": [
    {
     "name": "stdout",
     "output_type": "stream",
     "text": [
      "13.8\n"
     ]
    }
   ],
   "source": [
    "\n",
    "print(8+5.8)"
   ]
  },
  {
   "cell_type": "code",
   "execution_count": 359,
   "id": "15dc0012-dcc6-4fb5-ba26-6dfd033914a3",
   "metadata": {},
   "outputs": [
    {
     "name": "stdout",
     "output_type": "stream",
     "text": [
      "<class 'int'> <class 'float'>\n"
     ]
    }
   ],
   "source": [
    "print(type(8),type(5.8))"
   ]
  },
  {
   "cell_type": "code",
   "execution_count": 361,
   "id": "67ab2cf4-f196-46da-b358-90942c37908b",
   "metadata": {},
   "outputs": [],
   "source": [
    "a = 10"
   ]
  },
  {
   "cell_type": "code",
   "execution_count": 363,
   "id": "825e8c20-d0e4-466e-b4f0-9bff3c3bbe72",
   "metadata": {},
   "outputs": [],
   "source": [
    "# int to str\n",
    "b = str(a)"
   ]
  },
  {
   "cell_type": "code",
   "execution_count": 365,
   "id": "577fa8d4-1781-4e4e-8821-88acd6663e67",
   "metadata": {},
   "outputs": [
    {
     "data": {
      "text/plain": [
       "str"
      ]
     },
     "execution_count": 365,
     "metadata": {},
     "output_type": "execute_result"
    }
   ],
   "source": [
    "type(b)"
   ]
  },
  {
   "cell_type": "code",
   "execution_count": 367,
   "id": "481aefb5-99af-4b35-bcc4-7e1d9b130e55",
   "metadata": {},
   "outputs": [
    {
     "data": {
      "text/plain": [
       "'20'"
      ]
     },
     "execution_count": 367,
     "metadata": {},
     "output_type": "execute_result"
    }
   ],
   "source": [
    "str(20)"
   ]
  },
  {
   "cell_type": "code",
   "execution_count": 369,
   "id": "3c991904-a505-4882-918c-e6cbd249d0c0",
   "metadata": {},
   "outputs": [],
   "source": [
    "b = 4+5j"
   ]
  },
  {
   "cell_type": "code",
   "execution_count": 371,
   "id": "90d480bb-a6bb-41d1-b42a-e82516ace2d9",
   "metadata": {},
   "outputs": [
    {
     "data": {
      "text/plain": [
       "complex"
      ]
     },
     "execution_count": 371,
     "metadata": {},
     "output_type": "execute_result"
    }
   ],
   "source": [
    "type(b)"
   ]
  },
  {
   "cell_type": "code",
   "execution_count": 373,
   "id": "2c2eee82-7bba-4605-b339-111efa90f214",
   "metadata": {},
   "outputs": [
    {
     "name": "stdout",
     "output_type": "stream",
     "text": [
      "hello world\n"
     ]
    }
   ],
   "source": [
    "print(\"hello world\")"
   ]
  },
  {
   "cell_type": "code",
   "execution_count": 375,
   "id": "64da2bbe-4927-4baf-a3b9-75968ca68372",
   "metadata": {},
   "outputs": [
    {
     "name": "stdout",
     "output_type": "stream",
     "text": [
      "raj\n"
     ]
    }
   ],
   "source": [
    "print(\"raj\")"
   ]
  },
  {
   "cell_type": "code",
   "execution_count": 377,
   "id": "40dab8d4-4503-48f3-9087-5fb356636b98",
   "metadata": {},
   "outputs": [],
   "source": [
    "age = 30"
   ]
  },
  {
   "cell_type": "code",
   "execution_count": 379,
   "id": "2a0aa02f-53fc-4ff5-a621-f6c8bf5a263b",
   "metadata": {},
   "outputs": [],
   "source": [
    "age = 33"
   ]
  },
  {
   "cell_type": "code",
   "execution_count": 381,
   "id": "e2e5ba98-9d30-4de6-ac97-e6cb793ff478",
   "metadata": {},
   "outputs": [],
   "source": [
    "a = True\n"
   ]
  },
  {
   "cell_type": "code",
   "execution_count": 383,
   "id": "bcd557a4-89f6-4b9f-8cf3-8564cb291681",
   "metadata": {},
   "outputs": [
    {
     "data": {
      "text/plain": [
       "True"
      ]
     },
     "execution_count": 383,
     "metadata": {},
     "output_type": "execute_result"
    }
   ],
   "source": [
    "a"
   ]
  },
  {
   "cell_type": "code",
   "execution_count": 385,
   "id": "99a4d63e-02a2-4a1c-9fc9-2a5bd8ffd775",
   "metadata": {},
   "outputs": [
    {
     "data": {
      "text/plain": [
       "8"
      ]
     },
     "execution_count": 385,
     "metadata": {},
     "output_type": "execute_result"
    }
   ],
   "source": [
    "5 + 3"
   ]
  },
  {
   "cell_type": "code",
   "execution_count": 387,
   "id": "91afc4e6-8db6-47be-8d07-5c5f8c29ff79",
   "metadata": {},
   "outputs": [],
   "source": [
    "a = 10"
   ]
  },
  {
   "cell_type": "code",
   "execution_count": 389,
   "id": "71fb62b7-c610-4c4c-adfa-f251a4457afa",
   "metadata": {},
   "outputs": [],
   "source": [
    "b = 20"
   ]
  },
  {
   "cell_type": "code",
   "execution_count": 391,
   "id": "080a07f3-4e72-40f4-a1a0-b4289c3cffe0",
   "metadata": {},
   "outputs": [
    {
     "data": {
      "text/plain": [
       "30"
      ]
     },
     "execution_count": 391,
     "metadata": {},
     "output_type": "execute_result"
    }
   ],
   "source": [
    "a + b"
   ]
  },
  {
   "cell_type": "code",
   "execution_count": 393,
   "id": "d553f003-6e00-4160-bf63-bd66b54eb936",
   "metadata": {},
   "outputs": [
    {
     "data": {
      "text/plain": [
       "70"
      ]
     },
     "execution_count": 393,
     "metadata": {},
     "output_type": "execute_result"
    }
   ],
   "source": [
    "50+20"
   ]
  },
  {
   "cell_type": "code",
   "execution_count": 395,
   "id": "2d120081-3604-49ea-bd92-0e47f44f8179",
   "metadata": {},
   "outputs": [],
   "source": [
    "result = 5 + 3  # result is 8"
   ]
  },
  {
   "cell_type": "code",
   "execution_count": 397,
   "id": "92216c0c-00bb-4b6b-b1be-f855e8b844e9",
   "metadata": {},
   "outputs": [
    {
     "data": {
      "text/plain": [
       "8"
      ]
     },
     "execution_count": 397,
     "metadata": {},
     "output_type": "execute_result"
    }
   ],
   "source": [
    "result\n"
   ]
  },
  {
   "cell_type": "code",
   "execution_count": 399,
   "id": "34d5af5d-aa0c-4c50-9c15-6e85062a6ae9",
   "metadata": {},
   "outputs": [
    {
     "data": {
      "text/plain": [
       "8"
      ]
     },
     "execution_count": 399,
     "metadata": {},
     "output_type": "execute_result"
    }
   ],
   "source": [
    "5+3"
   ]
  },
  {
   "cell_type": "code",
   "execution_count": 401,
   "id": "18403429-fa77-4367-9592-3e89b834b1c8",
   "metadata": {},
   "outputs": [],
   "source": [
    "a = 3\n",
    "b = 4\n"
   ]
  },
  {
   "cell_type": "code",
   "execution_count": 403,
   "id": "50cc0749-8f3a-4eaf-9bc9-2dd4a6375ad8",
   "metadata": {},
   "outputs": [
    {
     "data": {
      "text/plain": [
       "7"
      ]
     },
     "execution_count": 403,
     "metadata": {},
     "output_type": "execute_result"
    }
   ],
   "source": [
    "a+b"
   ]
  },
  {
   "cell_type": "code",
   "execution_count": 405,
   "id": "a8321e0d-a618-4026-bf10-86cec956d9e8",
   "metadata": {},
   "outputs": [],
   "source": [
    "result1 = 10 - 4  # result is 6"
   ]
  },
  {
   "cell_type": "code",
   "execution_count": 407,
   "id": "473cf672-9dd0-4666-b9d0-5239b3e627e2",
   "metadata": {},
   "outputs": [
    {
     "data": {
      "text/plain": [
       "-1"
      ]
     },
     "execution_count": 407,
     "metadata": {},
     "output_type": "execute_result"
    }
   ],
   "source": [
    "a-b"
   ]
  },
  {
   "cell_type": "code",
   "execution_count": 409,
   "id": "c6dac5cf-169d-4062-b4f7-a716b3f11a5a",
   "metadata": {},
   "outputs": [
    {
     "data": {
      "text/plain": [
       "6"
      ]
     },
     "execution_count": 409,
     "metadata": {},
     "output_type": "execute_result"
    }
   ],
   "source": [
    "result1"
   ]
  },
  {
   "cell_type": "code",
   "execution_count": 411,
   "id": "f6629b5b-8bf2-4804-aaa7-8979b227f317",
   "metadata": {},
   "outputs": [],
   "source": [
    "result2 = 7 * 6  # result is 42"
   ]
  },
  {
   "cell_type": "code",
   "execution_count": 413,
   "id": "aac217b2-3b71-4c3e-a92d-3b61e7598955",
   "metadata": {},
   "outputs": [
    {
     "data": {
      "text/plain": [
       "42"
      ]
     },
     "execution_count": 413,
     "metadata": {},
     "output_type": "execute_result"
    }
   ],
   "source": [
    "result2\n"
   ]
  },
  {
   "cell_type": "code",
   "execution_count": 415,
   "id": "30748127-e5e9-41b8-843a-2a4aba18c955",
   "metadata": {},
   "outputs": [],
   "source": [
    "result4 = 16 / 3  # result is 5.0"
   ]
  },
  {
   "cell_type": "code",
   "execution_count": 417,
   "id": "80c0ce88-995f-4927-a20d-86666e2ddf55",
   "metadata": {},
   "outputs": [
    {
     "data": {
      "text/plain": [
       "5.333333333333333"
      ]
     },
     "execution_count": 417,
     "metadata": {},
     "output_type": "execute_result"
    }
   ],
   "source": [
    "result4\n"
   ]
  },
  {
   "cell_type": "code",
   "execution_count": 419,
   "id": "534c1f09-0ee4-4a7e-84fa-b32342346324",
   "metadata": {},
   "outputs": [
    {
     "data": {
      "text/plain": [
       "5"
      ]
     },
     "execution_count": 419,
     "metadata": {},
     "output_type": "execute_result"
    }
   ],
   "source": [
    "16//3"
   ]
  },
  {
   "cell_type": "code",
   "execution_count": 421,
   "id": "cfdc2143-56a5-4528-a8d8-0f3dc4190594",
   "metadata": {},
   "outputs": [],
   "source": [
    "result5 = 16 / 3  # result is 3"
   ]
  },
  {
   "cell_type": "code",
   "execution_count": 423,
   "id": "4d7047d1-8840-49a9-8bbe-a4536e64a597",
   "metadata": {},
   "outputs": [
    {
     "data": {
      "text/plain": [
       "5.333333333333333"
      ]
     },
     "execution_count": 423,
     "metadata": {},
     "output_type": "execute_result"
    }
   ],
   "source": [
    "result5"
   ]
  },
  {
   "cell_type": "code",
   "execution_count": 425,
   "id": "e2d8ef44-80b3-4274-bdf8-99ae65519efc",
   "metadata": {},
   "outputs": [],
   "source": [
    "result5 = 16 // 3"
   ]
  },
  {
   "cell_type": "code",
   "execution_count": 427,
   "id": "57f7d0b0-d6dc-462a-9463-510988b02e4c",
   "metadata": {},
   "outputs": [
    {
     "data": {
      "text/plain": [
       "5"
      ]
     },
     "execution_count": 427,
     "metadata": {},
     "output_type": "execute_result"
    }
   ],
   "source": [
    "result5"
   ]
  },
  {
   "cell_type": "code",
   "execution_count": 429,
   "id": "382378a3-548c-43b2-9a67-55ebdf78ed47",
   "metadata": {},
   "outputs": [
    {
     "data": {
      "text/plain": [
       "6"
      ]
     },
     "execution_count": 429,
     "metadata": {},
     "output_type": "execute_result"
    }
   ],
   "source": [
    "12//2"
   ]
  },
  {
   "cell_type": "code",
   "execution_count": 431,
   "id": "3ce3f247-3ffc-4df0-ad6b-b21b1ca6b53b",
   "metadata": {},
   "outputs": [
    {
     "data": {
      "text/plain": [
       "2"
      ]
     },
     "execution_count": 431,
     "metadata": {},
     "output_type": "execute_result"
    }
   ],
   "source": [
    "5//2"
   ]
  },
  {
   "cell_type": "code",
   "execution_count": 433,
   "id": "17dcaf30-3a68-4cf9-9cd3-4987600c354d",
   "metadata": {},
   "outputs": [
    {
     "data": {
      "text/plain": [
       "7"
      ]
     },
     "execution_count": 433,
     "metadata": {},
     "output_type": "execute_result"
    }
   ],
   "source": [
    "21//3"
   ]
  },
  {
   "cell_type": "code",
   "execution_count": 435,
   "id": "9d1ab7b7-2dff-4de8-93de-7b754bebcc5f",
   "metadata": {},
   "outputs": [],
   "source": [
    "result = 10 % 3  # result is 1"
   ]
  },
  {
   "cell_type": "code",
   "execution_count": 437,
   "id": "7388c6cf-a60e-4725-9d6d-11e26c92e5af",
   "metadata": {},
   "outputs": [
    {
     "data": {
      "text/plain": [
       "3.3333333333333335"
      ]
     },
     "execution_count": 437,
     "metadata": {},
     "output_type": "execute_result"
    }
   ],
   "source": [
    "10/3"
   ]
  },
  {
   "cell_type": "code",
   "execution_count": 439,
   "id": "fd531b41-47b3-4f71-9e77-cc1a57d621e7",
   "metadata": {},
   "outputs": [
    {
     "data": {
      "text/plain": [
       "1"
      ]
     },
     "execution_count": 439,
     "metadata": {},
     "output_type": "execute_result"
    }
   ],
   "source": [
    "result"
   ]
  },
  {
   "cell_type": "code",
   "execution_count": 441,
   "id": "88e30abc-22a8-4958-84b1-62f7e706035e",
   "metadata": {},
   "outputs": [
    {
     "data": {
      "text/plain": [
       "8.0"
      ]
     },
     "execution_count": 441,
     "metadata": {},
     "output_type": "execute_result"
    }
   ],
   "source": [
    "16/2"
   ]
  },
  {
   "cell_type": "code",
   "execution_count": 443,
   "id": "ec1c3b55-753c-4842-bef2-d866371057e6",
   "metadata": {},
   "outputs": [
    {
     "data": {
      "text/plain": [
       "0"
      ]
     },
     "execution_count": 443,
     "metadata": {},
     "output_type": "execute_result"
    }
   ],
   "source": [
    "16 % 2"
   ]
  },
  {
   "cell_type": "code",
   "execution_count": 445,
   "id": "f2f313dd-4c7c-498d-a532-d07f48f4d538",
   "metadata": {},
   "outputs": [],
   "source": [
    "result7 = 2 ** 5  # result is 8"
   ]
  },
  {
   "cell_type": "code",
   "execution_count": 447,
   "id": "8f43d7ec-f5c2-4576-80a9-b81a64fc23c0",
   "metadata": {},
   "outputs": [
    {
     "data": {
      "text/plain": [
       "32"
      ]
     },
     "execution_count": 447,
     "metadata": {},
     "output_type": "execute_result"
    }
   ],
   "source": [
    "2*2*2*2*2"
   ]
  },
  {
   "cell_type": "code",
   "execution_count": 449,
   "id": "6f74a6a7-e26d-4c04-b984-469c4052ecf5",
   "metadata": {},
   "outputs": [
    {
     "data": {
      "text/plain": [
       "32"
      ]
     },
     "execution_count": 449,
     "metadata": {},
     "output_type": "execute_result"
    }
   ],
   "source": [
    "result7"
   ]
  },
  {
   "cell_type": "code",
   "execution_count": 451,
   "id": "110aaa16-fafe-45bf-8bd8-b52b1d881b9a",
   "metadata": {},
   "outputs": [
    {
     "data": {
      "text/plain": [
       "4"
      ]
     },
     "execution_count": 451,
     "metadata": {},
     "output_type": "execute_result"
    }
   ],
   "source": [
    "2 **2"
   ]
  },
  {
   "cell_type": "code",
   "execution_count": 453,
   "id": "c565508f-1252-450c-9849-cc58a629f7ff",
   "metadata": {},
   "outputs": [
    {
     "data": {
      "text/plain": [
       "8"
      ]
     },
     "execution_count": 453,
     "metadata": {},
     "output_type": "execute_result"
    }
   ],
   "source": [
    "2**3   # 2x2x2"
   ]
  },
  {
   "cell_type": "code",
   "execution_count": 455,
   "id": "19cf3aa3-48d5-4bd8-b235-0e7f573e2d4c",
   "metadata": {},
   "outputs": [
    {
     "data": {
      "text/plain": [
       "9.0"
      ]
     },
     "execution_count": 455,
     "metadata": {},
     "output_type": "execute_result"
    }
   ],
   "source": [
    "5 + 3 * 2 - 8 / 4"
   ]
  },
  {
   "cell_type": "code",
   "execution_count": 457,
   "id": "acb3c8a2-d0bb-4313-aaa8-d808ad1921f2",
   "metadata": {},
   "outputs": [
    {
     "ename": "SyntaxError",
     "evalue": "invalid syntax (2877163852.py, line 4)",
     "output_type": "error",
     "traceback": [
      "\u001b[1;36m  Cell \u001b[1;32mIn[457], line 4\u001b[1;36m\u001b[0m\n\u001b[1;33m    ()  >   /  >  *  >  +  >  -\u001b[0m\n\u001b[1;37m            ^\u001b[0m\n\u001b[1;31mSyntaxError\u001b[0m\u001b[1;31m:\u001b[0m invalid syntax\n"
     ]
    }
   ],
   "source": [
    "# Example combining multiple arithmetic operations\n",
    "result = 5 + 3 * 2 - 8 / 4  # result is 9.0\n",
    "result\n",
    "()  >   /  >  *  >  +  >  -"
   ]
  },
  {
   "cell_type": "code",
   "execution_count": 459,
   "id": "2ec555db-7c71-4655-9623-db7020e79e0f",
   "metadata": {},
   "outputs": [
    {
     "data": {
      "text/plain": [
       "86.6"
      ]
     },
     "execution_count": 459,
     "metadata": {},
     "output_type": "execute_result"
    }
   ],
   "source": [
    "(85+90+78+92+88)/5"
   ]
  },
  {
   "cell_type": "code",
   "execution_count": 461,
   "id": "133880d3-77e0-45d5-8384-1222f106ff24",
   "metadata": {},
   "outputs": [],
   "source": [
    "# Exam scores\n",
    "scores = [85, 90, 78, 92, 88]"
   ]
  },
  {
   "cell_type": "code",
   "execution_count": 463,
   "id": "98a85197-5f17-4b6d-8f14-f2ad739466ab",
   "metadata": {},
   "outputs": [],
   "source": [
    "# Calculate total score\n",
    "total_score = sum(scores)"
   ]
  },
  {
   "cell_type": "code",
   "execution_count": 465,
   "id": "c62e24c0-bdfd-495f-9764-c9dc0c76749c",
   "metadata": {},
   "outputs": [
    {
     "data": {
      "text/plain": [
       "433"
      ]
     },
     "execution_count": 465,
     "metadata": {},
     "output_type": "execute_result"
    }
   ],
   "source": [
    "total_score"
   ]
  },
  {
   "cell_type": "code",
   "execution_count": 467,
   "id": "065a154b-c4e9-4b1c-9cf3-7cfded3fdd2e",
   "metadata": {},
   "outputs": [
    {
     "data": {
      "text/plain": [
       "86.6"
      ]
     },
     "execution_count": 467,
     "metadata": {},
     "output_type": "execute_result"
    }
   ],
   "source": [
    "433/5"
   ]
  },
  {
   "cell_type": "code",
   "execution_count": 469,
   "id": "89a3467c-f999-4ed8-845a-5019e6ae86cf",
   "metadata": {},
   "outputs": [
    {
     "data": {
      "text/plain": [
       "5"
      ]
     },
     "execution_count": 469,
     "metadata": {},
     "output_type": "execute_result"
    }
   ],
   "source": [
    "len(scores)"
   ]
  },
  {
   "cell_type": "code",
   "execution_count": 471,
   "id": "b4cbed4a-3345-4c81-bfdc-8a71b2db1f71",
   "metadata": {},
   "outputs": [],
   "source": [
    "# Calculate average score\n",
    "average_score = total_score / len(scores)"
   ]
  },
  {
   "cell_type": "code",
   "execution_count": 473,
   "id": "1d01fc14-3806-42e7-8152-f9aedacb9a56",
   "metadata": {},
   "outputs": [
    {
     "data": {
      "text/plain": [
       "86.6"
      ]
     },
     "execution_count": 473,
     "metadata": {},
     "output_type": "execute_result"
    }
   ],
   "source": [
    "average_score"
   ]
  },
  {
   "cell_type": "code",
   "execution_count": 475,
   "id": "064cf1e2-13a7-465d-a95d-5edc6005ea1a",
   "metadata": {},
   "outputs": [
    {
     "name": "stdout",
     "output_type": "stream",
     "text": [
      "Remaining budget: 500\n"
     ]
    }
   ],
   "source": [
    "# Initial budget\n",
    "budget = 1200\n",
    "\n",
    "# Expenses\n",
    "groceries = 350\n",
    "utilities = 150\n",
    "transportation = 200\n",
    "\n",
    "# Remaining budget calculation\n",
    "remaining_budget = budget - (groceries + utilities + transportation)\n",
    "\n",
    "print(\"Remaining budget:\", remaining_budget)"
   ]
  },
  {
   "cell_type": "code",
   "execution_count": 477,
   "id": "03722371-f51d-42b7-ab1d-32d232c92e14",
   "metadata": {},
   "outputs": [
    {
     "name": "stdout",
     "output_type": "stream",
     "text": [
      "Final price after discount: 60.0\n"
     ]
    }
   ],
   "source": [
    "# Original price\n",
    "original_price = 75\n",
    "\n",
    "# Discount percentage\n",
    "discount_percentage = 20\n",
    "\n",
    "# Calculate discount amount\n",
    "discount_amount = original_price * (discount_percentage / 100)\n",
    "\n",
    "# Calculate final price\n",
    "final_price = original_price - discount_amount\n",
    "\n",
    "print(\"Final price after discount:\", final_price)"
   ]
  },
  {
   "cell_type": "code",
   "execution_count": 479,
   "id": "a8dcb18f-7019-4083-9371-f31a93ecf244",
   "metadata": {},
   "outputs": [
    {
     "name": "stdout",
     "output_type": "stream",
     "text": [
      "Change received: 26.25\n"
     ]
    }
   ],
   "source": [
    "# Scenario: You buy a book for $23.75 and pay with a $50 bill. How much change will you receive?\n",
    "\n",
    "# Cost of the book\n",
    "book_cost = 23.75\n",
    "\n",
    "# Amount paid\n",
    "amount_paid = 50\n",
    "\n",
    "# Calculate change\n",
    "change = amount_paid - book_cost\n",
    "\n",
    "print(\"Change received:\", change)\n"
   ]
  },
  {
   "cell_type": "code",
   "execution_count": 483,
   "id": "35c71fd4-6c16-4fd6-abd4-080ead860415",
   "metadata": {},
   "outputs": [
    {
     "name": "stdout",
     "output_type": "stream",
     "text": [
      "Area of the garden: 150\n"
     ]
    }
   ],
   "source": [
    "# Scenario: You have a rectangular garden that is 10 meters wide and 15 meters long. What is the area of the garden?\n",
    "\n",
    "# Dimensions of the garden\n",
    "width = 10\n",
    "length = 15\n",
    "\n",
    "# Calculate area\n",
    "area = width * length\n",
    "\n",
    "print(\"Area of the garden:\", area)\n"
   ]
  },
  {
   "cell_type": "code",
   "execution_count": 485,
   "id": "a6de8b67-597f-4fd5-ae91-408a20af8769",
   "metadata": {},
   "outputs": [
    {
     "name": "stdout",
     "output_type": "stream",
     "text": [
      "Age difference: 5\n"
     ]
    }
   ],
   "source": [
    "# Scenario: Two friends, Alice and Bob, are 25 and 30 years old, respectively. What is the age difference between them?\n",
    "\n",
    "\n",
    "\n",
    "# Ages of Alice and Bob\n",
    "alice_age = 25\n",
    "bob_age = 30\n",
    "\n",
    "# Calculate age difference\n",
    "age_difference = bob_age - alice_age\n",
    "\n",
    "print(\"Age difference:\", age_difference)"
   ]
  },
  {
   "cell_type": "code",
   "execution_count": 487,
   "id": "023a70dc-9074-464c-a1a4-85754d64c735",
   "metadata": {},
   "outputs": [
    {
     "name": "stdout",
     "output_type": "stream",
     "text": [
      "Profit made from the sale: 50.0\n"
     ]
    }
   ],
   "source": [
    "# Scenario: You bought an item for $120 and sold it for $180. What is the profit percent made from the sale?\n",
    "\n",
    "\n",
    "# Cost price and selling price\n",
    "cost_price = 120\n",
    "selling_price = 180\n",
    "\n",
    "# Calculate profit\n",
    "profit = selling_price - cost_price\n",
    "\n",
    "profit_per=profit*100/cost_price\n",
    "\n",
    "print(\"Profit made from the sale:\", profit_per)\n"
   ]
  },
  {
   "cell_type": "code",
   "execution_count": 489,
   "id": "1adda6c6-c032-44e5-97a5-d1b003520451",
   "metadata": {},
   "outputs": [
    {
     "name": "stdout",
     "output_type": "stream",
     "text": [
      "Total cost of all items: 37.25\n"
     ]
    }
   ],
   "source": [
    "# Scenario: You purchase 3 items costing $12.50, $15.75, and $9.00 each. What is the total cost of all items before tax?\n",
    "\n",
    "# Costs of individual items\n",
    "item1 = 12.50\n",
    "item2 = 15.75\n",
    "item3 = 9.00\n",
    "\n",
    "# Calculate total cost\n",
    "total_cost = item1 + item2 + item3\n",
    "\n",
    "print(\"Total cost of all items:\", total_cost)"
   ]
  },
  {
   "cell_type": "code",
   "execution_count": 491,
   "id": "7722e0e1-d988-46ac-98b1-8d4c35f99dcc",
   "metadata": {},
   "outputs": [
    {
     "data": {
      "text/plain": [
       "False"
      ]
     },
     "execution_count": 491,
     "metadata": {},
     "output_type": "execute_result"
    }
   ],
   "source": [
    "2 == 3"
   ]
  },
  {
   "cell_type": "code",
   "execution_count": 493,
   "id": "89ebda2d-644f-49fe-b781-1e6df85d3f37",
   "metadata": {},
   "outputs": [],
   "source": [
    "a = 20"
   ]
  },
  {
   "cell_type": "code",
   "execution_count": 495,
   "id": "14739a59-9b5d-4feb-be3c-9ac1115f59e0",
   "metadata": {},
   "outputs": [
    {
     "data": {
      "text/plain": [
       "False"
      ]
     },
     "execution_count": 495,
     "metadata": {},
     "output_type": "execute_result"
    }
   ],
   "source": [
    "a==10"
   ]
  },
  {
   "cell_type": "code",
   "execution_count": 497,
   "id": "552a3cf3-0b0b-4756-830b-3957ff5b1c4a",
   "metadata": {},
   "outputs": [
    {
     "data": {
      "text/plain": [
       "4"
      ]
     },
     "execution_count": 497,
     "metadata": {},
     "output_type": "execute_result"
    }
   ],
   "source": [
    "b"
   ]
  },
  {
   "cell_type": "code",
   "execution_count": 499,
   "id": "822850d7-a0c2-4ad8-8458-3d52afb48384",
   "metadata": {},
   "outputs": [
    {
     "data": {
      "text/plain": [
       "True"
      ]
     },
     "execution_count": 499,
     "metadata": {},
     "output_type": "execute_result"
    }
   ],
   "source": [
    "a>b"
   ]
  },
  {
   "cell_type": "code",
   "execution_count": 501,
   "id": "67e0df14-2b0b-4a68-8105-6eaedc9c2772",
   "metadata": {},
   "outputs": [
    {
     "data": {
      "text/plain": [
       "False"
      ]
     },
     "execution_count": 501,
     "metadata": {},
     "output_type": "execute_result"
    }
   ],
   "source": [
    "a<b"
   ]
  },
  {
   "cell_type": "code",
   "execution_count": 503,
   "id": "fa31ac14-2466-4901-99f7-79b0d566984a",
   "metadata": {},
   "outputs": [
    {
     "data": {
      "text/plain": [
       "False"
      ]
     },
     "execution_count": 503,
     "metadata": {},
     "output_type": "execute_result"
    }
   ],
   "source": [
    "a == b"
   ]
  },
  {
   "cell_type": "code",
   "execution_count": 505,
   "id": "dc84cdec-0178-41c2-8aa5-ff67c8efa41d",
   "metadata": {},
   "outputs": [],
   "source": [
    "a = 20\n"
   ]
  },
  {
   "cell_type": "code",
   "execution_count": 507,
   "id": "c33950c8-9a02-42ce-9c50-36e9fbce7b94",
   "metadata": {},
   "outputs": [
    {
     "data": {
      "text/plain": [
       "True"
      ]
     },
     "execution_count": 507,
     "metadata": {},
     "output_type": "execute_result"
    }
   ],
   "source": [
    "a == 20"
   ]
  },
  {
   "cell_type": "code",
   "execution_count": 509,
   "id": "5aaadcd6-41f6-4d20-89f3-5c7d3111c241",
   "metadata": {},
   "outputs": [],
   "source": [
    "a = 5\n",
    "b = 5\n",
    "result8 = (a == b)  # result is True because 5 is equal to 5"
   ]
  },
  {
   "cell_type": "code",
   "execution_count": 511,
   "id": "6fd7b41b-9b0b-49dd-b1e0-956011caa72e",
   "metadata": {},
   "outputs": [
    {
     "data": {
      "text/plain": [
       "True"
      ]
     },
     "execution_count": 511,
     "metadata": {},
     "output_type": "execute_result"
    }
   ],
   "source": [
    "(a == b)"
   ]
  },
  {
   "cell_type": "code",
   "execution_count": 513,
   "id": "08a28438-f34b-4bb4-a308-d345573f834c",
   "metadata": {},
   "outputs": [
    {
     "data": {
      "text/plain": [
       "True"
      ]
     },
     "execution_count": 513,
     "metadata": {},
     "output_type": "execute_result"
    }
   ],
   "source": [
    "result8"
   ]
  },
  {
   "cell_type": "code",
   "execution_count": 515,
   "id": "4e5a57fa-3a40-440a-a1d1-8e2820ce1d79",
   "metadata": {},
   "outputs": [
    {
     "data": {
      "text/plain": [
       "False"
      ]
     },
     "execution_count": 515,
     "metadata": {},
     "output_type": "execute_result"
    }
   ],
   "source": [
    "3 != 3"
   ]
  },
  {
   "cell_type": "code",
   "execution_count": 517,
   "id": "1f9af6a8-5a49-4766-b55c-6615502a9da0",
   "metadata": {},
   "outputs": [],
   "source": [
    "a = 5\n",
    "b = 3\n",
    "result9 = (a != b)  # result is True because 5 is not equal to 3"
   ]
  },
  {
   "cell_type": "code",
   "execution_count": 519,
   "id": "58955cfd-0361-4794-89e2-35dd5a90c0f1",
   "metadata": {},
   "outputs": [
    {
     "data": {
      "text/plain": [
       "True"
      ]
     },
     "execution_count": 519,
     "metadata": {},
     "output_type": "execute_result"
    }
   ],
   "source": [
    "result9"
   ]
  },
  {
   "cell_type": "code",
   "execution_count": 521,
   "id": "0bc410a5-dd25-4f46-91c2-f40277fc6bfd",
   "metadata": {},
   "outputs": [],
   "source": [
    "a = 7\n",
    "b = 5\n",
    "result9 = (a > b)  # result is True because 7 is greater than 5"
   ]
  },
  {
   "cell_type": "code",
   "execution_count": 523,
   "id": "f5c74046-9777-4d99-b8be-71adca2245ea",
   "metadata": {},
   "outputs": [
    {
     "data": {
      "text/plain": [
       "True"
      ]
     },
     "execution_count": 523,
     "metadata": {},
     "output_type": "execute_result"
    }
   ],
   "source": [
    "result9"
   ]
  },
  {
   "cell_type": "code",
   "execution_count": 525,
   "id": "b1962fdf-c2fb-43dc-866f-2d01456d5b3a",
   "metadata": {},
   "outputs": [],
   "source": [
    "a = 3\n",
    "b = 8\n",
    "re = (a < b)  # result is True because 3 is less than 8"
   ]
  },
  {
   "cell_type": "code",
   "execution_count": 527,
   "id": "c5bd6ec4-e54f-411e-877f-4cd55b4a414a",
   "metadata": {},
   "outputs": [
    {
     "data": {
      "text/plain": [
       "True"
      ]
     },
     "execution_count": 527,
     "metadata": {},
     "output_type": "execute_result"
    }
   ],
   "source": [
    "re"
   ]
  },
  {
   "cell_type": "code",
   "execution_count": 529,
   "id": "2ed7c31a-a119-4ddf-a9ab-1380e9aaa207",
   "metadata": {},
   "outputs": [
    {
     "data": {
      "text/plain": [
       "True"
      ]
     },
     "execution_count": 529,
     "metadata": {},
     "output_type": "execute_result"
    }
   ],
   "source": [
    "2>=2"
   ]
  },
  {
   "cell_type": "code",
   "execution_count": 531,
   "id": "266f8f58-abea-442a-8fd6-fe0fa18e437a",
   "metadata": {},
   "outputs": [
    {
     "data": {
      "text/plain": [
       "True"
      ]
     },
     "execution_count": 531,
     "metadata": {},
     "output_type": "execute_result"
    }
   ],
   "source": [
    "2>=1"
   ]
  },
  {
   "cell_type": "code",
   "execution_count": 533,
   "id": "dca6e1d0-5058-4b20-bc1e-927ef4a05e83",
   "metadata": {},
   "outputs": [
    {
     "data": {
      "text/plain": [
       "True"
      ]
     },
     "execution_count": 533,
     "metadata": {},
     "output_type": "execute_result"
    }
   ],
   "source": [
    "2<=2"
   ]
  },
  {
   "cell_type": "code",
   "execution_count": 535,
   "id": "03cb5860-b7b6-4520-8cd5-e1e5ef5ecd95",
   "metadata": {},
   "outputs": [
    {
     "data": {
      "text/plain": [
       "True"
      ]
     },
     "execution_count": 535,
     "metadata": {},
     "output_type": "execute_result"
    }
   ],
   "source": [
    "2 >= 2"
   ]
  },
  {
   "cell_type": "code",
   "execution_count": 537,
   "id": "0a591156-bfa0-4e02-bf96-6a3c0c0257e0",
   "metadata": {},
   "outputs": [
    {
     "data": {
      "text/plain": [
       "True"
      ]
     },
     "execution_count": 537,
     "metadata": {},
     "output_type": "execute_result"
    }
   ],
   "source": [
    "2>=1"
   ]
  },
  {
   "cell_type": "code",
   "execution_count": 539,
   "id": "c84f1cce-3030-40cc-a864-604d3b733ca7",
   "metadata": {},
   "outputs": [],
   "source": [
    "a = 5\n",
    "b = 5\n",
    "re1 = (a >= b)  # result is True because 5 is equal to 5"
   ]
  },
  {
   "cell_type": "code",
   "execution_count": 541,
   "id": "00875b2d-02b5-4218-8523-e29a2258677a",
   "metadata": {},
   "outputs": [
    {
     "data": {
      "text/plain": [
       "True"
      ]
     },
     "execution_count": 541,
     "metadata": {},
     "output_type": "execute_result"
    }
   ],
   "source": [
    "re1"
   ]
  },
  {
   "cell_type": "code",
   "execution_count": 543,
   "id": "65ba988c-cad2-45dc-9cfa-4a558493da6f",
   "metadata": {},
   "outputs": [
    {
     "data": {
      "text/plain": [
       "True"
      ]
     },
     "execution_count": 543,
     "metadata": {},
     "output_type": "execute_result"
    }
   ],
   "source": [
    "a>=b"
   ]
  },
  {
   "cell_type": "code",
   "execution_count": 545,
   "id": "774e0592-bb5c-4ce8-9048-541829aa309c",
   "metadata": {},
   "outputs": [
    {
     "data": {
      "text/plain": [
       "False"
      ]
     },
     "execution_count": 545,
     "metadata": {},
     "output_type": "execute_result"
    }
   ],
   "source": [
    "3<=1"
   ]
  },
  {
   "cell_type": "code",
   "execution_count": 547,
   "id": "0574fab5-7856-461c-8e61-16478b79e0b2",
   "metadata": {},
   "outputs": [
    {
     "data": {
      "text/plain": [
       "True"
      ]
     },
     "execution_count": 547,
     "metadata": {},
     "output_type": "execute_result"
    }
   ],
   "source": [
    "3<=3"
   ]
  },
  {
   "cell_type": "code",
   "execution_count": 549,
   "id": "84aa8df2-a687-4859-ac0f-a4688fd10664",
   "metadata": {},
   "outputs": [
    {
     "data": {
      "text/plain": [
       "True"
      ]
     },
     "execution_count": 549,
     "metadata": {},
     "output_type": "execute_result"
    }
   ],
   "source": [
    "3<=4"
   ]
  },
  {
   "cell_type": "code",
   "execution_count": 551,
   "id": "a929f854-8e8b-4423-adbb-4c15b3191297",
   "metadata": {},
   "outputs": [
    {
     "name": "stdout",
     "output_type": "stream",
     "text": [
      "Has the student passed? True\n"
     ]
    }
   ],
   "source": [
    "# Scenario 1: A student scored 75 out of 100 in an exam. \n",
    "# Check if the student has passed the exam (passing score is 60).\n",
    "score = 75\n",
    "has_passed = (score >= 60)  # result is True because 75 is greater than 60\n",
    "print(\"Has the student passed?\", has_passed)"
   ]
  },
  {
   "cell_type": "code",
   "execution_count": 553,
   "id": "07f1e107-9f69-4015-b80d-45e0ec4e075f",
   "metadata": {},
   "outputs": [
    {
     "data": {
      "text/plain": [
       "True"
      ]
     },
     "execution_count": 553,
     "metadata": {},
     "output_type": "execute_result"
    }
   ],
   "source": [
    "(score >= 60)"
   ]
  },
  {
   "cell_type": "code",
   "execution_count": 555,
   "id": "e54ee476-478e-4f08-a51c-ccc4e5e8d09f",
   "metadata": {},
   "outputs": [
    {
     "name": "stdout",
     "output_type": "stream",
     "text": [
      "Is the first item cheaper? True\n"
     ]
    }
   ],
   "source": [
    "# Scenario 2: You have two items priced at $40 and $50. \n",
    "#Check if the first item is cheaper than the second item.\n",
    "price_item1 = 40\n",
    "price_item2 = 50\n",
    "is_cheaper = (price_item1 < price_item2)  # result is True because 40 is less than 50\n",
    "print(\"Is the first item cheaper?\", is_cheaper)"
   ]
  },
  {
   "cell_type": "code",
   "execution_count": 557,
   "id": "615674fc-b144-47ea-b857-0f9d1433fe2e",
   "metadata": {},
   "outputs": [
    {
     "name": "stdout",
     "output_type": "stream",
     "text": [
      "Is the car speeding? True\n"
     ]
    }
   ],
   "source": [
    "# Scenario 3: A car's speed is recorded at 70 mph.\n",
    "#Check if the car is speeding, considering the speed limit is 65 mph.\n",
    "\n",
    "speed = 70\n",
    "speed_limit = 65\n",
    "is_speeding = (speed > speed_limit)  # result is True because 70 is greater than 65\n",
    "print(\"Is the car speeding?\", is_speeding)"
   ]
  },
  {
   "cell_type": "code",
   "execution_count": 559,
   "id": "fac47472-bd6f-4b98-accd-11fbeef89b2c",
   "metadata": {},
   "outputs": [
    {
     "data": {
      "text/plain": [
       "True"
      ]
     },
     "execution_count": 559,
     "metadata": {},
     "output_type": "execute_result"
    }
   ],
   "source": [
    "age = 18\n",
    "age >= 18"
   ]
  },
  {
   "cell_type": "code",
   "execution_count": 561,
   "id": "3ea94ce7-46f8-4f37-8591-7f5cfdc5daee",
   "metadata": {},
   "outputs": [
    {
     "name": "stdout",
     "output_type": "stream",
     "text": [
      "Eligible to vote\n"
     ]
    }
   ],
   "source": [
    "age = 18\n",
    "\n",
    "# Check if someone is eligible to vote\n",
    "if True:\n",
    "    print(\"Eligible to vote\")\n",
    "else:\n",
    "    print(\"Not eligible to vote\")"
   ]
  },
  {
   "cell_type": "code",
   "execution_count": 563,
   "id": "753b6f8d-2a72-4e5a-be8e-d3804e445a44",
   "metadata": {},
   "outputs": [
    {
     "name": "stdout",
     "output_type": "stream",
     "text": [
      "Passing\n"
     ]
    }
   ],
   "source": [
    "score = 85\n",
    "\n",
    "# Check if the score is passing\n",
    "if score >= 60:\n",
    "    print(\"Passing\")\n",
    "else:\n",
    "    print(\"Failing\")"
   ]
  },
  {
   "cell_type": "code",
   "execution_count": 565,
   "id": "42918fe4-9aa2-438d-a5b3-cca42736e557",
   "metadata": {},
   "outputs": [
    {
     "name": "stdout",
     "output_type": "stream",
     "text": [
      "Not freezing\n"
     ]
    }
   ],
   "source": [
    "temperature = 25\n",
    "\n",
    "# Check if the temperature is below freezing\n",
    "if temperature < 0:\n",
    "    print(\"Freezing\")\n",
    "else:\n",
    "    print(\"Not freezing\")"
   ]
  },
  {
   "cell_type": "code",
   "execution_count": 567,
   "id": "9d790d59-03e9-4fb5-97ae-c7092e8f8ab9",
   "metadata": {},
   "outputs": [
    {
     "ename": "SyntaxError",
     "evalue": "invalid syntax (610836758.py, line 3)",
     "output_type": "error",
     "traceback": [
      "\u001b[1;36m  Cell \u001b[1;32mIn[567], line 3\u001b[1;36m\u001b[0m\n\u001b[1;33m    1 X 1 = 1\u001b[0m\n\u001b[1;37m      ^\u001b[0m\n\u001b[1;31mSyntaxError\u001b[0m\u001b[1;31m:\u001b[0m invalid syntax\n"
     ]
    }
   ],
   "source": [
    "And\n",
    "\n",
    "1 X 1 = 1\n",
    "1 X 0 = 0\n",
    "0 x 1 = 0\n",
    "0 x 0 = 0"
   ]
  },
  {
   "cell_type": "code",
   "execution_count": 569,
   "id": "0bf587e6-498e-40de-9c14-82869668a808",
   "metadata": {},
   "outputs": [
    {
     "data": {
      "text/plain": [
       "True"
      ]
     },
     "execution_count": 569,
     "metadata": {},
     "output_type": "execute_result"
    }
   ],
   "source": [
    " 3>1  and 2>1"
   ]
  },
  {
   "cell_type": "code",
   "execution_count": 571,
   "id": "ac7fc696-0840-49fd-abd0-96460364d2fa",
   "metadata": {},
   "outputs": [
    {
     "ename": "NameError",
     "evalue": "name 'xyz' is not defined",
     "output_type": "error",
     "traceback": [
      "\u001b[1;31m---------------------------------------------------------------------------\u001b[0m",
      "\u001b[1;31mNameError\u001b[0m                                 Traceback (most recent call last)",
      "Cell \u001b[1;32mIn[571], line 1\u001b[0m\n\u001b[1;32m----> 1\u001b[0m abc\u001b[38;5;129m@xyz\u001b[39m\u001b[38;5;241m.\u001b[39mcom\n\u001b[0;32m      2\u001b[0m \u001b[38;5;241m123456\u001b[39m\n",
      "\u001b[1;31mNameError\u001b[0m: name 'xyz' is not defined"
     ]
    }
   ],
   "source": [
    "abc@xyz.com\n",
    "123456"
   ]
  },
  {
   "cell_type": "code",
   "execution_count": 573,
   "id": "6bf1fc2b-84d9-4042-8e66-85aa42d276c9",
   "metadata": {},
   "outputs": [
    {
     "ename": "NameError",
     "evalue": "name 'xyz' is not defined",
     "output_type": "error",
     "traceback": [
      "\u001b[1;31m---------------------------------------------------------------------------\u001b[0m",
      "\u001b[1;31mNameError\u001b[0m                                 Traceback (most recent call last)",
      "Cell \u001b[1;32mIn[573], line 1\u001b[0m\n\u001b[1;32m----> 1\u001b[0m abc\u001b[38;5;129m@xyz\u001b[39m\u001b[38;5;241m.\u001b[39mcom  \u001b[38;5;129;01mand\u001b[39;00m \u001b[38;5;241m123456\u001b[39m\n",
      "\u001b[1;31mNameError\u001b[0m: name 'xyz' is not defined"
     ]
    }
   ],
   "source": [
    "abc@xyz.com  and 123456"
   ]
  },
  {
   "cell_type": "code",
   "execution_count": 575,
   "id": "7b98215c-57a7-4657-a48e-4bb7d4b968de",
   "metadata": {},
   "outputs": [
    {
     "ename": "SyntaxError",
     "evalue": "invalid syntax (3705770117.py, line 1)",
     "output_type": "error",
     "traceback": [
      "\u001b[1;36m  Cell \u001b[1;32mIn[575], line 1\u001b[1;36m\u001b[0m\n\u001b[1;33m    or\u001b[0m\n\u001b[1;37m    ^\u001b[0m\n\u001b[1;31mSyntaxError\u001b[0m\u001b[1;31m:\u001b[0m invalid syntax\n"
     ]
    }
   ],
   "source": [
    "or"
   ]
  },
  {
   "cell_type": "code",
   "execution_count": 577,
   "id": "981c6ad4-c149-4f9a-9483-a41ce408bb9e",
   "metadata": {},
   "outputs": [
    {
     "ename": "SyntaxError",
     "evalue": "cannot assign to expression (1691698068.py, line 1)",
     "output_type": "error",
     "traceback": [
      "\u001b[1;36m  Cell \u001b[1;32mIn[577], line 1\u001b[1;36m\u001b[0m\n\u001b[1;33m    True or True = True\u001b[0m\n\u001b[1;37m    ^\u001b[0m\n\u001b[1;31mSyntaxError\u001b[0m\u001b[1;31m:\u001b[0m cannot assign to expression\n"
     ]
    }
   ],
   "source": [
    "True or True = True\n",
    "True or False = True\n",
    "False or True = True\n",
    "False or False = False "
   ]
  },
  {
   "cell_type": "code",
   "execution_count": 579,
   "id": "cc562d86-a917-4ebe-8031-37e835b94129",
   "metadata": {},
   "outputs": [
    {
     "ename": "NameError",
     "evalue": "name 'xy' is not defined",
     "output_type": "error",
     "traceback": [
      "\u001b[1;31m---------------------------------------------------------------------------\u001b[0m",
      "\u001b[1;31mNameError\u001b[0m                                 Traceback (most recent call last)",
      "Cell \u001b[1;32mIn[579], line 1\u001b[0m\n\u001b[1;32m----> 1\u001b[0m abc\u001b[38;5;129m@xy\u001b[39m\u001b[38;5;241m.\u001b[39mcom  \u001b[38;5;129;01mor\u001b[39;00m  \u001b[38;5;241m123456\u001b[39m\n",
      "\u001b[1;31mNameError\u001b[0m: name 'xy' is not defined"
     ]
    }
   ],
   "source": [
    "abc@xy.com  or  123456"
   ]
  },
  {
   "cell_type": "code",
   "execution_count": 581,
   "id": "a38087d0-f0fc-40b5-9b83-09396af8c9cf",
   "metadata": {},
   "outputs": [
    {
     "data": {
      "text/plain": [
       "1"
      ]
     },
     "execution_count": 581,
     "metadata": {},
     "output_type": "execute_result"
    }
   ],
   "source": [
    "1"
   ]
  },
  {
   "cell_type": "code",
   "execution_count": 583,
   "id": "9bc797da-1d9d-45d8-ad9f-3f2992066599",
   "metadata": {},
   "outputs": [
    {
     "data": {
      "text/plain": [
       "True"
      ]
     },
     "execution_count": 583,
     "metadata": {},
     "output_type": "execute_result"
    }
   ],
   "source": [
    " 2>1"
   ]
  },
  {
   "cell_type": "code",
   "execution_count": 585,
   "id": "95adcf03-c620-436c-8ff1-80d420359907",
   "metadata": {},
   "outputs": [
    {
     "ename": "SyntaxError",
     "evalue": "invalid syntax (3189068321.py, line 1)",
     "output_type": "error",
     "traceback": [
      "\u001b[1;36m  Cell \u001b[1;32mIn[585], line 1\u001b[1;36m\u001b[0m\n\u001b[1;33m    True 1\u001b[0m\n\u001b[1;37m         ^\u001b[0m\n\u001b[1;31mSyntaxError\u001b[0m\u001b[1;31m:\u001b[0m invalid syntax\n"
     ]
    }
   ],
   "source": [
    "True 1\n",
    "False 0"
   ]
  },
  {
   "cell_type": "code",
   "execution_count": 587,
   "id": "3ec48ef0-3845-46a5-bb4d-d69591b4e9ff",
   "metadata": {},
   "outputs": [
    {
     "data": {
      "text/plain": [
       "False"
      ]
     },
     "execution_count": 587,
     "metadata": {},
     "output_type": "execute_result"
    }
   ],
   "source": [
    "3>2 and 3<2\n",
    "True and False"
   ]
  },
  {
   "cell_type": "code",
   "execution_count": 589,
   "id": "a7a0bc0e-5dd2-4830-aee9-b45bc47b03c0",
   "metadata": {},
   "outputs": [
    {
     "ename": "NameError",
     "evalue": "name 'true' is not defined",
     "output_type": "error",
     "traceback": [
      "\u001b[1;31m---------------------------------------------------------------------------\u001b[0m",
      "\u001b[1;31mNameError\u001b[0m                                 Traceback (most recent call last)",
      "Cell \u001b[1;32mIn[589], line 2\u001b[0m\n\u001b[0;32m      1\u001b[0m \u001b[38;5;241m3\u001b[39m\u001b[38;5;241m>\u001b[39m\u001b[38;5;241m2\u001b[39m \u001b[38;5;129;01mand\u001b[39;00m    \u001b[38;5;241m4\u001b[39m\u001b[38;5;241m>\u001b[39m\u001b[38;5;241m5\u001b[39m\n\u001b[1;32m----> 2\u001b[0m true \u001b[38;5;129;01mand\u001b[39;00m \u001b[38;5;28;01mFalse\u001b[39;00m\n",
      "\u001b[1;31mNameError\u001b[0m: name 'true' is not defined"
     ]
    }
   ],
   "source": [
    "3>2 and    4>5\n",
    "true and False"
   ]
  },
  {
   "cell_type": "code",
   "execution_count": 591,
   "id": "97ec6928-5de4-4af0-9178-590bc566f068",
   "metadata": {},
   "outputs": [
    {
     "ename": "SyntaxError",
     "evalue": "cannot assign to expression here. Maybe you meant '==' instead of '='? (149820101.py, line 1)",
     "output_type": "error",
     "traceback": [
      "\u001b[1;36m  Cell \u001b[1;32mIn[591], line 1\u001b[1;36m\u001b[0m\n\u001b[1;33m    1*1 =1\u001b[0m\n\u001b[1;37m    ^\u001b[0m\n\u001b[1;31mSyntaxError\u001b[0m\u001b[1;31m:\u001b[0m cannot assign to expression here. Maybe you meant '==' instead of '='?\n"
     ]
    }
   ],
   "source": [
    "1*1 =1\n",
    "1*0 = 0\n",
    "0*1 = 0\n",
    "0*0 = 0"
   ]
  },
  {
   "cell_type": "code",
   "execution_count": 593,
   "id": "ba716a86-e149-4545-b15d-7e4b009609ab",
   "metadata": {},
   "outputs": [],
   "source": [
    "a = 5\n",
    "b = 10"
   ]
  },
  {
   "cell_type": "code",
   "execution_count": 595,
   "id": "d5bc8fa4-b131-4bd2-af18-f85d3249b495",
   "metadata": {},
   "outputs": [
    {
     "data": {
      "text/plain": [
       "False"
      ]
     },
     "execution_count": 595,
     "metadata": {},
     "output_type": "execute_result"
    }
   ],
   "source": [
    "a>3 and b>20"
   ]
  },
  {
   "cell_type": "code",
   "execution_count": 597,
   "id": "e11cc869-f5eb-483e-8e79-9a49af38a534",
   "metadata": {},
   "outputs": [
    {
     "data": {
      "text/plain": [
       "True"
      ]
     },
     "execution_count": 597,
     "metadata": {},
     "output_type": "execute_result"
    }
   ],
   "source": [
    "a>=3 and b>8"
   ]
  },
  {
   "cell_type": "code",
   "execution_count": 599,
   "id": "ad70f676-2447-4bad-ad5a-7b17e0c03456",
   "metadata": {},
   "outputs": [
    {
     "name": "stdout",
     "output_type": "stream",
     "text": [
      "True\n"
     ]
    }
   ],
   "source": [
    "result = (a > 3) and (b < 15)  # True because both conditions are true\n",
    "print(result)  # Output: True"
   ]
  },
  {
   "cell_type": "code",
   "execution_count": 601,
   "id": "bac1c871-4521-49e5-8cbc-b93c1fda0d85",
   "metadata": {},
   "outputs": [
    {
     "data": {
      "text/plain": [
       "False"
      ]
     },
     "execution_count": 601,
     "metadata": {},
     "output_type": "execute_result"
    }
   ],
   "source": [
    "(a > 3) and (b < 2)"
   ]
  },
  {
   "cell_type": "code",
   "execution_count": 603,
   "id": "5fd04953-4693-4ace-a9b4-8c7413da3c61",
   "metadata": {},
   "outputs": [
    {
     "ename": "SyntaxError",
     "evalue": "cannot assign to expression here. Maybe you meant '==' instead of '='? (833819974.py, line 1)",
     "output_type": "error",
     "traceback": [
      "\u001b[1;36m  Cell \u001b[1;32mIn[603], line 1\u001b[1;36m\u001b[0m\n\u001b[1;33m    1 + 1 = 1\u001b[0m\n\u001b[1;37m    ^\u001b[0m\n\u001b[1;31mSyntaxError\u001b[0m\u001b[1;31m:\u001b[0m cannot assign to expression here. Maybe you meant '==' instead of '='?\n"
     ]
    }
   ],
   "source": [
    "1 + 1 = 1\n",
    "1+ 0 = 1\n",
    "0+1 = 1\n",
    "0+0 = 0"
   ]
  },
  {
   "cell_type": "code",
   "execution_count": 605,
   "id": "734991cf-67b1-46c1-88bb-696409dc9853",
   "metadata": {},
   "outputs": [
    {
     "name": "stdout",
     "output_type": "stream",
     "text": [
      "True\n"
     ]
    }
   ],
   "source": [
    "a = 5\n",
    "b = 10\n",
    "result = (a > 2) or (b < 1)  # True because the second condition is true\n",
    "print(result)  # Output: True"
   ]
  },
  {
   "cell_type": "code",
   "execution_count": 607,
   "id": "28c4e867-137e-49d3-ac10-cf5dfcd5a310",
   "metadata": {},
   "outputs": [
    {
     "name": "stdout",
     "output_type": "stream",
     "text": [
      "True\n"
     ]
    }
   ],
   "source": [
    "a = 5\n",
    "result = not (a > 7)  # True because the condition (a > 7) is False, and `not` inverts it\n",
    "print(result)  # Output: True"
   ]
  },
  {
   "cell_type": "code",
   "execution_count": 609,
   "id": "d4a215cd-450a-4de2-90ee-78cffa5915ed",
   "metadata": {},
   "outputs": [
    {
     "data": {
      "text/plain": [
       "False"
      ]
     },
     "execution_count": 609,
     "metadata": {},
     "output_type": "execute_result"
    }
   ],
   "source": [
    "not(a>3)"
   ]
  },
  {
   "cell_type": "code",
   "execution_count": 611,
   "id": "b9ea2e6f-a188-406b-9e82-a47ae75b9bea",
   "metadata": {},
   "outputs": [],
   "source": [
    "a = 5"
   ]
  },
  {
   "cell_type": "code",
   "execution_count": 613,
   "id": "0ab81d19-a305-46bf-a2e0-da7ea43ddbc3",
   "metadata": {},
   "outputs": [
    {
     "data": {
      "text/plain": [
       "True"
      ]
     },
     "execution_count": 613,
     "metadata": {},
     "output_type": "execute_result"
    }
   ],
   "source": [
    "a>3"
   ]
  },
  {
   "cell_type": "code",
   "execution_count": 615,
   "id": "97b1a3e1-88dc-4377-ad83-08db98a44719",
   "metadata": {},
   "outputs": [
    {
     "data": {
      "text/plain": [
       "False"
      ]
     },
     "execution_count": 615,
     "metadata": {},
     "output_type": "execute_result"
    }
   ],
   "source": [
    "not(a>3)"
   ]
  },
  {
   "cell_type": "code",
   "execution_count": 617,
   "id": "d6216e4d-199f-4e8c-9910-dfd63b6c89ec",
   "metadata": {},
   "outputs": [],
   "source": [
    "# Check if a person is eligible to vote (must be 18 or older and a citizen)\n",
    "\n"
   ]
  },
  {
   "cell_type": "code",
   "execution_count": 619,
   "id": "d268c4ac-b78c-49b0-b218-47414f9b86a7",
   "metadata": {},
   "outputs": [],
   "source": [
    "age = 18\n",
    "citizen = True"
   ]
  },
  {
   "cell_type": "code",
   "execution_count": 621,
   "id": "01499add-2bb5-4f9e-8f1b-7a022dd2e4cc",
   "metadata": {},
   "outputs": [
    {
     "name": "stdout",
     "output_type": "stream",
     "text": [
      "Eligible to vote\n"
     ]
    }
   ],
   "source": [
    "if age >= 18 and citizen:\n",
    "    print(\"Eligible to vote\")\n",
    "else:\n",
    "    print(\"Not eligible to vote\")"
   ]
  },
  {
   "cell_type": "code",
   "execution_count": 623,
   "id": "c451163d-4238-4d48-878d-a37addf12f7d",
   "metadata": {},
   "outputs": [
    {
     "name": "stdout",
     "output_type": "stream",
     "text": [
      "No need for an umbrella\n"
     ]
    }
   ],
   "source": [
    "temperature = 30\n",
    "is_raining = False\n",
    "\n",
    "# Check if you should carry an umbrella (either if it's cold or if it's raining)\n",
    "if temperature < 20 or is_raining:\n",
    "    print(\"Carry an umbrella\")\n",
    "else:\n",
    "    print(\"No need for an umbrella\")"
   ]
  },
  {
   "cell_type": "code",
   "execution_count": 625,
   "id": "4dae79e4-9012-4473-a0bc-7033c1e8a415",
   "metadata": {},
   "outputs": [
    {
     "name": "stdout",
     "output_type": "stream",
     "text": [
      "It's a weekday\n"
     ]
    }
   ],
   "source": [
    "is_weekend = False\n",
    "\n",
    "# Check if it's a weekday (i.e., not the weekend)\n",
    "if not is_weekend:\n",
    "    print(\"It's a weekday\")\n",
    "else:\n",
    "    print(\"It's the weekend\")"
   ]
  },
  {
   "cell_type": "code",
   "execution_count": 627,
   "id": "8d0acd65-5a82-454c-8b42-dbccf7822bf8",
   "metadata": {},
   "outputs": [
    {
     "name": "stdout",
     "output_type": "stream",
     "text": [
      "Can legally drive\n"
     ]
    }
   ],
   "source": [
    "age = 20\n",
    "has_license = True\n",
    "is_sober = True\n",
    "\n",
    "# Check if a person can legally drive (must be 18 or older, have a license, and be sober)\n",
    "if age >= 18 and has_license and is_sober:\n",
    "    print(\"Can legally drive\")\n",
    "else:\n",
    "    print(\"Cannot legally drive\")"
   ]
  },
  {
   "cell_type": "code",
   "execution_count": 629,
   "id": "4a365b17-f01e-4181-964d-2e17af491dbc",
   "metadata": {},
   "outputs": [
    {
     "ename": "SyntaxError",
     "evalue": "cannot assign to literal here. Maybe you meant '==' instead of '='? (2036167219.py, line 1)",
     "output_type": "error",
     "traceback": [
      "\u001b[1;36m  Cell \u001b[1;32mIn[629], line 1\u001b[1;36m\u001b[0m\n\u001b[1;33m    12345 = binary 1 = 1000 , 2 = 1001\u001b[0m\n\u001b[1;37m    ^\u001b[0m\n\u001b[1;31mSyntaxError\u001b[0m\u001b[1;31m:\u001b[0m cannot assign to literal here. Maybe you meant '==' instead of '='?\n"
     ]
    }
   ],
   "source": [
    "12345 = binary 1 = 1000 , 2 = 1001 "
   ]
  },
  {
   "cell_type": "code",
   "execution_count": 631,
   "id": "b1eb4b8b-bef3-438d-bd46-6fd6968faf4e",
   "metadata": {},
   "outputs": [
    {
     "ename": "SyntaxError",
     "evalue": "cannot assign to literal here. Maybe you meant '==' instead of '='? (1839328052.py, line 1)",
     "output_type": "error",
     "traceback": [
      "\u001b[1;36m  Cell \u001b[1;32mIn[631], line 1\u001b[1;36m\u001b[0m\n\u001b[1;33m    1 = 1000\u001b[0m\n\u001b[1;37m    ^\u001b[0m\n\u001b[1;31mSyntaxError\u001b[0m\u001b[1;31m:\u001b[0m cannot assign to literal here. Maybe you meant '==' instead of '='?\n"
     ]
    }
   ],
   "source": [
    "1 = 1000 "
   ]
  },
  {
   "cell_type": "code",
   "execution_count": 633,
   "id": "fa6a35aa-f922-4189-a6f8-afbfc9bcabe8",
   "metadata": {},
   "outputs": [
    {
     "ename": "SyntaxError",
     "evalue": "invalid syntax (1732651236.py, line 1)",
     "output_type": "error",
     "traceback": [
      "\u001b[1;36m  Cell \u001b[1;32mIn[633], line 1\u001b[1;36m\u001b[0m\n\u001b[1;33m    and\u001b[0m\n\u001b[1;37m    ^\u001b[0m\n\u001b[1;31mSyntaxError\u001b[0m\u001b[1;31m:\u001b[0m invalid syntax\n"
     ]
    }
   ],
   "source": [
    "and "
   ]
  },
  {
   "cell_type": "code",
   "execution_count": 635,
   "id": "cf400ca6-b0dd-47fe-ac78-a56f28afff8c",
   "metadata": {},
   "outputs": [
    {
     "name": "stdout",
     "output_type": "stream",
     "text": [
      "1\n"
     ]
    }
   ],
   "source": [
    "a = 5  # Binary: 0101\n",
    "b = 3  # Binary: 0011\n",
    "result = a & b  # Binary: 0001, which is 1 in decimal\n",
    "print(result)  # Output: 1"
   ]
  },
  {
   "cell_type": "code",
   "execution_count": 637,
   "id": "9d3ae0c3-1863-48c2-bf5b-78b2a31220cf",
   "metadata": {},
   "outputs": [
    {
     "data": {
      "text/plain": [
       "4"
      ]
     },
     "execution_count": 637,
     "metadata": {},
     "output_type": "execute_result"
    }
   ],
   "source": [
    "5 & 6"
   ]
  },
  {
   "cell_type": "code",
   "execution_count": 639,
   "id": "b839092f-dc37-4425-b4c5-cf9b5b57f75f",
   "metadata": {},
   "outputs": [
    {
     "ename": "SyntaxError",
     "evalue": "leading zeros in decimal integer literals are not permitted; use an 0o prefix for octal integers (2916622765.py, line 1)",
     "output_type": "error",
     "traceback": [
      "\u001b[1;36m  Cell \u001b[1;32mIn[639], line 1\u001b[1;36m\u001b[0m\n\u001b[1;33m    0101 & 0110\u001b[0m\n\u001b[1;37m    ^\u001b[0m\n\u001b[1;31mSyntaxError\u001b[0m\u001b[1;31m:\u001b[0m leading zeros in decimal integer literals are not permitted; use an 0o prefix for octal integers\n"
     ]
    }
   ],
   "source": [
    "0101 & 0110"
   ]
  },
  {
   "cell_type": "code",
   "execution_count": 641,
   "id": "c91c9ff2-a8ea-424b-9738-d329b9363825",
   "metadata": {},
   "outputs": [
    {
     "ename": "SyntaxError",
     "evalue": "leading zeros in decimal integer literals are not permitted; use an 0o prefix for octal integers (751077707.py, line 1)",
     "output_type": "error",
     "traceback": [
      "\u001b[1;36m  Cell \u001b[1;32mIn[641], line 1\u001b[1;36m\u001b[0m\n\u001b[1;33m    0100 = 4\u001b[0m\n\u001b[1;37m    ^\u001b[0m\n\u001b[1;31mSyntaxError\u001b[0m\u001b[1;31m:\u001b[0m leading zeros in decimal integer literals are not permitted; use an 0o prefix for octal integers\n"
     ]
    }
   ],
   "source": [
    "0100 = 4"
   ]
  },
  {
   "cell_type": "code",
   "execution_count": 643,
   "id": "cf346b2e-82f8-4325-b915-40727430e50e",
   "metadata": {},
   "outputs": [
    {
     "data": {
      "text/plain": [
       "0"
      ]
     },
     "execution_count": 643,
     "metadata": {},
     "output_type": "execute_result"
    }
   ],
   "source": [
    "0 & 0\n"
   ]
  },
  {
   "cell_type": "code",
   "execution_count": 645,
   "id": "a447e966-b2ea-4568-89c5-368c56cf2125",
   "metadata": {},
   "outputs": [
    {
     "data": {
      "text/plain": [
       "8421"
      ]
     },
     "execution_count": 645,
     "metadata": {},
     "output_type": "execute_result"
    }
   ],
   "source": [
    "8421"
   ]
  },
  {
   "cell_type": "code",
   "execution_count": 647,
   "id": "5fa5b526-6aa6-408b-b67d-0a4f8a0d0abd",
   "metadata": {},
   "outputs": [
    {
     "data": {
      "text/plain": [
       "10001"
      ]
     },
     "execution_count": 647,
     "metadata": {},
     "output_type": "execute_result"
    }
   ],
   "source": [
    "a \n",
    "10001"
   ]
  },
  {
   "cell_type": "markdown",
   "id": "087308f3-2894-45ca-9644-796b2928f39e",
   "metadata": {},
   "source": [
    "2. **OR (`|`) Operator:**\n",
    " a = 5  # Binary: 0101\n",
    "     b = 3  # Binary: 0011"
   ]
  },
  {
   "cell_type": "code",
   "execution_count": 652,
   "id": "84dda576-b108-4b5a-956e-d352f5917e0d",
   "metadata": {},
   "outputs": [
    {
     "name": "stdout",
     "output_type": "stream",
     "text": [
      "7\n"
     ]
    }
   ],
   "source": [
    "a = 5  # Binary: 0101\n",
    "b = 3  # Binary: 0011\n",
    "result = a | b  # Binary: 0111, which is 7 in decimal\n",
    "print(result)  # Output: 7"
   ]
  },
  {
   "cell_type": "markdown",
   "id": "f2d40a40-1526-4e38-abf2-117692f3e54c",
   "metadata": {},
   "source": [
    "4. **NOT (`~`) Operator:**\n",
    "1` into `0` and `0` into `1`.\n",
    "     a = 5  # Binary: 0101"
   ]
  },
  {
   "cell_type": "code",
   "execution_count": 655,
   "id": "ccbd5f68-4d2f-4643-aa6e-605ef1676794",
   "metadata": {},
   "outputs": [
    {
     "name": "stdout",
     "output_type": "stream",
     "text": [
      "-6\n"
     ]
    }
   ],
   "source": [
    "a = 5  # Binary: 0101\n",
    "result = ~a  # Binary: 1010, which is -6 in decimal (due to how negative numbers are represented in binary using two's complement)\n",
    "print(result)  # Output: -6"
   ]
  },
  {
   "cell_type": "markdown",
   "id": "e0f51c1d-52c5-46e4-b019-d76dce9df06a",
   "metadata": {},
   "source": [
    "## Membership Operators\n",
    "\n",
    "**Membership Operators:**\n",
    "\n",
    "- **Definition:** Membership operators are used to test whether a value or variable exists within a sequence,or a variable such as a string, list, tuple, set, or dictionary. These operators allow you to check for the presence or absence of elements within a data structure.\n",
    "- 1. **`in` Operator:**\n",
    "   - **Function:** Checks if a specified value or variable is present in a sequence. If the value is found, the expression returns `True`; otherwise, it returns `False`.\n",
    "   - `python\n",
    "     my_list = [1, 2, 3, 4, 5]\n",
    "     print(3 in my_list)"
   ]
  },
  {
   "cell_type": "code",
   "execution_count": 659,
   "id": "e016ec62-03ac-4a28-9b94-719e3aba6614",
   "metadata": {},
   "outputs": [
    {
     "name": "stdout",
     "output_type": "stream",
     "text": [
      "True\n"
     ]
    }
   ],
   "source": [
    "my_string = \"Hello, world!\"\n",
    "print(\"world\" in my_string)  # Output: True"
   ]
  },
  {
   "cell_type": "code",
   "execution_count": 661,
   "id": "5a7fe8e9-da53-4b68-9f41-bc97593bfc71",
   "metadata": {},
   "outputs": [
    {
     "data": {
      "text/plain": [
       "True"
      ]
     },
     "execution_count": 661,
     "metadata": {},
     "output_type": "execute_result"
    }
   ],
   "source": [
    "my_list = [1, 2, 3, 4, 5]\n",
    "3  in my_list"
   ]
  },
  {
   "cell_type": "markdown",
   "id": "3819d733-b964-4ae1-a876-332ff869f1f9",
   "metadata": {},
   "source": [
    "2. **`not in` Operator:**\n",
    "   - **Function:** Checks if a specified value or variable is *not* present in a sequence. If the value is not found, the expression returns `True`; otherwise, it returns `False`\n",
    ".my_list = [1, 2, 3, 4, 5]\n",
    "     print(10 not in my_list)"
   ]
  },
  {
   "cell_type": "code",
   "execution_count": 664,
   "id": "ace8b097-d613-4130-8c2c-72847d104a28",
   "metadata": {},
   "outputs": [
    {
     "name": "stdout",
     "output_type": "stream",
     "text": [
      "True\n"
     ]
    }
   ],
   "source": [
    "my_list = [1, 2, 3, 4, 5]\n",
    "print(10 not in my_list)"
   ]
  },
  {
   "cell_type": "markdown",
   "id": "06127adb-7852-4584-9c8a-74f577b8655a",
   "metadata": {},
   "source": [
    "#### 1. **Using `in` with a List:**\n",
    "   - **Scenario:** You want to check if a specific item is in a list.\n",
    "   - **Example:**\n",
    "     ```python\n",
    "     fruits = [\"apple\", \"banana\", \"cherry\"]\n",
    "     print(\"banana\" in fruits)  # Output: True\n",
    "     ```\n",
    "   - **Explanation:** The `in` operator checks if the string `\"banana\"` is present in the `fruits` list. Since `\"banana\"` is an element in the list, the output is `True`."
   ]
  },
  {
   "cell_type": "code",
   "execution_count": 667,
   "id": "ce6c7da5-0ea7-4446-94af-3d55fc58aaed",
   "metadata": {},
   "outputs": [
    {
     "name": "stdout",
     "output_type": "stream",
     "text": [
      "True\n"
     ]
    }
   ],
   "source": [
    "fruits = [\"apple\", \"banana\", \"cherry\"]\n",
    "print(\"banana\" in fruits)  # Output: True"
   ]
  },
  {
   "cell_type": "markdown",
   "id": "b117e555-733c-43a5-9a09-02851168d0c1",
   "metadata": {},
   "source": [
    "#### 2. **Using `not in` with a List:**\n",
    "   - **Scenario:** You want to verify that an item is not in a list.\n",
    "   - **Example:**\n",
    "     ```python\n",
    "     fruits = [\"apple\", \"banana\", \"cherry\"]\n",
    "     print(\"grape\" not in fruits)  # Output: True\n",
    "     ```\n",
    "   - **Explanation:** The `not in` operator checks if the string `\"grape\"` is absent from the `fruits` list. Since `\"grape\"` is not in the list, the output is `True`."
   ]
  },
  {
   "cell_type": "code",
   "execution_count": 670,
   "id": "6c6ec92d-99e4-48f8-8221-411cc65b8ee6",
   "metadata": {},
   "outputs": [
    {
     "name": "stdout",
     "output_type": "stream",
     "text": [
      "True\n"
     ]
    }
   ],
   "source": [
    "fruits = [\"apple\", \"banana\", \"cherry\"]\n",
    "print(\"grape\" not in fruits)  # Output: True"
   ]
  },
  {
   "cell_type": "code",
   "execution_count": 672,
   "id": "1a41e80e-6a9b-4b70-806c-4aac2a7937e5",
   "metadata": {},
   "outputs": [
    {
     "name": "stdout",
     "output_type": "stream",
     "text": [
      "True\n"
     ]
    }
   ],
   "source": [
    "# India Team\n",
    "Player= ['Rohit sharma', 'Virat', 'Dhoni', 'Siraj']\n",
    "\n",
    "print('Siraj' in Player)"
   ]
  },
  {
   "cell_type": "markdown",
   "id": "9024f664-2def-4146-8179-19bc41729b1a",
   "metadata": {},
   "source": [
    "#### 3. **Using `in` with a String:**\n",
    "   - **Scenario:** You want to check if a substring exists within a string.\n",
    "   - **Example:**\n",
    "     ```python\n",
    "     message = \"Welcome to Python programming!\"\n",
    "     print(\"Python\" in message)  # Output: True\n",
    "     ```\n",
    "   - **Explanation:** The `in` operator checks if the substring `\"Python\"` is present in the `message` string. Since `\"Python\"` is a part of the string, the output is `True`."
   ]
  },
  {
   "cell_type": "code",
   "execution_count": 677,
   "id": "66588c1c-ede5-4eb2-b844-a3f62f83976b",
   "metadata": {},
   "outputs": [
    {
     "name": "stdout",
     "output_type": "stream",
     "text": [
      "True\n"
     ]
    }
   ],
   "source": [
    "message = \"Welcome to Python programming!\"\n",
    "print(\"Python\" in message)  # Output: True"
   ]
  },
  {
   "cell_type": "markdown",
   "id": "24011990-079a-4b64-a088-8c3d42adbc8d",
   "metadata": {},
   "source": [
    "#### 4. **Using `not in` with a String:**\n",
    "   - **Scenario:** You want to verify that a substring is not present in a string.\n",
    "   - **Example:**\n",
    "     ```python\n",
    "     message = \"Welcome to Python programming!\"\n",
    "     print(\"Java\" not in message)  # Output: True\n",
    "     ```\n",
    "   - **Explanation:** The `not in` operator checks if the substring `\"Java\"` is absent from the `message` string. Since `\"Java\"` is not a part of the string, the output is `True`.\n"
   ]
  },
  {
   "cell_type": "markdown",
   "id": "586193e9-b50f-49f9-9a93-36c639192533",
   "metadata": {},
   "source": [
    "#### 5. **Using `in` with a Dictionary:**\n",
    "   - **Scenario:** You want to check if a specific key exists in a dictionary.\n",
    "   - **Example:**\n",
    "     ```python\n",
    "     my_dict = {\"name\": \"Alice\", \"age\": 25, \"city\": \"New York\"}\n",
    "     print(\"name\" in my_dict)  # Output: True\n",
    "     ```\n",
    "   - **Explanation:** The `in` operator checks if the key `\"name\"` is present in the `my_dict` dictionary. Since `\"name\"` is a key in the dictionary, the output is `True`."
   ]
  },
  {
   "cell_type": "code",
   "execution_count": 681,
   "id": "d553dd7a-120b-4957-9af6-4c2489d26dd9",
   "metadata": {},
   "outputs": [
    {
     "name": "stdout",
     "output_type": "stream",
     "text": [
      "True\n"
     ]
    }
   ],
   "source": [
    "my_dict = {\"name\": \"Alice\", \"age\": 25, \"city\": \"New York\"}\n",
    "print(\"name\" in my_dict)  # Output: True"
   ]
  },
  {
   "cell_type": "markdown",
   "id": "10096437-9ec9-4782-9993-e1220594857b",
   "metadata": {},
   "source": [
    "#### 6. **Using `not in` with a Dictionary:**\n",
    "   - **Scenario:** You want to verify that a key is not present in a dictionary.\n",
    "   - **Example:**\n",
    "     ```python\n",
    "     my_dict = {\"name\": \"Alice\", \"age\": 25, \"city\": \"New York\"}\n",
    "     print(\"address\" not in my_dict)  # Output: True\n",
    "     ```\n",
    "   - **Explanation:** The `not in` operator checks if the key `\"address\"` is absent from the `my_dict` dictionary. Since `\"address\"` is not a key in the dictionary, the output is `True`."
   ]
  },
  {
   "cell_type": "code",
   "execution_count": 684,
   "id": "f9a88af5-bb01-4646-8ecc-5f2bbf18f0b8",
   "metadata": {},
   "outputs": [
    {
     "name": "stdout",
     "output_type": "stream",
     "text": [
      "False\n"
     ]
    }
   ],
   "source": [
    "my_dict = {\"name\": \"Alice\", \"age\": 25, \"city\": \"New York\"}\n",
    "print(\"Alice\" in my_dict)  "
   ]
  },
  {
   "cell_type": "markdown",
   "id": "ab5e960c-36b8-4838-a1e5-6929c87b1dde",
   "metadata": {},
   "source": [
    "\n",
    "### Common Use Cases:\n",
    "\n",
    "- **Searching Elements in Collections:** Membership operators are commonly used to check if an element exists within a collection (e.g., list, tuple, set).\n",
    "- **Validating User Input:** These operators can be used to verify if a user's input matches an expected value or pattern within a string or list.\n",
    "- **Checking Keys in Dictionaries:** Membership operators are helpful for determining if a dictionary contains a specific key before attempting to access the value associated with that key.\n",
    "- **Filtering Data:** They can be used in filtering data by checking the presence or absence of specific elements in data collections.\n",
    "\n",
    "### Notes:\n",
    "- **Efficiency:** Membership checks in sets and dictionaries are generally faster than in lists or strings because of the underlying data structure used for storing elements.\n",
    "- **Case Sensitivity:** When used with strings, the membership operators are case-sensitive. For example, `\"A\" in \"apple\"` will return `False` because the cases do not match.\n",
    "\n",
    "Understanding membership operators is crucial for efficiently working with sequences and collections in Python, allowing you to perform checks and validations with minimal code."
   ]
  },
  {
   "cell_type": "code",
   "execution_count": 687,
   "id": "3435f583-3ee9-445d-be36-1c518aea9240",
   "metadata": {},
   "outputs": [],
   "source": [
    " l = [1,2,3,4,5,6]"
   ]
  },
  {
   "cell_type": "code",
   "execution_count": 689,
   "id": "a1dedc0c-552f-4665-878d-6faa5dec919f",
   "metadata": {},
   "outputs": [
    {
     "data": {
      "text/plain": [
       "1"
      ]
     },
     "execution_count": 689,
     "metadata": {},
     "output_type": "execute_result"
    }
   ],
   "source": [
    "1"
   ]
  },
  {
   "cell_type": "code",
   "execution_count": 693,
   "id": "27747c93-2402-4f86-bb54-d062bf888f8c",
   "metadata": {},
   "outputs": [
    {
     "ename": "TypeError",
     "evalue": "argument of type 'int' is not iterable",
     "output_type": "error",
     "traceback": [
      "\u001b[1;31m---------------------------------------------------------------------------\u001b[0m",
      "\u001b[1;31mTypeError\u001b[0m                                 Traceback (most recent call last)",
      "Cell \u001b[1;32mIn[693], line 1\u001b[0m\n\u001b[1;32m----> 1\u001b[0m \u001b[38;5;241m1\u001b[39m \u001b[38;5;129;01min\u001b[39;00m \u001b[38;5;241m1\u001b[39m\n",
      "\u001b[1;31mTypeError\u001b[0m: argument of type 'int' is not iterable"
     ]
    }
   ],
   "source": [
    "1 in 1"
   ]
  },
  {
   "cell_type": "code",
   "execution_count": 695,
   "id": "8dd3b008-284c-4c1f-a4db-d07d93558792",
   "metadata": {},
   "outputs": [
    {
     "data": {
      "text/plain": [
       "True"
      ]
     },
     "execution_count": 695,
     "metadata": {},
     "output_type": "execute_result"
    }
   ],
   "source": [
    "1 in l"
   ]
  },
  {
   "cell_type": "code",
   "execution_count": 697,
   "id": "638f8ef5-f5f4-4857-9b81-9e32c5b8f9e6",
   "metadata": {},
   "outputs": [
    {
     "data": {
      "text/plain": [
       "False"
      ]
     },
     "execution_count": 697,
     "metadata": {},
     "output_type": "execute_result"
    }
   ],
   "source": [
    "0 in l"
   ]
  },
  {
   "cell_type": "code",
   "execution_count": 699,
   "id": "8bcbac83-8b0f-4496-9899-022cc6325371",
   "metadata": {},
   "outputs": [
    {
     "data": {
      "text/plain": [
       "True"
      ]
     },
     "execution_count": 699,
     "metadata": {},
     "output_type": "execute_result"
    }
   ],
   "source": [
    "0 not in l "
   ]
  },
  {
   "cell_type": "markdown",
   "id": "a5b7153e-2b3f-4729-a40d-b8204d2e3efe",
   "metadata": {},
   "source": [
    "# Introduction to Python Statements\n"
   ]
  },
  {
   "cell_type": "markdown",
   "id": "8f72a621-7e78-4f14-b278-57bb724ab0de",
   "metadata": {},
   "source": [
    "The `if` statement in Python is a conditional statement that allows you to execute a block of code only if a specified condition is true. It is a fundamental building block in programming, enabling decision-making in your code.\n",
    "\n",
    "### How the `if` Statement Works\n",
    "\n",
    "- **Syntax:**\n",
    "  ```python\n",
    "  if condition:\n",
    "      # Block of code to be executed if the condition is true\n",
    "  ```\n",
    "\n",
    "- **Explanation:**\n",
    "  - The `if` statement starts with the keyword `if`, followed by a condition that evaluates to either `True` or `False`.\n",
    "  - If the condition is `True`, the block of code indented underneath the `if` statement is executed.\n",
    "  - If the condition is `False`, the block of code is skipped, and the program continues to the next statement.\n",
    "\n",
    "### Components of the `if` Statement:\n",
    "\n",
    "1. **Condition:**\n",
    "   - The condition is an expression that evaluates to a boolean value (`True` or `False`).\n",
    "   - Conditions typically involve comparison operators (`==`, `!=`, `>`, `<`, `>=`, `<=`) or logical operators (`and`, `or`, `not`).\n",
    "\n",
    "2. **Code Block:**\n",
    "   - The code block inside the `if` statement is indented to indicate that it belongs to the `if`.\n",
    "   - The indented code will only execute if the condition is true."
   ]
  },
  {
   "cell_type": "code",
   "execution_count": 703,
   "id": "67440d5f-633f-4225-a933-c9bd8a3eddce",
   "metadata": {},
   "outputs": [],
   "source": [
    "a = [1,2,3]"
   ]
  },
  {
   "cell_type": "code",
   "execution_count": 705,
   "id": "e051a633-7fea-4c08-aab9-66322ab5afe6",
   "metadata": {},
   "outputs": [
    {
     "data": {
      "text/plain": [
       "True"
      ]
     },
     "execution_count": 705,
     "metadata": {},
     "output_type": "execute_result"
    }
   ],
   "source": [
    "1 in a\n"
   ]
  },
  {
   "cell_type": "code",
   "execution_count": 707,
   "id": "adac143b-163e-4abb-af42-4c87befe4a46",
   "metadata": {},
   "outputs": [
    {
     "name": "stdout",
     "output_type": "stream",
     "text": [
      "i got it\n",
      "This will be printed\n"
     ]
    }
   ],
   "source": [
    "if 1 in a :\n",
    "    print(\"i got it\")\n",
    "print(\"This will be printed\")"
   ]
  },
  {
   "cell_type": "markdown",
   "id": "28100935-e799-4ea6-95ae-88b726168a3c",
   "metadata": {},
   "source": [
    "In programming, conditions refer to statements or expressions that allow you to make decisions based on whether a certain condition is true or false. Conditions play a crucial role in controlling the flow of a program, determining which code blocks are executed and which are skipped.\n",
    "\n",
    "Conditions are often implemented using conditional statements or control structures, the most common of which are:\n",
    "\n",
    "1. **If Statement:** The basic if statement is used to execute a block of code only if a specified condition is true.\n",
    "\n",
    "2. **If-Else Statement:** The if-else statement allows you to execute one block of code if a condition is true and a different block of code if the condition is false.\n",
    "\n",
    "3. **If-Elif-Else Statement:** The if-elif-else statement is used when you have multiple conditions to check. The program evaluates each condition in sequence and executes the block associated with the first true condition."
   ]
  },
  {
   "cell_type": "markdown",
   "id": "d2885c99-1803-4c3e-99af-e297bd0fe8cd",
   "metadata": {},
   "source": [
    "\n",
    "### Example 1: Basic `if` Statement\n",
    "```python\n",
    "age = 18\n",
    "\n",
    "if age >= 18:\n",
    "    print(\"You are eligible to vote.\")\n",
    "```\n",
    "- **Explanation:**\n",
    "  - The condition `age >= 18` checks if the value of `age` is greater than or equal to 18.\n",
    "  - Since `age` is 18, the condition is `True`, so the program prints \"You are eligible to vote.\""
   ]
  },
  {
   "cell_type": "code",
   "execution_count": 711,
   "id": "129a93a4-287c-4387-9edd-7ad174991a75",
   "metadata": {},
   "outputs": [],
   "source": [
    "age = 18\n"
   ]
  },
  {
   "cell_type": "code",
   "execution_count": 713,
   "id": "88c0fed3-4832-41bd-ab05-cff92b1c9048",
   "metadata": {},
   "outputs": [
    {
     "data": {
      "text/plain": [
       "True"
      ]
     },
     "execution_count": 713,
     "metadata": {},
     "output_type": "execute_result"
    }
   ],
   "source": [
    "age >= 18"
   ]
  },
  {
   "cell_type": "code",
   "execution_count": 715,
   "id": "4522f5df-55aa-490e-9ed2-117621d7bcbc",
   "metadata": {},
   "outputs": [],
   "source": [
    "age = 19"
   ]
  },
  {
   "cell_type": "code",
   "execution_count": 717,
   "id": "72c5c367-c79a-408f-9b9c-e49272a64dc4",
   "metadata": {},
   "outputs": [
    {
     "data": {
      "text/plain": [
       "False"
      ]
     },
     "execution_count": 717,
     "metadata": {},
     "output_type": "execute_result"
    }
   ],
   "source": [
    "age <= 18"
   ]
  },
  {
   "cell_type": "code",
   "execution_count": 719,
   "id": "eaddacb0-edea-423a-bbac-4a6f65beb1a3",
   "metadata": {},
   "outputs": [
    {
     "name": "stdout",
     "output_type": "stream",
     "text": [
      "You are eligible to vote.\n",
      "this will be printed any how\n"
     ]
    }
   ],
   "source": [
    "age = 19\n",
    "\n",
    "if age >= 18:    \n",
    "    print(\"You are eligible to vote.\")  \n",
    "    \n",
    "    \n",
    "    \n",
    "    \n",
    "    \n",
    "    \n",
    "print(\"this will be printed any how\")\n",
    "\n",
    "\n",
    "\n",
    "\n",
    "\n",
    "\n",
    "\n",
    "    \n",
    "\n",
    "    \n",
    "    \n",
    "    \n"
   ]
  },
  {
   "cell_type": "code",
   "execution_count": 721,
   "id": "bcf79cf5-5454-466e-a9b2-2f85626c9878",
   "metadata": {},
   "outputs": [
    {
     "name": "stdout",
     "output_type": "stream",
     "text": [
      "this is it\n"
     ]
    }
   ],
   "source": [
    "if age >= 18:\n",
    "    print(\"this is it\")\n",
    "    \n"
   ]
  },
  {
   "cell_type": "code",
   "execution_count": 723,
   "id": "529f7aa4-3638-4d55-ade1-6df6cf90b0c1",
   "metadata": {},
   "outputs": [
    {
     "name": "stdout",
     "output_type": "stream",
     "text": [
      "Greater\n"
     ]
    }
   ],
   "source": [
    "# If statement\n",
    "if 5>2:                 #Indentation is the important part of the if statement\n",
    "    print(\"Greater\")    #body"
   ]
  },
  {
   "cell_type": "code",
   "execution_count": 725,
   "id": "221bc248-5687-49ea-acc8-534051e6b2d3",
   "metadata": {},
   "outputs": [
    {
     "name": "stdout",
     "output_type": "stream",
     "text": [
      "yes number 3 is greater than 2\n",
      "yes number 3 is greater than 2\n",
      "yes number 3 is greater than 2\n",
      "yes number 3 is greater than 2\n"
     ]
    }
   ],
   "source": [
    "if 3>2:\n",
    "    print(\"yes number 3 is greater than 2\")\n",
    "    print(\"yes number 3 is greater than 2\")\n",
    "    print(\"yes number 3 is greater than 2\")\n",
    "    print(\"yes number 3 is greater than 2\")"
   ]
  },
  {
   "cell_type": "code",
   "execution_count": 727,
   "id": "b764e85f-4d3d-449b-b8c4-a9d7ac312782",
   "metadata": {},
   "outputs": [
    {
     "name": "stdout",
     "output_type": "stream",
     "text": [
      "This is false\n"
     ]
    }
   ],
   "source": [
    "if 3<1:\n",
    "    print(\"what is correct\")\n",
    "else:\n",
    "    print(\"This is false\")"
   ]
  },
  {
   "cell_type": "code",
   "execution_count": 729,
   "id": "ef782d84-6fbf-4541-9c78-837776f0203b",
   "metadata": {},
   "outputs": [],
   "source": [
    "# If statement\n",
    "if 5<2:                     #nothing got printed\n",
    "\tprint(\"Greater\")"
   ]
  },
  {
   "cell_type": "code",
   "execution_count": 731,
   "id": "2a8ff796-ea77-4e74-88b9-bf2dbc4561d0",
   "metadata": {},
   "outputs": [
    {
     "name": "stdout",
     "output_type": "stream",
     "text": [
      "Greater\n"
     ]
    }
   ],
   "source": [
    "# If Statement in Single Line\n",
    "if 5>2: print(\"Greater\")"
   ]
  },
  {
   "cell_type": "code",
   "execution_count": 733,
   "id": "1ed9e0f9-91b0-4511-8a5e-a00fcd61efc2",
   "metadata": {},
   "outputs": [
    {
     "name": "stdout",
     "output_type": "stream",
     "text": [
      "Greater\n",
      "this will be printed anyway\n"
     ]
    }
   ],
   "source": [
    "# If Statement with Rest of the Code\n",
    "if 5>2:\n",
    "    print(\"Greater\")\n",
    "\n",
    "print(\"this will be printed anyway\")\n",
    "\n"
   ]
  },
  {
   "cell_type": "code",
   "execution_count": 735,
   "id": "609a4067-4049-4441-a3b0-5929212de21e",
   "metadata": {},
   "outputs": [
    {
     "name": "stdout",
     "output_type": "stream",
     "text": [
      "this will be printed anyway\n"
     ]
    }
   ],
   "source": [
    "if 5<2:\n",
    "\tprint(\"Greater\")\n",
    "print(\"this will be printed anyway\")\n",
    "\n"
   ]
  },
  {
   "cell_type": "code",
   "execution_count": 737,
   "id": "3c747515-2cc1-4c7d-a818-b8f4f766ec85",
   "metadata": {},
   "outputs": [
    {
     "ename": "SyntaxError",
     "evalue": "invalid syntax (2278659808.py, line 2)",
     "output_type": "error",
     "traceback": [
      "\u001b[1;36m  Cell \u001b[1;32mIn[737], line 2\u001b[1;36m\u001b[0m\n\u001b[1;33m    if 5>2 or 7<3:   True or False  ---->  True                                            #anyone has to be true\u001b[0m\n\u001b[1;37m                                       ^\u001b[0m\n\u001b[1;31mSyntaxError\u001b[0m\u001b[1;31m:\u001b[0m invalid syntax\n"
     ]
    }
   ],
   "source": [
    "# If statement with Logical Operator\n",
    "if 5>2 or 7<3:   True or False  ---->  True                                            #anyone has to be true\n",
    "\tprint(\"If statement with Logical Operator\")\n",
    "\tprint(\"Statement 2\")\n"
   ]
  },
  {
   "cell_type": "code",
   "execution_count": 739,
   "id": "6502a995-16be-4365-8eaf-375401fbc23f",
   "metadata": {},
   "outputs": [],
   "source": [
    "# If statement with Logical Operator\n",
    "if 5>2 and 7<3:                                               #both has to be true\n",
    "\tprint(\"If statement with Logical Operator\")\n",
    "\tprint(\"Statement 2\")\n"
   ]
  },
  {
   "cell_type": "code",
   "execution_count": 741,
   "id": "78dee729-f5c9-4806-9af8-400e2419aa78",
   "metadata": {},
   "outputs": [
    {
     "name": "stdout",
     "output_type": "stream",
     "text": [
      "If statement with Logical Operator\n",
      "Statement 2\n"
     ]
    }
   ],
   "source": [
    "# If statement with Logical Operator\n",
    "if 5>2 or 7>3:                                               #anyone has to be true\n",
    "\tprint(\"If statement with Logical Operator\")\n",
    "\tprint(\"Statement 2\")\n"
   ]
  },
  {
   "cell_type": "code",
   "execution_count": 743,
   "id": "237fc433-c06c-4483-a7af-205825135672",
   "metadata": {},
   "outputs": [
    {
     "name": "stdin",
     "output_type": "stream",
     "text": [
      "Enter your name  anu\n"
     ]
    },
    {
     "data": {
      "text/plain": [
       "'anu'"
      ]
     },
     "execution_count": 743,
     "metadata": {},
     "output_type": "execute_result"
    }
   ],
   "source": [
    "input(\"Enter your name \")"
   ]
  },
  {
   "cell_type": "code",
   "execution_count": 745,
   "id": "701e8cdb-35d2-4ca2-89b2-a23c8ae20e16",
   "metadata": {},
   "outputs": [
    {
     "name": "stdin",
     "output_type": "stream",
     "text": [
      "enter your age  12\n"
     ]
    }
   ],
   "source": [
    "age = int(input(\"enter your age \"))"
   ]
  },
  {
   "cell_type": "code",
   "execution_count": 747,
   "id": "50a1d18a-3f51-4f30-98e2-bdf1246338e5",
   "metadata": {},
   "outputs": [
    {
     "data": {
      "text/plain": [
       "12"
      ]
     },
     "execution_count": 747,
     "metadata": {},
     "output_type": "execute_result"
    }
   ],
   "source": [
    "age"
   ]
  },
  {
   "cell_type": "code",
   "execution_count": 749,
   "id": "f40135c5-a797-45b9-9364-7a5bfe95702c",
   "metadata": {},
   "outputs": [
    {
     "data": {
      "text/plain": [
       "int"
      ]
     },
     "execution_count": 749,
     "metadata": {},
     "output_type": "execute_result"
    }
   ],
   "source": [
    "type(age)"
   ]
  },
  {
   "cell_type": "code",
   "execution_count": 751,
   "id": "a62f1601-fe31-4d20-8715-a7c4dce516bf",
   "metadata": {},
   "outputs": [
    {
     "name": "stdin",
     "output_type": "stream",
     "text": [
      "enter your age  12\n"
     ]
    }
   ],
   "source": [
    "age = int(input(\"enter your age \"))\n",
    "if age >= 18:\n",
    "    print(\"anything\")"
   ]
  },
  {
   "cell_type": "code",
   "execution_count": 755,
   "id": "32d774f7-88eb-4087-a2df-2311eb4c3ca3",
   "metadata": {},
   "outputs": [
    {
     "name": "stdin",
     "output_type": "stream",
     "text": [
      "Enter a number  7\n"
     ]
    },
    {
     "name": "stdout",
     "output_type": "stream",
     "text": [
      "greater 7\n"
     ]
    }
   ],
   "source": [
    "#If statement with user input\n",
    "a = int(input(\"Enter a number \"))\n",
    "if a>2:\n",
    "    print(\"greater\",a)"
   ]
  },
  {
   "cell_type": "markdown",
   "id": "9f7f6f64-d314-4d42-9b3d-06a39381140b",
   "metadata": {},
   "source": [
    "### Example 2: `if` Statement with an Else Clause\n",
    "```python\n",
    "temperature = 30\n",
    "\n",
    "if temperature > 25:\n",
    "    print(\"It's a hot day.\")\n",
    "else:\n",
    "    print(\"It's a cool day.\")\n",
    "```\n",
    "- **Explanation:**\n",
    "  - The `else` clause provides an alternative block of code that runs if the `if` condition is `False`.\n",
    "  - Since `temperature` is 30, which is greater than 25, the first block runs, printing \"It's a hot day.\"\n"
   ]
  },
  {
   "cell_type": "code",
   "execution_count": 758,
   "id": "d91a1642-0c35-4362-ae79-e73475348a3b",
   "metadata": {},
   "outputs": [
    {
     "name": "stdout",
     "output_type": "stream",
     "text": [
      "It's a cool day.\n",
      "This will be printed\n"
     ]
    }
   ],
   "source": [
    "temperature = 30\n",
    "\n",
    "if temperature < 25:\n",
    "    \n",
    "    print(\"It's a hot day.\")\n",
    "else:\n",
    "    print(\"It's a cool day.\")\n",
    "print(\"This will be printed\")\n",
    "\n",
    "    "
   ]
  },
  {
   "cell_type": "code",
   "execution_count": 760,
   "id": "34678d45-14b6-4851-8d32-2ed53b4fbf8b",
   "metadata": {},
   "outputs": [
    {
     "name": "stdout",
     "output_type": "stream",
     "text": [
      "smaller\n"
     ]
    }
   ],
   "source": [
    "# If Else statement\n",
    "if 5<2:\n",
    "\tprint(\"Greater\")\n",
    "else:\n",
    "    print(\"smaller\")\n"
   ]
  },
  {
   "cell_type": "code",
   "execution_count": 762,
   "id": "3817899b-f2ce-444f-b9e4-aeae680f689d",
   "metadata": {},
   "outputs": [
    {
     "name": "stdout",
     "output_type": "stream",
     "text": [
      "smaller\n"
     ]
    }
   ],
   "source": [
    "#if Else                           this holds for any T\\F conditions\n",
    "if 5<4:                             #in any condition will get the output unlike\n",
    "    print (\"greater\")                #if statement where if condition is false nothing gets printed\n",
    "\n",
    "else:\n",
    "    print(\"smaller\")"
   ]
  },
  {
   "cell_type": "code",
   "execution_count": 764,
   "id": "632f8301-f2ef-4674-a9c7-8f6bb5204162",
   "metadata": {},
   "outputs": [
    {
     "name": "stdout",
     "output_type": "stream",
     "text": [
      "Smaller\n"
     ]
    }
   ],
   "source": [
    "# If Else statement\n",
    "if 5<2:\n",
    "\tprint(\"Greater\")\n",
    "else:\n",
    "\tprint(\"Smaller\")"
   ]
  },
  {
   "cell_type": "code",
   "execution_count": 766,
   "id": "7ae5df8f-7928-46f7-a381-edcf5408b02a",
   "metadata": {},
   "outputs": [
    {
     "name": "stdout",
     "output_type": "stream",
     "text": [
      "Smaller\n",
      "rest of the code\n"
     ]
    }
   ],
   "source": [
    "# If Else statement\n",
    "if 5<2:\n",
    "\tprint(\"Greater\")\n",
    "else:\n",
    "\tprint(\"Smaller\")\n",
    "print(\"rest of the code\")\n",
    "\n",
    "\n",
    "\n",
    "\n",
    "               #in any condition this gets printed"
   ]
  },
  {
   "cell_type": "code",
   "execution_count": 768,
   "id": "d91b5717-c113-4744-9f10-80c5069ab587",
   "metadata": {},
   "outputs": [
    {
     "name": "stdin",
     "output_type": "stream",
     "text": [
      "enter the number  1\n"
     ]
    }
   ],
   "source": [
    "# Write a program to chech if a number is odd or even \n",
    "\n",
    "num = int(input(\"enter the number \"))\n"
   ]
  },
  {
   "cell_type": "code",
   "execution_count": 770,
   "id": "bef1a2da-6cea-4df6-a8bd-88e3632f6435",
   "metadata": {},
   "outputs": [
    {
     "data": {
      "text/plain": [
       "False"
      ]
     },
     "execution_count": 770,
     "metadata": {},
     "output_type": "execute_result"
    }
   ],
   "source": [
    "num%2 == 0"
   ]
  },
  {
   "cell_type": "code",
   "execution_count": 772,
   "id": "7e04f1d6-40e4-4198-8043-805fd7f0a0b9",
   "metadata": {},
   "outputs": [
    {
     "name": "stdout",
     "output_type": "stream",
     "text": [
      "Number is odd\n"
     ]
    }
   ],
   "source": [
    "if num%2 == 0:\n",
    "    print(\"Number is even\")\n",
    "else:\n",
    "    print(\"Number is odd\")\n"
   ]
  },
  {
   "cell_type": "code",
   "execution_count": 774,
   "id": "c7b073f9-969a-4a18-980e-4a8126d8ea9d",
   "metadata": {},
   "outputs": [],
   "source": [
    "if num%2 == 0:\n",
    "    print(\"Number is even\")"
   ]
  },
  {
   "cell_type": "code",
   "execution_count": 780,
   "id": "7b6fe335-77a6-43f4-aa14-0cb7e8c687ce",
   "metadata": {},
   "outputs": [
    {
     "name": "stdin",
     "output_type": "stream",
     "text": [
      "enter the number  7\n"
     ]
    },
    {
     "name": "stdout",
     "output_type": "stream",
     "text": [
      "number is odd\n"
     ]
    }
   ],
   "source": [
    "num = int(input(\"enter the number \"))\n",
    "if num%2 == 0:\n",
    "    print(\"Number is even\")\n",
    "\n",
    "else :\n",
    "    print(\"number is odd\")"
   ]
  },
  {
   "cell_type": "code",
   "execution_count": 782,
   "id": "2027476f-e62c-4a1d-90fa-cffb39bec47f",
   "metadata": {},
   "outputs": [
    {
     "name": "stdin",
     "output_type": "stream",
     "text": [
      "Enter your age ? 4\n"
     ]
    },
    {
     "name": "stdout",
     "output_type": "stream",
     "text": [
      "Sorry! you have to wait !!\n"
     ]
    }
   ],
   "source": [
    "#Program to check whether a person is eligible to vote or not.\n",
    "age = int (input(\"Enter your age ?\"))\n",
    "if age >=18:\n",
    "    print(\"You are eligible to vote !!\")\n",
    "else:\n",
    "    print(\"Sorry! you have to wait !!\")"
   ]
  },
  {
   "cell_type": "markdown",
   "id": "7a278703-cb17-4551-93bb-6f0594c2f42b",
   "metadata": {},
   "source": [
    "# IF-ELIF"
   ]
  },
  {
   "cell_type": "markdown",
   "id": "69f99d01-23cd-48db-821b-cad0923c8502",
   "metadata": {},
   "source": [
    "### Example 3: `if` Statement with `elif` (Else If) Clauses\n",
    "```python\n",
    "marks = 75\n",
    "\n",
    "if marks >= 90:\n",
    "    print(\"Grade: A\")\n",
    "elif marks >= 80:\n",
    "    print(\"Grade: B\")\n",
    "elif marks >= 70:\n",
    "    print(\"Grade: C\")\n",
    "else:\n",
    "    print(\"Grade: D\")\n",
    "```\n",
    "- **Explanation:**\n",
    "  - The `elif` clause allows you to check multiple conditions sequentially.\n",
    "  - The first condition that is `True` will have its associated block of code executed, and the rest will be skipped.\n",
    "  - Here, since `marks` is 75, the condition `marks >= 70` is `True`, so \"Grade: C\" is printed.\n"
   ]
  },
  {
   "cell_type": "code",
   "execution_count": 786,
   "id": "857ceb36-275b-4003-a098-f2258a62fa2a",
   "metadata": {},
   "outputs": [
    {
     "name": "stdout",
     "output_type": "stream",
     "text": [
      "Grade: C\n"
     ]
    }
   ],
   "source": [
    "marks = 75\n",
    "\n",
    "if marks >= 90:\n",
    "    print(\"Grade: A\")\n",
    "elif marks >= 80:\n",
    "    print(\"Grade: B\")\n",
    "elif marks >= 70:\n",
    "    print(\"Grade: C\")\n",
    "else:\n",
    "    print(\"Grade: D\")"
   ]
  },
  {
   "cell_type": "code",
   "execution_count": 788,
   "id": "09b35cea-1aa3-4626-bb38-acd9a6c2401c",
   "metadata": {},
   "outputs": [
    {
     "name": "stdout",
     "output_type": "stream",
     "text": [
      "Grade: A\n",
      "Grade: C\n"
     ]
    }
   ],
   "source": [
    "marks = 75\n",
    "\n",
    "if marks >= 60:\n",
    "    print(\"Grade: A\")\n",
    "if marks >= 80:\n",
    "    print(\"Grade: B\")\n",
    "if marks >= 70:\n",
    "    print(\"Grade: C\")\n",
    "else:\n",
    "    print(\"Grade: D\")"
   ]
  },
  {
   "cell_type": "markdown",
   "id": "2da17554-dd44-4300-a62d-c4e82b74d18a",
   "metadata": {},
   "source": [
    "Here are examples for both multiple if statements and elif statements:\n",
    "\n",
    "# Multiple if statements\n",
    "Suppose we want to check if a student has passed in multiple subjects:\n",
    "\n",
    "\n",
    "maths_marks = 80\n",
    "science_marks = 70\n",
    "english_marks = 90\n",
    "\n",
    "if maths_marks >= 70:\n",
    "    print(\"Passed in Maths\")\n",
    "if science_marks >= 70:\n",
    "    print(\"Passed in Science\")\n",
    "if english_marks >= 70:\n",
    "    print(\"Passed in English\")\n",
    "\n",
    "\n",
    "In this case, the student has passed in all three subjects, so all three messages will be printed.\n",
    "\n",
    "# elif statements\n",
    "Suppose we want to check the age of a person and print out their life stage:\n",
    "\n",
    "\n",
    "age = 25\n",
    "\n",
    "if age < 13:\n",
    "    print(\"Child\")\n",
    "elif age < 20:\n",
    "    print(\"Teenager\")\n",
    "elif age < 60:\n",
    "    print(\"Adult\")\n",
    "else:\n",
    "    print(\"Senior Citizen\")\n",
    "\n",
    "\n",
    "In this case, the person's age is 25, so the message \"Adult\" will be printed. The elif statements are evaluated in order, and once a condition is found to be true, the rest of the elif statements are skipped."
   ]
  },
  {
   "cell_type": "code",
   "execution_count": 791,
   "id": "b163fee9-1714-4698-952c-e1af39099269",
   "metadata": {},
   "outputs": [
    {
     "name": "stdout",
     "output_type": "stream",
     "text": [
      "Passed in Maths\n",
      "Passed in Science\n",
      "Passed in English\n"
     ]
    }
   ],
   "source": [
    "maths_marks = 80\n",
    "science_marks = 70\n",
    "english_marks = 90\n",
    "\n",
    "if maths_marks >= 70:\n",
    "    print(\"Passed in Maths\")\n",
    "if science_marks >= 70:\n",
    "    print(\"Passed in Science\")\n",
    "if english_marks >= 70:\n",
    "    print(\"Passed in English\")\n"
   ]
  },
  {
   "cell_type": "code",
   "execution_count": 793,
   "id": "ac526c78-ca19-4e5e-af1e-bc3bd1665251",
   "metadata": {},
   "outputs": [
    {
     "name": "stdout",
     "output_type": "stream",
     "text": [
      "Passed in Maths\n"
     ]
    }
   ],
   "source": [
    "maths_marks = 80\n",
    "science_marks = 70\n",
    "english_marks = 90\n",
    "\n",
    "if maths_marks >= 70:\n",
    "    print(\"Passed in Maths\")\n",
    "elif science_marks >= 70:\n",
    "    print(\"Passed in Science\")\n",
    "elif english_marks >= 70:\n",
    "    print(\"Passed in English\")"
   ]
  },
  {
   "cell_type": "code",
   "execution_count": 795,
   "id": "83b41bdd-b6f4-4fde-bba3-759552e2e460",
   "metadata": {},
   "outputs": [
    {
     "name": "stdout",
     "output_type": "stream",
     "text": [
      "Child\n"
     ]
    }
   ],
   "source": [
    "age = 12\n",
    "\n",
    "if age < 13:\n",
    "    print(\"Child\")\n",
    "elif age < 20:\n",
    "    print(\"Teenager\")\n",
    "elif age < 60:\n",
    "    print(\"Adult\")\n",
    "else:\n",
    "    print(\"Senior Citizen\")"
   ]
  },
  {
   "cell_type": "code",
   "execution_count": 797,
   "id": "7f91b084-e43e-4516-9045-207e506e2e16",
   "metadata": {},
   "outputs": [
    {
     "name": "stdin",
     "output_type": "stream",
     "text": [
      "Enter first number:  1\n",
      "Enter second number:  2\n",
      "Enter third number:  3\n"
     ]
    },
    {
     "name": "stdout",
     "output_type": "stream",
     "text": [
      "Largest number is: 3\n"
     ]
    }
   ],
   "source": [
    "num1 = int(input(\"Enter first number: \"))\n",
    "num2 = int(input(\"Enter second number: \"))\n",
    "num3 = int(input(\"Enter third number: \"))\n",
    "\n",
    "if num1 >= num2 and num1 >= num3:\n",
    "    print(\"Largest number is:\", num1)\n",
    "if num2 >= num1 and num2 >= num3:\n",
    "    print(\"Largest number is:\", num2)\n",
    "if num3 >= num1 and num3 >= num2:\n",
    "    print(\"Largest number is:\", num3)"
   ]
  },
  {
   "cell_type": "code",
   "execution_count": 799,
   "id": "58d54703-ed15-481e-8e9e-0117c49a701f",
   "metadata": {},
   "outputs": [
    {
     "name": "stdout",
     "output_type": "stream",
     "text": [
      "today is tuesday\n",
      "this is out of the elif\n"
     ]
    }
   ],
   "source": [
    "#if any statement becomes true then it stops the execution and run that particular instance\n",
    "# If elif Statement\n",
    "day = \"tuesday\"\n",
    "if day ==\"monday\":           #this becomes false\n",
    "    print(\"today is monday\")\n",
    "elif day == \"tuesday\":\n",
    "    print (\"today is tuesday\")\n",
    "elif day == \"tuesday\":\n",
    "    print(\"today is wednesday\")\n",
    "\n",
    "\n",
    "print(\"this is out of the elif\")"
   ]
  },
  {
   "cell_type": "code",
   "execution_count": 801,
   "id": "f333d769-b745-4683-9968-34cdf5fa2a1d",
   "metadata": {},
   "outputs": [
    {
     "name": "stdout",
     "output_type": "stream",
     "text": [
      "today is tuesday\n"
     ]
    }
   ],
   "source": [
    "#if any statement becomes true then it stops the execution and run that particular instance\n",
    "# If elif Statement\n",
    "day = \"tuesday\"\n",
    "if day ==\"monday\":                 #this becomes falls\n",
    "    print(\"today is monday\")\n",
    "elif day == \"tuesday\":            #just look at this this became true hence it didnot check further\n",
    "    print (\"today is tuesday\")\n",
    "elif day == \"tuesday\":            #though this is true the pointer didnt come to this position\n",
    "    print(\"today is tuesday 2\")     #becuase the execution was stoppd"
   ]
  },
  {
   "cell_type": "code",
   "execution_count": 803,
   "id": "17de593e-3b10-4e18-8b29-e1d55a07b5f5",
   "metadata": {},
   "outputs": [
    {
     "name": "stdout",
     "output_type": "stream",
     "text": [
      "this is out of the elif\n"
     ]
    }
   ],
   "source": [
    " # If elif Statement\n",
    "day = \"tuesday\"\n",
    "if day ==\"monday\":                           #false\n",
    "    print(\"today is monday\")\n",
    "elif day == \"tuesda\":                        #false     #this becomes falls   Spelling mistake\n",
    "    print (\"today is tuesday\")\n",
    "elif day == \"wednesday\":\n",
    "    print(\"today is wednesday\")\n",
    "\n",
    "print(\"this is out of the elif\")             #false    #nothing was printed since there is no else statement"
   ]
  },
  {
   "cell_type": "code",
   "execution_count": 805,
   "id": "d6c78af7-79da-497f-9ea3-085fe1dd4a6e",
   "metadata": {},
   "outputs": [
    {
     "name": "stdout",
     "output_type": "stream",
     "text": [
      "today is tuesday\n"
     ]
    }
   ],
   "source": [
    " # If elif Statement\n",
    "day = \"tuesday\"\n",
    "if day ==\"monday\":\n",
    "    print(\"today is monday\")\n",
    "elif day == \"tuesday\":                       #spelling mistake\n",
    "    print (\"today is tuesday\")\n",
    "elif day == \"wednesday\":\n",
    "    print(\"today is wednesday\")\n",
    "\n",
    "\n",
    "\n",
    "else:\n",
    "    print(\"today is holiday\")"
   ]
  },
  {
   "cell_type": "markdown",
   "id": "3f256cc8-212a-4570-a3b7-01df13d6130b",
   "metadata": {},
   "source": [
    "# Nested If\n"
   ]
  },
  {
   "cell_type": "markdown",
   "id": "6bfc40a0-f448-4b80-b2c0-e0fec0d9c025",
   "metadata": {},
   "source": [
    "### Example 4: Nested `if` Statements\n",
    "```python\n",
    "number = 15\n",
    "\n",
    "if number > 0:\n",
    "    print(\"The number is positive.\")\n",
    "    if number % 2 == 0:\n",
    "        print(\"The number is even.\")\n",
    "    else:\n",
    "        print(\"The number is odd.\")\n",
    "else:\n",
    "    print(\"The number is negative or zero.\")\n",
    "```\n",
    "- **Explanation:**\n",
    "  - You can nest `if` statements inside other `if` statements to check for additional conditions.\n",
    "  - In this example, the outer `if` checks if `number` is positive. If true, it then checks if the number is even or odd."
   ]
  },
  {
   "cell_type": "code",
   "execution_count": 811,
   "id": "da77fad2-b611-434c-9edc-cb0e1b0f0a45",
   "metadata": {},
   "outputs": [],
   "source": [
    "number = 2"
   ]
  },
  {
   "cell_type": "code",
   "execution_count": 813,
   "id": "350c8780-3106-4eb1-938d-6498e0c259c3",
   "metadata": {},
   "outputs": [
    {
     "name": "stdout",
     "output_type": "stream",
     "text": [
      "The number is positive\n",
      "The number is even\n",
      "This will be printed anyhow\n"
     ]
    }
   ],
   "source": [
    "if number > 0 :\n",
    "    print(\"The number is positive\")\n",
    "    if number % 2 ==0 :\n",
    "        print(\"The number is even\")\n",
    "    else:\n",
    "        print(\"The number is odd\")\n",
    "else:\n",
    "    print(\"The number is negative\")\n",
    "\n",
    "\n",
    "\n",
    "\n",
    "\n",
    "print(\"This will be printed anyhow\")"
   ]
  },
  {
   "cell_type": "code",
   "execution_count": 815,
   "id": "3fa5a6e7-f2ce-4207-8b79-5d1b61f91db6",
   "metadata": {},
   "outputs": [
    {
     "name": "stdout",
     "output_type": "stream",
     "text": [
      "The number is negative or zero.\n"
     ]
    }
   ],
   "source": [
    "if number < 0:\n",
    "    print(\"The number is positive.\")\n",
    "    if number % 2 == 0:\n",
    "        print(\"The number is even.\")\n",
    "    else:\n",
    "        print(\"The number is odd.\")\n",
    "else:\n",
    "    print(\"The number is negative or zero.\")\n",
    "        \n",
    "        \n",
    "    "
   ]
  },
  {
   "cell_type": "code",
   "execution_count": 817,
   "id": "c68a853d-7012-4695-a8d5-f38bfe8ae3c8",
   "metadata": {},
   "outputs": [
    {
     "name": "stdout",
     "output_type": "stream",
     "text": [
      "The number is positive.\n",
      "The number is even.\n"
     ]
    }
   ],
   "source": [
    "\n",
    "\n",
    "if number > 0:\n",
    "    print(\"The number is positive.\")\n",
    "    if number % 2 == 0:\n",
    "        print(\"The number is even.\")\n",
    "    else:\n",
    "        print(\"The number is odd.\")\n",
    "else:\n",
    "    print(\"The number is negative or zero.\")\n"
   ]
  },
  {
   "cell_type": "code",
   "execution_count": 819,
   "id": "0d7642f3-192a-4a70-b197-56dc70c56664",
   "metadata": {},
   "outputs": [
    {
     "name": "stdout",
     "output_type": "stream",
     "text": [
      "The number is positive.\n",
      "The number is even.\n"
     ]
    }
   ],
   "source": [
    "\n",
    "\n",
    "if number > 0:\n",
    "    print(\"The number is positive.\")\n",
    "    if number % 2 == 0:\n",
    "        print(\"The number is even.\")\n",
    "    else:\n",
    "        print(\"The number is odd.\")\n",
    "else:\n",
    "    print(\"The number is negative or zero.\")\n"
   ]
  },
  {
   "cell_type": "code",
   "execution_count": 821,
   "id": "63d8fba2-7c84-4340-b944-cc1bff15ea45",
   "metadata": {},
   "outputs": [
    {
     "name": "stdout",
     "output_type": "stream",
     "text": [
      "Greater\n",
      "5 is greater than 2\n",
      "6 is Greater than 2\n",
      "hello\n"
     ]
    }
   ],
   "source": [
    "# Nested If Statement\n",
    "if 5>2:                               #true\n",
    "    print(\"Greater\")                  #wherever the condition becomes falls the execution of it stops\n",
    "    print(\"5 is greater than 2\")\n",
    "    if(6>2):\n",
    "        print(\"6 is Greater than 2\")\n",
    "        print(\"hello\")\n",
    "\n",
    "\n",
    "\n",
    "\n"
   ]
  },
  {
   "cell_type": "code",
   "execution_count": 823,
   "id": "653c7d7f-9624-483d-81f0-2158b92a76c0",
   "metadata": {},
   "outputs": [
    {
     "name": "stdout",
     "output_type": "stream",
     "text": [
      "greater\n",
      "biger\n",
      "highest\n",
      "rest of the code\n"
     ]
    }
   ],
   "source": [
    "#Nested IF\n",
    "if 5>2:                                   #true\n",
    "    print(\"greater\")\n",
    "    if 6>5:                              #true\n",
    "        print(\"biger\")\n",
    "        if 7>6:                          #true\n",
    "            print(\"highest\")\n",
    "print(\"rest of the code\")"
   ]
  },
  {
   "cell_type": "code",
   "execution_count": 825,
   "id": "89b4dd81-5653-45b9-abe4-480424641cf2",
   "metadata": {},
   "outputs": [
    {
     "name": "stdout",
     "output_type": "stream",
     "text": [
      "greater\n",
      "rest of the code\n"
     ]
    }
   ],
   "source": [
    "#Nested IF\n",
    "if 5>2:                           #true\n",
    "    print(\"greater\")\n",
    "    if 6<5:                       #false      UNDERSTAND THE MODE OF EXECUTION\n",
    "        print(\"biger\")\n",
    "        if 7>6:                  # #true\n",
    "            print(\"highest\")\n",
    "\n",
    "\n",
    "\n",
    "print(\"rest of the code\")"
   ]
  },
  {
   "cell_type": "code",
   "execution_count": 827,
   "id": "ca15dc48-078b-4ec8-b579-c78c33c0f993",
   "metadata": {},
   "outputs": [
    {
     "name": "stdout",
     "output_type": "stream",
     "text": [
      "greater\n",
      "biger\n"
     ]
    }
   ],
   "source": [
    "#Nested IF\n",
    "if 5>2:                                #true\n",
    "    print(\"greater\")\n",
    "    if 6>5:                            #true\n",
    "        print(\"biger\")\n",
    "        if 7<6:                        #Faslse\n",
    "            print(\"highest\")\n"
   ]
  },
  {
   "cell_type": "code",
   "execution_count": 829,
   "id": "23d61f1f-0586-4055-8435-f3c519dd7d2f",
   "metadata": {},
   "outputs": [
    {
     "name": "stdout",
     "output_type": "stream",
     "text": [
      "rest of the code\n"
     ]
    }
   ],
   "source": [
    "#Nested IF\n",
    "if 5<2:                          #false\n",
    "    print(\"greater\")\n",
    "    if 6>5:                      #true\n",
    "        print(\"biger\")\n",
    "        if 7>6:                  #true\n",
    "            print(\"highest\")\n",
    "print(\"rest of the code\")"
   ]
  },
  {
   "cell_type": "code",
   "execution_count": 831,
   "id": "6705620f-1eb0-47fc-aa9c-469b0821679d",
   "metadata": {},
   "outputs": [
    {
     "name": "stdout",
     "output_type": "stream",
     "text": [
      "greater\n",
      "biger\n",
      "highest\n",
      "rest of the code\n"
     ]
    }
   ],
   "source": [
    "#Nested IF\n",
    "if 5>2:                        #true\n",
    "    print(\"greater\")\n",
    "    if 6>5:                    #true\n",
    "        print(\"biger\")\n",
    "    if 7>6:                    #true\n",
    "        print(\"highest\")\n",
    "print(\"rest of the code\")"
   ]
  },
  {
   "cell_type": "code",
   "execution_count": 833,
   "id": "552bdfb2-378e-4051-b3b2-c9f30c553468",
   "metadata": {},
   "outputs": [
    {
     "name": "stdout",
     "output_type": "stream",
     "text": [
      "greater\n",
      "highest\n"
     ]
    }
   ],
   "source": [
    "#Nested IF\n",
    "if 5>2:                         #true\n",
    "    print(\"greater\")\n",
    "    if 6<5:                     #false\n",
    "        print(\"biger\")\n",
    "\n",
    "\n",
    "if 7>6:\n",
    "    print(\"highest\")                   #this is not in the nesting rather it is a new if\n",
    "\n"
   ]
  },
  {
   "cell_type": "code",
   "execution_count": 835,
   "id": "d89a2fde-44e7-4077-bb41-3053d8ebf39e",
   "metadata": {},
   "outputs": [
    {
     "name": "stdout",
     "output_type": "stream",
     "text": [
      "It's warm!\n"
     ]
    }
   ],
   "source": [
    "temperature = 15  # Example temperature\n",
    "\n",
    "if temperature < 0:\n",
    "    print(\"It's freezing!\")\n",
    "elif temperature < 10:\n",
    "    print(\"It's cold!\")\n",
    "elif temperature < 25:\n",
    "    print(\"It's warm!\")\n",
    "else:\n",
    "    print(\"It's hot!\")"
   ]
  },
  {
   "cell_type": "code",
   "execution_count": 837,
   "id": "d9a9e755-c1e4-4d96-9cbb-20b067123b39",
   "metadata": {},
   "outputs": [
    {
     "name": "stdin",
     "output_type": "stream",
     "text": [
      "enter the temparature 67\n"
     ]
    },
    {
     "name": "stdout",
     "output_type": "stream",
     "text": [
      "It's hot!\n"
     ]
    }
   ],
   "source": [
    "temperature = int(input(\"enter the temparature\"))\n",
    "\n",
    "if temperature < 0:\n",
    "    print(\"It's freezing!\")\n",
    "elif temperature < 10:\n",
    "    print(\"It's cold!\")\n",
    "elif temperature < 25:\n",
    "    print(\"It's warm!\")\n",
    "else:\n",
    "    print(\"It's hot!\")"
   ]
  },
  {
   "cell_type": "code",
   "execution_count": 839,
   "id": "3f7cd9cd-b28d-4447-bf0f-acfe64f47cea",
   "metadata": {},
   "outputs": [
    {
     "name": "stdout",
     "output_type": "stream",
     "text": [
      "Grade: B\n"
     ]
    }
   ],
   "source": [
    "score = 85  # Example score\n",
    "\n",
    "if score >= 90:\n",
    "    print(\"Grade: A\")\n",
    "elif score >= 80:\n",
    "    print(\"Grade: B\")\n",
    "elif score >= 70:\n",
    "    print(\"Grade: C\")\n",
    "elif score >= 60:\n",
    "    print(\"Grade: D\")\n",
    "else:\n",
    "    print(\"Grade: F\")"
   ]
  },
  {
   "cell_type": "code",
   "execution_count": 841,
   "id": "5959728b-a806-4bac-8587-1e4604972e79",
   "metadata": {},
   "outputs": [
    {
     "name": "stdout",
     "output_type": "stream",
     "text": [
      "Ticket Price: $20\n"
     ]
    }
   ],
   "source": [
    "age = 16  # Example age\n",
    "\n",
    "if age < 5:\n",
    "    print(\"Ticket Price: Free\")\n",
    "elif age < 13:\n",
    "    print(\"Ticket Price: $10\")\n",
    "elif age < 18:\n",
    "    print(\"Ticket Price: $20\")\n",
    "else:\n",
    "    print(\"Ticket Price: $25\")"
   ]
  },
  {
   "cell_type": "code",
   "execution_count": 843,
   "id": "c09dd43b-ff4a-4dcf-adc6-0aaab715529b",
   "metadata": {},
   "outputs": [
    {
     "name": "stdout",
     "output_type": "stream",
     "text": [
      "Moderate Password\n"
     ]
    }
   ],
   "source": [
    "password = \"pass123\"  # Example password\n",
    "\n",
    "if len(password) < 6:\n",
    "    print(\"Weak Password\")\n",
    "elif len(password) <= 8:\n",
    "    print(\"Moderate Password\")\n",
    "else:\n",
    "    print(\"Strong Password\")"
   ]
  },
  {
   "cell_type": "code",
   "execution_count": 845,
   "id": "279bc10c-1446-4bb1-a67c-bac8a1826761",
   "metadata": {},
   "outputs": [
    {
     "name": "stdout",
     "output_type": "stream",
     "text": [
      "You are eligible to apply for a driver's license.\n"
     ]
    }
   ],
   "source": [
    "age = 20  # Example age\n",
    "vision_test_passed = True  # Example test result\n",
    "\n",
    "if age >= 18 and vision_test_passed:\n",
    "    print(\"You are eligible to apply for a driver's license.\")\n",
    "else:\n",
    "    print(\"You are not eligible to apply for a driver's license.\")"
   ]
  },
  {
   "cell_type": "code",
   "execution_count": null,
   "id": "a000b4b7-bb57-484c-b2bc-b4387dfe1bb1",
   "metadata": {},
   "outputs": [],
   "source": []
  }
 ],
 "metadata": {
  "kernelspec": {
   "display_name": "Python 3 (ipykernel)",
   "language": "python",
   "name": "python3"
  },
  "language_info": {
   "codemirror_mode": {
    "name": "ipython",
    "version": 3
   },
   "file_extension": ".py",
   "mimetype": "text/x-python",
   "name": "python",
   "nbconvert_exporter": "python",
   "pygments_lexer": "ipython3",
   "version": "3.12.7"
  }
 },
 "nbformat": 4,
 "nbformat_minor": 5
}
