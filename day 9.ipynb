{
 "cells": [
  {
   "cell_type": "markdown",
   "id": "53e87c96-4512-4e04-b128-5e061d6def42",
   "metadata": {},
   "source": [
    "## Why use bitwise operator"
   ]
  },
  {
   "cell_type": "code",
   "execution_count": 7,
   "id": "b7a0cda8-4bd8-40e1-a1f1-098f4703c17c",
   "metadata": {},
   "outputs": [],
   "source": [
    "\n",
    "import numpy as np\n",
    "\n",
    "array1 = np.array([1, 2, 3])\n",
    "array2 = np.array([4, 5, 6])"
   ]
  },
  {
   "cell_type": "code",
   "execution_count": 9,
   "id": "4500d8bc-62b7-43c3-a011-3b2413589c3c",
   "metadata": {},
   "outputs": [
    {
     "name": "stdout",
     "output_type": "stream",
     "text": [
      "Addition: [5 7 9]\n"
     ]
    }
   ],
   "source": [
    "\n",
    "addition = array1 + array2\n",
    "print(\"Addition:\", addition)"
   ]
  },
  {
   "cell_type": "code",
   "execution_count": 11,
   "id": "0b9a84d3-1c47-4539-84c4-a9e86bfc4e16",
   "metadata": {},
   "outputs": [
    {
     "name": "stdout",
     "output_type": "stream",
     "text": [
      "Subtraction: [-3 -3 -3]\n"
     ]
    }
   ],
   "source": [
    "\n",
    "subtraction = array1 - array2\n",
    "print(\"Subtraction:\", subtraction)"
   ]
  },
  {
   "cell_type": "code",
   "execution_count": 13,
   "id": "a26451d8-ad9c-445d-98e9-66a376163f03",
   "metadata": {},
   "outputs": [
    {
     "name": "stdout",
     "output_type": "stream",
     "text": [
      "Multiplication: [ 4 10 18]\n"
     ]
    }
   ],
   "source": [
    "\n",
    "multiplication = array1 * array2\n",
    "print(\"Multiplication:\", multiplication)"
   ]
  },
  {
   "cell_type": "code",
   "execution_count": 15,
   "id": "7629774f-36ad-4c6e-8dd2-e8e91508850b",
   "metadata": {},
   "outputs": [
    {
     "name": "stdout",
     "output_type": "stream",
     "text": [
      "Division: [4.  2.5 2. ]\n"
     ]
    }
   ],
   "source": [
    "\n",
    "division = array2 / array1\n",
    "print(\"Division:\", division)"
   ]
  },
  {
   "cell_type": "code",
   "execution_count": 19,
   "id": "5e229af4-a7f4-43d1-bb0a-95092ba33ec5",
   "metadata": {},
   "outputs": [
    {
     "name": "stdout",
     "output_type": "stream",
     "text": [
      "Modulus: [0 1 0]\n"
     ]
    }
   ],
   "source": [
    "modulus = array2 % array1\n",
    "print(\"Modulus:\", modulus)\n"
   ]
  },
  {
   "cell_type": "markdown",
   "id": "d5a6ecba-cbeb-4a48-be3b-e0683d43916f",
   "metadata": {},
   "source": [
    "### **Logical Operators**"
   ]
  },
  {
   "cell_type": "code",
   "execution_count": 22,
   "id": "f8358f62-c9d3-4176-a151-fadedb0d7ff7",
   "metadata": {},
   "outputs": [],
   "source": [
    "\n",
    "array1 = np.array([True, False, True])\n",
    "array2 = np.array([False, True, True])"
   ]
  },
  {
   "cell_type": "code",
   "execution_count": 24,
   "id": "13cb264f-a98f-413e-891c-03cb8938967e",
   "metadata": {},
   "outputs": [
    {
     "name": "stdout",
     "output_type": "stream",
     "text": [
      "Logical AND: [False False  True]\n"
     ]
    }
   ],
   "source": [
    "\n",
    "logical_and = np.logical_and(array1, array2)\n",
    "print(\"Logical AND:\", logical_and)"
   ]
  },
  {
   "cell_type": "code",
   "execution_count": 26,
   "id": "e7158f60-4998-4d88-abe3-c60c261ed9aa",
   "metadata": {},
   "outputs": [
    {
     "name": "stdout",
     "output_type": "stream",
     "text": [
      "Logical NOT (array1): [False  True False]\n"
     ]
    }
   ],
   "source": [
    "\n",
    "logical_not = np.logical_not(array1)\n",
    "print(\"Logical NOT (array1):\", logical_not)"
   ]
  },
  {
   "cell_type": "markdown",
   "id": "21228327-1771-45a8-b7e8-86a71cd9a4a4",
   "metadata": {},
   "source": [
    "### **Relational Operators**"
   ]
  },
  {
   "cell_type": "code",
   "execution_count": 29,
   "id": "360f9048-9dcb-4a03-8c8f-788a1bc35772",
   "metadata": {},
   "outputs": [
    {
     "name": "stdout",
     "output_type": "stream",
     "text": [
      "Greater than 25: [False False  True  True  True]\n",
      "Less than or equal to 30: [ True  True  True False False]\n"
     ]
    }
   ],
   "source": [
    "\n",
    "array1 = np.array([10, 20, 30, 40, 50])\n",
    "\n",
    "# Greater than 25\n",
    "greater_than_25 = array1 > 25\n",
    "print(\"Greater than 25:\", greater_than_25)\n",
    "\n",
    "# Less than or equal to 30\n",
    "less_or_equal_30 = array1 <= 30\n",
    "print(\"Less than or equal to 30:\", less_or_equal_30)"
   ]
  },
  {
   "cell_type": "markdown",
   "id": "c7c25696-ecd2-4891-a0db-94cd959f499c",
   "metadata": {},
   "source": [
    "\n",
    "### **Comparison Operators**"
   ]
  },
  {
   "cell_type": "code",
   "execution_count": 32,
   "id": "5bb6dc2c-72c3-4ef6-9d83-9d0e8c5b1015",
   "metadata": {},
   "outputs": [],
   "source": [
    "\n",
    "array1 = np.array([5, 10, 15])\n",
    "array2 = np.array([5, 8, 15])"
   ]
  },
  {
   "cell_type": "code",
   "execution_count": 34,
   "id": "41626f26-27d2-4ae5-905d-12d47fee5872",
   "metadata": {},
   "outputs": [
    {
     "name": "stdout",
     "output_type": "stream",
     "text": [
      "Equality (==): [ True False  True]\n"
     ]
    }
   ],
   "source": [
    "\n",
    "equality = array1 == array2\n",
    "print(\"Equality (==):\", equality)"
   ]
  },
  {
   "cell_type": "code",
   "execution_count": 36,
   "id": "86054bde-888a-4c3f-b970-46dea62c38fa",
   "metadata": {},
   "outputs": [
    {
     "name": "stdout",
     "output_type": "stream",
     "text": [
      "Inequality (!=): [False  True False]\n"
     ]
    }
   ],
   "source": [
    "\n",
    "inequality = array1 != array2\n",
    "print(\"Inequality (!=):\", inequality)\n"
   ]
  },
  {
   "cell_type": "code",
   "execution_count": 38,
   "id": "3ca2194d-5753-4178-ac85-f6f46c2d5a5b",
   "metadata": {},
   "outputs": [
    {
     "name": "stdout",
     "output_type": "stream",
     "text": [
      "Greater than (>): [False  True False]\n"
     ]
    }
   ],
   "source": [
    "\n",
    "greater_than = array1 > array2\n",
    "print(\"Greater than (>):\", greater_than)"
   ]
  },
  {
   "cell_type": "code",
   "execution_count": 42,
   "id": "c7aed458-18cb-477a-a728-4918fb01524a",
   "metadata": {},
   "outputs": [
    {
     "name": "stdout",
     "output_type": "stream",
     "text": [
      "Less than (<): [False False False]\n"
     ]
    }
   ],
   "source": [
    "\n",
    "less_than = array1 < array2\n",
    "print(\"Less than (<):\", less_than)\n"
   ]
  },
  {
   "cell_type": "markdown",
   "id": "183a7f0c-12dc-4c68-af64-56f35681c86a",
   "metadata": {},
   "source": [
    "### **Membership Operators**"
   ]
  },
  {
   "cell_type": "code",
   "execution_count": 45,
   "id": "8d35a9fc-5a8b-4513-b784-1f8dfade232f",
   "metadata": {},
   "outputs": [],
   "source": [
    "\n",
    "array1 = np.array([5, 10, 15, 20])"
   ]
  },
  {
   "cell_type": "code",
   "execution_count": 47,
   "id": "fa387bf5-bf47-403e-bb46-46de8da77042",
   "metadata": {},
   "outputs": [
    {
     "name": "stdout",
     "output_type": "stream",
     "text": [
      "Is 15 in array1? True\n"
     ]
    }
   ],
   "source": [
    "\n",
    "is_15_in_array = 15 in array1\n",
    "print(\"Is 15 in array1?\", is_15_in_array)"
   ]
  },
  {
   "cell_type": "code",
   "execution_count": 49,
   "id": "c7ff6e55-73b0-45d3-8e43-48101eae6c38",
   "metadata": {},
   "outputs": [
    {
     "name": "stdout",
     "output_type": "stream",
     "text": [
      "Is 25 not in array1? True\n"
     ]
    }
   ],
   "source": [
    "\n",
    "is_25_not_in_array = 25 not in array1\n",
    "print(\"Is 25 not in array1?\", is_25_not_in_array)"
   ]
  },
  {
   "cell_type": "markdown",
   "id": "01907db7-c4c1-4895-88e6-14035ebd4d53",
   "metadata": {},
   "source": [
    "\n",
    "\n",
    "### **Bitwise Operators**"
   ]
  },
  {
   "cell_type": "code",
   "execution_count": 52,
   "id": "17bb6e4b-3dad-4644-aee5-8bf09f3fda28",
   "metadata": {},
   "outputs": [],
   "source": [
    "\n",
    "import numpy as np"
   ]
  },
  {
   "cell_type": "code",
   "execution_count": 54,
   "id": "cac86174-0588-43ab-ab25-92bd11204f41",
   "metadata": {},
   "outputs": [],
   "source": [
    "\n",
    "array1 = np.array([1, 2, 3])\n",
    "array2 = np.array([4, 5, 6])"
   ]
  },
  {
   "cell_type": "code",
   "execution_count": 56,
   "id": "cd6d3b4b-b6e4-410d-9dcc-18e2d514cbc0",
   "metadata": {},
   "outputs": [
    {
     "name": "stdout",
     "output_type": "stream",
     "text": [
      "Bitwise AND: [0 0 2]\n"
     ]
    }
   ],
   "source": [
    "\n",
    "bitwise_and = np.bitwise_and(array1, array2)\n",
    "print(\"Bitwise AND:\", bitwise_and)"
   ]
  },
  {
   "cell_type": "code",
   "execution_count": 58,
   "id": "e506ba27-ad80-4c8d-8a35-757c82d27114",
   "metadata": {},
   "outputs": [
    {
     "name": "stdout",
     "output_type": "stream",
     "text": [
      "Bitwise OR: [5 7 7]\n"
     ]
    }
   ],
   "source": [
    "\n",
    "bitwise_or = np.bitwise_or(array1, array2)\n",
    "print(\"Bitwise OR:\", bitwise_or)\n"
   ]
  },
  {
   "cell_type": "code",
   "execution_count": 60,
   "id": "8984dce0-0d6e-4e64-9a88-073472cc7fee",
   "metadata": {},
   "outputs": [
    {
     "name": "stdout",
     "output_type": "stream",
     "text": [
      "Bitwise XOR: [5 7 5]\n"
     ]
    }
   ],
   "source": [
    "\n",
    "bitwise_xor = np.bitwise_xor(array1, array2)\n",
    "print(\"Bitwise XOR:\", bitwise_xor)"
   ]
  },
  {
   "cell_type": "code",
   "execution_count": 62,
   "id": "bb34a093-e6d4-472e-8148-d85f43e63151",
   "metadata": {},
   "outputs": [
    {
     "name": "stdout",
     "output_type": "stream",
     "text": [
      "Bitwise NOT (array1): [-2 -3 -4]\n"
     ]
    }
   ],
   "source": [
    "\n",
    "bitwise_not = np.bitwise_not(array1)\n",
    "print(\"Bitwise NOT (array1):\", bitwise_not)"
   ]
  },
  {
   "cell_type": "code",
   "execution_count": null,
   "id": "da9ad484-9e0a-41cd-aa19-81903f497607",
   "metadata": {},
   "outputs": [],
   "source": []
  }
 ],
 "metadata": {
  "kernelspec": {
   "display_name": "Python 3 (ipykernel)",
   "language": "python",
   "name": "python3"
  },
  "language_info": {
   "codemirror_mode": {
    "name": "ipython",
    "version": 3
   },
   "file_extension": ".py",
   "mimetype": "text/x-python",
   "name": "python",
   "nbconvert_exporter": "python",
   "pygments_lexer": "ipython3",
   "version": "3.12.7"
  }
 },
 "nbformat": 4,
 "nbformat_minor": 5
}
