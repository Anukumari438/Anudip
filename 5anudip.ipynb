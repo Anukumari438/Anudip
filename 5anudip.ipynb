{
 "cells": [
  {
   "cell_type": "markdown",
   "id": "e6bb8907-d99a-4d60-9757-c8ebe846ba4b",
   "metadata": {},
   "source": [
    "## Different Types of Arguments \n",
    "### 1 Default Arguments\n",
    "in Python allow you to specify a default value for one or more parameters in a function. This means that if the function is called without providing a value for a parameter with a default, the function will use the default value.\n",
    "\n",
    "* key charastristics\n",
    "   * position in parameters\n",
    "   * flexibility\n",
    "   * evaluation\n"
   ]
  },
  {
   "cell_type": "code",
   "execution_count": 4,
   "id": "7f296ee6-08e4-4476-9119-b8e55e93e2b5",
   "metadata": {},
   "outputs": [],
   "source": [
    "def func(age,name = \"Alice\"):\n",
    "    print(f\"my name is {name} and the age is {age}\")"
   ]
  },
  {
   "cell_type": "code",
   "execution_count": 6,
   "id": "3632e02f-d074-4cd5-97ea-42708d780e49",
   "metadata": {},
   "outputs": [
    {
     "name": "stdout",
     "output_type": "stream",
     "text": [
      "my name is Alice and the age is 30\n"
     ]
    }
   ],
   "source": [
    "func(30)"
   ]
  },
  {
   "cell_type": "code",
   "execution_count": 8,
   "id": "dc6f2e11-75c4-4aba-b3fc-6b61799cb0ef",
   "metadata": {},
   "outputs": [
    {
     "name": "stdout",
     "output_type": "stream",
     "text": [
      "my name is Raj and the age is 50\n"
     ]
    }
   ],
   "source": [
    "func(50,\"Raj\")"
   ]
  },
  {
   "cell_type": "code",
   "execution_count": 10,
   "id": "ccccc69c-3c76-446a-9f06-fcea2baf1473",
   "metadata": {},
   "outputs": [],
   "source": [
    "def func9(a= 10,b= 20):\n",
    "    print(a,b)"
   ]
  },
  {
   "cell_type": "code",
   "execution_count": 12,
   "id": "6ef4e30f-9b28-4eb1-9660-f735277acb92",
   "metadata": {},
   "outputs": [
    {
     "name": "stdout",
     "output_type": "stream",
     "text": [
      "10 20\n"
     ]
    }
   ],
   "source": [
    "func9()"
   ]
  },
  {
   "cell_type": "code",
   "execution_count": 14,
   "id": "17d61665-35a2-46f5-a962-f87534de02bd",
   "metadata": {},
   "outputs": [
    {
     "name": "stdout",
     "output_type": "stream",
     "text": [
      "80 90\n"
     ]
    }
   ],
   "source": [
    "func9(80,90)"
   ]
  },
  {
   "cell_type": "code",
   "execution_count": 16,
   "id": "91de409f-dd31-4aa0-a5d9-b6b45624bd8f",
   "metadata": {},
   "outputs": [
    {
     "name": "stdout",
     "output_type": "stream",
     "text": [
      "Hello, Guest!\n",
      "Hello, Alice!\n"
     ]
    }
   ],
   "source": [
    "def greet(name=\"Guest\"):\n",
    "    print(f\"Hello, {name}!\")\n",
    "\n",
    "# Function calls\n",
    "greet()              # Output: Hello, Guest!\n",
    "greet(\"Alice\")       # Output: Hello, Alice!\n"
   ]
  },
  {
   "cell_type": "code",
   "execution_count": 18,
   "id": "8753a296-7236-4ee1-98ed-6e3eabcb37a2",
   "metadata": {},
   "outputs": [
    {
     "name": "stdout",
     "output_type": "stream",
     "text": [
      "10 500\n"
     ]
    }
   ],
   "source": [
    "def func10(a,b=100):\n",
    "    print(a,b)\n",
    "func10(10,500)"
   ]
  },
  {
   "cell_type": "code",
   "execution_count": 20,
   "id": "cd21d977-cbcd-40bf-b9e1-4a5300a09e30",
   "metadata": {},
   "outputs": [
    {
     "ename": "SyntaxError",
     "evalue": "parameter without a default follows parameter with a default (420017452.py, line 1)",
     "output_type": "error",
     "traceback": [
      "\u001b[1;36m  Cell \u001b[1;32mIn[20], line 1\u001b[1;36m\u001b[0m\n\u001b[1;33m    def example(a = 20, b):\u001b[0m\n\u001b[1;37m                        ^\u001b[0m\n\u001b[1;31mSyntaxError\u001b[0m\u001b[1;31m:\u001b[0m parameter without a default follows parameter with a default\n"
     ]
    }
   ],
   "source": [
    "def example(a = 20, b):\n",
    "    print(a, b)"
   ]
  },
  {
   "cell_type": "code",
   "execution_count": 22,
   "id": "fe38fbd5-a880-4e60-ab87-a4bbcb40cb54",
   "metadata": {},
   "outputs": [
    {
     "name": "stdout",
     "output_type": "stream",
     "text": [
      "My name is John and I am 30 years old.\n"
     ]
    }
   ],
   "source": [
    "def introduction(name, age=30):\n",
    "    print(f\"My name is {name} and I am {age} years old.\")\n",
    "\n",
    "introduction(\"John\")   "
   ]
  },
  {
   "cell_type": "code",
   "execution_count": 24,
   "id": "b4651e28-d1e4-4181-9f6a-741a7169a210",
   "metadata": {},
   "outputs": [
    {
     "name": "stdout",
     "output_type": "stream",
     "text": [
      "My name is Alice and I am 25 years old.\n"
     ]
    }
   ],
   "source": [
    "introduction(\"Alice\", 25) "
   ]
  },
  {
   "cell_type": "code",
   "execution_count": 26,
   "id": "d097cb5a-4234-420c-aed1-203f3d3bf75a",
   "metadata": {},
   "outputs": [
    {
     "data": {
      "text/plain": [
       "5"
      ]
     },
     "execution_count": 26,
     "metadata": {},
     "output_type": "execute_result"
    }
   ],
   "source": [
    "def calculate_area(width, length=1):\n",
    "    return width * length\n",
    "\n",
    "# Function calls\n",
    "calculate_area(5)"
   ]
  },
  {
   "cell_type": "code",
   "execution_count": 28,
   "id": "f6fc8f54-f34e-4e01-a2b0-ea016c73023e",
   "metadata": {},
   "outputs": [
    {
     "data": {
      "text/plain": [
       "20"
      ]
     },
     "execution_count": 28,
     "metadata": {},
     "output_type": "execute_result"
    }
   ],
   "source": [
    "calculate_area(5, 4)  # Output: 20"
   ]
  },
  {
   "cell_type": "code",
   "execution_count": 30,
   "id": "0aa3e3cb-1321-4a5b-b796-a329dfeafb62",
   "metadata": {},
   "outputs": [
    {
     "ename": "SyntaxError",
     "evalue": "expected ':' (1893963082.py, line 1)",
     "output_type": "error",
     "traceback": [
      "\u001b[1;36m  Cell \u001b[1;32mIn[30], line 1\u001b[1;36m\u001b[0m\n\u001b[1;33m    def func (a,b)\u001b[0m\n\u001b[1;37m                  ^\u001b[0m\n\u001b[1;31mSyntaxError\u001b[0m\u001b[1;31m:\u001b[0m expected ':'\n"
     ]
    }
   ],
   "source": [
    "def func (a,b)"
   ]
  },
  {
   "cell_type": "code",
   "execution_count": 32,
   "id": "c6b120e9-4e7f-4057-a2ff-a24da3cc0473",
   "metadata": {},
   "outputs": [
    {
     "name": "stdout",
     "output_type": "stream",
     "text": [
      "Hello, Guest! Welcome to Python!\n",
      "Hello, Alice! Welcome to Python!\n"
     ]
    }
   ],
   "source": [
    "\n",
    "def greet(name=\"Guest\"):\n",
    "    print(f\"Hello, {name}! Welcome to Python!\")\n",
    "\n",
    "# Usage:\n",
    "greet()  # Output: Hello, Guest! Welcome to Python!\n",
    "greet(\"Alice\")  # Output: Hello, Alice! Welcome to Python!"
   ]
  },
  {
   "cell_type": "markdown",
   "id": "02052cca-0d02-4259-903c-8775673cc8d1",
   "metadata": {},
   "source": [
    "\n",
    "### 2. **Calculate the Area of a Rectangle**"
   ]
  },
  {
   "cell_type": "code",
   "execution_count": 35,
   "id": "187f12c3-4b69-45ab-bc30-f1677169a600",
   "metadata": {},
   "outputs": [
    {
     "name": "stdout",
     "output_type": "stream",
     "text": [
      "1\n",
      "5\n",
      "15\n"
     ]
    }
   ],
   "source": [
    "\n",
    "def rectangle_area(length=1, breadth=1):\n",
    "    return length * breadth\n",
    "\n",
    "# Usage:\n",
    "print(rectangle_area())  # Output: 1\n",
    "print(rectangle_area(5))  # Output: 5\n",
    "print(rectangle_area(5, 3))  # Output: 15"
   ]
  },
  {
   "cell_type": "markdown",
   "id": "e85cbb49-6f1c-493d-b75d-0e80e7e0cca4",
   "metadata": {},
   "source": [
    "\n",
    "### 3. **Display a Multiplication Table**"
   ]
  },
  {
   "cell_type": "code",
   "execution_count": 38,
   "id": "6e3ed2b5-c6b8-4840-a21d-0c96fcc1ae91",
   "metadata": {},
   "outputs": [
    {
     "name": "stdout",
     "output_type": "stream",
     "text": [
      "2 x 1 = 2\n",
      "2 x 2 = 4\n",
      "2 x 3 = 6\n",
      "2 x 4 = 8\n",
      "2 x 5 = 10\n",
      "2 x 6 = 12\n",
      "2 x 7 = 14\n",
      "2 x 8 = 16\n",
      "2 x 9 = 18\n",
      "2 x 10 = 20\n",
      "5 x 1 = 5\n",
      "5 x 2 = 10\n",
      "5 x 3 = 15\n",
      "5 x 4 = 20\n",
      "5 x 5 = 25\n",
      "5 x 6 = 30\n",
      "5 x 7 = 35\n",
      "5 x 8 = 40\n",
      "5 x 9 = 45\n",
      "5 x 10 = 50\n"
     ]
    }
   ],
   "source": [
    "\n",
    "def multiplication_table(number=2):\n",
    "    for i in range(1, 11):\n",
    "        print(f\"{number} x {i} = {number * i}\")\n",
    "\n",
    "# Usage:\n",
    "multiplication_table()  # Prints the table for 2\n",
    "multiplication_table(5)  # Prints the table for 5"
   ]
  },
  {
   "cell_type": "markdown",
   "id": "3bae7ffa-3fa5-4020-9845-27e2ff051f53",
   "metadata": {},
   "source": [
    "\n",
    "### 4. **Simple Interest Calculator**"
   ]
  },
  {
   "cell_type": "code",
   "execution_count": 41,
   "id": "c03896ef-6247-4906-8ac9-3fc38a159347",
   "metadata": {},
   "outputs": [
    {
     "name": "stdout",
     "output_type": "stream",
     "text": [
      "100.0\n",
      "200.0\n"
     ]
    }
   ],
   "source": [
    "\n",
    "def calculate_simple_interest(principal, time, rate=5):\n",
    "    return (principal * rate * time) / 100\n",
    "\n",
    "# Usage:\n",
    "print(calculate_simple_interest(1000, 2))  # Output: 100.0 (default rate of 5%)\n",
    "print(calculate_simple_interest(1000, 2, 10))  # Output: 200.0 (rate provided as 10%)"
   ]
  },
  {
   "cell_type": "markdown",
   "id": "a504ed89-b58b-4ff9-875b-0d84ff657949",
   "metadata": {},
   "source": [
    "\n",
    "### 5. **Convert Temperature**"
   ]
  },
  {
   "cell_type": "code",
   "execution_count": 44,
   "id": "3370ef51-3521-418e-9987-00bf98d81c23",
   "metadata": {},
   "outputs": [
    {
     "name": "stdout",
     "output_type": "stream",
     "text": [
      "32.0\n",
      "77.0\n"
     ]
    }
   ],
   "source": [
    "\n",
    "def celsius_to_fahrenheit(celsius=0):\n",
    "    return (celsius * 9/5) + 32\n",
    "\n",
    "# Usage:\n",
    "print(celsius_to_fahrenheit())  # Output: 32.0 (default 0°C)\n",
    "print(celsius_to_fahrenheit(25))  # Output: 77.0"
   ]
  },
  {
   "cell_type": "markdown",
   "id": "da1ba0ba-49fd-4614-90d6-772aef441a75",
   "metadata": {},
   "source": [
    "### 2 Positional arguments\n",
    "are arguments passed to a function in the order in which they are defined in the function's signature. When calling a function, the values provided as arguments are assigned to the corresponding parameters based on their position in the function definition."
   ]
  },
  {
   "cell_type": "code",
   "execution_count": 49,
   "id": "48b70524-6259-45b5-aab7-c4a20a6f516b",
   "metadata": {},
   "outputs": [],
   "source": [
    "def func4(name,age):\n",
    "    print(f\" Hello my name is {name} my age is {age}\")"
   ]
  },
  {
   "cell_type": "code",
   "execution_count": 51,
   "id": "d15bb6b7-cb94-454d-aa10-1c0799964d55",
   "metadata": {},
   "outputs": [
    {
     "name": "stdout",
     "output_type": "stream",
     "text": [
      " Hello my name is raj my age is 30\n"
     ]
    }
   ],
   "source": [
    "func4(\"raj\",30)"
   ]
  },
  {
   "cell_type": "code",
   "execution_count": 53,
   "id": "e041cb44-aee8-47a0-a3e7-fb4bfeaf16d3",
   "metadata": {},
   "outputs": [
    {
     "name": "stdout",
     "output_type": "stream",
     "text": [
      " Hello my name is 30 my age is TAJ\n"
     ]
    }
   ],
   "source": [
    "func4(30,\"TAJ\")"
   ]
  },
  {
   "cell_type": "code",
   "execution_count": 55,
   "id": "14c6382b-25f9-4e8a-a15f-6a11066625e3",
   "metadata": {},
   "outputs": [
    {
     "name": "stdout",
     "output_type": "stream",
     "text": [
      "Hello, my name is Alice and I am 25 years old.\n"
     ]
    }
   ],
   "source": [
    "def greet(name, age):\n",
    "    print(f\"Hello, my name is {name} and I am {age} years old.\")\n",
    "\n",
    "# Function call using positional arguments\n",
    "greet(\"Alice\", 25)  # Output: Hello, my name is Alice and I am 25 years old."
   ]
  },
  {
   "cell_type": "code",
   "execution_count": 57,
   "id": "7c2dc97e-ab49-4d9f-88a2-0e1d95d8f8ed",
   "metadata": {},
   "outputs": [],
   "source": [
    "def addition(a,b,c,d):\n",
    "    e =a+b+c+d\n",
    "    print(e)"
   ]
  },
  {
   "cell_type": "code",
   "execution_count": 59,
   "id": "af188178-121f-424d-884b-9742b25593e0",
   "metadata": {},
   "outputs": [
    {
     "name": "stdout",
     "output_type": "stream",
     "text": [
      "100\n"
     ]
    }
   ],
   "source": [
    "addition(10,20,30,40)"
   ]
  },
  {
   "cell_type": "code",
   "execution_count": 61,
   "id": "a76ef1d0-7b9e-4d2e-8149-3344feb9ef65",
   "metadata": {},
   "outputs": [],
   "source": [
    "def subt(a,b,c,d):\n",
    "    e =a -b -c-d\n",
    "    print(e)"
   ]
  },
  {
   "cell_type": "code",
   "execution_count": 63,
   "id": "bfca77d5-ca80-4f13-82c1-779a567da3db",
   "metadata": {},
   "outputs": [
    {
     "name": "stdout",
     "output_type": "stream",
     "text": [
      "-80\n"
     ]
    }
   ],
   "source": [
    "subt(10,20,30,40)"
   ]
  },
  {
   "cell_type": "code",
   "execution_count": 65,
   "id": "68f5a94c-84ee-4a27-83fe-b10788803990",
   "metadata": {},
   "outputs": [],
   "source": [
    "\n",
    "def add(a, b, c):\n",
    "    return a + b + c\n",
    "\n",
    "# Function call using positional arguments\n",
    "result = add(2, 3, 4)  # Output: 9"
   ]
  },
  {
   "cell_type": "code",
   "execution_count": 67,
   "id": "c6a7286a-63e7-4b14-95e4-5f393350893c",
   "metadata": {},
   "outputs": [
    {
     "data": {
      "text/plain": [
       "9"
      ]
     },
     "execution_count": 67,
     "metadata": {},
     "output_type": "execute_result"
    }
   ],
   "source": [
    "result\n"
   ]
  },
  {
   "cell_type": "code",
   "execution_count": 69,
   "id": "28328e71-7afa-4225-b365-134278f72931",
   "metadata": {},
   "outputs": [],
   "source": [
    "def calculate_area(length, width):\n",
    "    return length * width\n",
    "\n",
    "# Correct positional arguments\n",
    "area = calculate_area(10, 5)   # Output: 50"
   ]
  },
  {
   "cell_type": "code",
   "execution_count": 71,
   "id": "d8f0864e-7f54-40e8-b964-4cafb72e5a5b",
   "metadata": {},
   "outputs": [
    {
     "data": {
      "text/plain": [
       "50"
      ]
     },
     "execution_count": 71,
     "metadata": {},
     "output_type": "execute_result"
    }
   ],
   "source": [
    "area\n"
   ]
  },
  {
   "cell_type": "code",
   "execution_count": 73,
   "id": "cff190a9-3553-461a-944a-251e7dd8bf1f",
   "metadata": {},
   "outputs": [
    {
     "name": "stdout",
     "output_type": "stream",
     "text": [
      "10\n"
     ]
    }
   ],
   "source": [
    "def func5(a,b,c):\n",
    "    print(a)\n",
    "func5(10,20,30)"
   ]
  },
  {
   "cell_type": "code",
   "execution_count": 75,
   "id": "c01057f4-de01-4fcd-84e9-26db19521ae7",
   "metadata": {},
   "outputs": [
    {
     "name": "stdout",
     "output_type": "stream",
     "text": [
      "1 2\n"
     ]
    }
   ],
   "source": [
    "def func(a, b):\n",
    "    print(a, b)\n",
    "\n",
    "func(1, 2)  # Valid"
   ]
  },
  {
   "cell_type": "code",
   "execution_count": 77,
   "id": "933ca4de-6ae1-4f74-b198-83a1bc6e721e",
   "metadata": {},
   "outputs": [
    {
     "name": "stdout",
     "output_type": "stream",
     "text": [
      "Name: Alice, Age: 25\n"
     ]
    }
   ],
   "source": [
    "def display_info(name, age):\n",
    "    print(f\"Name: {name}, Age: {age}\")\n",
    "\n",
    "# Combining positional and keyword arguments\n",
    "display_info(\"Alice\", age=25)  # Output: Name: Alice, Age: 25"
   ]
  },
  {
   "cell_type": "code",
   "execution_count": 79,
   "id": "d7c95b19-a980-4904-ab89-3d64096e3fd8",
   "metadata": {},
   "outputs": [],
   "source": [
    "def func(a,b,c):\n",
    "    print(a,b,c)\n",
    "    "
   ]
  },
  {
   "cell_type": "code",
   "execution_count": 81,
   "id": "8a6755f3-90fc-446f-a317-48015b39440c",
   "metadata": {},
   "outputs": [
    {
     "name": "stdout",
     "output_type": "stream",
     "text": [
      "10 20 30\n"
     ]
    }
   ],
   "source": [
    "func(a = 10,b= 20,c =30)"
   ]
  },
  {
   "cell_type": "code",
   "execution_count": 83,
   "id": "7e5890f9-b385-477c-bd2a-09e932fabb7d",
   "metadata": {},
   "outputs": [
    {
     "name": "stdout",
     "output_type": "stream",
     "text": [
      "20 10 30\n"
     ]
    }
   ],
   "source": [
    "func(b = 10,a= 20,c =30)"
   ]
  },
  {
   "cell_type": "markdown",
   "id": "054c7194-8567-4f4f-948e-780fb79d3092",
   "metadata": {},
   "source": [
    "### 3 Keyword arguments\n",
    "also known as named arguments, allow you to pass arguments to a function by explicitly associating each value with a parameter by name, rather than relying on their position. This makes the function call more readable and allows flexibility in the order of arguments.\n"
   ]
  },
  {
   "cell_type": "code",
   "execution_count": 87,
   "id": "2063bbec-ca22-4e8b-8805-5a869df9dbfe",
   "metadata": {},
   "outputs": [
    {
     "name": "stdout",
     "output_type": "stream",
     "text": [
      "36\n"
     ]
    }
   ],
   "source": [
    "def func(a= 10):\n",
    "    print(a)\n",
    "func(a= 36)"
   ]
  },
  {
   "cell_type": "code",
   "execution_count": 89,
   "id": "4eaa5f18-ed95-427e-935c-1b984f37a77c",
   "metadata": {},
   "outputs": [],
   "source": [
    "def func6(name,age,gender):\n",
    "    print(f\"hello my name is {name} my age is {age} my gender is {gender}\")"
   ]
  },
  {
   "cell_type": "code",
   "execution_count": 91,
   "id": "7f8dd12b-1041-480a-8054-892f5a6e331c",
   "metadata": {},
   "outputs": [
    {
     "name": "stdout",
     "output_type": "stream",
     "text": [
      "hello my name is raj my age is 30 my gender is male\n"
     ]
    }
   ],
   "source": [
    "func6(name = \"raj\",age = 30,gender = \"male\")"
   ]
  },
  {
   "cell_type": "code",
   "execution_count": 93,
   "id": "d40f9fd5-ec30-48b1-a18f-27fbefe4e0b7",
   "metadata": {},
   "outputs": [
    {
     "name": "stdout",
     "output_type": "stream",
     "text": [
      "hello my name is raj my age is 30 my gender is male\n"
     ]
    }
   ],
   "source": [
    "func6(\"raj\",30,\"male\")"
   ]
  },
  {
   "cell_type": "code",
   "execution_count": 95,
   "id": "e2bfbe1e-662a-4b1d-996e-543a6d6a7778",
   "metadata": {},
   "outputs": [
    {
     "name": "stdout",
     "output_type": "stream",
     "text": [
      "hello my name is pooja my age is 25 my gender is female\n"
     ]
    }
   ],
   "source": [
    "func6(gender = \"female\",name = \"pooja\",age = 25)"
   ]
  },
  {
   "cell_type": "code",
   "execution_count": 97,
   "id": "66547b93-826e-4c20-a992-9f0c1eefbe98",
   "metadata": {},
   "outputs": [],
   "source": [
    "def func7(a,b,c,d):\n",
    "    print(a,b,c,d)"
   ]
  },
  {
   "cell_type": "code",
   "execution_count": 99,
   "id": "da39dc5a-9a01-465b-a8db-23caa86312cf",
   "metadata": {},
   "outputs": [
    {
     "name": "stdout",
     "output_type": "stream",
     "text": [
      "10 20 80 90\n"
     ]
    }
   ],
   "source": [
    "func7(10,20,d=90,c= 80)"
   ]
  },
  {
   "cell_type": "code",
   "execution_count": 101,
   "id": "c0f37d13-2371-4c35-8481-d3cc35c2d55f",
   "metadata": {},
   "outputs": [
    {
     "name": "stdout",
     "output_type": "stream",
     "text": [
      "Hello, Alice!\n"
     ]
    }
   ],
   "source": [
    "def greet(name, message):\n",
    "    print(f\"{message}, {name}!\")\n",
    "\n",
    "# Function call with keyword arguments\n",
    "greet(name=\"Alice\", message=\"Hello\")  # Output: Hello, Alice!\n"
   ]
  },
  {
   "cell_type": "code",
   "execution_count": 103,
   "id": "4bf717c7-d315-488f-b52b-85d1178ee5ae",
   "metadata": {},
   "outputs": [
    {
     "name": "stdout",
     "output_type": "stream",
     "text": [
      "Name: Alice, Age: 25, City: New York\n"
     ]
    }
   ],
   "source": [
    "def display_info(name, age, city):\n",
    "    print(f\"Name: {name}, Age: {age}, City: {city}\")\n",
    "\n",
    "# Keyword arguments in any order\n",
    "display_info(age=25, city=\"New York\", name=\"Alice\")\n",
    "# Output: Name: Alice, Age: 25, City: New York"
   ]
  },
  {
   "cell_type": "code",
   "execution_count": 105,
   "id": "d57ef6a7-94e2-485c-bf83-5df317e110b9",
   "metadata": {},
   "outputs": [
    {
     "name": "stdout",
     "output_type": "stream",
     "text": [
      "Name: Alice, Age: 25, City: New York\n"
     ]
    }
   ],
   "source": [
    "def display_info(name, age, city):\n",
    "    print(f\"Name: {name}, Age: {age}, City: {city}\")\n",
    "\n",
    "# Correct: Positional followed by keyword arguments\n",
    "display_info(\"Alice\", age=25, city=\"New York\")  # Output: Name: Alice, Age: 25, City: New York\n",
    "\n",
    "# Incorrect: Keyword argument followed by positional argument\n",
    "# display_info(age=25, \"Alice\", city=\"New York\")  # Raises SyntaxError"
   ]
  },
  {
   "cell_type": "code",
   "execution_count": 107,
   "id": "a7be6ce2-4cc5-4378-a205-8fe5ea03a09e",
   "metadata": {},
   "outputs": [
    {
     "name": "stdout",
     "output_type": "stream",
     "text": [
      "Hello, Alice!\n"
     ]
    }
   ],
   "source": [
    "def greet(name, message=\"Hello\"):\n",
    "    print(f\"{message}, {name}!\")\n",
    "\n",
    "# Function call with and without default argument\n",
    "greet(\"Alice\")            # Output: Hello, Alice!"
   ]
  },
  {
   "cell_type": "code",
   "execution_count": 109,
   "id": "4e9c93ad-017a-4824-88ef-9c724fb71c29",
   "metadata": {},
   "outputs": [
    {
     "name": "stdout",
     "output_type": "stream",
     "text": [
      "Hi, Bob!\n"
     ]
    }
   ],
   "source": [
    "greet(\"Bob\", message=\"Hi\")  # Output: Hi, Bob!"
   ]
  },
  {
   "cell_type": "code",
   "execution_count": 111,
   "id": "0f226522-c605-4bad-aeba-6f2f458b1f94",
   "metadata": {},
   "outputs": [
    {
     "name": "stdout",
     "output_type": "stream",
     "text": [
      "Booking a flight from New York to London in Economy class with a Standard meal.\n"
     ]
    }
   ],
   "source": [
    "def book_flight(departure, destination, seat_class=\"Economy\", meal_pref=\"Standard\"):\n",
    "    print(f\"Booking a flight from {departure} to {destination} in {seat_class} class with a {meal_pref} meal.\")\n",
    "\n",
    "# Default keyword arguments can be used\n",
    "book_flight(departure=\"New York\", destination=\"London\")"
   ]
  },
  {
   "cell_type": "code",
   "execution_count": 113,
   "id": "317ecc1d-8017-4086-949b-98c541daf469",
   "metadata": {},
   "outputs": [
    {
     "name": "stdout",
     "output_type": "stream",
     "text": [
      "Booking a flight from Paris to Tokyo in Business class with a Vegetarian meal.\n"
     ]
    }
   ],
   "source": [
    "# Override default keyword arguments\n",
    "book_flight(departure=\"Paris\", destination=\"Tokyo\", seat_class=\"Business\", meal_pref=\"Vegetarian\")\n",
    "#"
   ]
  },
  {
   "cell_type": "code",
   "execution_count": 115,
   "id": "048b3081-c4a6-498b-ac62-fc7c797b89e3",
   "metadata": {},
   "outputs": [
    {
     "name": "stdout",
     "output_type": "stream",
     "text": [
      "Hello, John Doe!\n"
     ]
    }
   ],
   "source": [
    "## 1. **Greet a User**\n",
    "\n",
    "def greet_user(first_name, last_name):\n",
    "    print(f\"Hello, {first_name} {last_name}!\")\n",
    "\n",
    "# Usage:\n",
    "greet_user(first_name=\"John\", last_name=\"Doe\") "
   ]
  },
  {
   "cell_type": "code",
   "execution_count": 117,
   "id": "9d6e6623-e2a5-4e01-b3cc-487b0b66f64b",
   "metadata": {},
   "outputs": [
    {
     "name": "stdout",
     "output_type": "stream",
     "text": [
      "25.0\n"
     ]
    }
   ],
   "source": [
    "### 2. **Calculate the Area of a Triangle**\n",
    "def triangle_area(base, height):\n",
    "    return 0.5 * base * height\n",
    "\n",
    "# Usage:\n",
    "print(triangle_area(base=10, height=5))"
   ]
  },
  {
   "cell_type": "markdown",
   "id": "96a9268c-7366-4c70-b0e9-c37f0ae91ab1",
   "metadata": {},
   "source": [
    "## 3. **Print User Details**\n",
    "W"
   ]
  },
  {
   "cell_type": "markdown",
   "id": "d59819e4-f0cb-4a1c-b722-804700726fcf",
   "metadata": {},
   "source": [
    "\n",
    "def user_details(name, age, city):\n",
    "    print(f\"Name: {name}, Age: {age}, City: {city}\")\n",
    "\n",
    "# Usage:\n",
    "user_details(name=\"Alice\", age=25, city=\"New York\")"
   ]
  },
  {
   "cell_type": "markdown",
   "id": "e9c35059-e5fd-410d-9778-8c2ad82ef814",
   "metadata": {},
   "source": [
    "\n",
    "### 4. **Calculate the Final Price**"
   ]
  },
  {
   "cell_type": "code",
   "execution_count": 125,
   "id": "7d4dbde7-f09d-4da0-925b-22d1c3ce78ba",
   "metadata": {},
   "outputs": [
    {
     "name": "stdout",
     "output_type": "stream",
     "text": [
      "90.0\n"
     ]
    }
   ],
   "source": [
    "\n",
    "def final_price(price, discount):\n",
    "    return price - (price * discount / 100)\n",
    "\n",
    "# Usage:\n",
    "print(final_price(price=100, discount=10)) "
   ]
  },
  {
   "cell_type": "markdown",
   "id": "d809aefc-69b7-47a4-b403-ef5961c2a019",
   "metadata": {},
   "source": [
    "\n",
    "### 5. **Simple Interest Calculator**"
   ]
  },
  {
   "cell_type": "code",
   "execution_count": 132,
   "id": "a6663e86-898b-4976-8021-db24c087066e",
   "metadata": {},
   "outputs": [
    {
     "name": "stdout",
     "output_type": "stream",
     "text": [
      "100.0\n"
     ]
    }
   ],
   "source": [
    "\n",
    "def simple_interest(principal, rate, time):\n",
    "    return (principal * rate * time) / 100\n",
    "\n",
    "# Usage:\n",
    "print(simple_interest(principal=1000, rate=5, time=2)) "
   ]
  },
  {
   "cell_type": "code",
   "execution_count": null,
   "id": "0fae03b3-afe3-4a7b-b3ea-e48f48c9f776",
   "metadata": {},
   "outputs": [],
   "source": []
  }
 ],
 "metadata": {
  "kernelspec": {
   "display_name": "Python 3 (ipykernel)",
   "language": "python",
   "name": "python3"
  },
  "language_info": {
   "codemirror_mode": {
    "name": "ipython",
    "version": 3
   },
   "file_extension": ".py",
   "mimetype": "text/x-python",
   "name": "python",
   "nbconvert_exporter": "python",
   "pygments_lexer": "ipython3",
   "version": "3.12.7"
  }
 },
 "nbformat": 4,
 "nbformat_minor": 5
}
