{
 "cells": [
  {
   "cell_type": "code",
   "execution_count": 1,
   "id": "040ed299-5468-4fe9-86f6-a28a6535c4ea",
   "metadata": {},
   "outputs": [
    {
     "name": "stdout",
     "output_type": "stream",
     "text": [
      "hello world\n"
     ]
    }
   ],
   "source": [
    "print(\"hello world\")\n"
   ]
  },
  {
   "cell_type": "raw",
   "id": "f8b50caa-8d25-473f-99ab-d4ac71d81a80",
   "metadata": {},
   "source": [
    "print(\"hello world\")\n"
   ]
  },
  {
   "cell_type": "markdown",
   "id": "0f2c4073-6fdb-4fa7-9c8c-5211305aa99c",
   "metadata": {},
   "source": [
    "# hello"
   ]
  },
  {
   "cell_type": "markdown",
   "id": "203c6a3f-ec2d-40e3-8b14-3ff2f71630ce",
   "metadata": {},
   "source": [
    "## hello"
   ]
  },
  {
   "cell_type": "markdown",
   "id": "fc3bc056-ba1f-431d-8b0c-d6183d32ab58",
   "metadata": {},
   "source": [
    "### hello"
   ]
  },
  {
   "cell_type": "code",
   "execution_count": 15,
   "id": "4d68c89c-3de5-4ad0-a442-713625ea25a2",
   "metadata": {},
   "outputs": [
    {
     "name": "stdout",
     "output_type": "stream",
     "text": [
      "10\n"
     ]
    }
   ],
   "source": [
    "a = 10\n",
    "print(a)"
   ]
  },
  {
   "cell_type": "code",
   "execution_count": 17,
   "id": "1b287ff1-d245-4318-b960-d9ebfa4ec3c0",
   "metadata": {},
   "outputs": [
    {
     "ename": "NameError",
     "evalue": "name 'Print' is not defined",
     "output_type": "error",
     "traceback": [
      "\u001b[1;31m---------------------------------------------------------------------------\u001b[0m",
      "\u001b[1;31mNameError\u001b[0m                                 Traceback (most recent call last)",
      "Cell \u001b[1;32mIn[17], line 1\u001b[0m\n\u001b[1;32m----> 1\u001b[0m Print()\n",
      "\u001b[1;31mNameError\u001b[0m: name 'Print' is not defined"
     ]
    }
   ],
   "source": [
    "Print() #casesensitive"
   ]
  },
  {
   "cell_type": "code",
   "execution_count": 19,
   "id": "7bfb7b0e-c183-4a79-ac20-76a6793e865d",
   "metadata": {},
   "outputs": [
    {
     "name": "stdout",
     "output_type": "stream",
     "text": [
      "4\n"
     ]
    }
   ],
   "source": [
    "print(4) #number dont need inverted comas"
   ]
  },
  {
   "cell_type": "code",
   "execution_count": 23,
   "id": "989cdab4-f500-4b31-98ad-c9f43ea9244a",
   "metadata": {},
   "outputs": [
    {
     "name": "stdout",
     "output_type": "stream",
     "text": [
      "hello 1 2 3.4 True\n"
     ]
    }
   ],
   "source": [
    "print(\"hello\",1,2,3.4,True)"
   ]
  },
  {
   "cell_type": "code",
   "execution_count": 25,
   "id": "16168539-ba8e-4e5b-8c6c-5c88a618fcba",
   "metadata": {},
   "outputs": [
    {
     "name": "stdout",
     "output_type": "stream",
     "text": [
      "hello\n",
      "world\n"
     ]
    }
   ],
   "source": [
    "print(\"hello\")\n",
    "print(\"world\")"
   ]
  },
  {
   "cell_type": "code",
   "execution_count": 37,
   "id": "63405814-f5bc-4019-81b9-d028da04c4fb",
   "metadata": {},
   "outputs": [
    {
     "name": "stdout",
     "output_type": "stream",
     "text": [
      "hello world\n"
     ]
    }
   ],
   "source": [
    "print('hello',end=' ')\n",
    "print('world')"
   ]
  },
  {
   "cell_type": "code",
   "execution_count": 39,
   "id": "fd9cef7b-8602-4044-920a-555ddda1fef1",
   "metadata": {},
   "outputs": [
    {
     "name": "stdout",
     "output_type": "stream",
     "text": [
      "hello****** world\n"
     ]
    }
   ],
   "source": [
    "print('hello',end='****** ')\n",
    "print('world')"
   ]
  },
  {
   "cell_type": "markdown",
   "id": "51489359-250d-4a10-a838-86c2eb8cf76d",
   "metadata": {},
   "source": [
    "# datatypes"
   ]
  },
  {
   "cell_type": "code",
   "execution_count": 51,
   "id": "30b3da69-342c-40bc-a19e-b2340b10f9f9",
   "metadata": {},
   "outputs": [],
   "source": [
    "age =24"
   ]
  },
  {
   "cell_type": "code",
   "execution_count": 53,
   "id": "6067eead-3d5d-473b-b5cb-11a3de7e10c1",
   "metadata": {},
   "outputs": [
    {
     "data": {
      "text/plain": [
       "int"
      ]
     },
     "execution_count": 53,
     "metadata": {},
     "output_type": "execute_result"
    }
   ],
   "source": [
    "type(age)"
   ]
  },
  {
   "cell_type": "code",
   "execution_count": 63,
   "id": "4277378e-d61f-49cf-a2fe-d27014996f27",
   "metadata": {},
   "outputs": [],
   "source": [
    "name = \"anu\""
   ]
  },
  {
   "cell_type": "code",
   "execution_count": 65,
   "id": "a13d7448-46fd-4934-89d7-0c5e1013cb90",
   "metadata": {},
   "outputs": [
    {
     "data": {
      "text/plain": [
       "str"
      ]
     },
     "execution_count": 65,
     "metadata": {},
     "output_type": "execute_result"
    }
   ],
   "source": [
    "type(name)"
   ]
  },
  {
   "cell_type": "code",
   "execution_count": 67,
   "id": "18dad909-032c-4f3c-a6c7-5e6ea2e2b163",
   "metadata": {},
   "outputs": [],
   "source": [
    "price =1.7\n",
    "pi=3.1111"
   ]
  },
  {
   "cell_type": "code",
   "execution_count": 75,
   "id": "282b8acd-2051-4c08-b04a-ba57248aa785",
   "metadata": {},
   "outputs": [
    {
     "data": {
      "text/plain": [
       "float"
      ]
     },
     "execution_count": 75,
     "metadata": {},
     "output_type": "execute_result"
    }
   ],
   "source": [
    "type(price,)\n",
    "type(pi)"
   ]
  },
  {
   "cell_type": "code",
   "execution_count": 77,
   "id": "eeb73bdb-a2e6-4d1e-bffc-2ee1e35a5647",
   "metadata": {},
   "outputs": [
    {
     "data": {
      "text/plain": [
       "int"
      ]
     },
     "execution_count": 77,
     "metadata": {},
     "output_type": "execute_result"
    }
   ],
   "source": [
    "type(11)"
   ]
  },
  {
   "cell_type": "code",
   "execution_count": 79,
   "id": "4b76c1d8-5c74-4f7c-9a22-127001e0003f",
   "metadata": {},
   "outputs": [
    {
     "data": {
      "text/plain": [
       "float"
      ]
     },
     "execution_count": 79,
     "metadata": {},
     "output_type": "execute_result"
    }
   ],
   "source": [
    "type(3.444)"
   ]
  },
  {
   "cell_type": "code",
   "execution_count": 83,
   "id": "851f9afa-51b3-4a4c-9574-c3ac72dcbffa",
   "metadata": {},
   "outputs": [
    {
     "data": {
      "text/plain": [
       "str"
      ]
     },
     "execution_count": 83,
     "metadata": {},
     "output_type": "execute_result"
    }
   ],
   "source": [
    "type('anu')"
   ]
  },
  {
   "cell_type": "code",
   "execution_count": 91,
   "id": "7d3a23a5-54d7-4cff-ac5a-a5194f2a2fe5",
   "metadata": {},
   "outputs": [
    {
     "data": {
      "text/plain": [
       "bool"
      ]
     },
     "execution_count": 91,
     "metadata": {},
     "output_type": "execute_result"
    }
   ],
   "source": [
    "type(True)"
   ]
  },
  {
   "cell_type": "code",
   "execution_count": 97,
   "id": "b316d044-876d-4ad7-8b0d-cd5733ee0b34",
   "metadata": {},
   "outputs": [
    {
     "data": {
      "text/plain": [
       "complex"
      ]
     },
     "execution_count": 97,
     "metadata": {},
     "output_type": "execute_result"
    }
   ],
   "source": [
    "z = 3 + 4j\n",
    "type(z)"
   ]
  },
  {
   "cell_type": "code",
   "execution_count": 103,
   "id": "e8bc0955-1bd0-4f43-ac8a-cd6d4684d393",
   "metadata": {},
   "outputs": [
    {
     "data": {
      "text/plain": [
       "tuple"
      ]
     },
     "execution_count": 103,
     "metadata": {},
     "output_type": "execute_result"
    }
   ],
   "source": [
    "z = 3.444 , 56\n",
    "type(z)"
   ]
  },
  {
   "cell_type": "code",
   "execution_count": 113,
   "id": "7ed75855-7d81-4934-b564-f25f8e6d91ce",
   "metadata": {},
   "outputs": [],
   "source": [
    "lis = [\"apple\",\"banana\"]\n",
    "number = [1,2,3,44,5]\n",
    "mixed = [1,\"anu\",3.444,True]\n",
    "here = [\"apple\",\"banana\"],[1,2,3,44,5]"
   ]
  },
  {
   "cell_type": "code",
   "execution_count": 115,
   "id": "134d4a6e-6c70-4bb5-bf01-dce12e6315a6",
   "metadata": {},
   "outputs": [
    {
     "data": {
      "text/plain": [
       "list"
      ]
     },
     "execution_count": 115,
     "metadata": {},
     "output_type": "execute_result"
    }
   ],
   "source": [
    "type(lis)"
   ]
  },
  {
   "cell_type": "code",
   "execution_count": 117,
   "id": "74b58900-d358-4c8d-b22c-be8b713c41de",
   "metadata": {},
   "outputs": [
    {
     "data": {
      "text/plain": [
       "list"
      ]
     },
     "execution_count": 117,
     "metadata": {},
     "output_type": "execute_result"
    }
   ],
   "source": [
    "type(number)"
   ]
  },
  {
   "cell_type": "code",
   "execution_count": 119,
   "id": "04a4fd8b-5621-4438-b893-dbab690cae09",
   "metadata": {},
   "outputs": [
    {
     "data": {
      "text/plain": [
       "list"
      ]
     },
     "execution_count": 119,
     "metadata": {},
     "output_type": "execute_result"
    }
   ],
   "source": [
    "type(mixed)"
   ]
  },
  {
   "cell_type": "markdown",
   "id": "457e1fe7-5d40-4013-8656-4037d8bcd44c",
   "metadata": {},
   "source": [
    "# tuple"
   ]
  },
  {
   "cell_type": "code",
   "execution_count": 126,
   "id": "58b5d0cb-e34b-4938-b7ab-5356932b683d",
   "metadata": {},
   "outputs": [],
   "source": [
    "point = (3,4)\n",
    "person =('jhon',30,'eng')\n",
    "colors =('red','green')"
   ]
  },
  {
   "cell_type": "code",
   "execution_count": 128,
   "id": "bbcd9ba1-91a3-4b9f-b54a-47aecb46119b",
   "metadata": {},
   "outputs": [
    {
     "data": {
      "text/plain": [
       "tuple"
      ]
     },
     "execution_count": 128,
     "metadata": {},
     "output_type": "execute_result"
    }
   ],
   "source": [
    "type(point)"
   ]
  },
  {
   "cell_type": "code",
   "execution_count": 130,
   "id": "459c4f54-189d-4e7a-8fbc-a888a63dc416",
   "metadata": {},
   "outputs": [
    {
     "data": {
      "text/plain": [
       "tuple"
      ]
     },
     "execution_count": 130,
     "metadata": {},
     "output_type": "execute_result"
    }
   ],
   "source": [
    "type(person)"
   ]
  },
  {
   "cell_type": "markdown",
   "id": "a0e6d416-d105-4966-b66c-3c6a07456ee5",
   "metadata": {},
   "source": [
    "# set\n"
   ]
  },
  {
   "cell_type": "code",
   "execution_count": 167,
   "id": "3a1c6454-75cf-4478-a789-034e462fe7b6",
   "metadata": {},
   "outputs": [],
   "source": [
    "unique_nubers = {1, 2, 3, 4, 5, 6, 7}"
   ]
  },
  {
   "cell_type": "code",
   "execution_count": 171,
   "id": "9b16f3af-8482-4b3c-955d-c2499e0c0321",
   "metadata": {},
   "outputs": [
    {
     "data": {
      "text/plain": [
       "{1, 2, 3, 4, 5, 6, 7}"
      ]
     },
     "execution_count": 171,
     "metadata": {},
     "output_type": "execute_result"
    }
   ],
   "source": [
    "unique_nubers"
   ]
  },
  {
   "cell_type": "markdown",
   "id": "4cb0741b-f9fc-42d4-ba3c-3bf191169c42",
   "metadata": {},
   "source": [
    "# dictionary"
   ]
  },
  {
   "cell_type": "markdown",
   "id": "f2fb225e-8910-4ff4-b5d3-99a2ab4ce31a",
   "metadata": {},
   "source": [
    "# keyword&identifiers"
   ]
  },
  {
   "cell_type": "code",
   "execution_count": 1,
   "id": "4dfc34ae-203a-475e-80c3-df4513fcb301",
   "metadata": {},
   "outputs": [],
   "source": [
    "a = 555"
   ]
  },
  {
   "cell_type": "code",
   "execution_count": 3,
   "id": "25d87ee1-0598-4a81-83c8-5ec7697a282f",
   "metadata": {},
   "outputs": [
    {
     "data": {
      "text/plain": [
       "int"
      ]
     },
     "execution_count": 3,
     "metadata": {},
     "output_type": "execute_result"
    }
   ],
   "source": [
    "type(a)"
   ]
  },
  {
   "cell_type": "code",
   "execution_count": 5,
   "id": "33ba04de-2f4e-40b3-8e40-8c6bee0654e0",
   "metadata": {},
   "outputs": [
    {
     "data": {
      "text/plain": [
       "555.0"
      ]
     },
     "execution_count": 5,
     "metadata": {},
     "output_type": "execute_result"
    }
   ],
   "source": [
    "float(a)"
   ]
  },
  {
   "cell_type": "code",
   "execution_count": 7,
   "id": "ace4927f-1045-4ca0-86d9-efcdb465d17d",
   "metadata": {},
   "outputs": [
    {
     "data": {
      "text/plain": [
       "'555'"
      ]
     },
     "execution_count": 7,
     "metadata": {},
     "output_type": "execute_result"
    }
   ],
   "source": [
    "str(a)"
   ]
  },
  {
   "cell_type": "code",
   "execution_count": 9,
   "id": "25386cf3-f4a1-4315-b93f-c889926c4cd7",
   "metadata": {},
   "outputs": [],
   "source": [
    "int_value=10"
   ]
  },
  {
   "cell_type": "code",
   "execution_count": 11,
   "id": "d08d51dc-d5c8-4db3-b120-5033705de50e",
   "metadata": {},
   "outputs": [
    {
     "data": {
      "text/plain": [
       "int"
      ]
     },
     "execution_count": 11,
     "metadata": {},
     "output_type": "execute_result"
    }
   ],
   "source": [
    "type(int_value)"
   ]
  },
  {
   "cell_type": "code",
   "execution_count": 13,
   "id": "ac1219d6-7881-4a1b-b7be-054c4c3b312c",
   "metadata": {},
   "outputs": [],
   "source": [
    "float_value=float(int_value)"
   ]
  },
  {
   "cell_type": "code",
   "execution_count": 15,
   "id": "1c7b269d-6e07-4972-a34b-16444059ce99",
   "metadata": {},
   "outputs": [
    {
     "data": {
      "text/plain": [
       "float"
      ]
     },
     "execution_count": 15,
     "metadata": {},
     "output_type": "execute_result"
    }
   ],
   "source": [
    "type(float_value)"
   ]
  },
  {
   "cell_type": "code",
   "execution_count": 17,
   "id": "14abd9c2-2d3b-4a45-8c1d-2ed08816b7df",
   "metadata": {},
   "outputs": [],
   "source": [
    "age_str = '25'"
   ]
  },
  {
   "cell_type": "code",
   "execution_count": 19,
   "id": "9d034722-95c7-4fb5-bb0d-401d8ccab8ff",
   "metadata": {},
   "outputs": [
    {
     "data": {
      "text/plain": [
       "str"
      ]
     },
     "execution_count": 19,
     "metadata": {},
     "output_type": "execute_result"
    }
   ],
   "source": [
    "type(age_str)"
   ]
  },
  {
   "cell_type": "code",
   "execution_count": 21,
   "id": "a263fe8c-d286-469b-b761-40132495b646",
   "metadata": {},
   "outputs": [],
   "source": [
    "age_int = int(age_str)"
   ]
  },
  {
   "cell_type": "code",
   "execution_count": 23,
   "id": "2a8d7f5d-b167-4129-8c7e-44a368234cea",
   "metadata": {},
   "outputs": [
    {
     "data": {
      "text/plain": [
       "int"
      ]
     },
     "execution_count": 23,
     "metadata": {},
     "output_type": "execute_result"
    }
   ],
   "source": [
    "type(age_int)"
   ]
  },
  {
   "cell_type": "code",
   "execution_count": 33,
   "id": "95762dd2-588e-4431-b1f2-607e454602c1",
   "metadata": {},
   "outputs": [
    {
     "name": "stdout",
     "output_type": "stream",
     "text": [
      "34.9\n"
     ]
    }
   ],
   "source": [
    "print(8+10+11+5.9)"
   ]
  },
  {
   "cell_type": "code",
   "execution_count": 25,
   "id": "2820c4c1-c76f-4577-b2b8-f92051ca154d",
   "metadata": {},
   "outputs": [],
   "source": [
    "name='anu'"
   ]
  },
  {
   "cell_type": "code",
   "execution_count": 27,
   "id": "e3b78aaa-b34f-4097-960b-5d46dc2f047c",
   "metadata": {},
   "outputs": [
    {
     "data": {
      "text/plain": [
       "str"
      ]
     },
     "execution_count": 27,
     "metadata": {},
     "output_type": "execute_result"
    }
   ],
   "source": [
    "type(name)"
   ]
  },
  {
   "cell_type": "code",
   "execution_count": 29,
   "id": "320bb4b8-b8b5-4ad2-b42e-57f590b5cdab",
   "metadata": {},
   "outputs": [
    {
     "ename": "NameError",
     "evalue": "name 'anu' is not defined",
     "output_type": "error",
     "traceback": [
      "\u001b[1;31m---------------------------------------------------------------------------\u001b[0m",
      "\u001b[1;31mNameError\u001b[0m                                 Traceback (most recent call last)",
      "Cell \u001b[1;32mIn[29], line 1\u001b[0m\n\u001b[1;32m----> 1\u001b[0m age \u001b[38;5;241m=\u001b[39m \u001b[38;5;28mint\u001b[39m(anu)\n",
      "\u001b[1;31mNameError\u001b[0m: name 'anu' is not defined"
     ]
    }
   ],
   "source": [
    "age = int(anu)"
   ]
  },
  {
   "cell_type": "code",
   "execution_count": 35,
   "id": "c2df5401-c14d-4fa9-9e53-e1d08a1f5ffd",
   "metadata": {},
   "outputs": [
    {
     "name": "stdout",
     "output_type": "stream",
     "text": [
      "13.4\n"
     ]
    }
   ],
   "source": [
    "# implicit\n",
    "\n",
    "print(8+5.4)"
   ]
  },
  {
   "cell_type": "code",
   "execution_count": 37,
   "id": "ea5da438-79de-4011-b30d-57724edb1cc4",
   "metadata": {},
   "outputs": [
    {
     "name": "stdout",
     "output_type": "stream",
     "text": [
      "<class 'int'> <class 'float'>\n"
     ]
    }
   ],
   "source": [
    "print(type(8),type(5.8))"
   ]
  },
  {
   "cell_type": "code",
   "execution_count": 42,
   "id": "2e88c9ba-477a-4202-938a-d149a47500d8",
   "metadata": {},
   "outputs": [],
   "source": [
    "#explicit \n",
    "a = 10"
   ]
  },
  {
   "cell_type": "code",
   "execution_count": 44,
   "id": "071043b7-21ae-42c8-b55c-9bbfa32bd494",
   "metadata": {},
   "outputs": [],
   "source": [
    "#int into str\n",
    "b = str(a)"
   ]
  },
  {
   "cell_type": "code",
   "execution_count": null,
   "id": "a88813e7-45ba-41ca-a4f3-50d4546bebeb",
   "metadata": {},
   "outputs": [],
   "source": [
    "# what is syntax"
   ]
  },
  {
   "cell_type": "code",
   "execution_count": 46,
   "id": "b1ead20b-e463-40ed-9d6f-f62a75fa1e19",
   "metadata": {},
   "outputs": [
    {
     "data": {
      "text/plain": [
       "str"
      ]
     },
     "execution_count": 46,
     "metadata": {},
     "output_type": "execute_result"
    }
   ],
   "source": [
    "type(b)"
   ]
  },
  {
   "cell_type": "markdown",
   "id": "f0e20641-2810-4faa-a805-f1dc3ae1acf3",
   "metadata": {},
   "source": [
    "## syntax is a set of rules that defines the structure of a valid code"
   ]
  },
  {
   "cell_type": "code",
   "execution_count": 40,
   "id": "1ca1ee04-1644-4a48-a2bb-0357eaf70033",
   "metadata": {},
   "outputs": [
    {
     "name": "stdout",
     "output_type": "stream",
     "text": [
      "hello world\n"
     ]
    }
   ],
   "source": [
    "print(\"hello world\")"
   ]
  },
  {
   "cell_type": "markdown",
   "id": "f2f60dbc-89e0-45a6-b86a-5b700efd810a",
   "metadata": {},
   "source": [
    "## litrals it is a fixed value that is directly written into the code and represent data type"
   ]
  },
  {
   "cell_type": "code",
   "execution_count": 51,
   "id": "9b8ac453-b922-45de-a423-5ca1db7d21ca",
   "metadata": {},
   "outputs": [],
   "source": [
    "age = 30"
   ]
  },
  {
   "cell_type": "code",
   "execution_count": 55,
   "id": "1449d7ca-c8a8-4451-9516-243e7f0d83ef",
   "metadata": {},
   "outputs": [],
   "source": [
    "greeting = (\"hello,world\")"
   ]
  },
  {
   "cell_type": "code",
   "execution_count": 57,
   "id": "f9a29906-49dd-4a52-b746-a126dbb4183c",
   "metadata": {},
   "outputs": [
    {
     "name": "stdout",
     "output_type": "stream",
     "text": [
      "hello,world\n"
     ]
    }
   ],
   "source": [
    "print (greeting)"
   ]
  },
  {
   "cell_type": "markdown",
   "id": "4e7e81a4-8708-4502-9be7-69669394baac",
   "metadata": {},
   "source": [
    "## oprators in python\n",
    "\n"
   ]
  },
  {
   "cell_type": "code",
   "execution_count": 61,
   "id": "9dcca8e4-c9ce-459e-b51f-b2e0b75efeba",
   "metadata": {},
   "outputs": [
    {
     "data": {
      "text/plain": [
       "10"
      ]
     },
     "execution_count": 61,
     "metadata": {},
     "output_type": "execute_result"
    }
   ],
   "source": [
    "#arthemetic operators\n",
    "5+5"
   ]
  },
  {
   "cell_type": "code",
   "execution_count": 63,
   "id": "ac9c30ed-1b92-4aa3-b0ad-a1e2d95be6a2",
   "metadata": {},
   "outputs": [
    {
     "data": {
      "text/plain": [
       "0"
      ]
     },
     "execution_count": 63,
     "metadata": {},
     "output_type": "execute_result"
    }
   ],
   "source": [
    "#sub\n",
    "5-5"
   ]
  },
  {
   "cell_type": "code",
   "execution_count": 65,
   "id": "f53ae113-b479-4b2e-a1d5-75bf13874064",
   "metadata": {},
   "outputs": [
    {
     "data": {
      "text/plain": [
       "6"
      ]
     },
     "execution_count": 65,
     "metadata": {},
     "output_type": "execute_result"
    }
   ],
   "source": [
    "2*3"
   ]
  },
  {
   "cell_type": "code",
   "execution_count": 67,
   "id": "999fbd28-27b1-4720-afc5-e67314d2c688",
   "metadata": {},
   "outputs": [
    {
     "data": {
      "text/plain": [
       "0"
      ]
     },
     "execution_count": 67,
     "metadata": {},
     "output_type": "execute_result"
    }
   ],
   "source": [
    "4%2"
   ]
  },
  {
   "cell_type": "code",
   "execution_count": 69,
   "id": "7961fbea-9cc5-484f-940d-0ef88395ff49",
   "metadata": {},
   "outputs": [
    {
     "data": {
      "text/plain": [
       "4"
      ]
     },
     "execution_count": 69,
     "metadata": {},
     "output_type": "execute_result"
    }
   ],
   "source": [
    "4%7"
   ]
  },
  {
   "cell_type": "code",
   "execution_count": 71,
   "id": "6307bd14-0e10-4fc2-8176-650d503a3189",
   "metadata": {},
   "outputs": [
    {
     "data": {
      "text/plain": [
       "0.5714285714285714"
      ]
     },
     "execution_count": 71,
     "metadata": {},
     "output_type": "execute_result"
    }
   ],
   "source": [
    "4/7"
   ]
  },
  {
   "cell_type": "code",
   "execution_count": 73,
   "id": "8cc914dc-bfa9-4a91-9ab4-926e8176af49",
   "metadata": {},
   "outputs": [
    {
     "data": {
      "text/plain": [
       "2"
      ]
     },
     "execution_count": 73,
     "metadata": {},
     "output_type": "execute_result"
    }
   ],
   "source": [
    "#floor dividsion operator\n",
    "16 // 6"
   ]
  },
  {
   "cell_type": "code",
   "execution_count": 75,
   "id": "c401d02b-2f1a-4254-aa5d-6f18c2015882",
   "metadata": {},
   "outputs": [
    {
     "data": {
      "text/plain": [
       "66666666666666666"
      ]
     },
     "execution_count": 75,
     "metadata": {},
     "output_type": "execute_result"
    }
   ],
   "source": [
    "44444444444444444444444444444444444444444444444444//666666666666666666666666666666666"
   ]
  },
  {
   "cell_type": "code",
   "execution_count": 77,
   "id": "1a9b0d31-8312-4569-ae33-00ee62972d50",
   "metadata": {},
   "outputs": [
    {
     "data": {
      "text/plain": [
       "1.0"
      ]
     },
     "execution_count": 77,
     "metadata": {},
     "output_type": "execute_result"
    }
   ],
   "source": [
    "2/2"
   ]
  },
  {
   "cell_type": "code",
   "execution_count": 79,
   "id": "a7363d7a-3044-4d75-a17f-c50d01a313df",
   "metadata": {},
   "outputs": [
    {
     "data": {
      "text/plain": [
       "1"
      ]
     },
     "execution_count": 79,
     "metadata": {},
     "output_type": "execute_result"
    }
   ],
   "source": [
    "2//2"
   ]
  },
  {
   "cell_type": "code",
   "execution_count": 81,
   "id": "1fb7ce8e-a866-4fba-a858-10f7da98b456",
   "metadata": {},
   "outputs": [
    {
     "data": {
      "text/plain": [
       "0"
      ]
     },
     "execution_count": 81,
     "metadata": {},
     "output_type": "execute_result"
    }
   ],
   "source": [
    "2%2"
   ]
  },
  {
   "cell_type": "code",
   "execution_count": 83,
   "id": "4972a8e8-2f77-4c9e-80fa-7c8489782390",
   "metadata": {},
   "outputs": [
    {
     "data": {
      "text/plain": [
       "4"
      ]
     },
     "execution_count": 83,
     "metadata": {},
     "output_type": "execute_result"
    }
   ],
   "source": [
    "2*2"
   ]
  },
  {
   "cell_type": "code",
   "execution_count": 85,
   "id": "a062052b-3360-463a-8ab6-d06194c3af12",
   "metadata": {},
   "outputs": [
    {
     "data": {
      "text/plain": [
       "0"
      ]
     },
     "execution_count": 85,
     "metadata": {},
     "output_type": "execute_result"
    }
   ],
   "source": [
    "2-2"
   ]
  },
  {
   "cell_type": "code",
   "execution_count": 87,
   "id": "0895abf0-5e8a-4957-9b42-a4db23ce9647",
   "metadata": {},
   "outputs": [
    {
     "data": {
      "text/plain": [
       "4"
      ]
     },
     "execution_count": 87,
     "metadata": {},
     "output_type": "execute_result"
    }
   ],
   "source": [
    "2+2"
   ]
  },
  {
   "cell_type": "code",
   "execution_count": 89,
   "id": "b21081af-85ba-45a3-89d9-f412d209bb4e",
   "metadata": {},
   "outputs": [
    {
     "data": {
      "text/plain": [
       "4"
      ]
     },
     "execution_count": 89,
     "metadata": {},
     "output_type": "execute_result"
    }
   ],
   "source": [
    "##exponentation(**)\n",
    "2 **2"
   ]
  },
  {
   "cell_type": "code",
   "execution_count": 91,
   "id": "3c2e9fba-8367-48ce-8d21-ef78921cc8d5",
   "metadata": {},
   "outputs": [
    {
     "data": {
      "text/plain": [
       "4"
      ]
     },
     "execution_count": 91,
     "metadata": {},
     "output_type": "execute_result"
    }
   ],
   "source": [
    "2**2"
   ]
  },
  {
   "cell_type": "code",
   "execution_count": 95,
   "id": "acec62c5-5118-4b48-b6dc-9f0e5df37298",
   "metadata": {},
   "outputs": [
    {
     "data": {
      "text/plain": [
       "1.0"
      ]
     },
     "execution_count": 95,
     "metadata": {},
     "output_type": "execute_result"
    }
   ],
   "source": [
    "2*2-3+5/5//8%6"
   ]
  },
  {
   "cell_type": "code",
   "execution_count": 107,
   "id": "13f6485e-0653-45c7-8814-3b232c0e0856",
   "metadata": {},
   "outputs": [
    {
     "data": {
      "text/plain": [
       "86.6"
      ]
     },
     "execution_count": 107,
     "metadata": {},
     "output_type": "execute_result"
    }
   ],
   "source": [
    "(85+90+78+92+88)/5  #average"
   ]
  },
  {
   "cell_type": "code",
   "execution_count": 109,
   "id": "e012d648-70fb-4d74-83da-ff16e5e8eb2a",
   "metadata": {},
   "outputs": [],
   "source": [
    "scores = [85,90,78,92,88]"
   ]
  },
  {
   "cell_type": "code",
   "execution_count": 111,
   "id": "73d99d6c-f0d4-4853-a2ed-fc48f1f9593e",
   "metadata": {},
   "outputs": [],
   "source": [
    "total_score = sum(scores)"
   ]
  },
  {
   "cell_type": "code",
   "execution_count": 113,
   "id": "ec19fb23-5914-4f87-ac98-4ae446bfce34",
   "metadata": {},
   "outputs": [
    {
     "data": {
      "text/plain": [
       "433"
      ]
     },
     "execution_count": 113,
     "metadata": {},
     "output_type": "execute_result"
    }
   ],
   "source": [
    "total_score"
   ]
  },
  {
   "cell_type": "code",
   "execution_count": 115,
   "id": "58439e9b-0fb8-4154-84bc-7dd6376241a6",
   "metadata": {},
   "outputs": [
    {
     "data": {
      "text/plain": [
       "86.6"
      ]
     },
     "execution_count": 115,
     "metadata": {},
     "output_type": "execute_result"
    }
   ],
   "source": [
    "433/5"
   ]
  },
  {
   "cell_type": "code",
   "execution_count": 119,
   "id": "cfdee6e7-d502-4e64-ae14-84a28809e20e",
   "metadata": {},
   "outputs": [
    {
     "data": {
      "text/plain": [
       "5"
      ]
     },
     "execution_count": 119,
     "metadata": {},
     "output_type": "execute_result"
    }
   ],
   "source": [
    "len(scores)"
   ]
  },
  {
   "cell_type": "code",
   "execution_count": 121,
   "id": "707fde6b-d53c-4cfa-a098-85e444a575a4",
   "metadata": {},
   "outputs": [
    {
     "data": {
      "text/plain": [
       "500"
      ]
     },
     "execution_count": 121,
     "metadata": {},
     "output_type": "execute_result"
    }
   ],
   "source": [
    "1200-350-150-200"
   ]
  },
  {
   "cell_type": "code",
   "execution_count": 125,
   "id": "8dfd1aa3-373c-4dcc-bbca-3126282886e9",
   "metadata": {},
   "outputs": [
    {
     "ename": "SyntaxError",
     "evalue": "invalid syntax (151961046.py, line 1)",
     "output_type": "error",
     "traceback": [
      "\u001b[1;36m  Cell \u001b[1;32mIn[125], line 1\u001b[1;36m\u001b[0m\n\u001b[1;33m    75-(20%)\u001b[0m\n\u001b[1;37m           ^\u001b[0m\n\u001b[1;31mSyntaxError\u001b[0m\u001b[1;31m:\u001b[0m invalid syntax\n"
     ]
    }
   ],
   "source": [
    "75-(20%)"
   ]
  },
  {
   "cell_type": "code",
   "execution_count": 127,
   "id": "de40831e-5fe5-45b8-9233-5bed82ef78fe",
   "metadata": {},
   "outputs": [],
   "source": [
    "originalprice=75"
   ]
  },
  {
   "cell_type": "code",
   "execution_count": 129,
   "id": "f54c49d2-6a5f-467e-83c0-8090506d4a90",
   "metadata": {},
   "outputs": [],
   "source": [
    "discountprice=20"
   ]
  },
  {
   "cell_type": "code",
   "execution_count": 131,
   "id": "f70af0e4-2175-4216-bb66-24da2d41d4d4",
   "metadata": {},
   "outputs": [],
   "source": [
    "discountamount=originalprice+(discountprice/100)"
   ]
  },
  {
   "cell_type": "code",
   "execution_count": 133,
   "id": "d245b70e-5cc9-4e2c-a5b2-01843c4201e0",
   "metadata": {},
   "outputs": [],
   "source": [
    "finalprice=originalprice-discountamount"
   ]
  },
  {
   "cell_type": "code",
   "execution_count": 137,
   "id": "651e26d8-3f1f-45a9-9a9e-3c97e8bddd1d",
   "metadata": {},
   "outputs": [
    {
     "name": "stdout",
     "output_type": "stream",
     "text": [
      "final: -0.20000000000000284\n"
     ]
    }
   ],
   "source": [
    "print(\"final:\",finalprice)"
   ]
  },
  {
   "cell_type": "code",
   "execution_count": 139,
   "id": "13cb9473-a8a3-4d18-99aa-22abd57006b3",
   "metadata": {},
   "outputs": [],
   "source": [
    "width = 10\n",
    "length = 15"
   ]
  },
  {
   "cell_type": "code",
   "execution_count": 145,
   "id": "f6338ab9-7f0c-4fc3-a68a-57b58f47365a",
   "metadata": {},
   "outputs": [],
   "source": [
    "area = width * length"
   ]
  },
  {
   "cell_type": "code",
   "execution_count": 147,
   "id": "770309ba-5e53-45b8-a923-bb44ba506828",
   "metadata": {},
   "outputs": [
    {
     "name": "stdout",
     "output_type": "stream",
     "text": [
      "area of the garden: 150\n"
     ]
    }
   ],
   "source": [
    "print(\"area of the garden:\",area)"
   ]
  },
  {
   "cell_type": "code",
   "execution_count": 149,
   "id": "703969e2-9195-4bb1-974b-3eb9cd5156b9",
   "metadata": {},
   "outputs": [],
   "source": [
    "alice = 25\n",
    "bob = 30"
   ]
  },
  {
   "cell_type": "code",
   "execution_count": 151,
   "id": "7f46dd89-262a-4557-9da0-46fe6d77e564",
   "metadata": {},
   "outputs": [],
   "source": [
    "age =bob-alice"
   ]
  },
  {
   "cell_type": "code",
   "execution_count": 153,
   "id": "8bba55bc-dfb5-4158-bad3-82d4e8040f40",
   "metadata": {},
   "outputs": [
    {
     "name": "stdout",
     "output_type": "stream",
     "text": [
      "differenec: 5\n"
     ]
    }
   ],
   "source": [
    "print(\"differenec:\",age)"
   ]
  },
  {
   "cell_type": "code",
   "execution_count": 155,
   "id": "ec6a02de-3c9e-4015-b482-17fb2bed7bc7",
   "metadata": {},
   "outputs": [],
   "source": [
    "cost=120\n",
    "sell=180"
   ]
  },
  {
   "cell_type": "code",
   "execution_count": 157,
   "id": "8a9c2eb7-6a70-4d19-821b-4e8dce80cd83",
   "metadata": {},
   "outputs": [],
   "source": [
    "profit=sell-cost"
   ]
  },
  {
   "cell_type": "code",
   "execution_count": 159,
   "id": "2e064afc-ff0e-4dff-9018-37a5470cb670",
   "metadata": {},
   "outputs": [],
   "source": [
    "profit=profit*100/cost"
   ]
  },
  {
   "cell_type": "code",
   "execution_count": 161,
   "id": "f8ef5516-a716-4370-9f96-f3df05a07142",
   "metadata": {},
   "outputs": [
    {
     "name": "stdout",
     "output_type": "stream",
     "text": [
      "totalcost: 50.0\n"
     ]
    }
   ],
   "source": [
    "print(\"totalcost:\",profit)"
   ]
  },
  {
   "cell_type": "code",
   "execution_count": 163,
   "id": "8763f545-b36c-4f0d-8ac8-370d2fcfddcb",
   "metadata": {},
   "outputs": [],
   "source": [
    "#types of relational oprators"
   ]
  },
  {
   "cell_type": "code",
   "execution_count": 165,
   "id": "5cc25896-12a0-42a5-9839-14db2ea14b5a",
   "metadata": {},
   "outputs": [
    {
     "data": {
      "text/plain": [
       "False"
      ]
     },
     "execution_count": 165,
     "metadata": {},
     "output_type": "execute_result"
    }
   ],
   "source": [
    "2==3"
   ]
  },
  {
   "cell_type": "code",
   "execution_count": 167,
   "id": "dfd9665a-3106-4bb9-bc3e-0a0d75adc48d",
   "metadata": {},
   "outputs": [],
   "source": [
    "a=20\n",
    "b=30"
   ]
  },
  {
   "cell_type": "code",
   "execution_count": 169,
   "id": "5e5f7989-607d-47e6-b697-e05cf575fa45",
   "metadata": {},
   "outputs": [
    {
     "data": {
      "text/plain": [
       "False"
      ]
     },
     "execution_count": 169,
     "metadata": {},
     "output_type": "execute_result"
    }
   ],
   "source": [
    "a==b"
   ]
  },
  {
   "cell_type": "code",
   "execution_count": 171,
   "id": "3e7adf3b-af6b-40f6-a780-7ef5f82f84b1",
   "metadata": {},
   "outputs": [
    {
     "data": {
      "text/plain": [
       "True"
      ]
     },
     "execution_count": 171,
     "metadata": {},
     "output_type": "execute_result"
    }
   ],
   "source": [
    "a!=b"
   ]
  },
  {
   "cell_type": "code",
   "execution_count": 173,
   "id": "5933b266-50f8-431c-a578-e4f6c18ba6a6",
   "metadata": {},
   "outputs": [
    {
     "data": {
      "text/plain": [
       "True"
      ]
     },
     "execution_count": 173,
     "metadata": {},
     "output_type": "execute_result"
    }
   ],
   "source": [
    "a<b"
   ]
  },
  {
   "cell_type": "code",
   "execution_count": 175,
   "id": "49291cea-850e-4bca-85fa-fe40bcc3c309",
   "metadata": {},
   "outputs": [
    {
     "data": {
      "text/plain": [
       "False"
      ]
     },
     "execution_count": 175,
     "metadata": {},
     "output_type": "execute_result"
    }
   ],
   "source": [
    "a>b"
   ]
  },
  {
   "cell_type": "code",
   "execution_count": 179,
   "id": "03dcff53-11f6-434e-8bc4-de2cf169651c",
   "metadata": {},
   "outputs": [
    {
     "data": {
      "text/plain": [
       "True"
      ]
     },
     "execution_count": 179,
     "metadata": {},
     "output_type": "execute_result"
    }
   ],
   "source": [
    "a<=b"
   ]
  },
  {
   "cell_type": "code",
   "execution_count": 181,
   "id": "655f7336-e21b-4ca2-b732-e477212c08a4",
   "metadata": {},
   "outputs": [
    {
     "data": {
      "text/plain": [
       "False"
      ]
     },
     "execution_count": 181,
     "metadata": {},
     "output_type": "execute_result"
    }
   ],
   "source": [
    "a==b"
   ]
  },
  {
   "cell_type": "code",
   "execution_count": 183,
   "id": "193d6e6d-f6c5-43ac-bfa5-3d1ce8be7fb7",
   "metadata": {},
   "outputs": [],
   "source": [
    "a=b"
   ]
  },
  {
   "cell_type": "code",
   "execution_count": 185,
   "id": "515b1aec-3c5b-43eb-9a2e-2ef3a2ffed38",
   "metadata": {},
   "outputs": [
    {
     "name": "stdout",
     "output_type": "stream",
     "text": [
      "30\n"
     ]
    }
   ],
   "source": [
    "print(a)"
   ]
  },
  {
   "cell_type": "code",
   "execution_count": 187,
   "id": "e876ff56-4099-488f-bcf7-3c50c5343bff",
   "metadata": {},
   "outputs": [],
   "source": [
    "b=a"
   ]
  },
  {
   "cell_type": "code",
   "execution_count": 189,
   "id": "5b962abb-024c-45c5-822d-6698d3cddc74",
   "metadata": {},
   "outputs": [
    {
     "name": "stdout",
     "output_type": "stream",
     "text": [
      "30\n"
     ]
    }
   ],
   "source": [
    "print(b)"
   ]
  },
  {
   "cell_type": "markdown",
   "id": "e3b71042-d8f2-4ccd-b95a-50454d09cfd6",
   "metadata": {},
   "source": [
    "# membership operators"
   ]
  },
  {
   "cell_type": "code",
   "execution_count": 2,
   "id": "650b5e89-a27b-4807-9fb1-85dffe769824",
   "metadata": {},
   "outputs": [
    {
     "name": "stdout",
     "output_type": "stream",
     "text": [
      "True\n"
     ]
    }
   ],
   "source": [
    "my_string = \"hello, world!\"\n",
    "print(\"world\" in my_string)"
   ]
  },
  {
   "cell_type": "code",
   "execution_count": 6,
   "id": "36518dfa-a15c-4711-bb8e-c015b00a875d",
   "metadata": {},
   "outputs": [
    {
     "data": {
      "text/plain": [
       "True"
      ]
     },
     "execution_count": 6,
     "metadata": {},
     "output_type": "execute_result"
    }
   ],
   "source": [
    "my_list = [1,2,3,4,5]\n",
    "3 in my_list"
   ]
  },
  {
   "cell_type": "code",
   "execution_count": 8,
   "id": "9625aa8a-3ab8-4185-b3b3-ccd411535d75",
   "metadata": {},
   "outputs": [
    {
     "name": "stdout",
     "output_type": "stream",
     "text": [
      "True\n"
     ]
    }
   ],
   "source": [
    "#notinoprator\n",
    "my_list = [1,2,3,4,5]\n",
    "print(10 not in my_list)"
   ]
  },
  {
   "cell_type": "code",
   "execution_count": 10,
   "id": "88c743b3-9a1f-4e3c-ba4e-f081b315574c",
   "metadata": {},
   "outputs": [
    {
     "name": "stdout",
     "output_type": "stream",
     "text": [
      "False\n"
     ]
    }
   ],
   "source": [
    "# using in with dictionary\n",
    "message =  \"welcome\"\n",
    "print(\"python\" in message)"
   ]
  },
  {
   "cell_type": "code",
   "execution_count": 30,
   "id": "6be0122f-c9ba-484d-a573-d407c18b3893",
   "metadata": {},
   "outputs": [
    {
     "ename": "SyntaxError",
     "evalue": "invalid syntax (3906112385.py, line 2)",
     "output_type": "error",
     "traceback": [
      "\u001b[1;36m  Cell \u001b[1;32mIn[30], line 2\u001b[1;36m\u001b[0m\n\u001b[1;33m    my_dict = [\"name\": \"alice\", \"age\": 25, \"city\": \"newyork\"]\u001b[0m\n\u001b[1;37m                     ^\u001b[0m\n\u001b[1;31mSyntaxError\u001b[0m\u001b[1;31m:\u001b[0m invalid syntax\n"
     ]
    }
   ],
   "source": [
    "#using not in with a dictionary\n",
    "my_dict = [\"name\": \"alice\", \"age\": 25, \"city\": \"newyork\"]\n",
    "print(\"age\" in my_dict)"
   ]
  },
  {
   "cell_type": "code",
   "execution_count": 32,
   "id": "7b87bde0-e6c0-49ab-8c0c-3debbc9ce595",
   "metadata": {},
   "outputs": [
    {
     "ename": "SyntaxError",
     "evalue": "cannot assign to literal here. Maybe you meant '==' instead of '='? (2795204752.py, line 1)",
     "output_type": "error",
     "traceback": [
      "\u001b[1;36m  Cell \u001b[1;32mIn[32], line 1\u001b[1;36m\u001b[0m\n\u001b[1;33m    1 = [1,2,3,4,5]\u001b[0m\n\u001b[1;37m    ^\u001b[0m\n\u001b[1;31mSyntaxError\u001b[0m\u001b[1;31m:\u001b[0m cannot assign to literal here. Maybe you meant '==' instead of '='?\n"
     ]
    }
   ],
   "source": [
    "1 = [1,2,3,4,5]"
   ]
  },
  {
   "cell_type": "markdown",
   "id": "ac39e8a0-a1d7-4035-bc3b-c83a2bd9c803",
   "metadata": {},
   "source": [
    "# introduction to python statements"
   ]
  },
  {
   "cell_type": "code",
   "execution_count": 36,
   "id": "ddb86974-a6f3-48d0-8e9f-643d4388c6a4",
   "metadata": {},
   "outputs": [],
   "source": [
    "#if statement\n",
    "if 5<2:\n",
    "    print(\"greater\")"
   ]
  },
  {
   "cell_type": "code",
   "execution_count": 40,
   "id": "8310c306-f03a-4b0e-a20f-953ec6f65f56",
   "metadata": {},
   "outputs": [
    {
     "name": "stdout",
     "output_type": "stream",
     "text": [
      "greater\n",
      "this will be printed anyway\n"
     ]
    }
   ],
   "source": [
    "#if ststement in single line\n",
    "if 5>2:\n",
    "    print(\"greater\")\n",
    "\n",
    "print(\"this will be printed anyway\")"
   ]
  },
  {
   "cell_type": "code",
   "execution_count": 42,
   "id": "c09f8c01-c64d-442b-b81a-61ca3d6a3a12",
   "metadata": {},
   "outputs": [
    {
     "name": "stdout",
     "output_type": "stream",
     "text": [
      "greater\n"
     ]
    }
   ],
   "source": [
    "if 5>2: print(\"greater\")"
   ]
  },
  {
   "cell_type": "code",
   "execution_count": null,
   "id": "82ecc044-5268-4f95-998c-301aa122b031",
   "metadata": {},
   "outputs": [],
   "source": []
  },
  {
   "cell_type": "code",
   "execution_count": 64,
   "id": "2f3ac11f-8b50-431c-9fc8-cfadd5018a3a",
   "metadata": {},
   "outputs": [
    {
     "ename": "NameError",
     "evalue": "name 'num' is not defined",
     "output_type": "error",
     "traceback": [
      "\u001b[1;31m---------------------------------------------------------------------------\u001b[0m",
      "\u001b[1;31mNameError\u001b[0m                                 Traceback (most recent call last)",
      "Cell \u001b[1;32mIn[64], line 2\u001b[0m\n\u001b[0;32m      1\u001b[0m \u001b[38;5;66;03m# check a number is even or odd\u001b[39;00m\n\u001b[1;32m----> 2\u001b[0m \u001b[38;5;28;01mif\u001b[39;00m num\u001b[38;5;241m%\u001b[39m\u001b[38;5;241m2\u001b[39m \u001b[38;5;241m==\u001b[39m \u001b[38;5;241m0\u001b[39m:\n\u001b[0;32m      3\u001b[0m     \u001b[38;5;28mprint\u001b[39m(\u001b[38;5;124m\"\u001b[39m\u001b[38;5;124mnum is even\u001b[39m\u001b[38;5;124m\"\u001b[39m)\n\u001b[0;32m      4\u001b[0m \u001b[38;5;28;01melse\u001b[39;00m:{\n\u001b[0;32m      5\u001b[0m \u001b[38;5;28mprint\u001b[39m(\u001b[38;5;124m\"\u001b[39m\u001b[38;5;124mnum is odd\u001b[39m\u001b[38;5;124m\"\u001b[39m)}\n",
      "\u001b[1;31mNameError\u001b[0m: name 'num' is not defined"
     ]
    }
   ],
   "source": [
    "# check a number is even or odd\n",
    "if num%2 == 0:\n",
    "    print(\"num is even\")\n",
    "else:{\n",
    "print(\"num is odd\")}"
   ]
  },
  {
   "cell_type": "code",
   "execution_count": 3,
   "id": "5f739b9b-ef09-4586-bce7-f694b46883ca",
   "metadata": {},
   "outputs": [],
   "source": [
    "num = [1, 2,3,4,5,6,7,8,9,10]\n",
    "for num in num:\n",
    "    if num ==5:\n",
    "        continue\n",
    "        print(num)"
   ]
  },
  {
   "cell_type": "code",
   "execution_count": null,
   "id": "31a5996a-4f51-4ad4-96fa-e8c3865233ba",
   "metadata": {},
   "outputs": [],
   "source": []
  },
  {
   "cell_type": "code",
   "execution_count": null,
   "id": "d3e310fd-f6e2-4b76-9bcd-eb59ca287a06",
   "metadata": {},
   "outputs": [],
   "source": [
    "i = 1\n",
    "while i <= 10:\n",
    "    if i != 5:\n",
    "        print(i)\n",
    "        i = i + 1"
   ]
  },
  {
   "cell_type": "markdown",
   "id": "06c29470-3f33-4958-b38b-e8aff549f45f",
   "metadata": {},
   "source": [
    "# continue\n",
    "the continue statement in python is used to skip the current iteration"
   ]
  },
  {
   "cell_type": "code",
   "execution_count": null,
   "id": "eff16f6f-72ba-4e8d-9bb3-a9f539fb4737",
   "metadata": {},
   "outputs": [],
   "source": []
  }
 ],
 "metadata": {
  "kernelspec": {
   "display_name": "Python 3 (ipykernel)",
   "language": "python",
   "name": "python3"
  },
  "language_info": {
   "codemirror_mode": {
    "name": "ipython",
    "version": 3
   },
   "file_extension": ".py",
   "mimetype": "text/x-python",
   "name": "python",
   "nbconvert_exporter": "python",
   "pygments_lexer": "ipython3",
   "version": "3.12.7"
  }
 },
 "nbformat": 4,
 "nbformat_minor": 5
}
