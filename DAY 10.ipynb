{
 "cells": [
  {
   "cell_type": "markdown",
   "id": "cd95ef0d-6902-4987-9b6e-565dbeb19903",
   "metadata": {},
   "source": [
    "### Array Methods /Functions "
   ]
  },
  {
   "cell_type": "markdown",
   "id": "b56210ba-eba5-4da2-a7e6-a9f72b3099d9",
   "metadata": {},
   "source": [
    "# Array Creation"
   ]
  },
  {
   "cell_type": "markdown",
   "id": "432b559d-d5bb-42ad-8db1-315b25e06644",
   "metadata": {},
   "source": [
    "## np.array()\n",
    "Converts a list or tuple into a Numpy array."
   ]
  },
  {
   "cell_type": "code",
   "execution_count": 8,
   "id": "ab6ffb86-c1b6-4b8d-a2be-11e758897a0a",
   "metadata": {},
   "outputs": [],
   "source": [
    "import numpy as np"
   ]
  },
  {
   "cell_type": "code",
   "execution_count": 10,
   "id": "b5a09037-584f-49c4-b3c0-3b1f756516e0",
   "metadata": {},
   "outputs": [
    {
     "name": "stdout",
     "output_type": "stream",
     "text": [
      "[1 2 3]\n"
     ]
    }
   ],
   "source": [
    "my_list = [1, 2, 3]\n",
    "array = np.array(my_list)\n",
    "print(array)"
   ]
  },
  {
   "cell_type": "code",
   "execution_count": 14,
   "id": "dde3a740-fe26-48f8-b08e-344789876a41",
   "metadata": {},
   "outputs": [
    {
     "name": "stdout",
     "output_type": "stream",
     "text": [
      "[[0. 0. 0.]\n",
      " [0. 0. 0.]]\n"
     ]
    }
   ],
   "source": [
    "array = np.zeros((2, 3))\n",
    "print(array)"
   ]
  },
  {
   "cell_type": "code",
   "execution_count": 16,
   "id": "cc8bdbaa-715b-4a56-b4dd-8048f25939a3",
   "metadata": {},
   "outputs": [
    {
     "name": "stdout",
     "output_type": "stream",
     "text": [
      "[[1. 1.]\n",
      " [1. 1.]]\n"
     ]
    }
   ],
   "source": [
    "array = np.ones((2, 2))\n",
    "print(array)"
   ]
  },
  {
   "cell_type": "code",
   "execution_count": 18,
   "id": "33be6664-b285-436a-8e25-e914b1eabdf5",
   "metadata": {},
   "outputs": [
    {
     "name": "stdout",
     "output_type": "stream",
     "text": [
      "[[0. 0. 0.]\n",
      " [0. 0. 0.]]\n"
     ]
    }
   ],
   "source": [
    "array = np.empty((2, 3))\n",
    "print(array)"
   ]
  },
  {
   "cell_type": "code",
   "execution_count": 20,
   "id": "fcfb599b-1072-4ff4-8690-ae12f00c440e",
   "metadata": {},
   "outputs": [
    {
     "name": "stdout",
     "output_type": "stream",
     "text": [
      "[0 2 4 6 8]\n"
     ]
    }
   ],
   "source": [
    "array = np.arange(0, 10, 2)\n",
    "print(array)"
   ]
  },
  {
   "cell_type": "code",
   "execution_count": 22,
   "id": "c3c995f3-7ee1-4400-a454-3283377e8b38",
   "metadata": {},
   "outputs": [],
   "source": [
    "a12 = np.arange(0,10)"
   ]
  },
  {
   "cell_type": "code",
   "execution_count": 24,
   "id": "f05bd069-c577-43aa-b346-94e53040fd2a",
   "metadata": {},
   "outputs": [],
   "source": [
    "a11 = np.arange(12).reshape(3,4)"
   ]
  },
  {
   "cell_type": "code",
   "execution_count": 26,
   "id": "9643dc35-db24-4fac-a957-0bf345278e1f",
   "metadata": {},
   "outputs": [
    {
     "data": {
      "text/plain": [
       "array([[ 0,  1,  2,  3],\n",
       "       [ 4,  5,  6,  7],\n",
       "       [ 8,  9, 10, 11]])"
      ]
     },
     "execution_count": 26,
     "metadata": {},
     "output_type": "execute_result"
    }
   ],
   "source": [
    "a11"
   ]
  },
  {
   "cell_type": "code",
   "execution_count": 28,
   "id": "ccdcb246-bf7d-45b2-a190-f43d00d2b75d",
   "metadata": {},
   "outputs": [],
   "source": [
    "a33= np.arange(27).reshape(3,3,3)"
   ]
  },
  {
   "cell_type": "code",
   "execution_count": 30,
   "id": "f7f86fd5-356b-4ff2-852e-b166fe43083a",
   "metadata": {},
   "outputs": [
    {
     "data": {
      "text/plain": [
       "array([[[ 0,  1,  2],\n",
       "        [ 3,  4,  5],\n",
       "        [ 6,  7,  8]],\n",
       "\n",
       "       [[ 9, 10, 11],\n",
       "        [12, 13, 14],\n",
       "        [15, 16, 17]],\n",
       "\n",
       "       [[18, 19, 20],\n",
       "        [21, 22, 23],\n",
       "        [24, 25, 26]]])"
      ]
     },
     "execution_count": 30,
     "metadata": {},
     "output_type": "execute_result"
    }
   ],
   "source": [
    "a33\n"
   ]
  },
  {
   "cell_type": "code",
   "execution_count": 32,
   "id": "91a0b070-c5c4-49cf-9960-057f85dd99a0",
   "metadata": {},
   "outputs": [
    {
     "name": "stdout",
     "output_type": "stream",
     "text": [
      "[0.   0.25 0.5  0.75 1.  ]\n"
     ]
    }
   ],
   "source": [
    "array = np.linspace(0, 1, 5)\n",
    "print(array) "
   ]
  },
  {
   "cell_type": "code",
   "execution_count": 34,
   "id": "f0b5818b-1d0b-44ba-bdfd-dc2c57d46849",
   "metadata": {},
   "outputs": [
    {
     "data": {
      "text/plain": [
       "array([ 0.        ,  3.33333333,  6.66666667, 10.        ])"
      ]
     },
     "execution_count": 34,
     "metadata": {},
     "output_type": "execute_result"
    }
   ],
   "source": [
    "array = np.linspace(0, 10,4 )\n",
    "array"
   ]
  },
  {
   "cell_type": "code",
   "execution_count": 36,
   "id": "244e2494-a7e0-424d-b56b-ff2ce0085a38",
   "metadata": {},
   "outputs": [
    {
     "name": "stdout",
     "output_type": "stream",
     "text": [
      "[[1. 0. 0.]\n",
      " [0. 1. 0.]\n",
      " [0. 0. 1.]]\n"
     ]
    }
   ],
   "source": [
    "array = np.eye(3)\n",
    "print(array)"
   ]
  },
  {
   "cell_type": "code",
   "execution_count": 38,
   "id": "7ab2e353-685c-4569-bdb5-d2b6fcb27305",
   "metadata": {},
   "outputs": [
    {
     "name": "stdout",
     "output_type": "stream",
     "text": [
      "[[7 7 7]\n",
      " [7 7 7]]\n"
     ]
    }
   ],
   "source": [
    "array = np.full((2, 3), 7)\n",
    "print(array)"
   ]
  },
  {
   "cell_type": "markdown",
   "id": "5f022db2-3f45-42a8-bbae-ebe0efd6213b",
   "metadata": {},
   "source": [
    "## Manipulation"
   ]
  },
  {
   "cell_type": "code",
   "execution_count": 41,
   "id": "8f0f2761-6010-4bf1-86c8-ad0d7e02796b",
   "metadata": {},
   "outputs": [],
   "source": [
    "a = np.arange(24)"
   ]
  },
  {
   "cell_type": "code",
   "execution_count": 43,
   "id": "3b5cbcbc-ed4f-4b7f-9498-f37c13009e86",
   "metadata": {},
   "outputs": [
    {
     "ename": "NameError",
     "evalue": "name 'A' is not defined",
     "output_type": "error",
     "traceback": [
      "\u001b[1;31m---------------------------------------------------------------------------\u001b[0m",
      "\u001b[1;31mNameError\u001b[0m                                 Traceback (most recent call last)",
      "Cell \u001b[1;32mIn[43], line 1\u001b[0m\n\u001b[1;32m----> 1\u001b[0m A\n",
      "\u001b[1;31mNameError\u001b[0m: name 'A' is not defined"
     ]
    }
   ],
   "source": [
    "A"
   ]
  },
  {
   "cell_type": "code",
   "execution_count": 45,
   "id": "533f070a-7ae2-4431-8694-1e286015d236",
   "metadata": {},
   "outputs": [
    {
     "data": {
      "text/plain": [
       "array([ 0,  1,  2,  3,  4,  5,  6,  7,  8,  9, 10, 11, 12, 13, 14, 15, 16,\n",
       "       17, 18, 19, 20, 21, 22, 23])"
      ]
     },
     "execution_count": 45,
     "metadata": {},
     "output_type": "execute_result"
    }
   ],
   "source": [
    "a"
   ]
  },
  {
   "cell_type": "code",
   "execution_count": 47,
   "id": "82a7b650-242e-4fcb-abdd-ff7a9ce66a57",
   "metadata": {},
   "outputs": [],
   "source": [
    "a = np.arange(24).reshape(6,4)"
   ]
  },
  {
   "cell_type": "code",
   "execution_count": 49,
   "id": "5ff4332d-fde3-4101-bd25-b20ecbb78ba8",
   "metadata": {},
   "outputs": [
    {
     "data": {
      "text/plain": [
       "array([[ 0,  1,  2,  3],\n",
       "       [ 4,  5,  6,  7],\n",
       "       [ 8,  9, 10, 11],\n",
       "       [12, 13, 14, 15],\n",
       "       [16, 17, 18, 19],\n",
       "       [20, 21, 22, 23]])"
      ]
     },
     "execution_count": 49,
     "metadata": {},
     "output_type": "execute_result"
    }
   ],
   "source": [
    "a"
   ]
  },
  {
   "cell_type": "code",
   "execution_count": 51,
   "id": "b019511e-638a-4a4f-a7de-d05a046bd9c0",
   "metadata": {},
   "outputs": [
    {
     "data": {
      "text/plain": [
       "array([[1, 2, 3],\n",
       "       [4, 5, 6]])"
      ]
     },
     "execution_count": 51,
     "metadata": {},
     "output_type": "execute_result"
    }
   ],
   "source": [
    "import numpy as np\n",
    "\n",
    "array = np.array([1, 2, 3, 4, 5, 6])\n",
    "reshaped_array = np.reshape(array, (2, 3))\n",
    "reshaped_array "
   ]
  },
  {
   "cell_type": "code",
   "execution_count": 53,
   "id": "76a59813-7e8a-4da5-b4f1-c9f2074d130d",
   "metadata": {},
   "outputs": [
    {
     "ename": "NameError",
     "evalue": "name 'a21' is not defined",
     "output_type": "error",
     "traceback": [
      "\u001b[1;31m---------------------------------------------------------------------------\u001b[0m",
      "\u001b[1;31mNameError\u001b[0m                                 Traceback (most recent call last)",
      "Cell \u001b[1;32mIn[53], line 1\u001b[0m\n\u001b[1;32m----> 1\u001b[0m a21\n",
      "\u001b[1;31mNameError\u001b[0m: name 'a21' is not defined"
     ]
    }
   ],
   "source": [
    "a21"
   ]
  },
  {
   "cell_type": "code",
   "execution_count": 55,
   "id": "86154077-a8db-4fa1-8da6-c18ee740c654",
   "metadata": {},
   "outputs": [
    {
     "ename": "NameError",
     "evalue": "name 'a21' is not defined",
     "output_type": "error",
     "traceback": [
      "\u001b[1;31m---------------------------------------------------------------------------\u001b[0m",
      "\u001b[1;31mNameError\u001b[0m                                 Traceback (most recent call last)",
      "Cell \u001b[1;32mIn[55], line 1\u001b[0m\n\u001b[1;32m----> 1\u001b[0m np\u001b[38;5;241m.\u001b[39mtranspose(a21)\n",
      "\u001b[1;31mNameError\u001b[0m: name 'a21' is not defined"
     ]
    }
   ],
   "source": [
    "np.transpose(a21)"
   ]
  },
  {
   "cell_type": "code",
   "execution_count": 57,
   "id": "076a304e-da4c-4fd4-ae09-9ead47f7fdf9",
   "metadata": {},
   "outputs": [
    {
     "data": {
      "text/plain": [
       "array([[1, 4],\n",
       "       [2, 5],\n",
       "       [3, 6]])"
      ]
     },
     "execution_count": 57,
     "metadata": {},
     "output_type": "execute_result"
    }
   ],
   "source": [
    "array = np.array([[1, 2, 3], [4, 5, 6]])\n",
    "transposed_array = np.transpose(array)\n",
    "transposed_array"
   ]
  },
  {
   "cell_type": "code",
   "execution_count": 59,
   "id": "898b7ae8-555d-497d-b7f5-f7f06bd7bda5",
   "metadata": {},
   "outputs": [],
   "source": [
    "a22 = np.arange(12).reshape(3,4)"
   ]
  },
  {
   "cell_type": "code",
   "execution_count": 61,
   "id": "b21e3087-c6c2-4552-b733-e7f977fd9446",
   "metadata": {},
   "outputs": [
    {
     "data": {
      "text/plain": [
       "array([[ 0,  1,  2,  3],\n",
       "       [ 4,  5,  6,  7],\n",
       "       [ 8,  9, 10, 11]])"
      ]
     },
     "execution_count": 61,
     "metadata": {},
     "output_type": "execute_result"
    }
   ],
   "source": [
    "a22"
   ]
  },
  {
   "cell_type": "code",
   "execution_count": 63,
   "id": "0fc8dc22-ee94-41f7-9ab4-a08a5917f48e",
   "metadata": {},
   "outputs": [
    {
     "data": {
      "text/plain": [
       "array([ 0,  1,  2,  3,  4,  5,  6,  7,  8,  9, 10, 11])"
      ]
     },
     "execution_count": 63,
     "metadata": {},
     "output_type": "execute_result"
    }
   ],
   "source": [
    "a22.ravel()"
   ]
  },
  {
   "cell_type": "code",
   "execution_count": 65,
   "id": "b1d77964-8be6-46fb-a54e-1d0a4b825ce7",
   "metadata": {},
   "outputs": [],
   "source": [
    "array = np.array([[1, 2], [3, 4]])"
   ]
  },
  {
   "cell_type": "code",
   "execution_count": 67,
   "id": "9296a9af-2296-44ca-bd91-60e35fb22c2b",
   "metadata": {},
   "outputs": [
    {
     "ename": "NameError",
     "evalue": "name 'a21' is not defined",
     "output_type": "error",
     "traceback": [
      "\u001b[1;31m---------------------------------------------------------------------------\u001b[0m",
      "\u001b[1;31mNameError\u001b[0m                                 Traceback (most recent call last)",
      "Cell \u001b[1;32mIn[67], line 1\u001b[0m\n\u001b[1;32m----> 1\u001b[0m a21\n",
      "\u001b[1;31mNameError\u001b[0m: name 'a21' is not defined"
     ]
    }
   ],
   "source": [
    "a21\n"
   ]
  },
  {
   "cell_type": "code",
   "execution_count": 69,
   "id": "bd0a1171-b631-4584-aee5-bab03baba619",
   "metadata": {},
   "outputs": [
    {
     "ename": "NameError",
     "evalue": "name 'a21' is not defined",
     "output_type": "error",
     "traceback": [
      "\u001b[1;31m---------------------------------------------------------------------------\u001b[0m",
      "\u001b[1;31mNameError\u001b[0m                                 Traceback (most recent call last)",
      "Cell \u001b[1;32mIn[69], line 1\u001b[0m\n\u001b[1;32m----> 1\u001b[0m np\u001b[38;5;241m.\u001b[39mravel(a21)\n",
      "\u001b[1;31mNameError\u001b[0m: name 'a21' is not defined"
     ]
    }
   ],
   "source": [
    "np.ravel(a21)"
   ]
  },
  {
   "cell_type": "code",
   "execution_count": 71,
   "id": "8c07c22c-dc95-4900-9fc2-618b4dc02208",
   "metadata": {},
   "outputs": [
    {
     "data": {
      "text/plain": [
       "array([[[ 0,  1,  2],\n",
       "        [ 3,  4,  5],\n",
       "        [ 6,  7,  8]],\n",
       "\n",
       "       [[ 9, 10, 11],\n",
       "        [12, 13, 14],\n",
       "        [15, 16, 17]],\n",
       "\n",
       "       [[18, 19, 20],\n",
       "        [21, 22, 23],\n",
       "        [24, 25, 26]]])"
      ]
     },
     "execution_count": 71,
     "metadata": {},
     "output_type": "execute_result"
    }
   ],
   "source": [
    "a33\n"
   ]
  },
  {
   "cell_type": "code",
   "execution_count": 73,
   "id": "56f0dc25-d8a7-412d-8b15-b0cedeef576f",
   "metadata": {},
   "outputs": [
    {
     "data": {
      "text/plain": [
       "array([1, 2, 3, 4])"
      ]
     },
     "execution_count": 73,
     "metadata": {},
     "output_type": "execute_result"
    }
   ],
   "source": [
    "flattened_array = np.ravel(array)\n",
    "flattened_array"
   ]
  },
  {
   "cell_type": "code",
   "execution_count": 75,
   "id": "d6639af4-b2d8-4be5-a354-ead8ee789801",
   "metadata": {},
   "outputs": [],
   "source": [
    "a21 = np.array([[ 0,  1,  2,  3],\n",
    "       [ 4,  5,  6,  7],\n",
    "       [ 8,  9, 10, 11]])"
   ]
  },
  {
   "cell_type": "code",
   "execution_count": 77,
   "id": "defb644f-9f90-45af-9f32-e65d1f9bc7e6",
   "metadata": {},
   "outputs": [],
   "source": [
    "a22 = np.arange(12).reshape(3,4)"
   ]
  },
  {
   "cell_type": "code",
   "execution_count": 79,
   "id": "1d7f47c0-fc45-4708-b20f-51d396145967",
   "metadata": {},
   "outputs": [
    {
     "data": {
      "text/plain": [
       "array([[ 0,  1,  2,  3],\n",
       "       [ 4,  5,  6,  7],\n",
       "       [ 8,  9, 10, 11]])"
      ]
     },
     "execution_count": 79,
     "metadata": {},
     "output_type": "execute_result"
    }
   ],
   "source": [
    "a22"
   ]
  },
  {
   "cell_type": "code",
   "execution_count": 81,
   "id": "79920bbe-49cd-46fc-b5f9-e043bbe86dce",
   "metadata": {},
   "outputs": [
    {
     "data": {
      "text/plain": [
       "array([[ 0,  1,  2,  3],\n",
       "       [ 4,  5,  6,  7],\n",
       "       [ 8,  9, 10, 11]])"
      ]
     },
     "execution_count": 81,
     "metadata": {},
     "output_type": "execute_result"
    }
   ],
   "source": [
    "a21\n"
   ]
  },
  {
   "cell_type": "code",
   "execution_count": 83,
   "id": "0c0e3574-8618-4e7e-8962-3009e3880e01",
   "metadata": {},
   "outputs": [
    {
     "data": {
      "text/plain": [
       "array([[ 0,  1,  2,  3],\n",
       "       [ 4,  5,  6,  7],\n",
       "       [ 8,  9, 10, 11],\n",
       "       [ 0,  1,  2,  3],\n",
       "       [ 4,  5,  6,  7],\n",
       "       [ 8,  9, 10, 11]])"
      ]
     },
     "execution_count": 83,
     "metadata": {},
     "output_type": "execute_result"
    }
   ],
   "source": [
    "np.concatenate((a21,a22),axis= 0)"
   ]
  },
  {
   "cell_type": "code",
   "execution_count": 85,
   "id": "c64b21a5-8149-44f6-b369-6443090b9d39",
   "metadata": {},
   "outputs": [
    {
     "data": {
      "text/plain": [
       "array([[ 0,  1,  2,  3],\n",
       "       [ 4,  5,  6,  7],\n",
       "       [ 8,  9, 10, 11],\n",
       "       [ 0,  1,  2,  3],\n",
       "       [ 4,  5,  6,  7],\n",
       "       [ 8,  9, 10, 11]])"
      ]
     },
     "execution_count": 85,
     "metadata": {},
     "output_type": "execute_result"
    }
   ],
   "source": [
    "np.concatenate((a21,a22),axis=0)"
   ]
  },
  {
   "cell_type": "code",
   "execution_count": 87,
   "id": "646b2693-c06a-4dc3-be94-3b824936f3c5",
   "metadata": {},
   "outputs": [],
   "source": [
    "a = np.arange(12).reshape(6,2)"
   ]
  },
  {
   "cell_type": "code",
   "execution_count": 89,
   "id": "de38cf91-8029-44c9-a963-c0c6381c6278",
   "metadata": {},
   "outputs": [],
   "source": [
    "b = np.arange(12).reshape(2,6)"
   ]
  },
  {
   "cell_type": "code",
   "execution_count": 91,
   "id": "3b49b2f4-3f98-4495-93b5-4d9086675453",
   "metadata": {},
   "outputs": [
    {
     "ename": "ValueError",
     "evalue": "all the input array dimensions except for the concatenation axis must match exactly, but along dimension 1, the array at index 0 has size 2 and the array at index 1 has size 6",
     "output_type": "error",
     "traceback": [
      "\u001b[1;31m---------------------------------------------------------------------------\u001b[0m",
      "\u001b[1;31mValueError\u001b[0m                                Traceback (most recent call last)",
      "Cell \u001b[1;32mIn[91], line 1\u001b[0m\n\u001b[1;32m----> 1\u001b[0m np\u001b[38;5;241m.\u001b[39mconcatenate((a,b))\n",
      "\u001b[1;31mValueError\u001b[0m: all the input array dimensions except for the concatenation axis must match exactly, but along dimension 1, the array at index 0 has size 2 and the array at index 1 has size 6"
     ]
    }
   ],
   "source": [
    "np.concatenate((a,b))"
   ]
  },
  {
   "cell_type": "code",
   "execution_count": 93,
   "id": "5ae5ab16-3b3e-4dad-b51b-911069d09836",
   "metadata": {},
   "outputs": [
    {
     "name": "stdout",
     "output_type": "stream",
     "text": [
      "10\n"
     ]
    }
   ],
   "source": [
    "def func(a,b,c):\n",
    "    print(a)\n",
    "func(10,20,30)\n",
    "    "
   ]
  },
  {
   "cell_type": "code",
   "execution_count": 95,
   "id": "a8761df1-ee7f-4925-89cc-af0f79634174",
   "metadata": {},
   "outputs": [
    {
     "data": {
      "text/plain": [
       "array([[ 0,  1,  2,  3,  0,  1,  2,  3],\n",
       "       [ 4,  5,  6,  7,  4,  5,  6,  7],\n",
       "       [ 8,  9, 10, 11,  8,  9, 10, 11]])"
      ]
     },
     "execution_count": 95,
     "metadata": {},
     "output_type": "execute_result"
    }
   ],
   "source": [
    "np.concatenate((a21,a22),axis = 1)   "
   ]
  },
  {
   "cell_type": "code",
   "execution_count": 97,
   "id": "a771b090-b5a6-4f23-9b9b-6c1986c7a44b",
   "metadata": {},
   "outputs": [
    {
     "data": {
      "text/plain": [
       "array([[ 0,  1,  2,  3],\n",
       "       [ 4,  5,  6,  7],\n",
       "       [ 8,  9, 10, 11],\n",
       "       [ 0,  1,  2,  3],\n",
       "       [ 4,  5,  6,  7],\n",
       "       [ 8,  9, 10, 11]])"
      ]
     },
     "execution_count": 97,
     "metadata": {},
     "output_type": "execute_result"
    }
   ],
   "source": [
    "np.concatenate((a21,a22),axis = 0)"
   ]
  },
  {
   "cell_type": "code",
   "execution_count": 99,
   "id": "0e1d6fdb-feb0-4aaf-b127-bf36d68e10d1",
   "metadata": {},
   "outputs": [
    {
     "data": {
      "text/plain": [
       "array([[1, 2, 5, 6],\n",
       "       [3, 4, 7, 8]])"
      ]
     },
     "execution_count": 99,
     "metadata": {},
     "output_type": "execute_result"
    }
   ],
   "source": [
    "array1 = np.array([[1, 2], [3, 4]])\n",
    "array2 = np.array([[5, 6], [7, 8]])\n",
    "\n",
    "np.concatenate((array1,array2),axis = 1) "
   ]
  },
  {
   "cell_type": "code",
   "execution_count": 101,
   "id": "1bb32c84-4ec6-469a-a0cd-ba3fe83bafaa",
   "metadata": {},
   "outputs": [
    {
     "data": {
      "text/plain": [
       "array([[1, 2],\n",
       "       [3, 4],\n",
       "       [5, 6],\n",
       "       [7, 8]])"
      ]
     },
     "execution_count": 101,
     "metadata": {},
     "output_type": "execute_result"
    }
   ],
   "source": [
    "concatenated_array = np.concatenate((array1, array2), axis=0)   #axis = 0 for row wise concatenation\n",
    "concatenated_array"
   ]
  },
  {
   "cell_type": "code",
   "execution_count": 103,
   "id": "0dbfe702-f029-4e54-8919-2335a5fe5f33",
   "metadata": {},
   "outputs": [],
   "source": [
    "array1 = np.array([1, 2, 3])\n",
    "array2 = np.array([4, 5, 6])"
   ]
  },
  {
   "cell_type": "code",
   "execution_count": 105,
   "id": "69ecfe0f-e9a0-41b2-9b88-8fca672b22bc",
   "metadata": {},
   "outputs": [
    {
     "data": {
      "text/plain": [
       "array([[ 0,  1,  2,  3],\n",
       "       [ 4,  5,  6,  7],\n",
       "       [ 8,  9, 10, 11]])"
      ]
     },
     "execution_count": 105,
     "metadata": {},
     "output_type": "execute_result"
    }
   ],
   "source": [
    "a21\n"
   ]
  },
  {
   "cell_type": "code",
   "execution_count": 107,
   "id": "a6cf6447-0e09-4382-a7f0-328b55c83cb6",
   "metadata": {},
   "outputs": [
    {
     "data": {
      "text/plain": [
       "array([[ 0,  1,  2,  3],\n",
       "       [ 4,  5,  6,  7],\n",
       "       [ 8,  9, 10, 11]])"
      ]
     },
     "execution_count": 107,
     "metadata": {},
     "output_type": "execute_result"
    }
   ],
   "source": [
    "a22"
   ]
  },
  {
   "cell_type": "code",
   "execution_count": 109,
   "id": "f92149b9-7df4-4c3e-be3e-21ae59f06055",
   "metadata": {},
   "outputs": [
    {
     "data": {
      "text/plain": [
       "array([[ 0,  1,  2,  3],\n",
       "       [ 4,  5,  6,  7],\n",
       "       [ 8,  9, 10, 11],\n",
       "       [ 0,  1,  2,  3],\n",
       "       [ 4,  5,  6,  7],\n",
       "       [ 8,  9, 10, 11]])"
      ]
     },
     "execution_count": 109,
     "metadata": {},
     "output_type": "execute_result"
    }
   ],
   "source": [
    "np.vstack((a21,a22))"
   ]
  },
  {
   "cell_type": "code",
   "execution_count": 111,
   "id": "caadb6a2-0d9c-45ef-8e0f-dda592c584ca",
   "metadata": {},
   "outputs": [
    {
     "data": {
      "text/plain": [
       "array([[1, 2, 3],\n",
       "       [4, 5, 6]])"
      ]
     },
     "execution_count": 111,
     "metadata": {},
     "output_type": "execute_result"
    }
   ],
   "source": [
    "vstacked_array = np.vstack((array1, array2))\n",
    "vstacked_array "
   ]
  },
  {
   "cell_type": "code",
   "execution_count": 113,
   "id": "5b78ffc6-fd45-4da2-94b6-7f8ec5fb47e9",
   "metadata": {},
   "outputs": [
    {
     "data": {
      "text/plain": [
       "array([[ 0,  1,  2,  3,  0,  1,  2,  3],\n",
       "       [ 4,  5,  6,  7,  4,  5,  6,  7],\n",
       "       [ 8,  9, 10, 11,  8,  9, 10, 11]])"
      ]
     },
     "execution_count": 113,
     "metadata": {},
     "output_type": "execute_result"
    }
   ],
   "source": [
    "np.hstack((a21,a22))"
   ]
  },
  {
   "cell_type": "code",
   "execution_count": 115,
   "id": "073c72d6-3c37-4445-8a63-fcd34b159cf5",
   "metadata": {},
   "outputs": [],
   "source": [
    "array1 = np.array([1, 2, 3])\n",
    "\n",
    "array2 = np.array([4, 5, 6])"
   ]
  },
  {
   "cell_type": "code",
   "execution_count": 117,
   "id": "96015c10-a0d8-405e-af18-1a9ad554445b",
   "metadata": {},
   "outputs": [
    {
     "data": {
      "text/plain": [
       "array([1, 2, 3, 4, 5, 6])"
      ]
     },
     "execution_count": 117,
     "metadata": {},
     "output_type": "execute_result"
    }
   ],
   "source": [
    "hstacked_array = np.hstack((array1, array2))\n",
    "hstacked_array"
   ]
  },
  {
   "cell_type": "code",
   "execution_count": 119,
   "id": "c22f7419-db8b-4804-b817-966b1b79994e",
   "metadata": {},
   "outputs": [
    {
     "data": {
      "text/plain": [
       "[array([1, 2]), array([3, 4]), array([5, 6])]"
      ]
     },
     "execution_count": 119,
     "metadata": {},
     "output_type": "execute_result"
    }
   ],
   "source": [
    "array = np.array([1, 2, 3, 4, 5, 6])\n",
    "split_array = np.split(array, 3)\n",
    "split_array"
   ]
  },
  {
   "cell_type": "code",
   "execution_count": 121,
   "id": "5170fce6-006c-48a8-9fff-888283f60a9b",
   "metadata": {},
   "outputs": [
    {
     "data": {
      "text/plain": [
       "array([[ 0,  1,  2,  3],\n",
       "       [ 4,  5,  6,  7],\n",
       "       [ 8,  9, 10, 11]])"
      ]
     },
     "execution_count": 121,
     "metadata": {},
     "output_type": "execute_result"
    }
   ],
   "source": [
    "a21\n"
   ]
  },
  {
   "cell_type": "code",
   "execution_count": 123,
   "id": "096ee15f-4a00-4e08-b2f4-b31fb49397b7",
   "metadata": {},
   "outputs": [
    {
     "data": {
      "text/plain": [
       "array([[ 0,  1,  2,  3],\n",
       "       [ 4,  5,  6,  7],\n",
       "       [ 8,  9, 10, 11]])"
      ]
     },
     "execution_count": 123,
     "metadata": {},
     "output_type": "execute_result"
    }
   ],
   "source": [
    "a11"
   ]
  },
  {
   "cell_type": "code",
   "execution_count": 125,
   "id": "d2b8670c-4d22-4734-9129-324ed27cb69d",
   "metadata": {},
   "outputs": [
    {
     "data": {
      "text/plain": [
       "5.5"
      ]
     },
     "execution_count": 125,
     "metadata": {},
     "output_type": "execute_result"
    }
   ],
   "source": [
    "np.mean(a21)"
   ]
  },
  {
   "cell_type": "code",
   "execution_count": 127,
   "id": "2709685d-3967-408f-ab56-a434642fa33e",
   "metadata": {},
   "outputs": [
    {
     "data": {
      "text/plain": [
       "3.0"
      ]
     },
     "execution_count": 127,
     "metadata": {},
     "output_type": "execute_result"
    }
   ],
   "source": [
    "import numpy as np\n",
    "\n",
    "array = np.array([1, 2, 3, 4, 5])\n",
    "mean_value = np.mean(array)\n",
    "mean_value"
   ]
  },
  {
   "cell_type": "code",
   "execution_count": 129,
   "id": "1ed1d4e8-e0c0-4e72-94c1-3c9eb97cc297",
   "metadata": {},
   "outputs": [
    {
     "data": {
      "text/plain": [
       "5.5"
      ]
     },
     "execution_count": 129,
     "metadata": {},
     "output_type": "execute_result"
    }
   ],
   "source": [
    "np.median(a11)"
   ]
  },
  {
   "cell_type": "code",
   "execution_count": 131,
   "id": "7454f07e-9b66-4ee6-bf54-e72bca3ec327",
   "metadata": {},
   "outputs": [],
   "source": [
    "a = np.arange(9)"
   ]
  },
  {
   "cell_type": "code",
   "execution_count": 133,
   "id": "242ca544-55b9-40c2-9f94-663218d3bc7e",
   "metadata": {},
   "outputs": [
    {
     "data": {
      "text/plain": [
       "4.0"
      ]
     },
     "execution_count": 133,
     "metadata": {},
     "output_type": "execute_result"
    }
   ],
   "source": [
    "np.median(a)"
   ]
  },
  {
   "cell_type": "code",
   "execution_count": 135,
   "id": "7afa610a-0320-4244-829a-eeb9585b3e78",
   "metadata": {},
   "outputs": [
    {
     "data": {
      "text/plain": [
       "3.0"
      ]
     },
     "execution_count": 135,
     "metadata": {},
     "output_type": "execute_result"
    }
   ],
   "source": [
    "median_value = np.median(array)\n",
    "median_value "
   ]
  },
  {
   "cell_type": "code",
   "execution_count": 137,
   "id": "0aec733d-dbdb-420d-803d-ca2ccfa2d67a",
   "metadata": {},
   "outputs": [
    {
     "data": {
      "text/plain": [
       "1.4142135623730951"
      ]
     },
     "execution_count": 137,
     "metadata": {},
     "output_type": "execute_result"
    }
   ],
   "source": [
    "std_deviation = np.std(array)\n",
    "std_deviation"
   ]
  },
  {
   "cell_type": "code",
   "execution_count": 139,
   "id": "7f83ce29-af82-43f5-b468-b9419caaf99a",
   "metadata": {},
   "outputs": [
    {
     "data": {
      "text/plain": [
       "3.452052529534663"
      ]
     },
     "execution_count": 139,
     "metadata": {},
     "output_type": "execute_result"
    }
   ],
   "source": [
    "np.std(a11)"
   ]
  },
  {
   "cell_type": "code",
   "execution_count": 141,
   "id": "3e2e8558-a415-4911-a75c-52079cbb25d4",
   "metadata": {},
   "outputs": [
    {
     "data": {
      "text/plain": [
       "2.0"
      ]
     },
     "execution_count": 141,
     "metadata": {},
     "output_type": "execute_result"
    }
   ],
   "source": [
    "variance_value = np.var(array)\n",
    "variance_value"
   ]
  },
  {
   "cell_type": "code",
   "execution_count": 143,
   "id": "5c40ce9d-da6a-4085-8cbf-1c546db2c7cb",
   "metadata": {},
   "outputs": [
    {
     "data": {
      "text/plain": [
       "array([[ 0,  1,  2,  3],\n",
       "       [ 4,  5,  6,  7],\n",
       "       [ 8,  9, 10, 11]])"
      ]
     },
     "execution_count": 143,
     "metadata": {},
     "output_type": "execute_result"
    }
   ],
   "source": [
    "a21\n"
   ]
  },
  {
   "cell_type": "code",
   "execution_count": 145,
   "id": "6201e92f-8940-4681-85da-0ea89519824e",
   "metadata": {},
   "outputs": [
    {
     "data": {
      "text/plain": [
       "array([[[ 0,  1,  2],\n",
       "        [ 3,  4,  5],\n",
       "        [ 6,  7,  8]],\n",
       "\n",
       "       [[ 9, 10, 11],\n",
       "        [12, 13, 14],\n",
       "        [15, 16, 17]],\n",
       "\n",
       "       [[18, 19, 20],\n",
       "        [21, 22, 23],\n",
       "        [24, 25, 26]]])"
      ]
     },
     "execution_count": 145,
     "metadata": {},
     "output_type": "execute_result"
    }
   ],
   "source": [
    "a33"
   ]
  },
  {
   "cell_type": "code",
   "execution_count": 147,
   "id": "09957a7f-ac67-4c6b-af12-060e642ed177",
   "metadata": {},
   "outputs": [
    {
     "data": {
      "text/plain": [
       "0"
      ]
     },
     "execution_count": 147,
     "metadata": {},
     "output_type": "execute_result"
    }
   ],
   "source": [
    "np.min(a21)"
   ]
  },
  {
   "cell_type": "code",
   "execution_count": 149,
   "id": "8116cf31-4d21-4d45-9be6-538d34c531df",
   "metadata": {},
   "outputs": [
    {
     "data": {
      "text/plain": [
       "1"
      ]
     },
     "execution_count": 149,
     "metadata": {},
     "output_type": "execute_result"
    }
   ],
   "source": [
    "min_value = np.min(array)\n",
    "min_value "
   ]
  },
  {
   "cell_type": "code",
   "execution_count": 151,
   "id": "704732d9-eb69-4ca1-ac86-4cdaac08eb01",
   "metadata": {},
   "outputs": [
    {
     "data": {
      "text/plain": [
       "5"
      ]
     },
     "execution_count": 151,
     "metadata": {},
     "output_type": "execute_result"
    }
   ],
   "source": [
    "max_value = np.max(array)\n",
    "max_value "
   ]
  },
  {
   "cell_type": "code",
   "execution_count": 153,
   "id": "ea1cc422-2b80-4ba8-ac6c-661243f5163f",
   "metadata": {},
   "outputs": [
    {
     "data": {
      "text/plain": [
       "array([[ 0,  1,  2,  3],\n",
       "       [ 4,  5,  6,  7],\n",
       "       [ 8,  9, 10, 11]])"
      ]
     },
     "execution_count": 153,
     "metadata": {},
     "output_type": "execute_result"
    }
   ],
   "source": [
    "a21\n"
   ]
  },
  {
   "cell_type": "code",
   "execution_count": 155,
   "id": "4b6f34bf-ce6d-44e6-b40f-5e493b6fc9fd",
   "metadata": {},
   "outputs": [
    {
     "data": {
      "text/plain": [
       "66"
      ]
     },
     "execution_count": 155,
     "metadata": {},
     "output_type": "execute_result"
    }
   ],
   "source": [
    "np.sum(a21)"
   ]
  },
  {
   "cell_type": "code",
   "execution_count": 157,
   "id": "5511564c-3dc0-4c77-8dab-e646f7836aac",
   "metadata": {},
   "outputs": [
    {
     "data": {
      "text/plain": [
       "15"
      ]
     },
     "execution_count": 157,
     "metadata": {},
     "output_type": "execute_result"
    }
   ],
   "source": [
    "sum_value = np.sum(array)\n",
    "sum_value "
   ]
  },
  {
   "cell_type": "code",
   "execution_count": 159,
   "id": "597f2ce7-1281-405f-b334-0ea67cbc1773",
   "metadata": {},
   "outputs": [
    {
     "data": {
      "text/plain": [
       "array([  0,  45, 120, 231])"
      ]
     },
     "execution_count": 159,
     "metadata": {},
     "output_type": "execute_result"
    }
   ],
   "source": [
    "np.prod(a21,axis = 0)"
   ]
  },
  {
   "cell_type": "code",
   "execution_count": 161,
   "id": "6145051a-f84d-46df-ac2f-299f73b361a2",
   "metadata": {},
   "outputs": [
    {
     "data": {
      "text/plain": [
       "array([   0,  840, 7920])"
      ]
     },
     "execution_count": 161,
     "metadata": {},
     "output_type": "execute_result"
    }
   ],
   "source": [
    "np.prod(a21,axis = 1)"
   ]
  },
  {
   "cell_type": "code",
   "execution_count": 163,
   "id": "70f4e34d-6203-40c5-97ec-679678952d1e",
   "metadata": {},
   "outputs": [
    {
     "data": {
      "text/plain": [
       "array([1, 2, 3, 4, 5])"
      ]
     },
     "execution_count": 163,
     "metadata": {},
     "output_type": "execute_result"
    }
   ],
   "source": [
    "array\n"
   ]
  },
  {
   "cell_type": "code",
   "execution_count": 165,
   "id": "cf92d895-7ee0-4bfd-8c7f-acfabff1fef0",
   "metadata": {},
   "outputs": [
    {
     "data": {
      "text/plain": [
       "120"
      ]
     },
     "execution_count": 165,
     "metadata": {},
     "output_type": "execute_result"
    }
   ],
   "source": [
    "product_value = np.prod(array,axis =0 )\n",
    "product_value "
   ]
  },
  {
   "cell_type": "code",
   "execution_count": 167,
   "id": "d16c1553-5360-485b-9ef3-a6182b995d38",
   "metadata": {},
   "outputs": [],
   "source": [
    "import numpy as np"
   ]
  },
  {
   "cell_type": "code",
   "execution_count": 169,
   "id": "59afe78a-f983-483d-9b7c-e88e7db4cf5d",
   "metadata": {},
   "outputs": [
    {
     "data": {
      "text/plain": [
       "array([[ 0,  1,  2,  3],\n",
       "       [ 4,  5,  6,  7],\n",
       "       [ 8,  9, 10, 11]])"
      ]
     },
     "execution_count": 169,
     "metadata": {},
     "output_type": "execute_result"
    }
   ],
   "source": [
    "a = np.arange(12).reshape(3,4)\n",
    "a"
   ]
  },
  {
   "cell_type": "code",
   "execution_count": 171,
   "id": "b5eb2403-1aa9-4dba-8c07-dd57dcae2b70",
   "metadata": {},
   "outputs": [
    {
     "data": {
      "text/plain": [
       "array([  0,  45, 120, 231])"
      ]
     },
     "execution_count": 171,
     "metadata": {},
     "output_type": "execute_result"
    }
   ],
   "source": [
    "np.prod(a,axis = 0)  "
   ]
  },
  {
   "cell_type": "code",
   "execution_count": 173,
   "id": "618aceb4-9f04-4f49-9459-a9f5b4687e98",
   "metadata": {},
   "outputs": [
    {
     "data": {
      "text/plain": [
       "array([   0,  840, 7920])"
      ]
     },
     "execution_count": 173,
     "metadata": {},
     "output_type": "execute_result"
    }
   ],
   "source": [
    "np.prod(a,axis = 1) "
   ]
  },
  {
   "cell_type": "code",
   "execution_count": 175,
   "id": "9fe6d71d-29fd-4d07-b70b-55682ac68775",
   "metadata": {},
   "outputs": [
    {
     "data": {
      "text/plain": [
       "array([[0.28719521, 0.08168534, 0.26920897, 0.84116934, 0.28795316,\n",
       "        0.55670656, 0.42502563, 0.16848901, 0.64777466, 0.14833685],\n",
       "       [0.1025003 , 0.14702149, 0.46235127, 0.96978699, 0.07945067,\n",
       "        0.57933381, 0.9105288 , 0.03287768, 0.90596532, 0.02005908],\n",
       "       [0.66827508, 0.46163988, 0.68450632, 0.20311999, 0.04737228,\n",
       "        0.78324373, 0.04033779, 0.34676159, 0.14338712, 0.62512809],\n",
       "       [0.21668163, 0.96263205, 0.85199239, 0.23946127, 0.97939786,\n",
       "        0.21415784, 0.43752217, 0.90897853, 0.28556894, 0.35448295],\n",
       "       [0.53525588, 0.94980147, 0.03964669, 0.04566458, 0.95400272,\n",
       "        0.42309068, 0.77097164, 0.30225691, 0.66749633, 0.21215638]])"
      ]
     },
     "execution_count": 175,
     "metadata": {},
     "output_type": "execute_result"
    }
   ],
   "source": [
    "np.random.rand(50).reshape(5,10)"
   ]
  },
  {
   "cell_type": "code",
   "execution_count": 177,
   "id": "73446e2e-693d-419a-a1f3-b0292b450083",
   "metadata": {},
   "outputs": [
    {
     "data": {
      "text/plain": [
       "array([0.76888789, 0.78282398, 0.6056506 ])"
      ]
     },
     "execution_count": 177,
     "metadata": {},
     "output_type": "execute_result"
    }
   ],
   "source": [
    "import numpy as np\n",
    "random_values = np.random.rand(3)\n",
    "random_values"
   ]
  },
  {
   "cell_type": "code",
   "execution_count": 179,
   "id": "6f842088-c128-46f6-a576-4dab3b9cb74d",
   "metadata": {},
   "outputs": [
    {
     "data": {
      "text/plain": [
       "array([ 0.50574007,  0.45316345, -0.45166602])"
      ]
     },
     "execution_count": 179,
     "metadata": {},
     "output_type": "execute_result"
    }
   ],
   "source": [
    "random_normal = np.random.randn(3)\n",
    "random_normal"
   ]
  },
  {
   "cell_type": "code",
   "execution_count": 181,
   "id": "8432e73b-ec7f-4be3-8d21-aff5a299082b",
   "metadata": {},
   "outputs": [
    {
     "data": {
      "text/plain": [
       "array([1, 4, 7, 5, 5])"
      ]
     },
     "execution_count": 181,
     "metadata": {},
     "output_type": "execute_result"
    }
   ],
   "source": [
    "np.random.randint(1,10,5)"
   ]
  },
  {
   "cell_type": "code",
   "execution_count": 183,
   "id": "29661c8f-447a-4c21-9525-dd833f9fa234",
   "metadata": {},
   "outputs": [
    {
     "data": {
      "text/plain": [
       "array([4, 5, 2])"
      ]
     },
     "execution_count": 183,
     "metadata": {},
     "output_type": "execute_result"
    }
   ],
   "source": [
    "random_integers = np.random.randint(1, 10, 3)\n",
    "random_integers "
   ]
  },
  {
   "cell_type": "code",
   "execution_count": 185,
   "id": "24234b96-a67d-458e-92f8-c822ee34344f",
   "metadata": {},
   "outputs": [],
   "source": [
    "a = np.arange(12)"
   ]
  },
  {
   "cell_type": "code",
   "execution_count": 187,
   "id": "86fe07f6-f6d2-4151-bf96-a6e71ec4f7cb",
   "metadata": {},
   "outputs": [
    {
     "data": {
      "text/plain": [
       "array([ 0,  1,  2,  3,  4,  5,  6,  7,  8,  9, 10, 11])"
      ]
     },
     "execution_count": 187,
     "metadata": {},
     "output_type": "execute_result"
    }
   ],
   "source": [
    "a"
   ]
  },
  {
   "cell_type": "code",
   "execution_count": 189,
   "id": "e3f95e47-78ef-408a-843f-c07d58362ed6",
   "metadata": {},
   "outputs": [
    {
     "data": {
      "text/plain": [
       "array([ 4,  9,  4, 11,  2])"
      ]
     },
     "execution_count": 189,
     "metadata": {},
     "output_type": "execute_result"
    }
   ],
   "source": [
    "np.random.choice(a,5)"
   ]
  },
  {
   "cell_type": "code",
   "execution_count": 191,
   "id": "1c6d1d0c-d7fb-4793-8f98-dba30a0d2620",
   "metadata": {},
   "outputs": [
    {
     "data": {
      "text/plain": [
       "array([40, 50, 50])"
      ]
     },
     "execution_count": 191,
     "metadata": {},
     "output_type": "execute_result"
    }
   ],
   "source": [
    "array = np.array([10, 20, 30, 40, 50])\n",
    "random_choice = np.random.choice(array, 3)\n",
    "random_choice "
   ]
  },
  {
   "cell_type": "code",
   "execution_count": 193,
   "id": "0ecca7f1-ffcf-4cdf-8f88-31bfd01b9932",
   "metadata": {},
   "outputs": [],
   "source": [
    "\n",
    "import numpy as np"
   ]
  },
  {
   "cell_type": "code",
   "execution_count": 195,
   "id": "b23d69d2-91cc-44de-a3eb-6dde26e92d5e",
   "metadata": {},
   "outputs": [
    {
     "name": "stdout",
     "output_type": "stream",
     "text": [
      "Sales Targets (Q1): [0. 0. 0. 0. 0.]\n"
     ]
    }
   ],
   "source": [
    "sales_targets = np.zeros(5)\n",
    "print(\"Sales Targets (Q1):\", sales_targets)"
   ]
  },
  {
   "cell_type": "code",
   "execution_count": 197,
   "id": "4fa2f777-72ec-4d54-a75d-f5c5f5908985",
   "metadata": {},
   "outputs": [
    {
     "name": "stdout",
     "output_type": "stream",
     "text": [
      "Game Grid (Q2):\n",
      " [[1. 1. 1. 1. 1.]\n",
      " [1. 1. 1. 1. 1.]\n",
      " [1. 1. 1. 1. 1.]\n",
      " [1. 1. 1. 1. 1.]\n",
      " [1. 1. 1. 1. 1.]]\n"
     ]
    }
   ],
   "source": [
    "game_grid = np.ones((5, 5))\n",
    "print(\"Game Grid (Q2):\\n\", game_grid)"
   ]
  },
  {
   "cell_type": "code",
   "execution_count": 199,
   "id": "5d043393-5dde-4106-b1b0-0389a9187801",
   "metadata": {},
   "outputs": [
    {
     "name": "stdout",
     "output_type": "stream",
     "text": [
      "Data Points (Q3): [  0.          11.11111111  22.22222222  33.33333333  44.44444444\n",
      "  55.55555556  66.66666667  77.77777778  88.88888889 100.        ]\n"
     ]
    }
   ],
   "source": [
    "data_points = np.linspace(0, 100, 10)\n",
    "print(\"Data Points (Q3):\", data_points)"
   ]
  },
  {
   "cell_type": "code",
   "execution_count": 201,
   "id": "dd638f51-3e23-4dea-a23d-622ed75c0b23",
   "metadata": {},
   "outputs": [
    {
     "name": "stdout",
     "output_type": "stream",
     "text": [
      "Identity Matrix (Q4):\n",
      " [[1. 0. 0. 0.]\n",
      " [0. 1. 0. 0.]\n",
      " [0. 0. 1. 0.]\n",
      " [0. 0. 0. 1.]]\n"
     ]
    }
   ],
   "source": [
    "\n",
    "identity_matrix = np.eye(4)\n",
    "print(\"Identity Matrix (Q4):\\n\", identity_matrix)"
   ]
  },
  {
   "cell_type": "code",
   "execution_count": 209,
   "id": "f0810dc4-c787-4daf-ad2f-6491bace9d33",
   "metadata": {},
   "outputs": [
    {
     "name": "stdout",
     "output_type": "stream",
     "text": [
      "Reshaped Array (Q1):\n",
      " [[1 2 3]\n",
      " [4 5 6]]\n"
     ]
    }
   ],
   "source": [
    "array = np.array([1, 2, 3, 4, 5, 6])\n",
    "reshaped_array = array.reshape(2, 3)\n",
    "print(\"Reshaped Array (Q1):\\n\", reshaped_array)\n",
    "# Output:"
   ]
  },
  {
   "cell_type": "code",
   "execution_count": 205,
   "id": "d9f1ef3c-3c1f-45f6-bb4b-84fe053b488d",
   "metadata": {},
   "outputs": [
    {
     "name": "stdout",
     "output_type": "stream",
     "text": [
      "Combined Array (Q2): [1 2 3 4 5 6]\n",
      "Split Arrays (Q2): [array([1, 2, 3]), array([4, 5, 6])]\n"
     ]
    }
   ],
   "source": [
    "combined_array = np.concatenate(([1, 2, 3], [4, 5, 6]))\n",
    "split_arrays = np.split(combined_array, 2)\n",
    "print(\"Combined Array (Q2):\", combined_array)\n",
    "print(\"Split Arrays (Q2):\", split_arrays)"
   ]
  },
  {
   "cell_type": "code",
   "execution_count": 207,
   "id": "38b9e350-98cc-483d-98ff-dee15b98ca0e",
   "metadata": {},
   "outputs": [
    {
     "name": "stdout",
     "output_type": "stream",
     "text": [
      "Flattened Matrix (Q3): [1 2 3 4 5 6 7 8 9]\n"
     ]
    }
   ],
   "source": [
    "matrix = np.array([[1, 2, 3], [4, 5, 6], [7, 8, 9]])\n",
    "flattened_matrix = matrix.ravel()\n",
    "print(\"Flattened Matrix (Q3):\", flattened_matrix)"
   ]
  },
  {
   "cell_type": "code",
   "execution_count": 211,
   "id": "1865ca51-bf45-40ae-9657-d84099c5eb01",
   "metadata": {},
   "outputs": [
    {
     "name": "stdout",
     "output_type": "stream",
     "text": [
      "Transposed Matrix (Q4):\n",
      " [[1 4]\n",
      " [2 5]\n",
      " [3 6]]\n"
     ]
    }
   ],
   "source": [
    "matrix = np.array([[1, 2, 3], [4, 5, 6]])\n",
    "transposed_matrix = matrix.T\n",
    "print(\"Transposed Matrix (Q4):\\n\", transposed_matrix)"
   ]
  },
  {
   "cell_type": "code",
   "execution_count": 213,
   "id": "1716dfe0-4ba5-4c65-9a90-0ca0e014e10c",
   "metadata": {},
   "outputs": [
    {
     "name": "stdout",
     "output_type": "stream",
     "text": [
      "Random Floats (Q1): [0.56160071 0.4949791  0.14685104 0.0727644  0.67953219 0.64238842\n",
      " 0.95423393 0.3479939  0.07322321 0.42244842]\n"
     ]
    }
   ],
   "source": [
    "random_floats = np.random.rand(100)\n",
    "print(\"Random Floats (Q1):\", random_floats[:10]) "
   ]
  },
  {
   "cell_type": "code",
   "execution_count": 215,
   "id": "cc364c75-8666-477a-9cd9-04b7caffdb46",
   "metadata": {},
   "outputs": [
    {
     "name": "stdout",
     "output_type": "stream",
     "text": [
      "Random Integers (Q2):\n",
      " [[17 44 26]\n",
      " [19 34 19]\n",
      " [12 49 15]]\n"
     ]
    }
   ],
   "source": [
    "random_integers = np.random.randint(10, 50, size=(3, 3))\n",
    "print(\"Random Integers (Q2):\\n\", random_integers)"
   ]
  },
  {
   "cell_type": "code",
   "execution_count": 217,
   "id": "a048cedf-bc0e-4b1a-93a9-b33656cab9ae",
   "metadata": {},
   "outputs": [
    {
     "name": "stdout",
     "output_type": "stream",
     "text": [
      "Sampled Array (Q3): [2 4 5 1 7]\n"
     ]
    }
   ],
   "source": [
    "sampled_array = np.random.choice([1, 2, 3, 4, 5, 6, 7, 8, 9], size=5, replace=False)\n",
    "print(\"Sampled Array (Q3):\", sampled_array)"
   ]
  },
  {
   "cell_type": "code",
   "execution_count": 219,
   "id": "900c074d-54b8-45c9-8d05-36e7737c8152",
   "metadata": {},
   "outputs": [
    {
     "name": "stdout",
     "output_type": "stream",
     "text": [
      "Mean (Q1): 30.0\n",
      "Median (Q1): 30.0\n",
      "Standard Deviation (Q1): 14.142135623730951\n"
     ]
    }
   ],
   "source": [
    "data = np.array([10, 20, 30, 40, 50])\n",
    "mean = np.mean(data)\n",
    "median = np.median(data)\n",
    "std_dev = np.std(data)\n",
    "print(\"Mean (Q1):\", mean)        # Output: 30.0\n",
    "print(\"Median (Q1):\", median)    # Output: 30.0\n",
    "print(\"Standard Deviation (Q1):\", std_dev)"
   ]
  },
  {
   "cell_type": "code",
   "execution_count": 221,
   "id": "ccd8e4ba-3a81-4d3e-9993-a266ec1b9585",
   "metadata": {},
   "outputs": [
    {
     "name": "stdout",
     "output_type": "stream",
     "text": [
      "Min Value (Q2): 1\n",
      "Max Value (Q2): 6\n"
     ]
    }
   ],
   "source": [
    "matrix = np.array([[1, 2], [3, 4], [5, 6]])\n",
    "min_value = np.min(matrix)\n",
    "max_value = np.max(matrix)\n",
    "print(\"Min Value (Q2):\", min_value)  # Output: 1\n",
    "print(\"Max Value (Q2):\", max_value)"
   ]
  },
  {
   "cell_type": "code",
   "execution_count": 227,
   "id": "522f1fd3-dbd7-43cd-a6c9-2cb717ca9928",
   "metadata": {},
   "outputs": [
    {
     "name": "stdout",
     "output_type": "stream",
     "text": [
      "Percentiles (Q3): [11.25 17.5  23.75]\n"
     ]
    }
   ],
   "source": [
    "percentiles = np.percentile([5, 10, 15, 20, 25, 30], [25, 50, 75])\n",
    "print(\"Percentiles (Q3):\", percentiles)\n"
   ]
  },
  {
   "cell_type": "markdown",
   "id": "9966f455-41a5-460e-a4b7-a040b3deaf37",
   "metadata": {},
   "source": [
    "## indexing and slicing"
   ]
  },
  {
   "cell_type": "code",
   "execution_count": 230,
   "id": "446beb71-f09d-4cf2-a452-94311bb022d9",
   "metadata": {},
   "outputs": [
    {
     "data": {
      "text/plain": [
       "array([[ 0,  1,  2,  3],\n",
       "       [ 4,  5,  6,  7],\n",
       "       [ 8,  9, 10, 11]])"
      ]
     },
     "execution_count": 230,
     "metadata": {},
     "output_type": "execute_result"
    }
   ],
   "source": [
    "a11\n"
   ]
  },
  {
   "cell_type": "code",
   "execution_count": 232,
   "id": "79a737c4-de6a-437e-bd47-17427be7adf3",
   "metadata": {},
   "outputs": [
    {
     "data": {
      "text/plain": [
       "array([[ 0,  1,  2,  3],\n",
       "       [ 4,  5,  6,  7],\n",
       "       [ 8,  9, 10, 11]])"
      ]
     },
     "execution_count": 232,
     "metadata": {},
     "output_type": "execute_result"
    }
   ],
   "source": [
    "a11[0:3]"
   ]
  },
  {
   "cell_type": "code",
   "execution_count": 234,
   "id": "aa6c852b-d439-4601-991d-dd7033ded48b",
   "metadata": {},
   "outputs": [],
   "source": [
    "import numpy as np\n",
    "\n",
    "array = np.array([10, 20, 30, 40, 50])"
   ]
  },
  {
   "cell_type": "code",
   "execution_count": 236,
   "id": "0c69b61e-2a8c-4337-90e1-93b89ecda507",
   "metadata": {},
   "outputs": [],
   "source": [
    "first_element = array[0]"
   ]
  },
  {
   "cell_type": "code",
   "execution_count": 238,
   "id": "a266b4a7-073b-4f1c-95d7-6e3dc6fbbeae",
   "metadata": {},
   "outputs": [
    {
     "data": {
      "text/plain": [
       "50"
      ]
     },
     "execution_count": 238,
     "metadata": {},
     "output_type": "execute_result"
    }
   ],
   "source": [
    "array[-1]"
   ]
  },
  {
   "cell_type": "code",
   "execution_count": 240,
   "id": "dda32169-82fd-4129-b7c9-2599cc03f1f3",
   "metadata": {},
   "outputs": [
    {
     "data": {
      "text/plain": [
       "array([[ 0,  1,  2,  3],\n",
       "       [ 4,  5,  6,  7],\n",
       "       [ 8,  9, 10, 11]])"
      ]
     },
     "execution_count": 240,
     "metadata": {},
     "output_type": "execute_result"
    }
   ],
   "source": [
    "a21\n"
   ]
  },
  {
   "cell_type": "code",
   "execution_count": 242,
   "id": "681e1905-f016-41d5-9a21-31e4d6389990",
   "metadata": {},
   "outputs": [
    {
     "data": {
      "text/plain": [
       "array([[0, 1, 2, 3],\n",
       "       [4, 5, 6, 7]])"
      ]
     },
     "execution_count": 242,
     "metadata": {},
     "output_type": "execute_result"
    }
   ],
   "source": [
    "a21[0:2]"
   ]
  },
  {
   "cell_type": "code",
   "execution_count": 244,
   "id": "3e3d202b-ee57-4e6a-80e0-f4172cf0d1a9",
   "metadata": {},
   "outputs": [
    {
     "data": {
      "text/plain": [
       "array([[ 0,  1,  2,  3],\n",
       "       [ 4,  5,  6,  7],\n",
       "       [ 8,  9, 10, 11]])"
      ]
     },
     "execution_count": 244,
     "metadata": {},
     "output_type": "execute_result"
    }
   ],
   "source": [
    "a21\n"
   ]
  },
  {
   "cell_type": "code",
   "execution_count": 246,
   "id": "e30bf4d2-9b7b-4420-bbf7-46e8ba247db3",
   "metadata": {},
   "outputs": [
    {
     "data": {
      "text/plain": [
       "array([[0, 1],\n",
       "       [4, 5]])"
      ]
     },
     "execution_count": 246,
     "metadata": {},
     "output_type": "execute_result"
    }
   ],
   "source": [
    "a21[0:2,0:2 ]"
   ]
  },
  {
   "cell_type": "code",
   "execution_count": 248,
   "id": "373a5160-7696-4b52-884c-6fe403d772e6",
   "metadata": {},
   "outputs": [],
   "source": [
    "a33 = np.arange(27).reshape(3,3,3)"
   ]
  },
  {
   "cell_type": "code",
   "execution_count": 250,
   "id": "e3e2cd49-01e8-48d7-b850-95971a88a8af",
   "metadata": {},
   "outputs": [
    {
     "data": {
      "text/plain": [
       "array([[[ 0,  1,  2],\n",
       "        [ 3,  4,  5],\n",
       "        [ 6,  7,  8]],\n",
       "\n",
       "       [[ 9, 10, 11],\n",
       "        [12, 13, 14],\n",
       "        [15, 16, 17]],\n",
       "\n",
       "       [[18, 19, 20],\n",
       "        [21, 22, 23],\n",
       "        [24, 25, 26]]])"
      ]
     },
     "execution_count": 250,
     "metadata": {},
     "output_type": "execute_result"
    }
   ],
   "source": [
    "a33\n"
   ]
  },
  {
   "cell_type": "code",
   "execution_count": 252,
   "id": "8ecf5c2e-e265-44a5-9689-6df61a970c21",
   "metadata": {},
   "outputs": [
    {
     "data": {
      "text/plain": [
       "array([[11, 14],\n",
       "       [20, 23]])"
      ]
     },
     "execution_count": 252,
     "metadata": {},
     "output_type": "execute_result"
    }
   ],
   "source": [
    "a33[1:,0:2,-1  ]"
   ]
  },
  {
   "cell_type": "code",
   "execution_count": 254,
   "id": "581c04c2-3345-402b-adae-60406a2cc0d5",
   "metadata": {},
   "outputs": [
    {
     "data": {
      "text/plain": [
       "4"
      ]
     },
     "execution_count": 254,
     "metadata": {},
     "output_type": "execute_result"
    }
   ],
   "source": [
    "a21[1,0]"
   ]
  },
  {
   "cell_type": "code",
   "execution_count": 256,
   "id": "980dbe7d-03d6-43b7-9d12-2064124511ed",
   "metadata": {},
   "outputs": [
    {
     "data": {
      "text/plain": [
       "array([[ 0,  1,  2,  3],\n",
       "       [ 4,  5,  6,  7],\n",
       "       [ 8,  9, 10, 11]])"
      ]
     },
     "execution_count": 256,
     "metadata": {},
     "output_type": "execute_result"
    }
   ],
   "source": [
    "a21\n"
   ]
  },
  {
   "cell_type": "code",
   "execution_count": 258,
   "id": "173878df-6a7e-45a4-8077-68de7bd7c072",
   "metadata": {},
   "outputs": [
    {
     "data": {
      "text/plain": [
       "array([[ 5,  6],\n",
       "       [ 9, 10]])"
      ]
     },
     "execution_count": 258,
     "metadata": {},
     "output_type": "execute_result"
    }
   ],
   "source": [
    "a21[1:,1:3]"
   ]
  },
  {
   "cell_type": "code",
   "execution_count": 260,
   "id": "f60edab2-227c-4d11-b69e-4818ccc41fe1",
   "metadata": {},
   "outputs": [
    {
     "data": {
      "text/plain": [
       "array([[2, 3],\n",
       "       [6, 7]])"
      ]
     },
     "execution_count": 260,
     "metadata": {},
     "output_type": "execute_result"
    }
   ],
   "source": [
    "a21[0:2,2:]"
   ]
  },
  {
   "cell_type": "code",
   "execution_count": 262,
   "id": "c3ba248d-fb31-4cf6-ab34-75901ee9dbb3",
   "metadata": {},
   "outputs": [
    {
     "data": {
      "text/plain": [
       "5"
      ]
     },
     "execution_count": 262,
     "metadata": {},
     "output_type": "execute_result"
    }
   ],
   "source": [
    "a21[1,1]"
   ]
  },
  {
   "cell_type": "code",
   "execution_count": 264,
   "id": "df2fb353-2068-435a-8b6d-6c2fc3ebc5a4",
   "metadata": {},
   "outputs": [
    {
     "ename": "SyntaxError",
     "evalue": "invalid syntax (2915717979.py, line 1)",
     "output_type": "error",
     "traceback": [
      "\u001b[1;36m  Cell \u001b[1;32mIn[264], line 1\u001b[1;36m\u001b[0m\n\u001b[1;33m    a21[]\u001b[0m\n\u001b[1;37m        ^\u001b[0m\n\u001b[1;31mSyntaxError\u001b[0m\u001b[1;31m:\u001b[0m invalid syntax\n"
     ]
    }
   ],
   "source": [
    "a21[]"
   ]
  },
  {
   "cell_type": "code",
   "execution_count": 274,
   "id": "0f69feec-b446-4b60-a297-d1a64e2fcce3",
   "metadata": {},
   "outputs": [],
   "source": [
    "array_2d = np.array([[1, 2, 3], [4, 5, 6], [7, 8, 9]])"
   ]
  },
  {
   "cell_type": "code",
   "execution_count": 276,
   "id": "281b7a40-8609-4f6b-8cca-3a4148b86d0e",
   "metadata": {},
   "outputs": [],
   "source": [
    "element = array_2d[1, 2] "
   ]
  },
  {
   "cell_type": "code",
   "execution_count": 278,
   "id": "9f0a7e67-baf8-4efe-8997-18f6593d6030",
   "metadata": {},
   "outputs": [],
   "source": [
    "first_row = array_2d[0]"
   ]
  },
  {
   "cell_type": "code",
   "execution_count": 280,
   "id": "0f833cbd-33d9-4763-b2eb-27e3cb6d44ed",
   "metadata": {},
   "outputs": [],
   "source": [
    "first_column = array_2d[:, 0]"
   ]
  },
  {
   "cell_type": "code",
   "execution_count": 282,
   "id": "88db5675-8599-4c7a-804c-133193ff3f66",
   "metadata": {},
   "outputs": [],
   "source": [
    "import numpy as np\n",
    "array = np.array([10, 20, 30, 40, 50])\n",
    "\n",
    "slice_1 = array[1:4] "
   ]
  },
  {
   "cell_type": "markdown",
   "id": "e0683f75-8f6b-41c3-9cf0-ccf2f3246dc8",
   "metadata": {},
   "source": [
    "### **Boolean Indexing in NumPy**"
   ]
  },
  {
   "cell_type": "code",
   "execution_count": 284,
   "id": "baf0c9ca-a357-49d2-98af-0943317b2cf3",
   "metadata": {},
   "outputs": [
    {
     "data": {
      "text/plain": [
       "array([[ 0,  1,  2,  3],\n",
       "       [ 4,  5,  6,  7],\n",
       "       [ 8,  9, 10, 11]])"
      ]
     },
     "execution_count": 284,
     "metadata": {},
     "output_type": "execute_result"
    }
   ],
   "source": [
    "a11"
   ]
  },
  {
   "cell_type": "code",
   "execution_count": 289,
   "id": "ea52f728-3db6-43d8-904c-19dfba9046f4",
   "metadata": {},
   "outputs": [
    {
     "data": {
      "text/plain": [
       "array([[False, False, False, False],\n",
       "       [ True,  True,  True,  True],\n",
       "       [ True,  True,  True,  True]])"
      ]
     },
     "execution_count": 289,
     "metadata": {},
     "output_type": "execute_result"
    }
   ],
   "source": [
    "a11>3"
   ]
  },
  {
   "cell_type": "code",
   "execution_count": 291,
   "id": "1377e85e-63c4-4321-97cd-66bb706dee7e",
   "metadata": {},
   "outputs": [
    {
     "data": {
      "text/plain": [
       "array([ 4,  5,  6,  7,  8,  9, 10, 11])"
      ]
     },
     "execution_count": 291,
     "metadata": {},
     "output_type": "execute_result"
    }
   ],
   "source": [
    "a11[mask]a11[a11>3 ]"
   ]
  },
  {
   "cell_type": "code",
   "execution_count": 293,
   "id": "8c70a62b-fb26-4ecf-82cd-bfc93ae4c97d",
   "metadata": {},
   "outputs": [],
   "source": [
    "mask = a11>3"
   ]
  },
  {
   "cell_type": "code",
   "execution_count": 295,
   "id": "ddb9421d-f9aa-4548-a0b3-bcdf24c52e7d",
   "metadata": {},
   "outputs": [
    {
     "data": {
      "text/plain": [
       "array([ 4,  5,  6,  7,  8,  9, 10, 11])"
      ]
     },
     "execution_count": 295,
     "metadata": {},
     "output_type": "execute_result"
    }
   ],
   "source": [
    "a11[mask]"
   ]
  },
  {
   "cell_type": "code",
   "execution_count": 297,
   "id": "49ee3c7a-7c54-4e76-b12f-01076e93352b",
   "metadata": {},
   "outputs": [
    {
     "data": {
      "text/plain": [
       "array([ 4,  5,  6,  7,  8,  9, 10, 11])"
      ]
     },
     "execution_count": 297,
     "metadata": {},
     "output_type": "execute_result"
    }
   ],
   "source": [
    "a11[mask]"
   ]
  },
  {
   "cell_type": "code",
   "execution_count": 299,
   "id": "85271bb9-7532-4051-9768-3d2ffdbafc26",
   "metadata": {},
   "outputs": [
    {
     "data": {
      "text/plain": [
       "array([[ 0,  1,  2,  3],\n",
       "       [ 4,  5,  6,  7],\n",
       "       [ 8,  9, 10, 11]])"
      ]
     },
     "execution_count": 299,
     "metadata": {},
     "output_type": "execute_result"
    }
   ],
   "source": [
    "a11"
   ]
  },
  {
   "cell_type": "code",
   "execution_count": 301,
   "id": "86c63153-53f1-4124-8915-52c3eaaa5088",
   "metadata": {},
   "outputs": [
    {
     "data": {
      "text/plain": [
       "array([ 6,  7,  8,  9, 10, 11])"
      ]
     },
     "execution_count": 301,
     "metadata": {},
     "output_type": "execute_result"
    }
   ],
   "source": [
    "a11[a11>5]"
   ]
  },
  {
   "cell_type": "code",
   "execution_count": 303,
   "id": "ef556d3c-8f57-4853-b55e-684c81e1bb7a",
   "metadata": {},
   "outputs": [
    {
     "data": {
      "text/plain": [
       "array([ 5,  6,  7,  8,  9, 10, 11])"
      ]
     },
     "execution_count": 303,
     "metadata": {},
     "output_type": "execute_result"
    }
   ],
   "source": [
    "a11[a11>=5]"
   ]
  },
  {
   "cell_type": "code",
   "execution_count": 305,
   "id": "91b735e4-311c-4bc8-ac99-aa504dfebf4c",
   "metadata": {},
   "outputs": [],
   "source": [
    "import numpy as np\n",
    "\n",
    "array = np.array([10, 20, 30, 40, 50])"
   ]
  },
  {
   "cell_type": "code",
   "execution_count": 307,
   "id": "2a279458-29a8-43b1-b3b3-7f1cf298a9ba",
   "metadata": {},
   "outputs": [],
   "source": [
    "mask = array > 25 \n",
    "filtered_array = array[mask]"
   ]
  },
  {
   "cell_type": "code",
   "execution_count": 309,
   "id": "7513876e-6cc4-443f-aff7-3971046ac9ca",
   "metadata": {},
   "outputs": [],
   "source": [
    "array = np.array([10, 20, 30, 40, 50])\n",
    "\n",
    "# Apply multiple conditions: elements greater than 15 and less than 45\n",
    "mask = (array > 15) & (array < 45)\n",
    "\n",
    "# Filter the original array using the combined condition\n",
    "filtered_array = array[mask]"
   ]
  },
  {
   "cell_type": "code",
   "execution_count": 311,
   "id": "d7a750df-79e3-488b-b747-e105b9965857",
   "metadata": {},
   "outputs": [],
   "source": [
    "import numpy as np"
   ]
  },
  {
   "cell_type": "code",
   "execution_count": 313,
   "id": "6a444d60-2718-4f2d-a6b5-1c454efbc884",
   "metadata": {},
   "outputs": [],
   "source": [
    "a21 = np.array([[ 0,  1,  2,  3],\n",
    "       [ 4,  5,  6,  7],\n",
    "       [ 8,  9, 10, 11]])"
   ]
  },
  {
   "cell_type": "code",
   "execution_count": 315,
   "id": "f7210762-2ba3-41a5-89a0-dab20bdfab1b",
   "metadata": {},
   "outputs": [
    {
     "data": {
      "text/plain": [
       "array([[False, False, False, False],\n",
       "       [False,  True,  True,  True],\n",
       "       [ True,  True,  True,  True]])"
      ]
     },
     "execution_count": 315,
     "metadata": {},
     "output_type": "execute_result"
    }
   ],
   "source": [
    "(a21>=5)"
   ]
  },
  {
   "cell_type": "code",
   "execution_count": 317,
   "id": "bd2936e2-f8b3-45b7-ba3a-c196ea4ae1d2",
   "metadata": {},
   "outputs": [
    {
     "data": {
      "text/plain": [
       "array([[ True,  True,  True,  True],\n",
       "       [ True,  True,  True,  True],\n",
       "       [ True,  True, False, False]])"
      ]
     },
     "execution_count": 317,
     "metadata": {},
     "output_type": "execute_result"
    }
   ],
   "source": [
    "(a21<=9)"
   ]
  },
  {
   "cell_type": "code",
   "execution_count": 319,
   "id": "4ee35f1b-d920-4996-be1c-3d8f69be876a",
   "metadata": {},
   "outputs": [],
   "source": [
    "mask =(a21<=9) & (a21>=5)"
   ]
  },
  {
   "cell_type": "code",
   "execution_count": 321,
   "id": "35b5b494-1cb1-4545-8bda-4d6bab0821d4",
   "metadata": {},
   "outputs": [
    {
     "data": {
      "text/plain": [
       "array([5, 6, 7, 8, 9])"
      ]
     },
     "execution_count": 321,
     "metadata": {},
     "output_type": "execute_result"
    }
   ],
   "source": [
    "a21[mask]"
   ]
  },
  {
   "cell_type": "code",
   "execution_count": 323,
   "id": "f2bcd27e-b280-4708-952e-44fed7940a86",
   "metadata": {},
   "outputs": [],
   "source": [
    "mask = (a21>=5) & (a21<=9)"
   ]
  },
  {
   "cell_type": "code",
   "execution_count": 325,
   "id": "7b71fbb0-82a4-443d-b333-8b1febbfc3d2",
   "metadata": {},
   "outputs": [
    {
     "data": {
      "text/plain": [
       "array([5, 6, 7, 8, 9])"
      ]
     },
     "execution_count": 325,
     "metadata": {},
     "output_type": "execute_result"
    }
   ],
   "source": [
    "a21[mask]"
   ]
  },
  {
   "cell_type": "code",
   "execution_count": 327,
   "id": "11e82d74-5139-479f-868b-43daf24213ee",
   "metadata": {},
   "outputs": [],
   "source": [
    "a11 = np.arange(2,12)"
   ]
  },
  {
   "cell_type": "code",
   "execution_count": 329,
   "id": "0041c7c8-6f04-4179-9942-d326563a14a8",
   "metadata": {},
   "outputs": [
    {
     "data": {
      "text/plain": [
       "array([ 2,  3,  4,  5,  6,  7,  8,  9, 10, 11])"
      ]
     },
     "execution_count": 329,
     "metadata": {},
     "output_type": "execute_result"
    }
   ],
   "source": [
    "a11"
   ]
  },
  {
   "cell_type": "code",
   "execution_count": 331,
   "id": "88540efb-ce0e-4cf6-a200-edee1b21fc2e",
   "metadata": {},
   "outputs": [
    {
     "data": {
      "text/plain": [
       "(array([5, 6, 7, 8, 9], dtype=int64),)"
      ]
     },
     "execution_count": 331,
     "metadata": {},
     "output_type": "execute_result"
    }
   ],
   "source": [
    "np.where(a11>6)"
   ]
  },
  {
   "cell_type": "code",
   "execution_count": 333,
   "id": "ec2935c3-b52a-486a-bfde-4b0e4984c37b",
   "metadata": {},
   "outputs": [
    {
     "data": {
      "text/plain": [
       "array([[ 0,  1,  2,  3],\n",
       "       [ 4,  5,  6,  7],\n",
       "       [ 8,  9, 10, 11]])"
      ]
     },
     "execution_count": 333,
     "metadata": {},
     "output_type": "execute_result"
    }
   ],
   "source": [
    "a21\n"
   ]
  },
  {
   "cell_type": "code",
   "execution_count": 335,
   "id": "96a9ebae-3459-4ff9-a6b4-2e3a2ddb9dd3",
   "metadata": {},
   "outputs": [],
   "source": [
    "a21 = np.arange(12).reshape(3,4)"
   ]
  },
  {
   "cell_type": "code",
   "execution_count": 337,
   "id": "3c32d6bf-9c7e-4e86-ac4b-a730d5c71e75",
   "metadata": {},
   "outputs": [
    {
     "data": {
      "text/plain": [
       "(array([1, 1, 2, 2, 2, 2], dtype=int64),\n",
       " array([2, 3, 0, 1, 2, 3], dtype=int64))"
      ]
     },
     "execution_count": 337,
     "metadata": {},
     "output_type": "execute_result"
    }
   ],
   "source": [
    "np.where(a21>5)"
   ]
  },
  {
   "cell_type": "code",
   "execution_count": 339,
   "id": "109bcc54-ac3a-4ac9-991b-e563a5fffe6d",
   "metadata": {},
   "outputs": [],
   "source": [
    "a55 = np.array([5,87,99,66,88,55,44])"
   ]
  },
  {
   "cell_type": "code",
   "execution_count": 341,
   "id": "3e92352d-702d-44f8-abeb-44c446c6126f",
   "metadata": {},
   "outputs": [
    {
     "data": {
      "text/plain": [
       "(array([1, 2, 4], dtype=int64),)"
      ]
     },
     "execution_count": 341,
     "metadata": {},
     "output_type": "execute_result"
    }
   ],
   "source": [
    "np.where(a55>66)"
   ]
  },
  {
   "cell_type": "code",
   "execution_count": 343,
   "id": "28d3da16-4e94-49c5-8196-f1102cf8ca8d",
   "metadata": {},
   "outputs": [],
   "source": [
    "array = np.array([10, 20, 30, 40, 50])"
   ]
  },
  {
   "cell_type": "code",
   "execution_count": 345,
   "id": "7b051e84-4a21-4774-b481-919806a32362",
   "metadata": {},
   "outputs": [],
   "source": [
    "indices = np.where(array > 30)"
   ]
  },
  {
   "cell_type": "code",
   "execution_count": 347,
   "id": "b6a920e9-9138-4c6a-a4fb-b3f46bc1d2bc",
   "metadata": {},
   "outputs": [],
   "source": [
    "filtered_array = array[indices]  "
   ]
  },
  {
   "cell_type": "code",
   "execution_count": 349,
   "id": "dbe1cc99-d35c-422e-8fee-55ebf86ad25c",
   "metadata": {},
   "outputs": [
    {
     "data": {
      "text/plain": [
       "array([10, 20, 30, 40, 50])"
      ]
     },
     "execution_count": 349,
     "metadata": {},
     "output_type": "execute_result"
    }
   ],
   "source": [
    "array = np.array([10, 20, 30, 40, 50])\n",
    "array"
   ]
  },
  {
   "cell_type": "code",
   "execution_count": 351,
   "id": "7c966177-7cee-4b5c-9eb1-75d3cd932747",
   "metadata": {},
   "outputs": [
    {
     "data": {
      "text/plain": [
       "(array([3, 4], dtype=int64),)"
      ]
     },
     "execution_count": 351,
     "metadata": {},
     "output_type": "execute_result"
    }
   ],
   "source": [
    "np.where(array > 30)"
   ]
  },
  {
   "cell_type": "code",
   "execution_count": 353,
   "id": "c413c241-8f31-49ed-9742-07a60dc4444c",
   "metadata": {},
   "outputs": [],
   "source": [
    "names = np.array(['Alice', 'Bob', 'Charlie', 'David', 'Eve',\"Ajau\"])\n",
    "\n",
    "# Create a boolean mask for names that start with the letter 'A'\n",
    "mask = np.char.startswith(names, 'A')"
   ]
  },
  {
   "cell_type": "code",
   "execution_count": 355,
   "id": "ad4e8ddf-de6e-4d4f-839a-4879812c1dbc",
   "metadata": {},
   "outputs": [
    {
     "data": {
      "text/plain": [
       "array(['Alice', 'Ajau'], dtype='<U7')"
      ]
     },
     "execution_count": 355,
     "metadata": {},
     "output_type": "execute_result"
    }
   ],
   "source": [
    "names[mask] "
   ]
  },
  {
   "cell_type": "code",
   "execution_count": 357,
   "id": "cd946630-a37b-4de0-a019-4fb26c93158e",
   "metadata": {},
   "outputs": [],
   "source": [
    "names = np.array(['Alice', 'Bob', 'Charlie', 'David', 'Eve',\"Ajau\"])"
   ]
  },
  {
   "cell_type": "code",
   "execution_count": 359,
   "id": "69467c8c-30e8-4865-ab27-5685cece43d0",
   "metadata": {},
   "outputs": [
    {
     "data": {
      "text/plain": [
       "array(['Alice', 'Bob', 'Charlie', 'David', 'Eve', 'Ajau'], dtype='<U7')"
      ]
     },
     "execution_count": 359,
     "metadata": {},
     "output_type": "execute_result"
    }
   ],
   "source": [
    "names"
   ]
  },
  {
   "cell_type": "code",
   "execution_count": 361,
   "id": "8cc1dbfc-33fa-4adc-8500-f33becb5b33d",
   "metadata": {},
   "outputs": [
    {
     "data": {
      "text/plain": [
       "array([ True, False, False, False, False,  True])"
      ]
     },
     "execution_count": 361,
     "metadata": {},
     "output_type": "execute_result"
    }
   ],
   "source": [
    "np.char.startswith(names,\"A\")"
   ]
  },
  {
   "cell_type": "code",
   "execution_count": 363,
   "id": "eeb6ecfe-a03c-44cf-9176-3236725d1e41",
   "metadata": {},
   "outputs": [
    {
     "data": {
      "text/plain": [
       "array(['Alice', 'Ajau'], dtype='<U7')"
      ]
     },
     "execution_count": 363,
     "metadata": {},
     "output_type": "execute_result"
    }
   ],
   "source": [
    "names[np.char.startswith(names,\"A\")]"
   ]
  },
  {
   "cell_type": "code",
   "execution_count": 365,
   "id": "e348817f-20e5-45fd-976d-611fe6ba8880",
   "metadata": {},
   "outputs": [],
   "source": [
    "a = \"hello world\""
   ]
  },
  {
   "cell_type": "code",
   "execution_count": 367,
   "id": "2d7a698e-7aeb-4ec4-8a94-91acdfbaaf2a",
   "metadata": {},
   "outputs": [
    {
     "data": {
      "text/plain": [
       "False"
      ]
     },
     "execution_count": 367,
     "metadata": {},
     "output_type": "execute_result"
    }
   ],
   "source": [
    "a.startswith(\"a\")"
   ]
  },
  {
   "cell_type": "code",
   "execution_count": 371,
   "id": "5d820352-f37a-4dcf-9382-57deddcadf33",
   "metadata": {},
   "outputs": [],
   "source": [
    "# Replace all elements greater than 30 with the value 99\n",
    "array = np.array([10, 20, 30, 40, 50])\n",
    "\n",
    "\n",
    "array[array > 30] = 99 "
   ]
  },
  {
   "cell_type": "code",
   "execution_count": 373,
   "id": "b5de3521-09dd-4c59-a2d7-009bd25e2c17",
   "metadata": {},
   "outputs": [
    {
     "data": {
      "text/plain": [
       "array([10, 20, 30, 99, 99])"
      ]
     },
     "execution_count": 373,
     "metadata": {},
     "output_type": "execute_result"
    }
   ],
   "source": [
    "array"
   ]
  },
  {
   "cell_type": "code",
   "execution_count": 375,
   "id": "486e7401-9977-43cb-9cd0-a6c6f558bc28",
   "metadata": {},
   "outputs": [
    {
     "data": {
      "text/plain": [
       "array([ 2,  3,  4,  5,  6,  7,  8,  9, 10, 11])"
      ]
     },
     "execution_count": 375,
     "metadata": {},
     "output_type": "execute_result"
    }
   ],
   "source": [
    "a11"
   ]
  },
  {
   "cell_type": "code",
   "execution_count": 377,
   "id": "1b4098a8-b092-4aa8-854b-72c24a8ca812",
   "metadata": {},
   "outputs": [
    {
     "data": {
      "text/plain": [
       "array([False, False, False,  True,  True,  True,  True,  True,  True,\n",
       "        True])"
      ]
     },
     "execution_count": 377,
     "metadata": {},
     "output_type": "execute_result"
    }
   ],
   "source": [
    "a11> 4"
   ]
  },
  {
   "cell_type": "code",
   "execution_count": 379,
   "id": "b821c875-4da8-4b2c-b2df-1bb96c544a5a",
   "metadata": {},
   "outputs": [],
   "source": [
    "a11[a11>4] = 8"
   ]
  },
  {
   "cell_type": "code",
   "execution_count": 381,
   "id": "b86ab76e-83c8-43a6-b819-64cf17f62ab6",
   "metadata": {},
   "outputs": [
    {
     "data": {
      "text/plain": [
       "array([2, 3, 4, 8, 8, 8, 8, 8, 8, 8])"
      ]
     },
     "execution_count": 381,
     "metadata": {},
     "output_type": "execute_result"
    }
   ],
   "source": [
    "a11"
   ]
  },
  {
   "cell_type": "code",
   "execution_count": 383,
   "id": "b7bec7be-181c-4bd4-9a76-0d4f269273cb",
   "metadata": {},
   "outputs": [],
   "source": [
    "l = [1,2,3]"
   ]
  },
  {
   "cell_type": "code",
   "execution_count": 385,
   "id": "fc9f7a5a-90ac-4e9e-bddc-aa039b1b783f",
   "metadata": {},
   "outputs": [
    {
     "data": {
      "text/plain": [
       "1"
      ]
     },
     "execution_count": 385,
     "metadata": {},
     "output_type": "execute_result"
    }
   ],
   "source": [
    "l[0]"
   ]
  },
  {
   "cell_type": "code",
   "execution_count": 387,
   "id": "24d4314e-c3c6-46d0-b8ca-7ac145ac854d",
   "metadata": {},
   "outputs": [
    {
     "data": {
      "text/plain": [
       "array([2, 3, 4, 8, 8, 8, 8, 8, 8, 8])"
      ]
     },
     "execution_count": 387,
     "metadata": {},
     "output_type": "execute_result"
    }
   ],
   "source": [
    "a11\n"
   ]
  },
  {
   "cell_type": "code",
   "execution_count": 389,
   "id": "93571d2e-72d9-4531-b5eb-8ff71452fbf7",
   "metadata": {},
   "outputs": [
    {
     "data": {
      "text/plain": [
       "array([8, 8, 8, 8, 8, 8, 8])"
      ]
     },
     "execution_count": 389,
     "metadata": {},
     "output_type": "execute_result"
    }
   ],
   "source": [
    "a11[a11>5]"
   ]
  },
  {
   "cell_type": "markdown",
   "id": "cbe58a52-20a6-4e29-ab3e-7018c381eded",
   "metadata": {},
   "source": [
    "## fancy indexing"
   ]
  },
  {
   "cell_type": "code",
   "execution_count": 392,
   "id": "6ba5fb22-9a94-4c96-b78f-070ba3733569",
   "metadata": {},
   "outputs": [],
   "source": [
    "import numpy as np\n",
    "\n",
    "array = np.array([10, 20, 30, 40, 50])"
   ]
  },
  {
   "cell_type": "code",
   "execution_count": 394,
   "id": "0a77eba8-06ec-4cac-8cc9-7fbbe22a154c",
   "metadata": {},
   "outputs": [],
   "source": [
    "fancy_indexed = array[[1, 3, 4]] "
   ]
  },
  {
   "cell_type": "code",
   "execution_count": 396,
   "id": "22c08355-1154-45bc-b521-28d9b6970844",
   "metadata": {},
   "outputs": [
    {
     "data": {
      "text/plain": [
       "array([20, 40, 50])"
      ]
     },
     "execution_count": 396,
     "metadata": {},
     "output_type": "execute_result"
    }
   ],
   "source": [
    "fancy_indexed\n"
   ]
  },
  {
   "cell_type": "code",
   "execution_count": 398,
   "id": "52331ce4-2261-4bac-80c4-5d34f2f60a74",
   "metadata": {},
   "outputs": [
    {
     "data": {
      "text/plain": [
       "array([ 5, 87, 99, 66, 88, 55, 44])"
      ]
     },
     "execution_count": 398,
     "metadata": {},
     "output_type": "execute_result"
    }
   ],
   "source": [
    "a55"
   ]
  },
  {
   "cell_type": "code",
   "execution_count": 400,
   "id": "b87e5cac-3911-414c-ba94-53fc753f9379",
   "metadata": {},
   "outputs": [
    {
     "data": {
      "text/plain": [
       "array([87, 66, 44])"
      ]
     },
     "execution_count": 400,
     "metadata": {},
     "output_type": "execute_result"
    }
   ],
   "source": [
    "a55[[1,3,6]]"
   ]
  },
  {
   "cell_type": "code",
   "execution_count": 402,
   "id": "6f3237b2-afa0-40b4-adac-6360f8091db2",
   "metadata": {},
   "outputs": [],
   "source": [
    "fancy_indexed_neg = array[[-1, -3]]"
   ]
  },
  {
   "cell_type": "code",
   "execution_count": 404,
   "id": "7bfb7cbf-6526-41b2-8382-428b0fd9c767",
   "metadata": {},
   "outputs": [],
   "source": [
    "array_2d = np.array([[10, 20, 30],\n",
    "                     [40, 50, 60],\n",
    "                     [70, 80, 90]])"
   ]
  },
  {
   "cell_type": "code",
   "execution_count": 406,
   "id": "cc394be7-90ce-4eaf-ab9d-727231720d8b",
   "metadata": {},
   "outputs": [
    {
     "data": {
      "text/plain": [
       "array([40, 50, 60])"
      ]
     },
     "execution_count": 406,
     "metadata": {},
     "output_type": "execute_result"
    }
   ],
   "source": [
    "array_2d[1,0:]"
   ]
  },
  {
   "cell_type": "code",
   "execution_count": 408,
   "id": "8be4e0a6-1ce1-4221-a369-169544ef7a35",
   "metadata": {},
   "outputs": [
    {
     "data": {
      "text/plain": [
       "array([20, 40, 90])"
      ]
     },
     "execution_count": 408,
     "metadata": {},
     "output_type": "execute_result"
    }
   ],
   "source": [
    "array_2d[[0, 1, 2],[1, 0, 2]]"
   ]
  },
  {
   "cell_type": "code",
   "execution_count": 410,
   "id": "b4e77e40-d23f-49d5-a66b-45186e980582",
   "metadata": {},
   "outputs": [
    {
     "data": {
      "text/plain": [
       "array([10, 50, 90])"
      ]
     },
     "execution_count": 410,
     "metadata": {},
     "output_type": "execute_result"
    }
   ],
   "source": [
    "array_2d[[0,1,2],[0,1,2]]"
   ]
  },
  {
   "cell_type": "code",
   "execution_count": 412,
   "id": "51de6506-ea83-47a9-b008-c7ed11717000",
   "metadata": {},
   "outputs": [
    {
     "data": {
      "text/plain": [
       "array([20, 40, 90])"
      ]
     },
     "execution_count": 412,
     "metadata": {},
     "output_type": "execute_result"
    }
   ],
   "source": [
    "array_2d[[0, 1, 2], [1, 0, 2]]"
   ]
  },
  {
   "cell_type": "code",
   "execution_count": 414,
   "id": "c39be09b-637f-404e-ae11-bf15a7ca773a",
   "metadata": {},
   "outputs": [],
   "source": [
    "rows = array_2d[[0, 2]]\n",
    "columns = array_2d[:, [1, 2]]"
   ]
  },
  {
   "cell_type": "markdown",
   "id": "c410fd6f-acc4-470b-8734-cddcbb7abe71",
   "metadata": {},
   "source": [
    "### **3. Fancy Indexing with Repetition**"
   ]
  },
  {
   "cell_type": "code",
   "execution_count": 417,
   "id": "0df1be73-eb9b-4bf0-8123-27e431c77d3d",
   "metadata": {},
   "outputs": [],
   "source": [
    "array = np.array([100, 200, 300, 400, 500])"
   ]
  },
  {
   "cell_type": "code",
   "execution_count": 419,
   "id": "91a8d801-616b-41ff-b6e1-d1d45697aee2",
   "metadata": {},
   "outputs": [
    {
     "data": {
      "text/plain": [
       "array([100, 200, 300, 400, 500])"
      ]
     },
     "execution_count": 419,
     "metadata": {},
     "output_type": "execute_result"
    }
   ],
   "source": [
    "array"
   ]
  },
  {
   "cell_type": "code",
   "execution_count": 421,
   "id": "f7e4ca9b-19e1-453d-b7f4-8e862c4032ae",
   "metadata": {},
   "outputs": [
    {
     "data": {
      "text/plain": [
       "array([100, 500, 100, 500])"
      ]
     },
     "execution_count": 421,
     "metadata": {},
     "output_type": "execute_result"
    }
   ],
   "source": [
    "array[[0,4,0,4]]"
   ]
  },
  {
   "cell_type": "code",
   "execution_count": 423,
   "id": "0ddcfcdc-2949-4956-897e-e685b03d7911",
   "metadata": {},
   "outputs": [
    {
     "data": {
      "text/plain": [
       "array([100, 500, 100, 500])"
      ]
     },
     "execution_count": 423,
     "metadata": {},
     "output_type": "execute_result"
    }
   ],
   "source": [
    "array[[0, 4, 0, 4]] "
   ]
  },
  {
   "cell_type": "markdown",
   "id": "71a15317-f8b1-4aeb-9f10-913cdb17451c",
   "metadata": {},
   "source": [
    "### **4. Fancy Indexing with Boolean Arrays**"
   ]
  },
  {
   "cell_type": "code",
   "execution_count": 426,
   "id": "f3284afb-f62b-4d95-9bb2-20a1cd99eec3",
   "metadata": {},
   "outputs": [],
   "source": [
    "array = np.array([5, 10, 15, 20, 25, 30])"
   ]
  },
  {
   "cell_type": "code",
   "execution_count": 428,
   "id": "5d681373-94b4-4e59-b009-2bb16b7b1b7b",
   "metadata": {},
   "outputs": [],
   "source": [
    "mask = array > 15"
   ]
  },
  {
   "cell_type": "code",
   "execution_count": 430,
   "id": "2f7ed716-acaa-4e69-8e5f-cc4b1e68db26",
   "metadata": {},
   "outputs": [],
   "source": [
    "\n",
    "fancy_indexed = array[mask]"
   ]
  },
  {
   "cell_type": "markdown",
   "id": "5cfdb8bd-7942-486c-a9bf-a7954cbf9dac",
   "metadata": {},
   "source": [
    "### **5. Fancy Indexing vs Basic Slicing**"
   ]
  },
  {
   "cell_type": "code",
   "execution_count": 433,
   "id": "67256c3f-550d-4f83-8206-4d2ea77ba352",
   "metadata": {},
   "outputs": [],
   "source": [
    "array = np.array([10, 20, 30, 40, 50])\n",
    "\n",
    "slice_result = array[1:4] \n",
    "fancy_indexed = array[[0, 2, 4]] "
   ]
  },
  {
   "cell_type": "code",
   "execution_count": 435,
   "id": "c7f4073c-783e-4569-b695-303272d8150c",
   "metadata": {},
   "outputs": [
    {
     "data": {
      "text/plain": [
       "array([2, 3, 4, 8, 8, 8, 8, 8, 8, 8])"
      ]
     },
     "execution_count": 435,
     "metadata": {},
     "output_type": "execute_result"
    }
   ],
   "source": [
    "a11"
   ]
  },
  {
   "cell_type": "code",
   "execution_count": 437,
   "id": "c7babf4d-6fb0-4b0a-9c95-a3b7ad1d266f",
   "metadata": {},
   "outputs": [
    {
     "name": "stdout",
     "output_type": "stream",
     "text": [
      "2\n",
      "3\n",
      "4\n",
      "8\n",
      "8\n",
      "8\n",
      "8\n",
      "8\n",
      "8\n",
      "8\n"
     ]
    }
   ],
   "source": [
    "for i in a11:\n",
    "    print(i)"
   ]
  },
  {
   "cell_type": "code",
   "execution_count": 439,
   "id": "c0e34c3a-480f-45ef-bc25-ff5fbf239326",
   "metadata": {},
   "outputs": [
    {
     "data": {
      "text/plain": [
       "array([[ 0,  1,  2,  3],\n",
       "       [ 4,  5,  6,  7],\n",
       "       [ 8,  9, 10, 11]])"
      ]
     },
     "execution_count": 439,
     "metadata": {},
     "output_type": "execute_result"
    }
   ],
   "source": [
    "a21"
   ]
  },
  {
   "cell_type": "code",
   "execution_count": 441,
   "id": "5e5c9be7-dd71-44a2-949c-2b89461a2409",
   "metadata": {},
   "outputs": [],
   "source": [
    "a21 = [ [0,1,2,3],[4,5,6,7],[8,9,10,11]]"
   ]
  },
  {
   "cell_type": "code",
   "execution_count": 443,
   "id": "b7af4fb3-8785-4ac5-b592-01e64d0da656",
   "metadata": {},
   "outputs": [
    {
     "name": "stdout",
     "output_type": "stream",
     "text": [
      "[0, 1, 2, 3]\n",
      "[4, 5, 6, 7]\n",
      "[8, 9, 10, 11]\n"
     ]
    }
   ],
   "source": [
    "for i in a21:\n",
    "    print(i)"
   ]
  },
  {
   "cell_type": "code",
   "execution_count": 445,
   "id": "14778130-e4a7-4f44-83db-111c1b805f9c",
   "metadata": {},
   "outputs": [
    {
     "data": {
      "text/plain": [
       "array([[[ 0,  1,  2],\n",
       "        [ 3,  4,  5],\n",
       "        [ 6,  7,  8]],\n",
       "\n",
       "       [[ 9, 10, 11],\n",
       "        [12, 13, 14],\n",
       "        [15, 16, 17]],\n",
       "\n",
       "       [[18, 19, 20],\n",
       "        [21, 22, 23],\n",
       "        [24, 25, 26]]])"
      ]
     },
     "execution_count": 445,
     "metadata": {},
     "output_type": "execute_result"
    }
   ],
   "source": [
    "a33"
   ]
  },
  {
   "cell_type": "code",
   "execution_count": 447,
   "id": "eef604fd-c436-47e5-9028-2aa57d2aace6",
   "metadata": {},
   "outputs": [
    {
     "name": "stdout",
     "output_type": "stream",
     "text": [
      "[[0 1 2]\n",
      " [3 4 5]\n",
      " [6 7 8]]\n",
      "[[ 9 10 11]\n",
      " [12 13 14]\n",
      " [15 16 17]]\n",
      "[[18 19 20]\n",
      " [21 22 23]\n",
      " [24 25 26]]\n"
     ]
    }
   ],
   "source": [
    "for i in a33:\n",
    "    print(i)"
   ]
  },
  {
   "cell_type": "code",
   "execution_count": 449,
   "id": "0f25d3f8-2aaa-4cd9-abdb-bf6e34aa0e26",
   "metadata": {},
   "outputs": [
    {
     "name": "stdout",
     "output_type": "stream",
     "text": [
      "2\n",
      "3\n",
      "4\n",
      "8\n",
      "8\n",
      "8\n",
      "8\n",
      "8\n",
      "8\n",
      "8\n"
     ]
    }
   ],
   "source": [
    "a11\n",
    "\n",
    "for i in a11:\n",
    "    print(i)"
   ]
  },
  {
   "cell_type": "code",
   "execution_count": 451,
   "id": "018bf575-e86d-4cab-93f8-dd64fc50f561",
   "metadata": {},
   "outputs": [
    {
     "data": {
      "text/plain": [
       "array([[ 0,  1,  2,  3],\n",
       "       [ 4,  5,  6,  7],\n",
       "       [ 8,  9, 10, 11]])"
      ]
     },
     "execution_count": 451,
     "metadata": {},
     "output_type": "execute_result"
    }
   ],
   "source": [
    "a22"
   ]
  },
  {
   "cell_type": "code",
   "execution_count": 453,
   "id": "1d8660ae-a6b5-4ee6-ad4b-b83a79c5bf1b",
   "metadata": {},
   "outputs": [
    {
     "name": "stdout",
     "output_type": "stream",
     "text": [
      "[0 1 2 3]\n",
      "[4 5 6 7]\n",
      "[ 8  9 10 11]\n"
     ]
    }
   ],
   "source": [
    "for i in a22:\n",
    "    print(i)"
   ]
  },
  {
   "cell_type": "code",
   "execution_count": 455,
   "id": "5509e4b9-d97b-4249-97b5-919d8553cba5",
   "metadata": {},
   "outputs": [
    {
     "data": {
      "text/plain": [
       "array([[[ 0,  1,  2],\n",
       "        [ 3,  4,  5],\n",
       "        [ 6,  7,  8]],\n",
       "\n",
       "       [[ 9, 10, 11],\n",
       "        [12, 13, 14],\n",
       "        [15, 16, 17]],\n",
       "\n",
       "       [[18, 19, 20],\n",
       "        [21, 22, 23],\n",
       "        [24, 25, 26]]])"
      ]
     },
     "execution_count": 455,
     "metadata": {},
     "output_type": "execute_result"
    }
   ],
   "source": [
    "a33"
   ]
  },
  {
   "cell_type": "code",
   "execution_count": 457,
   "id": "8f6ad780-3c1d-4467-80c6-91622fb72c83",
   "metadata": {},
   "outputs": [
    {
     "name": "stdout",
     "output_type": "stream",
     "text": [
      "[[0 1 2]\n",
      " [3 4 5]\n",
      " [6 7 8]]\n",
      "[[ 9 10 11]\n",
      " [12 13 14]\n",
      " [15 16 17]]\n",
      "[[18 19 20]\n",
      " [21 22 23]\n",
      " [24 25 26]]\n"
     ]
    }
   ],
   "source": [
    "for i in a33:\n",
    "    print(i)"
   ]
  },
  {
   "cell_type": "code",
   "execution_count": 459,
   "id": "2134316e-efb2-4590-8534-a011dae8a341",
   "metadata": {},
   "outputs": [
    {
     "name": "stdout",
     "output_type": "stream",
     "text": [
      "0\n",
      "1\n",
      "2\n",
      "3\n",
      "4\n",
      "5\n",
      "6\n",
      "7\n",
      "8\n",
      "9\n",
      "10\n",
      "11\n",
      "12\n",
      "13\n",
      "14\n",
      "15\n",
      "16\n",
      "17\n",
      "18\n",
      "19\n",
      "20\n",
      "21\n",
      "22\n",
      "23\n",
      "24\n",
      "25\n",
      "26\n"
     ]
    }
   ],
   "source": [
    "for i in np.nditer(a33):\n",
    "    print(i)"
   ]
  },
  {
   "cell_type": "markdown",
   "id": "121da846-789c-436a-96cd-cd8f426d7d60",
   "metadata": {},
   "source": [
    "###### Stacking\n"
   ]
  },
  {
   "cell_type": "markdown",
   "id": "15f800d8-6da6-4d80-9769-857c6573676d",
   "metadata": {},
   "source": [
    "###### anu"
   ]
  },
  {
   "cell_type": "code",
   "execution_count": 468,
   "id": "e1af1a2c-1216-4f3c-b7a3-bfbbb77a1578",
   "metadata": {},
   "outputs": [],
   "source": [
    "# horizontal stacking\n",
    "a44 = np.arange(12).reshape(3,4)\n",
    "a55 = np.arange(12,24).reshape(3,4)"
   ]
  },
  {
   "cell_type": "code",
   "execution_count": 470,
   "id": "285c26a6-700b-4be8-bacc-efbe1ff69404",
   "metadata": {},
   "outputs": [],
   "source": [
    "# horizontal stacking\n",
    "a66 = np.arange(12).reshape(4,3)\n",
    "a77 = np.arange(12,24).reshape(3,4)"
   ]
  },
  {
   "cell_type": "code",
   "execution_count": 474,
   "id": "1a9c7a9b-ca51-4189-8748-6bbb54c5f392",
   "metadata": {},
   "outputs": [
    {
     "data": {
      "text/plain": [
       "array([[ 0,  1,  2,  3],\n",
       "       [ 4,  5,  6,  7],\n",
       "       [ 8,  9, 10, 11]])"
      ]
     },
     "execution_count": 474,
     "metadata": {},
     "output_type": "execute_result"
    }
   ],
   "source": [
    "a44\n"
   ]
  },
  {
   "cell_type": "code",
   "execution_count": 476,
   "id": "131d47bc-1bb8-49a1-bfe4-6ca9f96efef6",
   "metadata": {},
   "outputs": [
    {
     "data": {
      "text/plain": [
       "array([[12, 13, 14, 15],\n",
       "       [16, 17, 18, 19],\n",
       "       [20, 21, 22, 23]])"
      ]
     },
     "execution_count": 476,
     "metadata": {},
     "output_type": "execute_result"
    }
   ],
   "source": [
    "a55"
   ]
  },
  {
   "cell_type": "code",
   "execution_count": 478,
   "id": "b111f9bf-89e8-4a74-b399-1ea2730db354",
   "metadata": {},
   "outputs": [
    {
     "data": {
      "text/plain": [
       "array([[ 0,  1,  2,  3, 12, 13, 14, 15],\n",
       "       [ 4,  5,  6,  7, 16, 17, 18, 19],\n",
       "       [ 8,  9, 10, 11, 20, 21, 22, 23]])"
      ]
     },
     "execution_count": 478,
     "metadata": {},
     "output_type": "execute_result"
    }
   ],
   "source": [
    "np.hstack((a44,a55))"
   ]
  },
  {
   "cell_type": "code",
   "execution_count": 480,
   "id": "1eebee95-3391-4876-ba3e-9408d811ef3f",
   "metadata": {},
   "outputs": [
    {
     "data": {
      "text/plain": [
       "array([[ 0,  1,  2,  3, 12, 13, 14, 15],\n",
       "       [ 4,  5,  6,  7, 16, 17, 18, 19],\n",
       "       [ 8,  9, 10, 11, 20, 21, 22, 23]])"
      ]
     },
     "execution_count": 480,
     "metadata": {},
     "output_type": "execute_result"
    }
   ],
   "source": [
    "np.hstack((a44,a55))"
   ]
  },
  {
   "cell_type": "code",
   "execution_count": 482,
   "id": "9221f88c-9994-4320-8570-4cbda19e0e1e",
   "metadata": {},
   "outputs": [
    {
     "data": {
      "text/plain": [
       "array([[ 0,  1,  2,  3],\n",
       "       [ 4,  5,  6,  7],\n",
       "       [ 8,  9, 10, 11],\n",
       "       [12, 13, 14, 15],\n",
       "       [16, 17, 18, 19],\n",
       "       [20, 21, 22, 23]])"
      ]
     },
     "execution_count": 482,
     "metadata": {},
     "output_type": "execute_result"
    }
   ],
   "source": [
    "# Vertical stacking\n",
    "np.vstack((a44,a55))"
   ]
  },
  {
   "cell_type": "code",
   "execution_count": 484,
   "id": "392b4f5e-134c-4559-bb5e-c0213e91267e",
   "metadata": {},
   "outputs": [
    {
     "data": {
      "text/plain": [
       "array([[ 0,  1,  2,  3],\n",
       "       [ 4,  5,  6,  7],\n",
       "       [ 8,  9, 10, 11],\n",
       "       [12, 13, 14, 15],\n",
       "       [16, 17, 18, 19],\n",
       "       [20, 21, 22, 23]])"
      ]
     },
     "execution_count": 484,
     "metadata": {},
     "output_type": "execute_result"
    }
   ],
   "source": [
    "np.vstack((a44,a55))"
   ]
  },
  {
   "cell_type": "code",
   "execution_count": 486,
   "id": "dec1fc8e-1105-4061-8335-b7d76302cf67",
   "metadata": {},
   "outputs": [
    {
     "data": {
      "text/plain": [
       "array([[ 0,  1,  2,  3],\n",
       "       [ 4,  5,  6,  7],\n",
       "       [ 8,  9, 10, 11]])"
      ]
     },
     "execution_count": 486,
     "metadata": {},
     "output_type": "execute_result"
    }
   ],
   "source": [
    "a44"
   ]
  },
  {
   "cell_type": "code",
   "execution_count": 488,
   "id": "1ef6ea2b-e383-4e63-a4ef-0f1a801fcb32",
   "metadata": {},
   "outputs": [
    {
     "data": {
      "text/plain": [
       "array([[12, 13, 14, 15],\n",
       "       [16, 17, 18, 19],\n",
       "       [20, 21, 22, 23]])"
      ]
     },
     "execution_count": 488,
     "metadata": {},
     "output_type": "execute_result"
    }
   ],
   "source": [
    "a55\n"
   ]
  },
  {
   "cell_type": "markdown",
   "id": "6a66150e-e9f5-4d07-9246-fbbf54315805",
   "metadata": {},
   "source": [
    "### Splitting"
   ]
  },
  {
   "cell_type": "code",
   "execution_count": 491,
   "id": "ed6edd82-566e-4d09-b240-8eace3601ae1",
   "metadata": {},
   "outputs": [],
   "source": [
    "import numpy as np\n",
    "\n",
    "array = np.array([[1, 2, 3, 4],\n",
    "                  [5, 6, 7, 8]])"
   ]
  },
  {
   "cell_type": "code",
   "execution_count": 493,
   "id": "55a6229f-7e75-4731-bce9-a3deb05d54a5",
   "metadata": {},
   "outputs": [
    {
     "name": "stdout",
     "output_type": "stream",
     "text": [
      "[array([[1, 2],\n",
      "       [5, 6]]), array([[3, 4],\n",
      "       [7, 8]])]\n"
     ]
    }
   ],
   "source": [
    "splits = np.hsplit(array, 2)\n",
    "\n",
    "print(splits)"
   ]
  },
  {
   "cell_type": "code",
   "execution_count": 495,
   "id": "54f7478d-c1a7-498c-a51a-eb5bed37509e",
   "metadata": {},
   "outputs": [
    {
     "data": {
      "text/plain": [
       "array([[1, 2, 3, 4],\n",
       "       [5, 6, 7, 8]])"
      ]
     },
     "execution_count": 495,
     "metadata": {},
     "output_type": "execute_result"
    }
   ],
   "source": [
    "array"
   ]
  },
  {
   "cell_type": "code",
   "execution_count": 497,
   "id": "0016e4ea-2f5f-4163-8cc3-b4431def49c2",
   "metadata": {},
   "outputs": [
    {
     "data": {
      "text/plain": [
       "[array([[1],\n",
       "        [5]]),\n",
       " array([[2],\n",
       "        [6]]),\n",
       " array([[3],\n",
       "        [7]]),\n",
       " array([[4],\n",
       "        [8]])]"
      ]
     },
     "execution_count": 497,
     "metadata": {},
     "output_type": "execute_result"
    }
   ],
   "source": [
    "np.hsplit(array,4)"
   ]
  },
  {
   "cell_type": "code",
   "execution_count": 499,
   "id": "5ae187af-0289-4edb-b0eb-80a03b8385ff",
   "metadata": {},
   "outputs": [
    {
     "name": "stdout",
     "output_type": "stream",
     "text": [
      "[array([[1, 2, 3]]), array([[4, 5, 6]]), array([[7, 8, 9]])]\n"
     ]
    }
   ],
   "source": [
    "import numpy as np\n",
    "\n",
    "array = np.array([[1, 2, 3],\n",
    "                  [4, 5, 6],\n",
    "                  [7, 8, 9]])\n",
    "\n",
    "splits = np.vsplit(array, 3)\n",
    "\n",
    "print(splits)"
   ]
  },
  {
   "cell_type": "code",
   "execution_count": 503,
   "id": "ce3f5aaf-1439-48b3-904f-689a5247394f",
   "metadata": {},
   "outputs": [],
   "source": [
    "import numpy as np\n",
    "\n",
    "array = np.array([[1, 2, 3],\n",
    "                  [4, 5, 6],\n",
    "                  [7, 8, 9]])"
   ]
  },
  {
   "cell_type": "code",
   "execution_count": 505,
   "id": "34abdb07-3e35-45fd-a08c-c4eaaa9cc832",
   "metadata": {},
   "outputs": [
    {
     "name": "stdout",
     "output_type": "stream",
     "text": [
      "[array([[1, 2, 3]]), array([[4, 5, 6]]), array([[7, 8, 9]])]\n"
     ]
    }
   ],
   "source": [
    "splits = np.vsplit(array, 3)\n",
    "\n",
    "print(splits)"
   ]
  },
  {
   "cell_type": "markdown",
   "id": "11e7fbd8-6bab-4cf6-8fe7-6a48fac5478c",
   "metadata": {},
   "source": [
    "# Array Mutability"
   ]
  },
  {
   "cell_type": "code",
   "execution_count": 510,
   "id": "ccf9c5b9-11c7-47e5-8b28-31a1b60b2276",
   "metadata": {},
   "outputs": [],
   "source": [
    " import numpy as np\n",
    "arr = np.array([1, 2, 3, 4, 5])\n",
    "arr[2] = 99"
   ]
  },
  {
   "cell_type": "code",
   "execution_count": 512,
   "id": "02fe6ead-3ae8-4812-b43c-b347f115787b",
   "metadata": {},
   "outputs": [],
   "source": [
    "import numpy as np\n",
    "\n",
    "arr = np.array([1, 2, 3, 4, 5])\n",
    "arr[1:4] = 0"
   ]
  },
  {
   "cell_type": "code",
   "execution_count": 514,
   "id": "2aec4f3f-60b8-41b2-a470-ba0f55478d08",
   "metadata": {},
   "outputs": [],
   "source": [
    "import numpy as np\n",
    "\n",
    "arr = np.array([1, 2, 3, 4, 5])\n",
    "mask = arr > 2\n",
    "arr[mask] = 99 "
   ]
  },
  {
   "cell_type": "code",
   "execution_count": 516,
   "id": "0aa1d31c-8ecf-4f11-94ce-dd0f5566722d",
   "metadata": {},
   "outputs": [
    {
     "data": {
      "text/plain": [
       "array([ 1,  2, 99, 99, 99])"
      ]
     },
     "execution_count": 516,
     "metadata": {},
     "output_type": "execute_result"
    }
   ],
   "source": [
    "arr\n"
   ]
  },
  {
   "cell_type": "code",
   "execution_count": 518,
   "id": "5c2afb02-71c3-411d-b97e-4b09f90a74b1",
   "metadata": {},
   "outputs": [
    {
     "data": {
      "text/plain": [
       "array([False, False,  True,  True,  True])"
      ]
     },
     "execution_count": 518,
     "metadata": {},
     "output_type": "execute_result"
    }
   ],
   "source": [
    "arr> 80"
   ]
  },
  {
   "cell_type": "code",
   "execution_count": 520,
   "id": "b3fc1559-f9aa-4e30-a788-93ee04a87679",
   "metadata": {},
   "outputs": [],
   "source": [
    "arr[arr>80] =0"
   ]
  },
  {
   "cell_type": "code",
   "execution_count": 522,
   "id": "2dd77d70-4d22-4914-8ad4-559e795ea7ac",
   "metadata": {},
   "outputs": [
    {
     "data": {
      "text/plain": [
       "array([1, 2, 0, 0, 0])"
      ]
     },
     "execution_count": 522,
     "metadata": {},
     "output_type": "execute_result"
    }
   ],
   "source": [
    "arr"
   ]
  },
  {
   "cell_type": "code",
   "execution_count": null,
   "id": "8d33c821-02c9-4693-ac52-529b802b31e7",
   "metadata": {},
   "outputs": [],
   "source": []
  }
 ],
 "metadata": {
  "kernelspec": {
   "display_name": "Python 3 (ipykernel)",
   "language": "python",
   "name": "python3"
  },
  "language_info": {
   "codemirror_mode": {
    "name": "ipython",
    "version": 3
   },
   "file_extension": ".py",
   "mimetype": "text/x-python",
   "name": "python",
   "nbconvert_exporter": "python",
   "pygments_lexer": "ipython3",
   "version": "3.12.7"
  }
 },
 "nbformat": 4,
 "nbformat_minor": 5
}
