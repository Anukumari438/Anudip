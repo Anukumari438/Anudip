{
 "cells": [
  {
   "cell_type": "markdown",
   "id": "dbb3f16b-854f-456b-ba59-0343a6289a64",
   "metadata": {},
   "source": [
    "# characteristic of dictionary\n",
    "1.unorded\n",
    "2.mutable\n"
   ]
  },
  {
   "cell_type": "code",
   "execution_count": null,
   "id": "61ef579a-99d4-4884-9fa2-e7aa81ec7d99",
   "metadata": {},
   "outputs": [],
   "source": []
  },
  {
   "cell_type": "code",
   "execution_count": 3,
   "id": "5464d276-c12c-4db6-b7ef-c8d9ce54e4a9",
   "metadata": {},
   "outputs": [
    {
     "ename": "TypeError",
     "evalue": "'int' object does not support item assignment",
     "output_type": "error",
     "traceback": [
      "\u001b[1;31m---------------------------------------------------------------------------\u001b[0m",
      "\u001b[1;31mTypeError\u001b[0m                                 Traceback (most recent call last)",
      "Cell \u001b[1;32mIn[3], line 1\u001b[0m\n\u001b[1;32m----> 1\u001b[0m \u001b[38;5;241m1\u001b[39m[\u001b[38;5;241m0\u001b[39m] \u001b[38;5;241m=\u001b[39m\u001b[38;5;241m2\u001b[39m\n",
      "\u001b[1;31mTypeError\u001b[0m: 'int' object does not support item assignment"
     ]
    }
   ],
   "source": [
    "1[0] =2"
   ]
  },
  {
   "cell_type": "markdown",
   "id": "0e63dedd-6481-424d-bd99-4dab65d9df6c",
   "metadata": {},
   "source": [
    "## mutable"
   ]
  },
  {
   "cell_type": "code",
   "execution_count": 9,
   "id": "dea31d16-6a35-455c-9755-0f65cbae9122",
   "metadata": {},
   "outputs": [],
   "source": [
    "my_dict={'name':'anu','age':'20','city':'bengaluru'}"
   ]
  },
  {
   "cell_type": "code",
   "execution_count": 12,
   "id": "435c0047-c5d8-493d-ac44-b08bbaf86787",
   "metadata": {},
   "outputs": [
    {
     "data": {
      "text/plain": [
       "{'name': 'anu', 'age': '20', 'city': 'bengaluru'}"
      ]
     },
     "execution_count": 12,
     "metadata": {},
     "output_type": "execute_result"
    }
   ],
   "source": [
    "my_dict"
   ]
  },
  {
   "cell_type": "code",
   "execution_count": 14,
   "id": "34512285-74d3-4ab7-9e79-9e78dedc27bf",
   "metadata": {},
   "outputs": [],
   "source": [
    "my_dict['age']=30"
   ]
  },
  {
   "cell_type": "code",
   "execution_count": 17,
   "id": "49bf8cdc-5028-47aa-a7cd-b622e0382e0a",
   "metadata": {},
   "outputs": [
    {
     "data": {
      "text/plain": [
       "{'name': 'anu', 'age': 30, 'city': 'bengaluru'}"
      ]
     },
     "execution_count": 17,
     "metadata": {},
     "output_type": "execute_result"
    }
   ],
   "source": [
    "my_dict"
   ]
  },
  {
   "cell_type": "markdown",
   "id": "87352e3f-5ada-42b0-bb2f-78e1e1aea659",
   "metadata": {},
   "source": [
    "## unique keys "
   ]
  },
  {
   "cell_type": "code",
   "execution_count": 27,
   "id": "82e05e2d-14f7-4cbe-8062-8330e59880af",
   "metadata": {},
   "outputs": [],
   "source": [
    "my_dict={'name': 'anu', 'age': 30, 'age':89,'age':55,'city': 'bengaluru'}"
   ]
  },
  {
   "cell_type": "code",
   "execution_count": 30,
   "id": "a16cbb73-4c08-4236-b11a-778909d71a58",
   "metadata": {},
   "outputs": [
    {
     "data": {
      "text/plain": [
       "{'name': 'anu', 'age': 55, 'city': 'bengaluru'}"
      ]
     },
     "execution_count": 30,
     "metadata": {},
     "output_type": "execute_result"
    }
   ],
   "source": [
    "my_dict"
   ]
  },
  {
   "cell_type": "markdown",
   "id": "fc17cbe4-cd77-436a-beb6-eb7dc37546fa",
   "metadata": {},
   "source": [
    "## immutablem"
   ]
  },
  {
   "cell_type": "code",
   "execution_count": 35,
   "id": "24e6609f-cd3b-42fc-aab5-b17a3b670658",
   "metadata": {},
   "outputs": [
    {
     "name": "stdout",
     "output_type": "stream",
     "text": [
      "{(1, 2): 'point', 'name': 'alice'}\n"
     ]
    }
   ],
   "source": [
    "my_dict = {(1,2):'point','name':'alice'}\n",
    "print(my_dict)"
   ]
  },
  {
   "cell_type": "code",
   "execution_count": 37,
   "id": "3b9a98c7-e801-4397-b39b-311033198915",
   "metadata": {},
   "outputs": [
    {
     "data": {
      "text/plain": [
       "{(1, 2): 'point', 'name': 'alice'}"
      ]
     },
     "execution_count": 37,
     "metadata": {},
     "output_type": "execute_result"
    }
   ],
   "source": [
    "my_dict"
   ]
  },
  {
   "cell_type": "code",
   "execution_count": 41,
   "id": "f698dd35-fb98-4bca-841e-eb7e06d5e699",
   "metadata": {},
   "outputs": [],
   "source": [
    "my_dict1 = {1:'hello'}"
   ]
  },
  {
   "cell_type": "code",
   "execution_count": 49,
   "id": "3683edb6-8bfd-4967-8449-66c02252291b",
   "metadata": {},
   "outputs": [],
   "source": [
    "my_dict2 = {(1,2):'hello'}"
   ]
  },
  {
   "cell_type": "markdown",
   "id": "77ebbdff-ee9e-4ac9-908c-0c110d92ccb0",
   "metadata": {},
   "source": []
  },
  {
   "cell_type": "code",
   "execution_count": 52,
   "id": "3eaae66e-c760-45da-b4a4-8b57a1472d03",
   "metadata": {},
   "outputs": [
    {
     "data": {
      "text/plain": [
       "{1: 'hello'}"
      ]
     },
     "execution_count": 52,
     "metadata": {},
     "output_type": "execute_result"
    }
   ],
   "source": [
    "my_dict"
   ]
  },
  {
   "cell_type": "markdown",
   "id": "ba934ac9-517f-486c-a309-0f849f42b03d",
   "metadata": {},
   "source": [
    "\n",
    "## accessing a value by key\n"
   ]
  },
  {
   "cell_type": "markdown",
   "id": "efea19ab-f5d0-4cba-a1ca-fa74621a4247",
   "metadata": {},
   "source": [
    "## using get element"
   ]
  },
  {
   "cell_type": "code",
   "execution_count": 58,
   "id": "b3d8c721-191d-405e-aef6-13af6b6c63a6",
   "metadata": {},
   "outputs": [],
   "source": [
    "my_dict={'name': 'anu', 'age': 30, 'age':89,'age':55,'city': 'bengaluru'}"
   ]
  },
  {
   "cell_type": "code",
   "execution_count": 60,
   "id": "a8dc5004-b245-4cd9-8411-a176f3ea667f",
   "metadata": {},
   "outputs": [
    {
     "data": {
      "text/plain": [
       "55"
      ]
     },
     "execution_count": 60,
     "metadata": {},
     "output_type": "execute_result"
    }
   ],
   "source": [
    "my_dict['age']"
   ]
  },
  {
   "cell_type": "code",
   "execution_count": 64,
   "id": "dbc59e31-8d9d-4227-ba43-974290dac4a4",
   "metadata": {},
   "outputs": [
    {
     "data": {
      "text/plain": [
       "55"
      ]
     },
     "execution_count": 64,
     "metadata": {},
     "output_type": "execute_result"
    }
   ],
   "source": [
    "my_dict.get('age')"
   ]
  },
  {
   "cell_type": "code",
   "execution_count": 68,
   "id": "6aa329f8-61f3-4096-9bfa-a17780345623",
   "metadata": {},
   "outputs": [
    {
     "name": "stdout",
     "output_type": "stream",
     "text": [
      "anu\n"
     ]
    }
   ],
   "source": [
    "print(my_dict.get('name'))"
   ]
  },
  {
   "cell_type": "markdown",
   "id": "00f53651-ebfd-41a4-a7f5-d25590a5fefb",
   "metadata": {},
   "source": [
    "## ascessing all keys"
   ]
  },
  {
   "cell_type": "code",
   "execution_count": 75,
   "id": "b76acf47-be42-4cf3-949b-b72fdbd91904",
   "metadata": {},
   "outputs": [
    {
     "data": {
      "text/plain": [
       "dict_keys(['name', 'age', 'city'])"
      ]
     },
     "execution_count": 75,
     "metadata": {},
     "output_type": "execute_result"
    }
   ],
   "source": [
    "my_dict.keys()"
   ]
  },
  {
   "cell_type": "markdown",
   "id": "4b053950-2fec-4e40-b8d1-647eb6f092e8",
   "metadata": {},
   "source": [
    "## ascessing all values"
   ]
  },
  {
   "cell_type": "code",
   "execution_count": 78,
   "id": "16bc3ccc-5aa5-43de-99fe-a6e11d8b6c5d",
   "metadata": {},
   "outputs": [
    {
     "data": {
      "text/plain": [
       "dict_values(['anu', 55, 'bengaluru'])"
      ]
     },
     "execution_count": 78,
     "metadata": {},
     "output_type": "execute_result"
    }
   ],
   "source": [
    "my_dict.values()"
   ]
  },
  {
   "cell_type": "markdown",
   "id": "c5f9ec0c-772f-48e0-87be-e3cba741afc6",
   "metadata": {},
   "source": [
    "## ascessing all key value pairs"
   ]
  },
  {
   "cell_type": "code",
   "execution_count": 83,
   "id": "aa6b5ae2-b1ad-4b82-ae81-f4954a490e25",
   "metadata": {},
   "outputs": [
    {
     "data": {
      "text/plain": [
       "dict_items([('name', 'anu'), ('age', 55), ('city', 'bengaluru')])"
      ]
     },
     "execution_count": 83,
     "metadata": {},
     "output_type": "execute_result"
    }
   ],
   "source": [
    "my_dict.items()"
   ]
  },
  {
   "cell_type": "markdown",
   "id": "af7963bd-3181-4ead-8c33-704a5ba4f76d",
   "metadata": {},
   "source": [
    "## iterating over key values"
   ]
  },
  {
   "cell_type": "code",
   "execution_count": 86,
   "id": "4085e943-4fa8-4704-a085-ed82eb466286",
   "metadata": {},
   "outputs": [
    {
     "name": "stdout",
     "output_type": "stream",
     "text": [
      "name\n",
      "age\n",
      "city\n"
     ]
    }
   ],
   "source": [
    "for i in my_dict:\n",
    "    print(i)"
   ]
  },
  {
   "cell_type": "code",
   "execution_count": 88,
   "id": "c0caacc0-b7e9-4ef0-99ac-ff9fbf206a60",
   "metadata": {},
   "outputs": [
    {
     "name": "stdout",
     "output_type": "stream",
     "text": [
      "anu\n",
      "55\n",
      "bengaluru\n"
     ]
    }
   ],
   "source": [
    "for j in my_dict.values():\n",
    "    print(j)"
   ]
  },
  {
   "cell_type": "code",
   "execution_count": 92,
   "id": "23c2f5b1-4632-414a-b8e8-6fe6138c62d6",
   "metadata": {},
   "outputs": [
    {
     "data": {
      "text/plain": [
       "dict_items([('name', 'anu'), ('age', 55), ('city', 'bengaluru')])"
      ]
     },
     "execution_count": 92,
     "metadata": {},
     "output_type": "execute_result"
    }
   ],
   "source": [
    "my_dict.items()"
   ]
  },
  {
   "cell_type": "code",
   "execution_count": 96,
   "id": "442c02cb-4e1f-45ec-934f-b5d0a1a5ff93",
   "metadata": {},
   "outputs": [
    {
     "name": "stdout",
     "output_type": "stream",
     "text": [
      "name: anu\n",
      "age: 55\n",
      "city: bengaluru\n"
     ]
    }
   ],
   "source": [
    "\n",
    "for i, j in my_dict.items():\n",
    "    print(f\"{i}: {j}\")"
   ]
  },
  {
   "cell_type": "code",
   "execution_count": 100,
   "id": "171f0d58-1f82-4e62-b3ab-781fa40abe45",
   "metadata": {},
   "outputs": [],
   "source": [
    "nested_dict = {\n",
    "    'person1':{\n",
    "    'name':'anu',\n",
    "    'age':'20'\n",
    "},\n",
    "'person2':{\n",
    "    'name':'ria',\n",
    "    'age':50,\n",
    "}\n",
    "}"
   ]
  },
  {
   "cell_type": "code",
   "execution_count": 102,
   "id": "4ccc7ccc-a408-44ab-a907-cce3b8a4e0f2",
   "metadata": {},
   "outputs": [
    {
     "data": {
      "text/plain": [
       "{'person1': {'name': 'anu', 'age': '20'},\n",
       " 'person2': {'name': 'ria', 'age': 50}}"
      ]
     },
     "execution_count": 102,
     "metadata": {},
     "output_type": "execute_result"
    }
   ],
   "source": [
    "nested_dict"
   ]
  },
  {
   "cell_type": "code",
   "execution_count": 106,
   "id": "bbd0dd8d-2b94-46c5-b1f8-75a07b29c2e9",
   "metadata": {},
   "outputs": [
    {
     "ename": "SyntaxError",
     "evalue": "cannot assign to literal here. Maybe you meant '==' instead of '='? (3357233428.py, line 1)",
     "output_type": "error",
     "traceback": [
      "\u001b[1;36m  Cell \u001b[1;32mIn[106], line 1\u001b[1;36m\u001b[0m\n\u001b[1;33m    1 = [[1,2,3],3,5]\u001b[0m\n\u001b[1;37m    ^\u001b[0m\n\u001b[1;31mSyntaxError\u001b[0m\u001b[1;31m:\u001b[0m cannot assign to literal here. Maybe you meant '==' instead of '='?\n"
     ]
    }
   ],
   "source": [
    "1 = [[1,2,3],3,5]"
   ]
  },
  {
   "cell_type": "markdown",
   "id": "2f5e095e-f7be-4a06-ad7b-536e6febecdb",
   "metadata": {},
   "source": []
  },
  {
   "cell_type": "code",
   "execution_count": 113,
   "id": "6e1fbc2c-a1ba-4fb2-9f37-e5e66f1127cc",
   "metadata": {},
   "outputs": [
    {
     "name": "stdout",
     "output_type": "stream",
     "text": [
      "20\n"
     ]
    }
   ],
   "source": [
    "print(nested_dict['person1']['age'])"
   ]
  },
  {
   "cell_type": "markdown",
   "id": "1bfd64c2-25b5-439f-9705-2a5e9b2f9d5e",
   "metadata": {},
   "source": [
    "## modifying elements in nested dictionary"
   ]
  },
  {
   "cell_type": "code",
   "execution_count": 116,
   "id": "f62edfbb-75c5-4883-938b-6be2d044459b",
   "metadata": {},
   "outputs": [],
   "source": [
    "nested_dict['person1']['age']=33"
   ]
  },
  {
   "cell_type": "code",
   "execution_count": 120,
   "id": "5fbff38c-a0e3-4db1-8fbf-922a601837a1",
   "metadata": {},
   "outputs": [
    {
     "data": {
      "text/plain": [
       "{'person1': {'name': 'anu', 'age': 33}, 'person2': {'name': 'ria', 'age': 50}}"
      ]
     },
     "execution_count": 120,
     "metadata": {},
     "output_type": "execute_result"
    }
   ],
   "source": [
    "nested_dict"
   ]
  },
  {
   "cell_type": "markdown",
   "id": "8544cb09-3600-4801-b53a-fb4dd044e78b",
   "metadata": {},
   "source": [
    "## adding new dict"
   ]
  },
  {
   "cell_type": "code",
   "execution_count": 141,
   "id": "73f32b37-8ada-4965-a9c4-6952bad76f87",
   "metadata": {},
   "outputs": [
    {
     "ename": "SyntaxError",
     "evalue": "invalid syntax (3200725113.py, line 1)",
     "output_type": "error",
     "traceback": [
      "\u001b[1;36m  Cell \u001b[1;32mIn[141], line 1\u001b[1;36m\u001b[0m\n\u001b[1;33m    nested_dict ['person3']:\u001b[0m\n\u001b[1;37m                            ^\u001b[0m\n\u001b[1;31mSyntaxError\u001b[0m\u001b[1;31m:\u001b[0m invalid syntax\n"
     ]
    }
   ],
   "source": [
    "nested_dict ['person3']:\n",
    "    'name':'an',\n",
    "    'age':'2'\n",
    "    \n"
   ]
  },
  {
   "cell_type": "code",
   "execution_count": 143,
   "id": "381f5558-525a-4624-89bd-6039b80a7729",
   "metadata": {},
   "outputs": [
    {
     "data": {
      "text/plain": [
       "{'person3': {'name': 'an', 'age': '2'}}"
      ]
     },
     "execution_count": 143,
     "metadata": {},
     "output_type": "execute_result"
    }
   ],
   "source": [
    "nested_dict"
   ]
  },
  {
   "cell_type": "markdown",
   "id": "574b5614-f8c2-4bee-862c-4008377ecbc1",
   "metadata": {},
   "source": [
    "## using del statement"
   ]
  },
  {
   "cell_type": "code",
   "execution_count": 148,
   "id": "1637128b-97ee-4615-a3e3-93620b3418a1",
   "metadata": {},
   "outputs": [],
   "source": [
    "my_dict =  {\n",
    "    'name':'anu',\n",
    "    'age':'20'\n",
    "}"
   ]
  },
  {
   "cell_type": "code",
   "execution_count": 150,
   "id": "0a32d662-c22d-4909-a5d4-0b184330d2c2",
   "metadata": {},
   "outputs": [],
   "source": [
    "del my_dict['age']"
   ]
  },
  {
   "cell_type": "code",
   "execution_count": 154,
   "id": "05904cda-9b68-427e-ba27-26ef1ebeb4cd",
   "metadata": {},
   "outputs": [
    {
     "data": {
      "text/plain": [
       "{'name': 'anu'}"
      ]
     },
     "execution_count": 154,
     "metadata": {},
     "output_type": "execute_result"
    }
   ],
   "source": [
    "my_dict"
   ]
  },
  {
   "cell_type": "markdown",
   "id": "b419500c-fc22-44fb-abfa-92c719f31b32",
   "metadata": {},
   "source": [
    "## using pop() method"
   ]
  },
  {
   "cell_type": "code",
   "execution_count": 157,
   "id": "fcc49cb5-01cf-4224-b943-2fcc63621d57",
   "metadata": {},
   "outputs": [],
   "source": [
    "a = my_dict.pop('name')"
   ]
  },
  {
   "cell_type": "code",
   "execution_count": 159,
   "id": "5196162a-2686-4d6d-8823-2832a9ee9778",
   "metadata": {},
   "outputs": [
    {
     "data": {
      "text/plain": [
       "{}"
      ]
     },
     "execution_count": 159,
     "metadata": {},
     "output_type": "execute_result"
    }
   ],
   "source": [
    "my_dict"
   ]
  },
  {
   "cell_type": "code",
   "execution_count": 164,
   "id": "cce8a692-70a0-47fc-990e-cc87588908e1",
   "metadata": {},
   "outputs": [
    {
     "data": {
      "text/plain": [
       "'anu'"
      ]
     },
     "execution_count": 164,
     "metadata": {},
     "output_type": "execute_result"
    }
   ],
   "source": [
    "a"
   ]
  },
  {
   "cell_type": "markdown",
   "id": "b2766d15-0d24-4c38-b337-70ae8abd8609",
   "metadata": {},
   "source": [
    "## using popitem() method"
   ]
  },
  {
   "cell_type": "code",
   "execution_count": 167,
   "id": "bc986370-ae3c-4bfd-a40f-f29d00817141",
   "metadata": {},
   "outputs": [],
   "source": [
    "my_dict={\n",
    "    'name':'raj',\n",
    "    'age':55\n",
    "}"
   ]
  },
  {
   "cell_type": "code",
   "execution_count": 169,
   "id": "6c80e939-184a-473b-b916-8c5d33e1f49d",
   "metadata": {},
   "outputs": [
    {
     "data": {
      "text/plain": [
       "('age', 55)"
      ]
     },
     "execution_count": 169,
     "metadata": {},
     "output_type": "execute_result"
    }
   ],
   "source": [
    "my_dict.popitem()"
   ]
  },
  {
   "cell_type": "code",
   "execution_count": 173,
   "id": "510c6a8a-8b7f-4ab1-b38c-43a4b4c76cb4",
   "metadata": {},
   "outputs": [
    {
     "data": {
      "text/plain": [
       "('name', 'raj')"
      ]
     },
     "execution_count": 173,
     "metadata": {},
     "output_type": "execute_result"
    }
   ],
   "source": [
    "my_dict.popitem()"
   ]
  },
  {
   "cell_type": "code",
   "execution_count": 175,
   "id": "4744b759-2e2a-4cb6-bb0a-dfd769d6c6a4",
   "metadata": {},
   "outputs": [
    {
     "ename": "KeyError",
     "evalue": "'popitem(): dictionary is empty'",
     "output_type": "error",
     "traceback": [
      "\u001b[1;31m---------------------------------------------------------------------------\u001b[0m",
      "\u001b[1;31mKeyError\u001b[0m                                  Traceback (most recent call last)",
      "Cell \u001b[1;32mIn[175], line 1\u001b[0m\n\u001b[1;32m----> 1\u001b[0m my_dict\u001b[38;5;241m.\u001b[39mpopitem()\n",
      "\u001b[1;31mKeyError\u001b[0m: 'popitem(): dictionary is empty'"
     ]
    }
   ],
   "source": [
    "my_dict.popitem()"
   ]
  },
  {
   "cell_type": "code",
   "execution_count": 177,
   "id": "aa3b9f07-d09d-42bd-9b95-64e77034ccb0",
   "metadata": {},
   "outputs": [
    {
     "data": {
      "text/plain": [
       "{}"
      ]
     },
     "execution_count": 177,
     "metadata": {},
     "output_type": "execute_result"
    }
   ],
   "source": [
    "my_dict"
   ]
  },
  {
   "cell_type": "code",
   "execution_count": 179,
   "id": "ee451ac8-5cd9-4983-9e3f-250e1925fc81",
   "metadata": {},
   "outputs": [],
   "source": [
    "my_dict = {\n",
    "    'name':'anu',\n",
    "    'age':20,\n",
    "    'city':'bangalore'\n",
    "}"
   ]
  },
  {
   "cell_type": "code",
   "execution_count": 181,
   "id": "dcf3f269-365a-495f-adee-f0218215eb3d",
   "metadata": {},
   "outputs": [
    {
     "data": {
      "text/plain": [
       "False"
      ]
     },
     "execution_count": 181,
     "metadata": {},
     "output_type": "execute_result"
    }
   ],
   "source": [
    "20 in my_dict"
   ]
  },
  {
   "cell_type": "markdown",
   "id": "e95e0bc3-8e77-46fc-acc5-dca6c535af96",
   "metadata": {},
   "source": [
    "# function"
   ]
  },
  {
   "cell_type": "code",
   "execution_count": 2,
   "id": "2f124cf9-4b79-4dd1-8580-18da4d7b0287",
   "metadata": {},
   "outputs": [],
   "source": [
    "def add():\n",
    "    a = 1\n",
    "    b = 11\n",
    "    c = a+b\n",
    "    print(c)"
   ]
  },
  {
   "cell_type": "code",
   "execution_count": 4,
   "id": "9247ed76-e2ad-431f-8b50-27cf1af30b36",
   "metadata": {},
   "outputs": [
    {
     "name": "stdout",
     "output_type": "stream",
     "text": [
      "12\n"
     ]
    }
   ],
   "source": [
    "add()"
   ]
  },
  {
   "cell_type": "code",
   "execution_count": 6,
   "id": "de00d265-40e0-4ff1-9153-13d33af9a258",
   "metadata": {},
   "outputs": [
    {
     "ename": "NameError",
     "evalue": "name 'c' is not defined",
     "output_type": "error",
     "traceback": [
      "\u001b[1;31m---------------------------------------------------------------------------\u001b[0m",
      "\u001b[1;31mNameError\u001b[0m                                 Traceback (most recent call last)",
      "Cell \u001b[1;32mIn[6], line 1\u001b[0m\n\u001b[1;32m----> 1\u001b[0m \u001b[38;5;28mprint\u001b[39m(c)\n",
      "\u001b[1;31mNameError\u001b[0m: name 'c' is not defined"
     ]
    }
   ],
   "source": [
    "print(c)"
   ]
  },
  {
   "cell_type": "code",
   "execution_count": 8,
   "id": "9e3aecc0-dac8-4898-a22c-a27d1583123f",
   "metadata": {},
   "outputs": [
    {
     "ename": "SyntaxError",
     "evalue": "invalid decimal literal (761346870.py, line 1)",
     "output_type": "error",
     "traceback": [
      "\u001b[1;36m  Cell \u001b[1;32mIn[8], line 1\u001b[1;36m\u001b[0m\n\u001b[1;33m    1.append(20)\u001b[0m\n\u001b[1;37m     ^\u001b[0m\n\u001b[1;31mSyntaxError\u001b[0m\u001b[1;31m:\u001b[0m invalid decimal literal\n"
     ]
    }
   ],
   "source": [
    "1.append(20)"
   ]
  },
  {
   "cell_type": "code",
   "execution_count": 10,
   "id": "8da5065a-9f8d-4f17-8673-36eeb6cd08d3",
   "metadata": {},
   "outputs": [
    {
     "ename": "SyntaxError",
     "evalue": "cannot assign to literal here. Maybe you meant '==' instead of '='? (1490618189.py, line 1)",
     "output_type": "error",
     "traceback": [
      "\u001b[1;36m  Cell \u001b[1;32mIn[10], line 1\u001b[1;36m\u001b[0m\n\u001b[1;33m    1 = [1,2,3,4,5,6,7,8,9]\u001b[0m\n\u001b[1;37m    ^\u001b[0m\n\u001b[1;31mSyntaxError\u001b[0m\u001b[1;31m:\u001b[0m cannot assign to literal here. Maybe you meant '==' instead of '='?\n"
     ]
    }
   ],
   "source": [
    "1 = [1,2,3,4,5,6,7,8,9]"
   ]
  },
  {
   "cell_type": "code",
   "execution_count": 12,
   "id": "d2f83334-3062-4537-a525-ea181407d777",
   "metadata": {},
   "outputs": [],
   "source": [
    "def greet ():\n",
    "    print(\"hello\")"
   ]
  },
  {
   "cell_type": "code",
   "execution_count": 14,
   "id": "bef580e6-dbfa-442b-8b21-298ee30758a3",
   "metadata": {},
   "outputs": [],
   "source": [
    "def greet():\n",
    "    name = input(\"enter the name\")\n",
    "    print(f\"hello {name} welcome to \")"
   ]
  },
  {
   "cell_type": "code",
   "execution_count": 18,
   "id": "d3378c5f-cfa4-4941-834a-c4db40fff702",
   "metadata": {},
   "outputs": [
    {
     "name": "stdin",
     "output_type": "stream",
     "text": [
      "enter the name anu\n"
     ]
    },
    {
     "name": "stdout",
     "output_type": "stream",
     "text": [
      "hello anu welcome to \n"
     ]
    }
   ],
   "source": [
    "greet()"
   ]
  },
  {
   "cell_type": "code",
   "execution_count": 27,
   "id": "db11b187-a4eb-4c31-b35b-e293e750da54",
   "metadata": {},
   "outputs": [
    {
     "name": "stdout",
     "output_type": "stream",
     "text": [
      "-1\n"
     ]
    }
   ],
   "source": [
    "def sub():\n",
    "    x=2\n",
    "    y=3\n",
    "    c=x-y\n",
    "    print(c)\n",
    "sub()"
   ]
  },
  {
   "cell_type": "code",
   "execution_count": 33,
   "id": "31a96ce5-13ac-4dbe-a91f-9d65f296bac1",
   "metadata": {},
   "outputs": [],
   "source": [
    "def sub():\n",
    "    name = input(\"enter \")\n",
    "    print(\"{name} hello\")"
   ]
  },
  {
   "cell_type": "code",
   "execution_count": 35,
   "id": "b94b33db-4571-471b-91d9-aa24a97a506f",
   "metadata": {},
   "outputs": [
    {
     "name": "stdin",
     "output_type": "stream",
     "text": [
      "enter  3\n"
     ]
    },
    {
     "name": "stdout",
     "output_type": "stream",
     "text": [
      "{name} hello\n"
     ]
    }
   ],
   "source": [
    "sub()"
   ]
  },
  {
   "cell_type": "code",
   "execution_count": 37,
   "id": "6e0f3ffe-d6d3-4677-a69f-dbb8611e97d5",
   "metadata": {},
   "outputs": [
    {
     "name": "stdout",
     "output_type": "stream",
     "text": [
      "6\n"
     ]
    }
   ],
   "source": [
    "def mul():\n",
    "    x=2\n",
    "    y=3\n",
    "    c=x*y\n",
    "    print(c)\n",
    "mul()"
   ]
  },
  {
   "cell_type": "code",
   "execution_count": 39,
   "id": "c4f39ebd-d53a-449f-8a44-3e0374417eca",
   "metadata": {},
   "outputs": [
    {
     "name": "stdout",
     "output_type": "stream",
     "text": [
      "0.6666666666666666\n"
     ]
    }
   ],
   "source": [
    "def div():\n",
    "    x=2\n",
    "    y=3\n",
    "    c=x/y\n",
    "    print(c)\n",
    "div()"
   ]
  },
  {
   "cell_type": "code",
   "execution_count": 47,
   "id": "c9734a0a-34ca-4171-8ea4-94e189fbc0c6",
   "metadata": {},
   "outputs": [
    {
     "name": "stdout",
     "output_type": "stream",
     "text": [
      "4\n"
     ]
    }
   ],
   "source": [
    "def mod():\n",
    "    x=10\n",
    "    y=6\n",
    "    c=x%y\n",
    "    print(c)\n",
    "mod()"
   ]
  },
  {
   "cell_type": "code",
   "execution_count": 51,
   "id": "7b6c9579-13a1-4f1b-b51e-e30dfa6aaf36",
   "metadata": {},
   "outputs": [
    {
     "ename": "SyntaxError",
     "evalue": "invalid syntax (3231649348.py, line 4)",
     "output_type": "error",
     "traceback": [
      "\u001b[1;36m  Cell \u001b[1;32mIn[51], line 4\u001b[1;36m\u001b[0m\n\u001b[1;33m    while num >=\u001b[0m\n\u001b[1;37m                 ^\u001b[0m\n\u001b[1;31mSyntaxError\u001b[0m\u001b[1;31m:\u001b[0m invalid syntax\n"
     ]
    }
   ],
   "source": [
    "##simple mul table\n",
    "def table():\n",
    "    num = int(input('enter a number'))\n",
    "    while num >= "
   ]
  },
  {
   "cell_type": "markdown",
   "id": "a10b4492-4a31-482b-ba1e-922e441cab12",
   "metadata": {},
   "source": [
    "## parameter "
   ]
  },
  {
   "cell_type": "code",
   "execution_count": null,
   "id": "1be1299a-57db-4c01-b442-6b963e58472c",
   "metadata": {},
   "outputs": [],
   "source": [
    "cxaX"
   ]
  }
 ],
 "metadata": {
  "kernelspec": {
   "display_name": "Python 3 (ipykernel)",
   "language": "python",
   "name": "python3"
  },
  "language_info": {
   "codemirror_mode": {
    "name": "ipython",
    "version": 3
   },
   "file_extension": ".py",
   "mimetype": "text/x-python",
   "name": "python",
   "nbconvert_exporter": "python",
   "pygments_lexer": "ipython3",
   "version": "3.12.7"
  }
 },
 "nbformat": 4,
 "nbformat_minor": 5
}
