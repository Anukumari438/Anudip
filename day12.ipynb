{
 "cells": [
  {
   "cell_type": "markdown",
   "id": "2772d0d0-bf62-4114-922e-b6ed44bd5fdc",
   "metadata": {},
   "source": [
    "##  Filtering Arrays in NumPy\n",
    "\n",
    "###  What is Boolean Indexing?\n",
    "Boolean indexing means using a boolean array (an array of `True`/`False` values)\n",
    "\n",
    "\n"
   ]
  },
  {
   "cell_type": "code",
   "execution_count": 3,
   "id": "0c3a599a-cb28-4a63-b9c5-263a43c57cc8",
   "metadata": {},
   "outputs": [],
   "source": [
    "\n",
    "import numpy as np\n",
    "\n",
    "arr = np.array([1, 2, 3, 4, 5, 6])"
   ]
  },
  {
   "cell_type": "code",
   "execution_count": 5,
   "id": "0f5ac54b-f8a2-4120-950e-3e70c9489193",
   "metadata": {},
   "outputs": [],
   "source": [
    "\n",
    "mask = arr > 3"
   ]
  },
  {
   "cell_type": "code",
   "execution_count": 7,
   "id": "b499be48-a55a-4cdc-9759-3d1969797791",
   "metadata": {},
   "outputs": [],
   "source": [
    "\n",
    "filtered = arr[mask]"
   ]
  },
  {
   "cell_type": "code",
   "execution_count": 9,
   "id": "e30c35e8-b6be-43b3-aa94-a2ab276f0b25",
   "metadata": {},
   "outputs": [
    {
     "name": "stdout",
     "output_type": "stream",
     "text": [
      "Filtered elements (greater than 3): [4 5 6]\n"
     ]
    }
   ],
   "source": [
    "\n",
    "print(\"Filtered elements (greater than 3):\", filtered)"
   ]
  },
  {
   "cell_type": "code",
   "execution_count": 11,
   "id": "8820aeef-a419-4b06-b168-7203914dca7c",
   "metadata": {},
   "outputs": [
    {
     "name": "stdout",
     "output_type": "stream",
     "text": [
      "Filtered elements (greater than 3): [4 5 6]\n"
     ]
    }
   ],
   "source": [
    "# Apply the mask to filter the array\n",
    "filtered = arr[mask]\n",
    "\n",
    "print(\"Filtered elements (greater than 3):\", filtered)"
   ]
  },
  {
   "cell_type": "markdown",
   "id": "97585c7b-8485-4489-aca1-d1b168d5cd68",
   "metadata": {},
   "source": [
    "You can combine multiple conditions using:\n",
    "\n",
    "* `&` (logical AND)\n",
    "* `|` (logical OR)\n",
    "* `~` (logical NOT)"
   ]
  },
  {
   "cell_type": "code",
   "execution_count": 14,
   "id": "419482ae-1daa-407c-a1ca-df28f335307b",
   "metadata": {},
   "outputs": [],
   "source": [
    "arr = np.array([1, 2, 3, 4, 5, 6])"
   ]
  },
  {
   "cell_type": "code",
   "execution_count": 16,
   "id": "d4857bbb-14f5-40d8-b688-453b0c6f2f93",
   "metadata": {},
   "outputs": [
    {
     "data": {
      "text/plain": [
       "array([False, False,  True,  True,  True, False])"
      ]
     },
     "execution_count": 16,
     "metadata": {},
     "output_type": "execute_result"
    }
   ],
   "source": [
    "(arr > 2) & (arr < 6)"
   ]
  },
  {
   "cell_type": "code",
   "execution_count": 18,
   "id": "fc42971d-3a68-4c19-8fae-7410144d3684",
   "metadata": {},
   "outputs": [
    {
     "data": {
      "text/plain": [
       "array([3, 4, 5])"
      ]
     },
     "execution_count": 18,
     "metadata": {},
     "output_type": "execute_result"
    }
   ],
   "source": [
    "\n",
    "arr[(arr > 2) & (arr < 6)]"
   ]
  },
  {
   "cell_type": "code",
   "execution_count": 20,
   "id": "53230d3c-e62e-4b45-b6e8-4cc2ebeed80e",
   "metadata": {},
   "outputs": [
    {
     "data": {
      "text/plain": [
       "array([1, 2, 3, 6])"
      ]
     },
     "execution_count": 20,
     "metadata": {},
     "output_type": "execute_result"
    }
   ],
   "source": [
    "arr[(arr <= 3) | (arr > 5)]"
   ]
  },
  {
   "cell_type": "code",
   "execution_count": 22,
   "id": "282975a6-6533-455d-8755-8407db7c565c",
   "metadata": {},
   "outputs": [
    {
     "data": {
      "text/plain": [
       "array([1, 2, 3, 6])"
      ]
     },
     "execution_count": 22,
     "metadata": {},
     "output_type": "execute_result"
    }
   ],
   "source": [
    "# Elements less than or equal to 3 OR greater than 5\n",
    "\n",
    "\n",
    "arr[(arr <= 3) | (arr > 5)]"
   ]
  },
  {
   "cell_type": "markdown",
   "id": "c322c0e7-b0d0-4d7a-b7e1-3539f85be208",
   "metadata": {},
   "source": [
    "###  Filtering 2D Arrays"
   ]
  },
  {
   "cell_type": "code",
   "execution_count": 25,
   "id": "cb02923f-f46d-4f72-9665-071173d60477",
   "metadata": {},
   "outputs": [
    {
     "name": "stdout",
     "output_type": "stream",
     "text": [
      "Values > 20: [25 30 35]\n"
     ]
    }
   ],
   "source": [
    "matrix = np.array([\n",
    "    [10, 15, 20],\n",
    "    [25, 30, 35]\n",
    "])\n",
    "\n",
    "# Get elements greater than 20\n",
    "print(\"Values > 20:\", matrix[matrix > 20])"
   ]
  },
  {
   "cell_type": "code",
   "execution_count": 27,
   "id": "3f8f5e93-a42c-42c9-b438-cbd9c1500856",
   "metadata": {},
   "outputs": [],
   "source": [
    "scores = np.array([85, 92, 78, 88, 95, 72, 89, 94, 68, 90])"
   ]
  },
  {
   "cell_type": "code",
   "execution_count": 29,
   "id": "20b07692-8e27-4beb-bdd5-930863e07176",
   "metadata": {},
   "outputs": [],
   "source": [
    "# Find students who scored more than 90\n",
    "high_scores = scores[scores > 90]"
   ]
  },
  {
   "cell_type": "code",
   "execution_count": 31,
   "id": "41d71d05-d3f8-4b70-a1ef-a18f1d6e682d",
   "metadata": {},
   "outputs": [
    {
     "name": "stdout",
     "output_type": "stream",
     "text": [
      "Students scoring > 90: [92 95 94]\n"
     ]
    }
   ],
   "source": [
    "print(\"Students scoring > 90:\", high_scores)"
   ]
  },
  {
   "cell_type": "code",
   "execution_count": 33,
   "id": "c38c45e7-b9a1-45b8-8af8-7bc946cbf145",
   "metadata": {},
   "outputs": [
    {
     "data": {
      "text/plain": [
       "14"
      ]
     },
     "execution_count": 33,
     "metadata": {},
     "output_type": "execute_result"
    }
   ],
   "source": [
    "np.random.randint(0,15)"
   ]
  },
  {
   "cell_type": "code",
   "execution_count": 35,
   "id": "85d0cc64-5825-4d26-be9a-210587c2ae1d",
   "metadata": {},
   "outputs": [],
   "source": [
    "prices = np.array([250, 499, 520, 310, 800, 999, 450, 720])"
   ]
  },
  {
   "cell_type": "code",
   "execution_count": 37,
   "id": "72c6fe98-c13d-4470-9bba-5601821d8235",
   "metadata": {},
   "outputs": [
    {
     "data": {
      "text/plain": [
       "array([250, 520, 310, 800, 450, 720])"
      ]
     },
     "execution_count": 37,
     "metadata": {},
     "output_type": "execute_result"
    }
   ],
   "source": [
    "prices[prices%2==0]"
   ]
  },
  {
   "cell_type": "code",
   "execution_count": 39,
   "id": "0db79b93-72c4-46fd-873c-582c45d90e97",
   "metadata": {},
   "outputs": [
    {
     "data": {
      "text/plain": [
       "array([520, 800, 999, 720])"
      ]
     },
     "execution_count": 39,
     "metadata": {},
     "output_type": "execute_result"
    }
   ],
   "source": [
    "prices[prices>500]"
   ]
  },
  {
   "cell_type": "code",
   "execution_count": null,
   "id": "9b514ef1-4fe5-4fdd-a875-cf1b3489acd4",
   "metadata": {},
   "outputs": [],
   "source": []
  }
 ],
 "metadata": {
  "kernelspec": {
   "display_name": "Python 3 (ipykernel)",
   "language": "python",
   "name": "python3"
  },
  "language_info": {
   "codemirror_mode": {
    "name": "ipython",
    "version": 3
   },
   "file_extension": ".py",
   "mimetype": "text/x-python",
   "name": "python",
   "nbconvert_exporter": "python",
   "pygments_lexer": "ipython3",
   "version": "3.12.7"
  }
 },
 "nbformat": 4,
 "nbformat_minor": 5
}
