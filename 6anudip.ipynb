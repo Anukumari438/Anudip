{
 "cells": [
  {
   "cell_type": "markdown",
   "id": "03a38f28-14c7-4ac7-bede-f76cc3fa5ba7",
   "metadata": {},
   "source": [
    "### 1. **`*args`: Arbitrary Positional Arguments**\n",
    "\n",
    "The `*args` syntax is used to pass a variable number of positional arguments to a function. When `*args` is used, the function can accept any number of positional arguments, and they are captured as a tuple.\n"
   ]
  },
  {
   "cell_type": "code",
   "execution_count": 3,
   "id": "48d5792b-fd04-44a6-a460-4e427d45e547",
   "metadata": {},
   "outputs": [],
   "source": [
    "def func20(*num):\n",
    "    z = num[0]+num[1]+num[2]\n",
    "    print(z)"
   ]
  },
  {
   "cell_type": "code",
   "execution_count": 5,
   "id": "333eda82-8c93-42e3-9719-5f08b7ada9ba",
   "metadata": {},
   "outputs": [
    {
     "name": "stdout",
     "output_type": "stream",
     "text": [
      "60\n"
     ]
    }
   ],
   "source": [
    "func20(10,20,30,40)"
   ]
  },
  {
   "cell_type": "code",
   "execution_count": 7,
   "id": "d10fa55e-b87c-4666-a997-1537ae2ce715",
   "metadata": {},
   "outputs": [
    {
     "name": "stdout",
     "output_type": "stream",
     "text": [
      "hello world my \n"
     ]
    }
   ],
   "source": [
    "func20(\"hello \",\"world \",\"my \",40)"
   ]
  },
  {
   "cell_type": "code",
   "execution_count": 9,
   "id": "2a2efb32-e140-4872-8384-1a23a6fb2b74",
   "metadata": {},
   "outputs": [],
   "source": [
    "a = (10,20,30,40)"
   ]
  },
  {
   "cell_type": "code",
   "execution_count": 11,
   "id": "dd01587f-017b-4700-b135-44334a6e139e",
   "metadata": {},
   "outputs": [
    {
     "data": {
      "text/plain": [
       "30"
      ]
     },
     "execution_count": 11,
     "metadata": {},
     "output_type": "execute_result"
    }
   ],
   "source": [
    "a[0]+a[1]"
   ]
  },
  {
   "cell_type": "code",
   "execution_count": 13,
   "id": "d819f0c8-3960-4c51-a69e-32381d9c2249",
   "metadata": {},
   "outputs": [
    {
     "name": "stdout",
     "output_type": "stream",
     "text": [
      "30\n"
     ]
    }
   ],
   "source": [
    "def func10(*num):\n",
    "    z = num[0]+num[1]\n",
    "    print(z)\n",
    "func10(10,20,30,40,50,60,70) "
   ]
  },
  {
   "cell_type": "code",
   "execution_count": 15,
   "id": "079a98df-6f72-417e-aad5-da4dc024a144",
   "metadata": {},
   "outputs": [
    {
     "name": "stdout",
     "output_type": "stream",
     "text": [
      "50\n"
     ]
    }
   ],
   "source": [
    "func10(20,30)"
   ]
  },
  {
   "cell_type": "code",
   "execution_count": 17,
   "id": "31edd322-be05-4a63-8493-09c1e8305db2",
   "metadata": {},
   "outputs": [
    {
     "name": "stdout",
     "output_type": "stream",
     "text": [
      "Addition: 11\n"
     ]
    }
   ],
   "source": [
    "\n",
    "def add(*num):\n",
    "\tz = num[0]+num[1]+num[2]         #the argument can be accessed using the index number\n",
    "    \n",
    "\tprint(\"Addition:\", z)\n",
    "\t\n",
    "add(5, 2, 4)"
   ]
  },
  {
   "cell_type": "code",
   "execution_count": 19,
   "id": "1a069258-c38d-4372-835b-c6ad60eed6c4",
   "metadata": {},
   "outputs": [],
   "source": [
    "def add_numbers(*a):\n",
    "    total = sum(a)\n",
    "    print(type(a))\n",
    "    print(a[0])\n",
    "    print(a[1])\n",
    "    print(a[2])"
   ]
  },
  {
   "cell_type": "code",
   "execution_count": 21,
   "id": "62f0c67e-4f21-4145-aa1c-d028f431b27a",
   "metadata": {},
   "outputs": [
    {
     "name": "stdout",
     "output_type": "stream",
     "text": [
      "<class 'tuple'>\n",
      "1\n",
      "2\n",
      "3\n"
     ]
    }
   ],
   "source": [
    "add_numbers(1, 2, 3)"
   ]
  },
  {
   "cell_type": "code",
   "execution_count": 23,
   "id": "43e755e2-41c6-423a-b565-f916fa84fb15",
   "metadata": {},
   "outputs": [
    {
     "name": "stdout",
     "output_type": "stream",
     "text": [
      "<class 'tuple'>\n",
      "10\n",
      "20\n",
      "30\n",
      "None\n"
     ]
    }
   ],
   "source": [
    "print(add_numbers(10, 20, 30, 40))"
   ]
  },
  {
   "cell_type": "markdown",
   "id": "579d6be4-e71b-4693-80d0-088c3d28c2a4",
   "metadata": {},
   "source": [
    "### 1. **Sum of Numbers**"
   ]
  },
  {
   "cell_type": "code",
   "execution_count": 26,
   "id": "03b977ff-3102-4199-a761-41d73e2e1d5c",
   "metadata": {},
   "outputs": [
    {
     "name": "stdout",
     "output_type": "stream",
     "text": [
      "6\n",
      "100\n"
     ]
    }
   ],
   "source": [
    "\n",
    "def sum_numbers(*args):\n",
    "    return sum(args)\n",
    "\n",
    "# Usage:\n",
    "print(sum_numbers(1, 2, 3))  # Output: 6\n",
    "print(sum_numbers(10, 20, 30, 40))"
   ]
  },
  {
   "cell_type": "markdown",
   "id": "2ca979a7-a50f-49c6-8c0c-fceaa109b9d4",
   "metadata": {},
   "source": [
    "\n",
    "### 2. **Find the Maximum Value**"
   ]
  },
  {
   "cell_type": "code",
   "execution_count": 31,
   "id": "52a1aaea-409c-4ee7-a62c-88336aac603b",
   "metadata": {},
   "outputs": [
    {
     "name": "stdout",
     "output_type": "stream",
     "text": [
      "9\n"
     ]
    }
   ],
   "source": [
    "\n",
    "def find_max(*args):\n",
    "    return max(args)\n",
    "\n",
    "# Usage:\n",
    "print(find_max(3, 7, 1, 9, 2))"
   ]
  },
  {
   "cell_type": "markdown",
   "id": "a39cf8df-87f4-42db-b312-2005afc5d5c1",
   "metadata": {},
   "source": [
    "\n",
    "### 3. **Concatenate Strings**"
   ]
  },
  {
   "cell_type": "code",
   "execution_count": 34,
   "id": "8133ac35-cc38-4cf1-ad71-eac31882508a",
   "metadata": {},
   "outputs": [
    {
     "data": {
      "text/plain": [
       "'Hello world !'"
      ]
     },
     "execution_count": 34,
     "metadata": {},
     "output_type": "execute_result"
    }
   ],
   "source": [
    "def concatenate_strings(*args):\n",
    "    return \" \".join(args)\n",
    "\n",
    "# Usage:\n",
    "concatenate_strings(\"Hello\", \"world\", \"!\")  "
   ]
  },
  {
   "cell_type": "markdown",
   "id": "e06d966a-0aa4-4c88-84a5-389fac3a4391",
   "metadata": {},
   "source": [
    "### 4. **Product of Numbers**"
   ]
  },
  {
   "cell_type": "code",
   "execution_count": 37,
   "id": "46ef1a93-fb4b-4e36-b245-23a4f8bf702f",
   "metadata": {},
   "outputs": [],
   "source": [
    "\n",
    "def product_of_numbers(*args):\n",
    "    product = 1\n",
    "    for num in args:\n",
    "        product *= num\n",
    "    return product"
   ]
  },
  {
   "cell_type": "code",
   "execution_count": 39,
   "id": "0489daf2-4f5d-47f6-a24e-31adea6ed70e",
   "metadata": {},
   "outputs": [
    {
     "name": "stdout",
     "output_type": "stream",
     "text": [
      "24\n"
     ]
    }
   ],
   "source": [
    "\n",
    "print(product_of_numbers(1, 2, 3, 4)) "
   ]
  },
  {
   "cell_type": "markdown",
   "id": "01887744-0278-4e2a-bc55-be63a001c79b",
   "metadata": {},
   "source": [
    "\n",
    "### 5. **Count the Number of Arguments**"
   ]
  },
  {
   "cell_type": "code",
   "execution_count": 44,
   "id": "6b4b5b0b-e7c2-443b-b432-91210818aabc",
   "metadata": {},
   "outputs": [
    {
     "name": "stdout",
     "output_type": "stream",
     "text": [
      "3\n",
      "4\n"
     ]
    }
   ],
   "source": [
    "\n",
    "def count_arguments(*args):\n",
    "    return len(args)\n",
    "\n",
    "# Usage:\n",
    "print(count_arguments(1, 2, 3))  # Output: 3\n",
    "print(count_arguments(\"apple\", \"banana\", \"cherry\", \"date\")) "
   ]
  },
  {
   "cell_type": "markdown",
   "id": "9a461b62-f893-4bf5-a678-1ebe82e0b66c",
   "metadata": {},
   "source": [
    "\n",
    "### 1. **Sum of Numbers**"
   ]
  },
  {
   "cell_type": "code",
   "execution_count": 47,
   "id": "3e7396ff-0daf-4615-8143-6888fa29f02a",
   "metadata": {},
   "outputs": [
    {
     "name": "stdout",
     "output_type": "stream",
     "text": [
      "6\n",
      "100\n"
     ]
    }
   ],
   "source": [
    "\n",
    "def sum_numbers(*args):\n",
    "    return sum(args)\n",
    "\n",
    "# Usage:\n",
    "print(sum_numbers(1, 2, 3))  # Output: 6\n",
    "print(sum_numbers(10, 20, 30, 40)) "
   ]
  },
  {
   "cell_type": "markdown",
   "id": "acc4e833-8e15-49c2-a3d2-f6f46e8d3ee6",
   "metadata": {},
   "source": [
    "\n",
    "### 2. **Find the Maximum Value**"
   ]
  },
  {
   "cell_type": "code",
   "execution_count": 50,
   "id": "3fbfbb29-b1b6-4740-a321-8bebc385b910",
   "metadata": {},
   "outputs": [
    {
     "name": "stdout",
     "output_type": "stream",
     "text": [
      "9\n"
     ]
    }
   ],
   "source": [
    "\n",
    "def find_max(*args):\n",
    "    return max(args)\n",
    "\n",
    "# Usage:\n",
    "print(find_max(3, 7, 1, 9, 2)) "
   ]
  },
  {
   "cell_type": "markdown",
   "id": "54afe613-1793-416f-85a5-1cb90865c919",
   "metadata": {},
   "source": [
    "\n",
    "### 3. **Concatenate Strings**"
   ]
  },
  {
   "cell_type": "code",
   "execution_count": 53,
   "id": "9347076d-7fac-4ffd-8f29-290314453120",
   "metadata": {},
   "outputs": [
    {
     "name": "stdout",
     "output_type": "stream",
     "text": [
      "Hello world !\n"
     ]
    }
   ],
   "source": [
    "\n",
    "def concatenate_strings(*args):\n",
    "    return \" \".join(args)\n",
    "\n",
    "# Usage:\n",
    "print(concatenate_strings(\"Hello\", \"world\", \"!\"))"
   ]
  },
  {
   "cell_type": "markdown",
   "id": "f5d3bbbc-e08e-4455-9647-866d7d2056b3",
   "metadata": {},
   "source": [
    "\n",
    "### 4. **Product of Numbers**"
   ]
  },
  {
   "cell_type": "code",
   "execution_count": 56,
   "id": "09ff6419-51c5-487e-a08a-0e8b9e100dae",
   "metadata": {},
   "outputs": [
    {
     "name": "stdout",
     "output_type": "stream",
     "text": [
      "24\n"
     ]
    }
   ],
   "source": [
    "\n",
    "def product_of_numbers(*args):\n",
    "    product = 1\n",
    "    for num in args:\n",
    "        product *= num\n",
    "    return product\n",
    "\n",
    "# Usage:\n",
    "print(product_of_numbers(1, 2, 3, 4)) "
   ]
  },
  {
   "cell_type": "markdown",
   "id": "e6ed0b5c-a4d9-4254-aad8-1e6d085ef29f",
   "metadata": {},
   "source": [
    "\n",
    "### 5. **Count the Number of Arguments**"
   ]
  },
  {
   "cell_type": "code",
   "execution_count": 59,
   "id": "a90f9b3c-4427-427e-8a8b-6852942dca8e",
   "metadata": {},
   "outputs": [
    {
     "name": "stdout",
     "output_type": "stream",
     "text": [
      "3\n",
      "4\n"
     ]
    }
   ],
   "source": [
    "\n",
    "def count_arguments(*args):\n",
    "    return len(args)\n",
    "\n",
    "# Usage:\n",
    "print(count_arguments(1, 2, 3))  # Output: 3\n",
    "print(count_arguments(\"apple\", \"banana\", \"cherry\", \"date\"))"
   ]
  },
  {
   "cell_type": "code",
   "execution_count": 61,
   "id": "4a3d4277-2b06-4276-8358-cfe939595801",
   "metadata": {},
   "outputs": [],
   "source": [
    "def func(**a):\n",
    "    print(type(a))\n",
    "    for i,j in a.items():\n",
    "        print(f\"this is a key {i} this is a value {j}\")\n"
   ]
  },
  {
   "cell_type": "code",
   "execution_count": null,
   "id": "8bfd5f6b-0e89-4dc2-9827-2452e82b06b9",
   "metadata": {},
   "outputs": [],
   "source": []
  },
  {
   "cell_type": "code",
   "execution_count": 64,
   "id": "1f0cf1e6-3134-4c09-bf1c-50e41d91431c",
   "metadata": {},
   "outputs": [
    {
     "name": "stdout",
     "output_type": "stream",
     "text": [
      "<class 'dict'>\n",
      "this is a key name this is a value Alice\n",
      "this is a key age this is a value 25\n"
     ]
    }
   ],
   "source": [
    "func(name = \"Alice\",age= 25)"
   ]
  },
  {
   "cell_type": "code",
   "execution_count": 66,
   "id": "bf81b400-e6bc-4c3d-aa44-fdfd1a9c23ad",
   "metadata": {},
   "outputs": [
    {
     "name": "stdout",
     "output_type": "stream",
     "text": [
      "<class 'dict'>\n",
      "this is a key a this is a value 30\n",
      "this is a key b this is a value raj\n"
     ]
    }
   ],
   "source": [
    "func(a=30,b= \"raj\")"
   ]
  },
  {
   "cell_type": "code",
   "execution_count": 68,
   "id": "e0bd2dc5-c89a-464c-9353-485d9afe8894",
   "metadata": {},
   "outputs": [
    {
     "name": "stdout",
     "output_type": "stream",
     "text": [
      "name: Alice\n",
      "age: 25\n",
      "city: New York\n"
     ]
    }
   ],
   "source": [
    "def print_person_info(**kwargs):\n",
    "    for key, value in kwargs.items():\n",
    "        print(f\"{key}: {value}\")\n",
    "\n",
    "# Call the function with variable keyword arguments\n",
    "print_person_info(name=\"Alice\", age=25, city=\"New York\")\n"
   ]
  },
  {
   "cell_type": "code",
   "execution_count": 70,
   "id": "5119bc29-9e70-4156-8838-4a9790557338",
   "metadata": {},
   "outputs": [
    {
     "ename": "TypeError",
     "evalue": "add() got an unexpected keyword argument 'a'",
     "output_type": "error",
     "traceback": [
      "\u001b[1;31m---------------------------------------------------------------------------\u001b[0m",
      "\u001b[1;31mTypeError\u001b[0m                                 Traceback (most recent call last)",
      "Cell \u001b[1;32mIn[70], line 6\u001b[0m\n\u001b[0;32m      2\u001b[0m     z \u001b[38;5;241m=\u001b[39m num[\u001b[38;5;124m\"\u001b[39m\u001b[38;5;124ma\u001b[39m\u001b[38;5;124m\"\u001b[39m] \u001b[38;5;241m+\u001b[39mnum[\u001b[38;5;124m\"\u001b[39m\u001b[38;5;124mb\u001b[39m\u001b[38;5;124m\"\u001b[39m]\u001b[38;5;241m+\u001b[39mnum[\u001b[38;5;124m\"\u001b[39m\u001b[38;5;124mc\u001b[39m\u001b[38;5;124m\"\u001b[39m]\n\u001b[0;32m      3\u001b[0m     \u001b[38;5;28mprint\u001b[39m(z)\n\u001b[1;32m----> 6\u001b[0m add(a \u001b[38;5;241m=\u001b[39m \u001b[38;5;241m10\u001b[39m,b\u001b[38;5;241m=\u001b[39m \u001b[38;5;241m20\u001b[39m,c \u001b[38;5;241m=\u001b[39m \u001b[38;5;241m30\u001b[39m)\n",
      "\u001b[1;31mTypeError\u001b[0m: add() got an unexpected keyword argument 'a'"
     ]
    }
   ],
   "source": [
    "def func11(**num):\n",
    "    z = num[\"a\"] +num[\"b\"]+num[\"c\"]\n",
    "    print(z)\n",
    "    \n",
    "    \n",
    "add(a = 10,b= 20,c = 30)"
   ]
  },
  {
   "cell_type": "code",
   "execution_count": 72,
   "id": "a9f5d8ce-78d3-4827-b0d4-c805bc724fc3",
   "metadata": {},
   "outputs": [
    {
     "name": "stdout",
     "output_type": "stream",
     "text": [
      "30\n"
     ]
    }
   ],
   "source": [
    "def func10(*num):\n",
    "    z = num[0]+num[1]\n",
    "    print(z)\n",
    "func10(10,20,30,40,50,60,70) "
   ]
  },
  {
   "cell_type": "code",
   "execution_count": 74,
   "id": "7761e75a-29bf-4b17-a2d8-05866c4a9b69",
   "metadata": {},
   "outputs": [
    {
     "name": "stdout",
     "output_type": "stream",
     "text": [
      "Addition: 11\n"
     ]
    }
   ],
   "source": [
    "\n",
    "def add(**num):               \n",
    "\tz = num['a']+num['b']+num['c']      #you can give any name instead of a,b,c\n",
    "\tprint(\"Addition:\", z)\n",
    "\t\n",
    "add(a=5, b=2, c=4)"
   ]
  },
  {
   "cell_type": "code",
   "execution_count": 76,
   "id": "7d411767-3f72-44c2-9905-1f8ed3a22b29",
   "metadata": {},
   "outputs": [],
   "source": [
    "num = {\"a\":5,\"b\":2,\"c\":4}"
   ]
  },
  {
   "cell_type": "code",
   "execution_count": 78,
   "id": "2a62ec07-901e-460d-9b45-381a333d3a40",
   "metadata": {},
   "outputs": [
    {
     "data": {
      "text/plain": [
       "5"
      ]
     },
     "execution_count": 78,
     "metadata": {},
     "output_type": "execute_result"
    }
   ],
   "source": [
    "num[\"a\"]"
   ]
  },
  {
   "cell_type": "code",
   "execution_count": 80,
   "id": "6ebeb33a-9785-45ec-a7c6-57d4175e1e0e",
   "metadata": {},
   "outputs": [
    {
     "name": "stdout",
     "output_type": "stream",
     "text": [
      "Positional arguments: (1,)\n",
      "Keyword arguments: {'name': 'hello'}\n"
     ]
    }
   ],
   "source": [
    "def func12 (*args,**kwargs):\n",
    "    print(\"Positional arguments:\", args)\n",
    "    print(\"Keyword arguments:\", kwargs)\n",
    "func12(1,name = \"hello\")"
   ]
  },
  {
   "cell_type": "code",
   "execution_count": 82,
   "id": "0aa42a59-d2ef-4f77-a181-a54feee0d54e",
   "metadata": {},
   "outputs": [
    {
     "name": "stdout",
     "output_type": "stream",
     "text": [
      "Positional arguments: (1, 2, 3)\n",
      "Keyword arguments: {'name': 'Alice', 'age': 25, 'city': 'New York'}\n"
     ]
    }
   ],
   "source": [
    "def display_info(*args, **kwargs):\n",
    "    print(\"Positional arguments:\", args)\n",
    "    print(\"Keyword arguments:\", kwargs)\n",
    "\n",
    "# Call the function with both positional and keyword arguments\n",
    "display_info(1, 2, 3, name=\"Alice\", age=25, city=\"New York\")"
   ]
  },
  {
   "cell_type": "markdown",
   "id": "bd8f07ad-b5db-4cc9-a6d4-7af382c95510",
   "metadata": {},
   "source": [
    "### 1. **Print User Details**"
   ]
  },
  {
   "cell_type": "code",
   "execution_count": 87,
   "id": "a98da461-37fc-4276-9a20-141fb5230e6d",
   "metadata": {},
   "outputs": [
    {
     "name": "stdout",
     "output_type": "stream",
     "text": [
      "name: Alice\n",
      "age: 25\n",
      "city: New York\n"
     ]
    }
   ],
   "source": [
    "\n",
    "def user_details(**kwargs):\n",
    "    for key, value in kwargs.items():\n",
    "        print(f\"{key}: {value}\")\n",
    "\n",
    "# Usage:\n",
    "user_details(name=\"Alice\", age=25, city=\"New York\")\n",
    "# Output:"
   ]
  },
  {
   "cell_type": "markdown",
   "id": "71531133-d7f3-4524-a27c-ff28d5ffc167",
   "metadata": {},
   "source": [
    "t\n",
    "### 2. **Greet Multiple Users**"
   ]
  },
  {
   "cell_type": "code",
   "execution_count": 90,
   "id": "01c74522-104c-4c6e-ac3a-d139c7720b96",
   "metadata": {},
   "outputs": [
    {
     "name": "stdout",
     "output_type": "stream",
     "text": [
      "Hello, Alice!\n",
      "Hi, Bob!\n",
      "Greetings, Charlie!\n"
     ]
    }
   ],
   "source": [
    "\n",
    "def greet_users(**kwargs):\n",
    "    for name, greeting in kwargs.items():\n",
    "        print(f\"{greeting}, {name}!\")\n",
    "\n",
    "# Usage:\n",
    "greet_users(Alice=\"Hello\", Bob=\"Hi\", Charlie=\"Greetings\")"
   ]
  },
  {
   "cell_type": "markdown",
   "id": "74f99e56-005a-4535-8ac0-d4851ee7b299",
   "metadata": {},
   "source": [
    "\n",
    "### 3. **Build a Profile**"
   ]
  },
  {
   "cell_type": "code",
   "execution_count": 93,
   "id": "74227ccf-91af-48e2-837e-591436341770",
   "metadata": {},
   "outputs": [
    {
     "name": "stdout",
     "output_type": "stream",
     "text": [
      "{'name': 'John', 'age': 30, 'profession': 'Engineer'}\n"
     ]
    }
   ],
   "source": [
    "\n",
    "def build_profile(**kwargs):\n",
    "    return kwargs\n",
    "\n",
    "# Usage:\n",
    "profile = build_profile(name=\"John\", age=30, profession=\"Engineer\")\n",
    "print(profile)"
   ]
  },
  {
   "cell_type": "markdown",
   "id": "1b144ea1-1170-4303-8e32-2bd49f4e2701",
   "metadata": {},
   "source": [
    "\n",
    "### 4. **Check for a Specific Key**"
   ]
  },
  {
   "cell_type": "code",
   "execution_count": 96,
   "id": "0e721f1b-755b-43c0-9493-2eddb491b7e4",
   "metadata": {},
   "outputs": [
    {
     "name": "stdout",
     "output_type": "stream",
     "text": [
      "True\n",
      "False\n"
     ]
    }
   ],
   "source": [
    "\n",
    "def check_key(key, **kwargs):\n",
    "    return key in kwargs\n",
    "\n",
    "# Usage:\n",
    "print(check_key(\"age\", name=\"Sarah\", age=28))  # Output: True\n",
    "print(check_key(\"city\", name=\"Sarah\", age=28))"
   ]
  },
  {
   "cell_type": "markdown",
   "id": "c7ba78d5-807f-4196-a164-9338ef2e3b89",
   "metadata": {},
   "source": [
    "\n",
    "### 5. **Calculate Total Price**"
   ]
  },
  {
   "cell_type": "code",
   "execution_count": 99,
   "id": "76845ba9-ab9d-4d91-a70e-2091a053091f",
   "metadata": {},
   "outputs": [
    {
     "name": "stdout",
     "output_type": "stream",
     "text": [
      "Total Price: 9.5\n"
     ]
    }
   ],
   "source": [
    "\n",
    "def calculate_total(**fruit):\n",
    "    total = sum(fruit.values())\n",
    "    return total\n",
    "\n",
    "# Usage:\n",
    "total_price = calculate_total(apples=3.5, bananas=2.0, oranges=4.0)\n",
    "print(f\"Total Price: {total_price}\")"
   ]
  },
  {
   "cell_type": "code",
   "execution_count": 101,
   "id": "6bda8855-2522-4836-97c7-2664b25665b7",
   "metadata": {},
   "outputs": [],
   "source": [
    "d = {\"a\":1,\"b \":2}"
   ]
  },
  {
   "cell_type": "code",
   "execution_count": 103,
   "id": "d381e39f-7e4a-4164-b12d-aedf9bc2fb3d",
   "metadata": {},
   "outputs": [
    {
     "data": {
      "text/plain": [
       "dict_values([1, 2])"
      ]
     },
     "execution_count": 103,
     "metadata": {},
     "output_type": "execute_result"
    }
   ],
   "source": [
    "d.values()"
   ]
  },
  {
   "cell_type": "code",
   "execution_count": 105,
   "id": "1be27777-5957-43c1-a329-544add9e51ad",
   "metadata": {},
   "outputs": [
    {
     "data": {
      "text/plain": [
       "3"
      ]
     },
     "execution_count": 105,
     "metadata": {},
     "output_type": "execute_result"
    }
   ],
   "source": [
    "sum(d.values())"
   ]
  },
  {
   "cell_type": "code",
   "execution_count": 107,
   "id": "6c72233a-66d2-433d-88bb-334079577ce8",
   "metadata": {},
   "outputs": [],
   "source": [
    "a = [1,2,3,5]"
   ]
  },
  {
   "cell_type": "code",
   "execution_count": 109,
   "id": "effbfe87-ce9f-4393-b907-49175c4e1025",
   "metadata": {},
   "outputs": [
    {
     "data": {
      "text/plain": [
       "4"
      ]
     },
     "execution_count": 109,
     "metadata": {},
     "output_type": "execute_result"
    }
   ],
   "source": [
    "len(a)"
   ]
  },
  {
   "cell_type": "code",
   "execution_count": 111,
   "id": "3cae2861-713c-41a0-b76c-2eff26112f30",
   "metadata": {},
   "outputs": [
    {
     "name": "stdout",
     "output_type": "stream",
     "text": [
      "Help on built-in function print in module builtins:\n",
      "\n",
      "print(*args, sep=' ', end='\\n', file=None, flush=False)\n",
      "    Prints the values to a stream, or to sys.stdout by default.\n",
      "\n",
      "    sep\n",
      "      string inserted between values, default a space.\n",
      "    end\n",
      "      string appended after the last value, default a newline.\n",
      "    file\n",
      "      a file-like object (stream); defaults to the current sys.stdout.\n",
      "    flush\n",
      "      whether to forcibly flush the stream.\n",
      "\n"
     ]
    }
   ],
   "source": [
    "help(print)"
   ]
  },
  {
   "cell_type": "code",
   "execution_count": 116,
   "id": "dea45711-48e9-4e2b-886d-f2fb55b7c6cd",
   "metadata": {},
   "outputs": [
    {
     "name": "stdout",
     "output_type": "stream",
     "text": [
      "\n"
     ]
    }
   ],
   "source": [
    "print()"
   ]
  },
  {
   "cell_type": "markdown",
   "id": "30cece8e-55af-4a7a-8dae-7d91a437ec0a",
   "metadata": {},
   "source": [
    "In Python, variables inside functions are crucial for maintaining scope and controlling how data is used and passed around. Here’s a breakdown of how variables work in functions:"
   ]
  },
  {
   "cell_type": "markdown",
   "id": "14ef7cc1-d37f-4c64-aa47-b99e7c6921c6",
   "metadata": {},
   "source": [
    "### Types of Variables in Functions:\n",
    "1. **Local Variables**:\n",
    "   - Variables that are declared inside a function and can only be accessed within that function.\n",
    "   - They exist only while the function is being executed and are destroyed once the function ends."
   ]
  },
  {
   "cell_type": "code",
   "execution_count": 119,
   "id": "32aa8eea-905c-4cff-8b75-e26439734ac3",
   "metadata": {},
   "outputs": [
    {
     "name": "stdout",
     "output_type": "stream",
     "text": [
      "40\n"
     ]
    }
   ],
   "source": [
    "def func13():\n",
    "    abc = 10\n",
    "    bca = 30\n",
    "    cba = abc + bca\n",
    "    print(cba)\n",
    "func13()"
   ]
  },
  {
   "cell_type": "code",
   "execution_count": 121,
   "id": "de522f7c-9c28-4003-8b22-9ade9e2a9f90",
   "metadata": {},
   "outputs": [
    {
     "ename": "NameError",
     "evalue": "name 'abc' is not defined",
     "output_type": "error",
     "traceback": [
      "\u001b[1;31m---------------------------------------------------------------------------\u001b[0m",
      "\u001b[1;31mNameError\u001b[0m                                 Traceback (most recent call last)",
      "Cell \u001b[1;32mIn[121], line 1\u001b[0m\n\u001b[1;32m----> 1\u001b[0m abc\n",
      "\u001b[1;31mNameError\u001b[0m: name 'abc' is not defined"
     ]
    }
   ],
   "source": [
    "abc\n"
   ]
  },
  {
   "cell_type": "code",
   "execution_count": 123,
   "id": "c3db1c2e-4a0e-4b11-ab67-cfdb4dd5be73",
   "metadata": {},
   "outputs": [
    {
     "name": "stdout",
     "output_type": "stream",
     "text": [
      "Hello\n"
     ]
    }
   ],
   "source": [
    "def greet():\n",
    "    message = \"Hello\"  # Local variable\n",
    "    print(message)\n",
    "\n",
    "greet() "
   ]
  },
  {
   "cell_type": "markdown",
   "id": "deeef5f1-fda9-441e-bae0-09bc68357a80",
   "metadata": {},
   "source": [
    "2. **Global Variables**:"
   ]
  },
  {
   "cell_type": "code",
   "execution_count": 128,
   "id": "f21c1796-2d6c-47a0-beb2-0245267e8246",
   "metadata": {},
   "outputs": [
    {
     "name": "stdout",
     "output_type": "stream",
     "text": [
      "30\n"
     ]
    }
   ],
   "source": [
    "eja = 20\n",
    "def func14():\n",
    "    i = eja + 10\n",
    "    print(i)\n",
    "func14()"
   ]
  },
  {
   "cell_type": "code",
   "execution_count": 130,
   "id": "b6696c00-ca7d-4341-9f41-6c8462cbe400",
   "metadata": {},
   "outputs": [
    {
     "data": {
      "text/plain": [
       "20"
      ]
     },
     "execution_count": 130,
     "metadata": {},
     "output_type": "execute_result"
    }
   ],
   "source": [
    "eja"
   ]
  },
  {
   "cell_type": "code",
   "execution_count": 132,
   "id": "f55ff4e9-1a90-4cf3-b425-53432948ec6b",
   "metadata": {},
   "outputs": [
    {
     "name": "stdout",
     "output_type": "stream",
     "text": [
      "Hello\n"
     ]
    }
   ],
   "source": [
    "greeting = \"Hello\"  # Global variable\n",
    "\n",
    "def greet():\n",
    "    print(greeting)  # Accessing the global variable inside the function\n",
    "\n",
    "greet() "
   ]
  },
  {
   "cell_type": "code",
   "execution_count": 134,
   "id": "612fae6a-45a7-4def-a8d1-8a7e4a3a0cf3",
   "metadata": {},
   "outputs": [
    {
     "data": {
      "text/plain": [
       "'Hello'"
      ]
     },
     "execution_count": 134,
     "metadata": {},
     "output_type": "execute_result"
    }
   ],
   "source": [
    "greeting"
   ]
  },
  {
   "cell_type": "markdown",
   "id": "42433742-b282-4340-8050-9ebda9cca6eb",
   "metadata": {},
   "source": [
    "3. **Global Keyword**:\n",
    "   - You can modify a global variable inside a function by using the `global` keyword."
   ]
  },
  {
   "cell_type": "code",
   "execution_count": 139,
   "id": "128e7d21-b35d-4ae9-bd99-b847a7ebbdcb",
   "metadata": {},
   "outputs": [],
   "source": [
    "counter = 0\n",
    "\n",
    "def increament ():\n",
    "    global counter\n",
    "    counter +=1\n",
    "increament()"
   ]
  },
  {
   "cell_type": "code",
   "execution_count": 141,
   "id": "878369e9-c47e-45ed-adc6-6960652ac9d3",
   "metadata": {},
   "outputs": [
    {
     "data": {
      "text/plain": [
       "1"
      ]
     },
     "execution_count": 141,
     "metadata": {},
     "output_type": "execute_result"
    }
   ],
   "source": [
    "counter"
   ]
  },
  {
   "cell_type": "code",
   "execution_count": null,
   "id": "f829dfcd-4149-4455-be37-4993ed4b5093",
   "metadata": {},
   "outputs": [],
   "source": []
  }
 ],
 "metadata": {
  "kernelspec": {
   "display_name": "Python 3 (ipykernel)",
   "language": "python",
   "name": "python3"
  },
  "language_info": {
   "codemirror_mode": {
    "name": "ipython",
    "version": 3
   },
   "file_extension": ".py",
   "mimetype": "text/x-python",
   "name": "python",
   "nbconvert_exporter": "python",
   "pygments_lexer": "ipython3",
   "version": "3.12.7"
  }
 },
 "nbformat": 4,
 "nbformat_minor": 5
}
