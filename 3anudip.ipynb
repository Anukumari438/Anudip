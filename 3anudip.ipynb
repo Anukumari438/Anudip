{
 "cells": [
  {
   "cell_type": "markdown",
   "id": "91b25f39-73c6-47e4-b7de-47de31c22afc",
   "metadata": {},
   "source": [
    "# list\n",
    "* ordered\n",
    "* mutable\n",
    "* hetrogeneous\n",
    "* indaxable"
   ]
  },
  {
   "cell_type": "code",
   "execution_count": 2,
   "id": "3345a1cd-f5a6-464c-95a2-638a49ed4441",
   "metadata": {},
   "outputs": [],
   "source": [
    "mutable_list = [1, 2, 3]"
   ]
  },
  {
   "cell_type": "code",
   "execution_count": 4,
   "id": "f451da83-c80f-4649-9bd8-bb14716b30ce",
   "metadata": {},
   "outputs": [
    {
     "data": {
      "text/plain": [
       "2"
      ]
     },
     "execution_count": 4,
     "metadata": {},
     "output_type": "execute_result"
    }
   ],
   "source": [
    "mutable_list[1]"
   ]
  },
  {
   "cell_type": "code",
   "execution_count": 6,
   "id": "b6506cad-e348-4691-8dbd-e9b2b0e134a8",
   "metadata": {},
   "outputs": [],
   "source": [
    "mutable_list[1] = 30"
   ]
  },
  {
   "cell_type": "code",
   "execution_count": 8,
   "id": "998cd6fb-3f1c-41be-9d9a-7143902b6b73",
   "metadata": {},
   "outputs": [
    {
     "data": {
      "text/plain": [
       "[1, 30, 3]"
      ]
     },
     "execution_count": 8,
     "metadata": {},
     "output_type": "execute_result"
    }
   ],
   "source": [
    "mutable_list"
   ]
  },
  {
   "cell_type": "code",
   "execution_count": 10,
   "id": "a96a1072-c410-4d8b-a77e-6f0a9ed89a42",
   "metadata": {},
   "outputs": [],
   "source": [
    "heterogenous_list = [43, \"hello\", 3.12, [1, 2, 3, 4, 5, 6], 1]"
   ]
  },
  {
   "cell_type": "code",
   "execution_count": 12,
   "id": "e1d80a04-51e6-404f-94c5-d4f8b64625ab",
   "metadata": {},
   "outputs": [
    {
     "data": {
      "text/plain": [
       "[43, 'hello', 3.12, [1, 2, 3, 4, 5, 6], 1]"
      ]
     },
     "execution_count": 12,
     "metadata": {},
     "output_type": "execute_result"
    }
   ],
   "source": [
    "heterogenous_list"
   ]
  },
  {
   "cell_type": "code",
   "execution_count": 14,
   "id": "ec959925-e265-41b0-9551-c9eb7c64e5f5",
   "metadata": {},
   "outputs": [
    {
     "data": {
      "text/plain": [
       "2"
      ]
     },
     "execution_count": 14,
     "metadata": {},
     "output_type": "execute_result"
    }
   ],
   "source": [
    "heterogenous_list[3][1]"
   ]
  },
  {
   "cell_type": "code",
   "execution_count": 17,
   "id": "2a0753d6-3eb2-4091-b187-bd4d6b1500dd",
   "metadata": {},
   "outputs": [],
   "source": [
    "indexable_list = [\"a\",\"b\",\"c\"]\n"
   ]
  },
  {
   "cell_type": "markdown",
   "id": "aa097363-75a5-48f1-a877-b60cda7c83ca",
   "metadata": {},
   "source": [
    "# array"
   ]
  },
  {
   "cell_type": "code",
   "execution_count": 20,
   "id": "9b73c310-e5e2-4cc8-8553-c0a4c8d6906b",
   "metadata": {},
   "outputs": [
    {
     "ename": "NameError",
     "evalue": "name 'i' is not defined",
     "output_type": "error",
     "traceback": [
      "\u001b[1;31m---------------------------------------------------------------------------\u001b[0m",
      "\u001b[1;31mNameError\u001b[0m                                 Traceback (most recent call last)",
      "Cell \u001b[1;32mIn[20], line 2\u001b[0m\n\u001b[0;32m      1\u001b[0m \u001b[38;5;28;01mimport\u001b[39;00m \u001b[38;5;21;01marray\u001b[39;00m\n\u001b[1;32m----> 2\u001b[0m numbers \u001b[38;5;241m=\u001b[39m array\u001b[38;5;241m.\u001b[39marray(i, [\u001b[38;5;241m1\u001b[39m, \u001b[38;5;241m2\u001b[39m, \u001b[38;5;241m3\u001b[39m, \u001b[38;5;241m4\u001b[39m, \u001b[38;5;241m5\u001b[39m])\n\u001b[0;32m      3\u001b[0m \u001b[38;5;28mprint\u001b[39m(numbers)\n",
      "\u001b[1;31mNameError\u001b[0m: name 'i' is not defined"
     ]
    }
   ],
   "source": [
    "import array\n",
    "numbers = array.array(i, [1, 2, 3, 4, 5])\n",
    "print(numbers)"
   ]
  },
  {
   "cell_type": "code",
   "execution_count": 22,
   "id": "20ae7e7c-9d72-48ce-bde2-e5bfc28763c8",
   "metadata": {},
   "outputs": [
    {
     "data": {
      "text/plain": [
       "<module 'array' (built-in)>"
      ]
     },
     "execution_count": 22,
     "metadata": {},
     "output_type": "execute_result"
    }
   ],
   "source": [
    "array"
   ]
  },
  {
   "cell_type": "code",
   "execution_count": 24,
   "id": "7bde1004-1357-4b9a-bb49-9d54b38262df",
   "metadata": {},
   "outputs": [],
   "source": [
    "my_list = [1,2,3,4]\n"
   ]
  },
  {
   "cell_type": "code",
   "execution_count": 26,
   "id": "f4bf5c20-3502-4c25-8ec7-3693b1765e63",
   "metadata": {},
   "outputs": [
    {
     "ename": "NameError",
     "evalue": "name 'i' is not defined",
     "output_type": "error",
     "traceback": [
      "\u001b[1;31m---------------------------------------------------------------------------\u001b[0m",
      "\u001b[1;31mNameError\u001b[0m                                 Traceback (most recent call last)",
      "Cell \u001b[1;32mIn[26], line 2\u001b[0m\n\u001b[0;32m      1\u001b[0m \u001b[38;5;28;01mimport\u001b[39;00m \u001b[38;5;21;01marray\u001b[39;00m\n\u001b[1;32m----> 2\u001b[0m my_array \u001b[38;5;241m=\u001b[39m array\u001b[38;5;241m.\u001b[39marray(i, [\u001b[38;5;241m1\u001b[39m, \u001b[38;5;241m2\u001b[39m, \u001b[38;5;241m3\u001b[39m, \u001b[38;5;241m4\u001b[39m, \u001b[38;5;241m5\u001b[39m])\n",
      "\u001b[1;31mNameError\u001b[0m: name 'i' is not defined"
     ]
    }
   ],
   "source": [
    "import array\n",
    "my_array = array.array(i, [1, 2, 3, 4, 5])"
   ]
  },
  {
   "cell_type": "markdown",
   "id": "53db7b5b-eb1b-442e-a104-066bdd81e3e5",
   "metadata": {},
   "source": [
    "# module requirement\n",
    "list\n",
    " *     list is slow based on performance\n",
    " * \n",
    "  \n",
    " array\n",
    "*      array is fast based on performance"
   ]
  },
  {
   "cell_type": "code",
   "execution_count": 34,
   "id": "391fde3e-19bb-46fd-8761-000967b0f0d6",
   "metadata": {},
   "outputs": [],
   "source": [
    "fruits = [\"apple\", \"banana\", \"cherry\"]"
   ]
  },
  {
   "cell_type": "code",
   "execution_count": 38,
   "id": "6e0d3d74-b792-4fa5-9e70-c3f8a13707eb",
   "metadata": {},
   "outputs": [
    {
     "name": "stdout",
     "output_type": "stream",
     "text": [
      "apple\n"
     ]
    }
   ],
   "source": [
    "print(fruits[0])"
   ]
  },
  {
   "cell_type": "code",
   "execution_count": 44,
   "id": "5c952cab-d271-4c69-9eec-e317ba0b6f8d",
   "metadata": {},
   "outputs": [
    {
     "name": "stdout",
     "output_type": "stream",
     "text": [
      "banana\n"
     ]
    }
   ],
   "source": [
    "print(fruits[-2]5"
   ]
  },
  {
   "cell_type": "markdown",
   "id": "bec937dc-47b2-402c-b5f4-cd4382b6a72a",
   "metadata": {},
   "source": [
    "# replacing a range of elements in a list"
   ]
  },
  {
   "cell_type": "code",
   "execution_count": 50,
   "id": "3c808044-fcc3-4f22-a952-f92de9430389",
   "metadata": {},
   "outputs": [
    {
     "data": {
      "text/plain": [
       "['red', 'green', 'blue']"
      ]
     },
     "execution_count": 50,
     "metadata": {},
     "output_type": "execute_result"
    }
   ],
   "source": [
    "colors = [\"red\", \"green\", \"blue\"]\n",
    "colors"
   ]
  },
  {
   "cell_type": "code",
   "execution_count": 56,
   "id": "039c594a-ea40-4662-873b-460713a028b7",
   "metadata": {},
   "outputs": [],
   "source": [
    "colors[1:3] = [\"cyan\", \"magenta\"]"
   ]
  },
  {
   "cell_type": "code",
   "execution_count": 54,
   "id": "d116b5d9-3ab1-4f53-bf2c-a008ee85cdd3",
   "metadata": {},
   "outputs": [
    {
     "data": {
      "text/plain": [
       "['red', 'green', 'blue']"
      ]
     },
     "execution_count": 54,
     "metadata": {},
     "output_type": "execute_result"
    }
   ],
   "source": [
    "colors"
   ]
  },
  {
   "cell_type": "markdown",
   "id": "9c3aea30-08a5-4afc-af63-342ccd8bacb1",
   "metadata": {},
   "source": [
    "# inserting elements while replacing"
   ]
  },
  {
   "cell_type": "code",
   "execution_count": 59,
   "id": "6078cec7-9d1d-4424-a7e0-d0991d6273b7",
   "metadata": {},
   "outputs": [],
   "source": [
    "animals = [\"cat\", \"dog\",\"rabbit\"]"
   ]
  },
  {
   "cell_type": "code",
   "execution_count": 61,
   "id": "742f9f05-f5cb-4505-8987-918885b04310",
   "metadata": {},
   "outputs": [],
   "source": [
    "animals[1:2] = [\"hamster\",\"elephant\"]"
   ]
  },
  {
   "cell_type": "code",
   "execution_count": 63,
   "id": "69398569-37f9-4372-8016-86b28d71149c",
   "metadata": {},
   "outputs": [
    {
     "data": {
      "text/plain": [
       "['cat', 'hamster', 'elephant', 'rabbit']"
      ]
     },
     "execution_count": 63,
     "metadata": {},
     "output_type": "execute_result"
    }
   ],
   "source": [
    "animals"
   ]
  },
  {
   "cell_type": "markdown",
   "id": "79ca9202-ea18-482f-a68e-0dffcb4414f7",
   "metadata": {},
   "source": [
    "# deleting elemnets "
   ]
  },
  {
   "cell_type": "code",
   "execution_count": 68,
   "id": "24672cdb-ba3e-4338-8fed-c067487554f4",
   "metadata": {},
   "outputs": [],
   "source": [
    "vegetables = [\"carrot\",\"potato\",\"pumkin\"]\n",
    "del vegetables[1]"
   ]
  },
  {
   "cell_type": "code",
   "execution_count": 70,
   "id": "60c82d37-2b32-4313-83ba-ec8a03f0a770",
   "metadata": {},
   "outputs": [
    {
     "data": {
      "text/plain": [
       "['carrot', 'pumkin']"
      ]
     },
     "execution_count": 70,
     "metadata": {},
     "output_type": "execute_result"
    }
   ],
   "source": [
    "vegetables"
   ]
  },
  {
   "cell_type": "code",
   "execution_count": 73,
   "id": "ed127b17-85ff-4f9a-8370-c8a9d209ea6f",
   "metadata": {},
   "outputs": [],
   "source": [
    "del vegetables "
   ]
  },
  {
   "cell_type": "code",
   "execution_count": 75,
   "id": "6331c226-9e3b-4384-8055-219ea81eac46",
   "metadata": {},
   "outputs": [
    {
     "ename": "NameError",
     "evalue": "name 'vegetables' is not defined",
     "output_type": "error",
     "traceback": [
      "\u001b[1;31m---------------------------------------------------------------------------\u001b[0m",
      "\u001b[1;31mNameError\u001b[0m                                 Traceback (most recent call last)",
      "Cell \u001b[1;32mIn[75], line 1\u001b[0m\n\u001b[1;32m----> 1\u001b[0m vegetables\n",
      "\u001b[1;31mNameError\u001b[0m: name 'vegetables' is not defined"
     ]
    }
   ],
   "source": [
    "vegetables"
   ]
  },
  {
   "cell_type": "markdown",
   "id": "60a33910-06f7-4e49-9ffb-cda509258c85",
   "metadata": {},
   "source": [
    "# using list methods to modify elements"
   ]
  },
  {
   "cell_type": "code",
   "execution_count": 80,
   "id": "a8a261a9-7d7d-47e3-9dfc-8b2048118c8f",
   "metadata": {},
   "outputs": [],
   "source": [
    "languages = [\"python\", \"java\"]"
   ]
  },
  {
   "cell_type": "code",
   "execution_count": 82,
   "id": "a3d81920-db86-4f9c-9238-204a2397bf58",
   "metadata": {},
   "outputs": [],
   "source": [
    "languages.insert(1, \"javascript\")"
   ]
  },
  {
   "cell_type": "code",
   "execution_count": 84,
   "id": "43c1082a-1599-49f4-9b5c-05f44290195b",
   "metadata": {},
   "outputs": [
    {
     "name": "stdout",
     "output_type": "stream",
     "text": [
      "['python', 'javascript', 'java']\n"
     ]
    }
   ],
   "source": [
    "print(languages)"
   ]
  },
  {
   "cell_type": "markdown",
   "id": "5af1dcf6-5379-42f8-94b9-3d8704b61b4b",
   "metadata": {},
   "source": [
    "# arthmetic operators on lists\n",
    "1.list addition(+)"
   ]
  },
  {
   "cell_type": "code",
   "execution_count": 92,
   "id": "d2f0b631-cfd3-4001-9673-77fd676d5762",
   "metadata": {},
   "outputs": [],
   "source": [
    "list1 = [1,2,3]\n",
    "list2 = [4,5,6]"
   ]
  },
  {
   "cell_type": "raw",
   "id": "bab76100-2022-4f3d-b954-a7acfb3e9c18",
   "metadata": {},
   "source": [
    "result = list1 + list2"
   ]
  },
  {
   "cell_type": "code",
   "execution_count": 105,
   "id": "d2fe8397-a38e-4582-b202-d8d51b4ed672",
   "metadata": {},
   "outputs": [
    {
     "ename": "NameError",
     "evalue": "name 'result' is not defined",
     "output_type": "error",
     "traceback": [
      "\u001b[1;31m---------------------------------------------------------------------------\u001b[0m",
      "\u001b[1;31mNameError\u001b[0m                                 Traceback (most recent call last)",
      "Cell \u001b[1;32mIn[105], line 1\u001b[0m\n\u001b[1;32m----> 1\u001b[0m \u001b[38;5;28mprint\u001b[39m(result)\n",
      "\u001b[1;31mNameError\u001b[0m: name 'result' is not defined"
     ]
    }
   ],
   "source": [
    "print(result)\n",
    "\n"
   ]
  },
  {
   "cell_type": "markdown",
   "id": "4d98f37e-cbc6-4a4a-99bc-5d5af93092f6",
   "metadata": {},
   "source": [
    "2. list multiplication(*)"
   ]
  },
  {
   "cell_type": "code",
   "execution_count": 107,
   "id": "25450870-8a64-4c63-a97f-1d27a7d00fb9",
   "metadata": {},
   "outputs": [
    {
     "ename": "SyntaxError",
     "evalue": "invalid syntax (1121289667.py, line 1)",
     "output_type": "error",
     "traceback": [
      "\u001b[1;36m  Cell \u001b[1;32mIn[107], line 1\u001b[1;36m\u001b[0m\n\u001b[1;33m    for loop\u001b[0m\n\u001b[1;37m            ^\u001b[0m\n\u001b[1;31mSyntaxError\u001b[0m\u001b[1;31m:\u001b[0m invalid syntax\n"
     ]
    }
   ],
   "source": [
    "for loop\n",
    "my_list = [\"apple\",\"banana\"]"
   ]
  },
  {
   "cell_type": "markdown",
   "id": "40e1f2cc-91bc-4f91-895b-5267d68f1648",
   "metadata": {},
   "source": [
    "# insert(index, item)\n"
   ]
  },
  {
   "cell_type": "markdown",
   "id": "80581175-a019-4c76-8822-64e62f313b6a",
   "metadata": {},
   "source": [
    "## remove(item) form list"
   ]
  },
  {
   "cell_type": "code",
   "execution_count": 3,
   "id": "fe6248e6-0cd3-4cf3-a4e2-76aaa0b724d4",
   "metadata": {},
   "outputs": [],
   "source": [
    "fruits = ['apple', 'banana', 'cherry']"
   ]
  },
  {
   "cell_type": "code",
   "execution_count": 5,
   "id": "11408834-72d6-46f5-998d-a925c0a90d5d",
   "metadata": {},
   "outputs": [],
   "source": [
    "fruits.remove('banana')"
   ]
  },
  {
   "cell_type": "code",
   "execution_count": 7,
   "id": "ea741aed-bc43-47c0-8415-7df2b68beab0",
   "metadata": {},
   "outputs": [
    {
     "data": {
      "text/plain": [
       "['apple', 'cherry']"
      ]
     },
     "execution_count": 7,
     "metadata": {},
     "output_type": "execute_result"
    }
   ],
   "source": [
    "fruits"
   ]
  },
  {
   "cell_type": "markdown",
   "id": "c3d19d2b-39ff-44cb-8982-dad3fa009249",
   "metadata": {},
   "source": [
    "## pop(index=-1)"
   ]
  },
  {
   "cell_type": "code",
   "execution_count": 10,
   "id": "d9b25d7d-a043-4084-ade5-0b270d615de8",
   "metadata": {},
   "outputs": [
    {
     "data": {
      "text/plain": [
       "['apple', 'banana']"
      ]
     },
     "execution_count": 10,
     "metadata": {},
     "output_type": "execute_result"
    }
   ],
   "source": [
    "fruits = ['apple', 'banana', 'cherry']\n",
    "fruits.pop()\n",
    "fruits"
   ]
  },
  {
   "cell_type": "code",
   "execution_count": 12,
   "id": "06fd2a22-bb19-418e-a286-97806c707708",
   "metadata": {},
   "outputs": [
    {
     "data": {
      "text/plain": [
       "'apple'"
      ]
     },
     "execution_count": 12,
     "metadata": {},
     "output_type": "execute_result"
    }
   ],
   "source": [
    "fruits.pop(0)"
   ]
  },
  {
   "cell_type": "markdown",
   "id": "e79ce8ff-37f6-4106-b57a-e0585e34a335",
   "metadata": {},
   "source": [
    "## clear"
   ]
  },
  {
   "cell_type": "code",
   "execution_count": 15,
   "id": "78879619-056f-4a04-98b4-62f67d9373a7",
   "metadata": {},
   "outputs": [],
   "source": [
    "fruits.clear()"
   ]
  },
  {
   "cell_type": "code",
   "execution_count": 17,
   "id": "bac666c9-9dc3-4a3b-97a4-d0e1552f72ca",
   "metadata": {},
   "outputs": [
    {
     "data": {
      "text/plain": [
       "[]"
      ]
     },
     "execution_count": 17,
     "metadata": {},
     "output_type": "execute_result"
    }
   ],
   "source": [
    "fruits"
   ]
  },
  {
   "cell_type": "markdown",
   "id": "0c7c847c-153f-448d-bc0a-1551a4bd77d9",
   "metadata": {},
   "source": [
    "## index(item, start=0, end=len(list))"
   ]
  },
  {
   "cell_type": "code",
   "execution_count": 20,
   "id": "968b3975-4b6e-4f01-8a89-547d2ac58ec7",
   "metadata": {},
   "outputs": [],
   "source": [
    "fruits = ['apple', 'banana', 'cherry']"
   ]
  },
  {
   "cell_type": "code",
   "execution_count": 22,
   "id": "57babc57-a41b-4ce1-9351-a6b6fddabd05",
   "metadata": {},
   "outputs": [
    {
     "data": {
      "text/plain": [
       "2"
      ]
     },
     "execution_count": 22,
     "metadata": {},
     "output_type": "execute_result"
    }
   ],
   "source": [
    "fruits.index('cherry')"
   ]
  },
  {
   "cell_type": "code",
   "execution_count": 24,
   "id": "e32e35b2-3c8f-4aee-aa44-1b4a038a7dc6",
   "metadata": {},
   "outputs": [
    {
     "ename": "NameError",
     "evalue": "name 'insert' is not defined",
     "output_type": "error",
     "traceback": [
      "\u001b[1;31m---------------------------------------------------------------------------\u001b[0m",
      "\u001b[1;31mNameError\u001b[0m                                 Traceback (most recent call last)",
      "Cell \u001b[1;32mIn[24], line 1\u001b[0m\n\u001b[1;32m----> 1\u001b[0m insert(  )\n",
      "\u001b[1;31mNameError\u001b[0m: name 'insert' is not defined"
     ]
    }
   ],
   "source": [
    "insert(  )"
   ]
  },
  {
   "cell_type": "markdown",
   "id": "33f00f2b-7604-42ed-b4ee-50c2b2ab2cb6",
   "metadata": {},
   "source": [
    "## count(item)"
   ]
  },
  {
   "cell_type": "code",
   "execution_count": 27,
   "id": "53c3b914-14de-4df2-8c3e-00480c8b6307",
   "metadata": {},
   "outputs": [
    {
     "data": {
      "text/plain": [
       "2"
      ]
     },
     "execution_count": 27,
     "metadata": {},
     "output_type": "execute_result"
    }
   ],
   "source": [
    "fruits = ['apple','banana','banana']\n",
    "fruits.count(\"banana\")"
   ]
  },
  {
   "cell_type": "markdown",
   "id": "a0d42a3f-a026-4585-9cb9-9f2e3df07cc7",
   "metadata": {},
   "source": [
    "## sort(key=none, reverse=false)"
   ]
  },
  {
   "cell_type": "code",
   "execution_count": 30,
   "id": "1fbfa4d9-f545-4487-ba68-d1f03ff30258",
   "metadata": {},
   "outputs": [],
   "source": [
    "#default ascending order \n",
    "numbers = [3,1,2,44,5,6,6,6,77,9]\n",
    "numbers.sort()"
   ]
  },
  {
   "cell_type": "code",
   "execution_count": 32,
   "id": "f2b56c93-a4a7-4c2f-abc4-54cb5f6ecd82",
   "metadata": {},
   "outputs": [
    {
     "data": {
      "text/plain": [
       "[1, 2, 3, 5, 6, 6, 6, 9, 44, 77]"
      ]
     },
     "execution_count": 32,
     "metadata": {},
     "output_type": "execute_result"
    }
   ],
   "source": [
    "numbers"
   ]
  },
  {
   "cell_type": "code",
   "execution_count": 34,
   "id": "acdd37b9-f8ee-412b-ba70-84a6670ff398",
   "metadata": {},
   "outputs": [],
   "source": [
    "# sort numbers in decending order\n",
    "numbers.sort(reverse= True)"
   ]
  },
  {
   "cell_type": "code",
   "execution_count": 36,
   "id": "9367bd32-3f66-45cc-8070-c19d76ecf47d",
   "metadata": {},
   "outputs": [
    {
     "data": {
      "text/plain": [
       "[77, 44, 9, 6, 6, 6, 5, 3, 2, 1]"
      ]
     },
     "execution_count": 36,
     "metadata": {},
     "output_type": "execute_result"
    }
   ],
   "source": [
    "numbers"
   ]
  },
  {
   "cell_type": "markdown",
   "id": "13ce45da-67f9-4fae-af06-558b540dab25",
   "metadata": {},
   "source": [
    "## reverse"
   ]
  },
  {
   "cell_type": "code",
   "execution_count": 39,
   "id": "3be03c67-1824-4a38-9722-11867332bc40",
   "metadata": {},
   "outputs": [
    {
     "data": {
      "text/plain": [
       "['cherry', 'banana', 'apple']"
      ]
     },
     "execution_count": 39,
     "metadata": {},
     "output_type": "execute_result"
    }
   ],
   "source": [
    "fruits = ['apple', 'banana', 'cherry']\n",
    "fruits.reverse()\n",
    "fruits"
   ]
  },
  {
   "cell_type": "markdown",
   "id": "0747186c-4602-42c7-a73c-f8672b3873c6",
   "metadata": {},
   "source": [
    "## join"
   ]
  },
  {
   "cell_type": "code",
   "execution_count": 48,
   "id": "a774a74a-499b-46cf-a813-967ca8e6f087",
   "metadata": {},
   "outputs": [
    {
     "data": {
      "text/plain": [
       "'apple~|~banana~|~cherry'"
      ]
     },
     "execution_count": 48,
     "metadata": {},
     "output_type": "execute_result"
    }
   ],
   "source": [
    "fruits = ['apple', 'banana', 'cherry']\n",
    "fruits_string = '~|~' .join(fruits)\n",
    "fruits_string"
   ]
  },
  {
   "cell_type": "markdown",
   "id": "c9421ad3-531c-49a3-bb50-a4d6339879f8",
   "metadata": {},
   "source": [
    "## max() (used in a list returns the maximum value in a list)"
   ]
  },
  {
   "cell_type": "code",
   "execution_count": 66,
   "id": "eaf236e2-901e-46ec-bf0d-dc43654541dc",
   "metadata": {},
   "outputs": [
    {
     "data": {
      "text/plain": [
       "9"
      ]
     },
     "execution_count": 66,
     "metadata": {},
     "output_type": "execute_result"
    }
   ],
   "source": [
    "numbers = [3, 5,6 ,7, 8, 9]\n",
    "max_value = max(numbers)\n",
    "max_value"
   ]
  },
  {
   "cell_type": "markdown",
   "id": "5e102249-2521-4322-8150-fc200b0f6a39",
   "metadata": {},
   "source": [
    "## min()"
   ]
  },
  {
   "cell_type": "code",
   "execution_count": 54,
   "id": "ccf1aa20-ae66-4207-be7b-6430d1c81451",
   "metadata": {},
   "outputs": [],
   "source": [
    "numbers = [4, 7,2, 8]\n",
    "min_value = min(numbers)"
   ]
  },
  {
   "cell_type": "code",
   "execution_count": 56,
   "id": "0bbf3640-a397-40e1-8656-a03fb3bfa180",
   "metadata": {},
   "outputs": [
    {
     "data": {
      "text/plain": [
       "[4, 7, 2, 8]"
      ]
     },
     "execution_count": 56,
     "metadata": {},
     "output_type": "execute_result"
    }
   ],
   "source": [
    "numbers"
   ]
  },
  {
   "cell_type": "code",
   "execution_count": 58,
   "id": "e34d729e-27cf-43c6-8723-d15c29ddec64",
   "metadata": {},
   "outputs": [
    {
     "data": {
      "text/plain": [
       "2"
      ]
     },
     "execution_count": 58,
     "metadata": {},
     "output_type": "execute_result"
    }
   ],
   "source": [
    "min_value"
   ]
  },
  {
   "cell_type": "markdown",
   "id": "1600629c-1605-4e47-972f-da614fdf895a",
   "metadata": {},
   "source": [
    "## len()"
   ]
  },
  {
   "cell_type": "code",
   "execution_count": 69,
   "id": "ad94c04c-41db-4d3f-8235-785473088eb0",
   "metadata": {},
   "outputs": [],
   "source": [
    "fruits = ['apple', 'banana', 'cherry']\n",
    "num_fruits = len(fruits)"
   ]
  },
  {
   "cell_type": "code",
   "execution_count": 71,
   "id": "f949631e-fd53-451a-918e-2ad90c9477c3",
   "metadata": {},
   "outputs": [
    {
     "data": {
      "text/plain": [
       "3"
      ]
     },
     "execution_count": 71,
     "metadata": {},
     "output_type": "execute_result"
    }
   ],
   "source": [
    "len(fruits)"
   ]
  },
  {
   "cell_type": "markdown",
   "id": "c8a3014c-1539-4e87-bccb-5f1fca41afd6",
   "metadata": {},
   "source": [
    "## all()"
   ]
  },
  {
   "cell_type": "code",
   "execution_count": 83,
   "id": "3881a914-8754-4563-b864-1385eb20a963",
   "metadata": {},
   "outputs": [
    {
     "data": {
      "text/plain": [
       "False"
      ]
     },
     "execution_count": 83,
     "metadata": {},
     "output_type": "execute_result"
    }
   ],
   "source": [
    "bool_list = [True, True, False]\n",
    "all(bool_list)\n"
   ]
  },
  {
   "cell_type": "markdown",
   "id": "3b17d2ec-8344-45f0-8f72-a68097aa1833",
   "metadata": {},
   "source": [
    "all(numbers)"
   ]
  },
  {
   "cell_type": "markdown",
   "id": "ddcf0853-9da5-4857-8099-abe830940d52",
   "metadata": {},
   "source": [
    "## sum()"
   ]
  },
  {
   "cell_type": "code",
   "execution_count": 86,
   "id": "3ce9da7c-a65e-4daa-a92e-c8141262c581",
   "metadata": {},
   "outputs": [
    {
     "data": {
      "text/plain": [
       "[4, 7, 2, 8]"
      ]
     },
     "execution_count": 86,
     "metadata": {},
     "output_type": "execute_result"
    }
   ],
   "source": [
    "numbers = [4, 7,2, 8]\n",
    "sum_value = sum(numbers)\n",
    "numbers"
   ]
  },
  {
   "cell_type": "code",
   "execution_count": 90,
   "id": "0839c897-38b9-4fa5-8fe8-6773462e51f4",
   "metadata": {},
   "outputs": [
    {
     "data": {
      "text/plain": [
       "21"
      ]
     },
     "execution_count": 90,
     "metadata": {},
     "output_type": "execute_result"
    }
   ],
   "source": [
    "sum_value"
   ]
  },
  {
   "cell_type": "markdown",
   "id": "23ee7ba3-efa2-45e4-bc4d-13bf6edac156",
   "metadata": {},
   "source": [
    "## any()\n",
    "if any one is true it returns true"
   ]
  },
  {
   "cell_type": "code",
   "execution_count": 93,
   "id": "19f1b02f-a1d1-491c-910d-a2c80b6bc989",
   "metadata": {},
   "outputs": [
    {
     "data": {
      "text/plain": [
       "True"
      ]
     },
     "execution_count": 93,
     "metadata": {},
     "output_type": "execute_result"
    }
   ],
   "source": [
    "bool_list = [False,False,True]\n",
    "any(bool_list)"
   ]
  },
  {
   "cell_type": "markdown",
   "id": "ee5281b6-a75b-4dca-b915-8392ab13dad8",
   "metadata": {},
   "source": [
    "## sorted()"
   ]
  },
  {
   "cell_type": "code",
   "execution_count": 97,
   "id": "96593112-a69e-4859-83e8-b9f4082cdd6e",
   "metadata": {},
   "outputs": [
    {
     "data": {
      "text/plain": [
       "[3, 4, 5, 6, 7, 8, 9]"
      ]
     },
     "execution_count": 97,
     "metadata": {},
     "output_type": "execute_result"
    }
   ],
   "source": [
    "numbers = [3,4,5,6,7,8,9]\n",
    "numbers"
   ]
  },
  {
   "cell_type": "code",
   "execution_count": 103,
   "id": "8ace505b-ed9d-47a9-81d8-b4bb5ed21fcf",
   "metadata": {},
   "outputs": [
    {
     "data": {
      "text/plain": [
       "[3, 4, 5, 6, 7, 8, 9]"
      ]
     },
     "execution_count": 103,
     "metadata": {},
     "output_type": "execute_result"
    }
   ],
   "source": [
    "numbers.sort()\n",
    "numbers"
   ]
  },
  {
   "cell_type": "code",
   "execution_count": 105,
   "id": "ae61dd42-43f2-463d-9fff-08fe42616ef7",
   "metadata": {},
   "outputs": [
    {
     "data": {
      "text/plain": [
       "[3, 4, 6, 6, 6, 8, 8, 9]"
      ]
     },
     "execution_count": 105,
     "metadata": {},
     "output_type": "execute_result"
    }
   ],
   "source": [
    "a = [3,4,6,8,8,9,6,6]\n",
    "sorted(a)"
   ]
  },
  {
   "cell_type": "code",
   "execution_count": 107,
   "id": "afd6563a-fc9b-44a4-8ac7-e52d7fdb97b4",
   "metadata": {},
   "outputs": [
    {
     "data": {
      "text/plain": [
       "[3, 4, 6, 8, 8, 9, 6, 6]"
      ]
     },
     "execution_count": 107,
     "metadata": {},
     "output_type": "execute_result"
    }
   ],
   "source": [
    "a"
   ]
  },
  {
   "cell_type": "markdown",
   "id": "9922c0a8-1cb9-4d13-8c2d-23daa5e427f1",
   "metadata": {},
   "source": [
    "## using list comprehension\n"
   ]
  },
  {
   "cell_type": "code",
   "execution_count": 112,
   "id": "33a14e66-2d8c-4cdf-bf1a-a868729a224b",
   "metadata": {},
   "outputs": [
    {
     "ename": "NameError",
     "evalue": "name 'new_list' is not defined",
     "output_type": "error",
     "traceback": [
      "\u001b[1;31m---------------------------------------------------------------------------\u001b[0m",
      "\u001b[1;31mNameError\u001b[0m                                 Traceback (most recent call last)",
      "Cell \u001b[1;32mIn[112], line 1\u001b[0m\n\u001b[1;32m----> 1\u001b[0m new_list\n",
      "\u001b[1;31mNameError\u001b[0m: name 'new_list' is not defined"
     ]
    }
   ],
   "source": [
    "new_list"
   ]
  },
  {
   "cell_type": "code",
   "execution_count": 134,
   "id": "89c01157-c555-4ea8-b876-21dee2c3f921",
   "metadata": {},
   "outputs": [
    {
     "data": {
      "text/plain": [
       "(1, 2, 3, 5, 78)"
      ]
     },
     "execution_count": 134,
     "metadata": {},
     "output_type": "execute_result"
    }
   ],
   "source": [
    "squares = [i**2 for i in range(1, 6)]\n",
    "1,2,3,5,78"
   ]
  },
  {
   "cell_type": "code",
   "execution_count": 136,
   "id": "5039c8bc-1f40-4022-8c1d-d8f0fd3e064b",
   "metadata": {},
   "outputs": [],
   "source": [
    "for i  in range(1, 7):\n",
    "    squares.append(i**2)"
   ]
  },
  {
   "cell_type": "code",
   "execution_count": 138,
   "id": "2373826b-7018-4901-afbd-be1dc49b37f4",
   "metadata": {},
   "outputs": [],
   "source": [
    "squares = [i**2 for i in range(1,6)]"
   ]
  },
  {
   "cell_type": "code",
   "execution_count": 140,
   "id": "5d3f3abe-14f6-48e1-9872-c89154a933b7",
   "metadata": {},
   "outputs": [
    {
     "data": {
      "text/plain": [
       "[1, 4, 9, 16, 25]"
      ]
     },
     "execution_count": 140,
     "metadata": {},
     "output_type": "execute_result"
    }
   ],
   "source": [
    "squares"
   ]
  },
  {
   "cell_type": "markdown",
   "id": "0b051b4a-7f8d-4ac9-a278-d92e830cabd1",
   "metadata": {},
   "source": [
    "## list comprehension with a condition"
   ]
  },
  {
   "cell_type": "code",
   "execution_count": 143,
   "id": "2ef5bf59-7bdc-4007-9e56-06d595f3f3d5",
   "metadata": {},
   "outputs": [],
   "source": [
    "even_squares = []\n",
    "for i in range(1,11):\n",
    "    if i % 2 == 0:\n",
    "        even_squares.append(i**2)"
   ]
  },
  {
   "cell_type": "code",
   "execution_count": 145,
   "id": "de0b1911-5bab-4c45-9f94-a4afa974aa7f",
   "metadata": {},
   "outputs": [
    {
     "data": {
      "text/plain": [
       "[4, 16, 36, 64, 100]"
      ]
     },
     "execution_count": 145,
     "metadata": {},
     "output_type": "execute_result"
    }
   ],
   "source": [
    "even_squares"
   ]
  },
  {
   "cell_type": "markdown",
   "id": "17c4da50-2e64-44a7-81d0-3e053dd1f62d",
   "metadata": {},
   "source": [
    "# tuple\n",
    "* ordered\n",
    "* conatines commas and brackets are not that necessary\n",
    "* immutable"
   ]
  },
  {
   "cell_type": "code",
   "execution_count": 3,
   "id": "35de9470-6e29-4009-8c90-827430aeb5f0",
   "metadata": {},
   "outputs": [],
   "source": [
    "t = (\"hello\",1,20,45,50.5,(1,2))"
   ]
  },
  {
   "cell_type": "code",
   "execution_count": 5,
   "id": "3a2aaaf9-f40a-46e5-9201-4556768ca685",
   "metadata": {},
   "outputs": [
    {
     "data": {
      "text/plain": [
       "('hello', 1)"
      ]
     },
     "execution_count": 5,
     "metadata": {},
     "output_type": "execute_result"
    }
   ],
   "source": [
    "t[0:2]"
   ]
  },
  {
   "cell_type": "code",
   "execution_count": 7,
   "id": "1e944ace-7c4a-4353-899a-6a977b42d097",
   "metadata": {},
   "outputs": [],
   "source": [
    "my_tuple = (1, 2, 3)"
   ]
  },
  {
   "cell_type": "code",
   "execution_count": 9,
   "id": "7d0dc79d-66a1-474a-960e-b55bdad39e28",
   "metadata": {},
   "outputs": [
    {
     "data": {
      "text/plain": [
       "1"
      ]
     },
     "execution_count": 9,
     "metadata": {},
     "output_type": "execute_result"
    }
   ],
   "source": [
    "my_tuple[0]"
   ]
  },
  {
   "cell_type": "code",
   "execution_count": 11,
   "id": "ba33a19a-8661-4dba-b1c1-3ec273afa2d1",
   "metadata": {},
   "outputs": [],
   "source": [
    "#immutable\n",
    "my_tuple = (1, 2, 3)"
   ]
  },
  {
   "cell_type": "code",
   "execution_count": 13,
   "id": "a34f645b-02a7-4ea8-816e-b6544794a46c",
   "metadata": {},
   "outputs": [
    {
     "ename": "TypeError",
     "evalue": "'tuple' object does not support item assignment",
     "output_type": "error",
     "traceback": [
      "\u001b[1;31m---------------------------------------------------------------------------\u001b[0m",
      "\u001b[1;31mTypeError\u001b[0m                                 Traceback (most recent call last)",
      "Cell \u001b[1;32mIn[13], line 1\u001b[0m\n\u001b[1;32m----> 1\u001b[0m my_tuple[\u001b[38;5;241m0\u001b[39m] \u001b[38;5;241m=\u001b[39m \u001b[38;5;241m2225\u001b[39m\n",
      "\u001b[1;31mTypeError\u001b[0m: 'tuple' object does not support item assignment"
     ]
    }
   ],
   "source": [
    "my_tuple[0] = 2225"
   ]
  },
  {
   "cell_type": "code",
   "execution_count": 15,
   "id": "b724d74e-feb3-400a-bcbf-c98b66ec5440",
   "metadata": {},
   "outputs": [],
   "source": [
    "#hetrogenous\n",
    "my_tuple = (1, \"hello\", 3.14)"
   ]
  },
  {
   "cell_type": "code",
   "execution_count": 17,
   "id": "8e581141-c135-49dc-99f3-9556cbb8cb29",
   "metadata": {},
   "outputs": [
    {
     "name": "stdout",
     "output_type": "stream",
     "text": [
      "(1, 'hello', 3.14)\n"
     ]
    }
   ],
   "source": [
    "print(my_tuple)"
   ]
  },
  {
   "cell_type": "code",
   "execution_count": 23,
   "id": "aa0750da-e4ce-4981-8ad9-d26e6d690db6",
   "metadata": {},
   "outputs": [
    {
     "data": {
      "text/plain": [
       "30"
      ]
     },
     "execution_count": 23,
     "metadata": {},
     "output_type": "execute_result"
    }
   ],
   "source": [
    "#indexing and slicing\n",
    "my_tuple = (10,20,30,40,50)\n",
    "my_tuple[2]\n"
   ]
  },
  {
   "cell_type": "code",
   "execution_count": 25,
   "id": "6c7fcecd-de27-434f-8588-b4473c36572c",
   "metadata": {},
   "outputs": [
    {
     "name": "stdout",
     "output_type": "stream",
     "text": [
      "(20, 30, 40)\n"
     ]
    }
   ],
   "source": [
    "print(my_tuple[1:4])"
   ]
  },
  {
   "cell_type": "code",
   "execution_count": 27,
   "id": "44e55c42-467b-4eb9-b7f3-9bd039322cdd",
   "metadata": {},
   "outputs": [],
   "source": [
    "#packing and unpacking\n",
    "my_tuple = 1,2,3"
   ]
  },
  {
   "cell_type": "code",
   "execution_count": 31,
   "id": "104451ec-d3c5-4e02-a272-17515063eac2",
   "metadata": {},
   "outputs": [
    {
     "data": {
      "text/plain": [
       "tuple"
      ]
     },
     "execution_count": 31,
     "metadata": {},
     "output_type": "execute_result"
    }
   ],
   "source": [
    "type(my_tuple)"
   ]
  },
  {
   "cell_type": "code",
   "execution_count": 33,
   "id": "6a56cbc4-35ee-45bc-8852-d890c743e0ac",
   "metadata": {},
   "outputs": [
    {
     "name": "stdout",
     "output_type": "stream",
     "text": [
      "(1, 2, 3)\n"
     ]
    }
   ],
   "source": [
    "print(my_tuple)"
   ]
  },
  {
   "cell_type": "code",
   "execution_count": 35,
   "id": "e04d6165-cda5-4022-9299-c45b868ac85c",
   "metadata": {},
   "outputs": [
    {
     "data": {
      "text/plain": [
       "(1, 2, 3)"
      ]
     },
     "execution_count": 35,
     "metadata": {},
     "output_type": "execute_result"
    }
   ],
   "source": [
    "my_tuple"
   ]
  },
  {
   "cell_type": "code",
   "execution_count": 37,
   "id": "cfe0e939-338e-4508-a12e-99c437e29c05",
   "metadata": {},
   "outputs": [],
   "source": [
    "a,b,c = my_tuple"
   ]
  },
  {
   "cell_type": "code",
   "execution_count": 39,
   "id": "842652af-45ae-4c1b-8a29-abc1cebc773e",
   "metadata": {},
   "outputs": [
    {
     "data": {
      "text/plain": [
       "1"
      ]
     },
     "execution_count": 39,
     "metadata": {},
     "output_type": "execute_result"
    }
   ],
   "source": [
    "a"
   ]
  },
  {
   "cell_type": "code",
   "execution_count": 41,
   "id": "08294fb2-8763-448c-aa79-d55a8b889177",
   "metadata": {},
   "outputs": [
    {
     "data": {
      "text/plain": [
       "2"
      ]
     },
     "execution_count": 41,
     "metadata": {},
     "output_type": "execute_result"
    }
   ],
   "source": [
    "b"
   ]
  },
  {
   "cell_type": "code",
   "execution_count": 43,
   "id": "508d514c-df85-499c-9a72-ce566849691e",
   "metadata": {},
   "outputs": [
    {
     "data": {
      "text/plain": [
       "3"
      ]
     },
     "execution_count": 43,
     "metadata": {},
     "output_type": "execute_result"
    }
   ],
   "source": [
    "c"
   ]
  },
  {
   "cell_type": "code",
   "execution_count": 45,
   "id": "172d7425-f1ed-44ac-90dc-2fec68b63d1d",
   "metadata": {},
   "outputs": [
    {
     "name": "stderr",
     "output_type": "stream",
     "text": [
      "<>:1: SyntaxWarning: 'int' object is not subscriptable; perhaps you missed a comma?\n",
      "<>:1: SyntaxWarning: 'int' object is not subscriptable; perhaps you missed a comma?\n",
      "C:\\Users\\ANU KUMARI\\AppData\\Local\\Temp\\ipykernel_21972\\519907182.py:1: SyntaxWarning: 'int' object is not subscriptable; perhaps you missed a comma?\n",
      "  1[0:2]\n"
     ]
    },
    {
     "ename": "TypeError",
     "evalue": "'int' object is not subscriptable",
     "output_type": "error",
     "traceback": [
      "\u001b[1;31m---------------------------------------------------------------------------\u001b[0m",
      "\u001b[1;31mTypeError\u001b[0m                                 Traceback (most recent call last)",
      "Cell \u001b[1;32mIn[45], line 1\u001b[0m\n\u001b[1;32m----> 1\u001b[0m \u001b[38;5;241m1\u001b[39m[\u001b[38;5;241m0\u001b[39m:\u001b[38;5;241m2\u001b[39m]\n",
      "\u001b[1;31mTypeError\u001b[0m: 'int' object is not subscriptable"
     ]
    }
   ],
   "source": [
    "1[0:2]"
   ]
  },
  {
   "cell_type": "code",
   "execution_count": 49,
   "id": "e3228bcf-c7e4-49d9-9b24-ae859558aaed",
   "metadata": {},
   "outputs": [
    {
     "name": "stdout",
     "output_type": "stream",
     "text": [
      "('jhon', 25, 'engineer')\n"
     ]
    }
   ],
   "source": [
    "person = (\"jhon\",25,'engineer')\n",
    "print(person)\n",
    "          "
   ]
  },
  {
   "cell_type": "code",
   "execution_count": 53,
   "id": "50020dec-42db-4d93-ace5-25dd6114af6b",
   "metadata": {},
   "outputs": [
    {
     "name": "stdout",
     "output_type": "stream",
     "text": [
      "10 20 30\n"
     ]
    }
   ],
   "source": [
    "coordinates = (10, 20, 30)\n",
    "x = coordinates[0]\n",
    "y = coordinates[1]\n",
    "z = coordinates[2]\n",
    "print(x, y, z)"
   ]
  },
  {
   "cell_type": "code",
   "execution_count": 57,
   "id": "8ae50196-4959-4291-981d-4d6df7a840c8",
   "metadata": {},
   "outputs": [],
   "source": [
    "L = [[1,2,3,4],[5,6,7,8]]"
   ]
  },
  {
   "cell_type": "code",
   "execution_count": 59,
   "id": "41d3740b-db65-4c59-a1e5-7365163c2236",
   "metadata": {},
   "outputs": [
    {
     "data": {
      "text/plain": [
       "1"
      ]
     },
     "execution_count": 59,
     "metadata": {},
     "output_type": "execute_result"
    }
   ],
   "source": [
    "L[0][0]"
   ]
  },
  {
   "cell_type": "code",
   "execution_count": 61,
   "id": "7eeff189-9170-49ae-9436-92e453a9822d",
   "metadata": {},
   "outputs": [
    {
     "data": {
      "text/plain": [
       "7"
      ]
     },
     "execution_count": 61,
     "metadata": {},
     "output_type": "execute_result"
    }
   ],
   "source": [
    "L[1][2]"
   ]
  },
  {
   "cell_type": "code",
   "execution_count": 69,
   "id": "4b55fa99-27d9-4855-b3b2-194af19a99e2",
   "metadata": {},
   "outputs": [],
   "source": [
    "L = [[1,2,3,4],[5,6,7,8,[1,2,3,4]],[1,2,3,4,5,6]]"
   ]
  },
  {
   "cell_type": "code",
   "execution_count": 71,
   "id": "e0c71de9-e2e6-4a09-a5a1-00895f25621b",
   "metadata": {},
   "outputs": [
    {
     "data": {
      "text/plain": [
       "2"
      ]
     },
     "execution_count": 71,
     "metadata": {},
     "output_type": "execute_result"
    }
   ],
   "source": [
    "L[1][4][1]"
   ]
  },
  {
   "cell_type": "code",
   "execution_count": 73,
   "id": "ee8ce8ae-231e-4152-97c8-4dcf13ea0594",
   "metadata": {},
   "outputs": [],
   "source": [
    "nested_tuple = (1, (2,3),(4,(5,6)))"
   ]
  },
  {
   "cell_type": "code",
   "execution_count": 75,
   "id": "16759648-7476-4418-a3f0-0238577e236c",
   "metadata": {},
   "outputs": [
    {
     "data": {
      "text/plain": [
       "2"
      ]
     },
     "execution_count": 75,
     "metadata": {},
     "output_type": "execute_result"
    }
   ],
   "source": [
    "nested_tuple[1][0]"
   ]
  },
  {
   "cell_type": "code",
   "execution_count": 77,
   "id": "9ca8a2db-1d55-4004-9922-4b7b2fcf2c9b",
   "metadata": {},
   "outputs": [
    {
     "data": {
      "text/plain": [
       "6"
      ]
     },
     "execution_count": 77,
     "metadata": {},
     "output_type": "execute_result"
    }
   ],
   "source": [
    "nested_tuple[2][1][1]"
   ]
  },
  {
   "cell_type": "code",
   "execution_count": 85,
   "id": "6b933e92-ec0b-41ce-90c3-f958c08a342d",
   "metadata": {},
   "outputs": [
    {
     "name": "stdout",
     "output_type": "stream",
     "text": [
      "5\n"
     ]
    }
   ],
   "source": [
    "print(nested_tuple[2][1][0])"
   ]
  },
  {
   "cell_type": "code",
   "execution_count": 87,
   "id": "df4c745a-6628-4f77-824f-bb95ced7387c",
   "metadata": {},
   "outputs": [],
   "source": [
    "#slicing a tuple\n",
    "tuple = (1,2,3,4,5,6,7,8,9)\n"
   ]
  },
  {
   "cell_type": "code",
   "execution_count": 101,
   "id": "7f50394a-ef53-449e-a69d-1613c1c14813",
   "metadata": {},
   "outputs": [],
   "source": [
    "#slicing a tuple\n",
    "slice_1 = tuple[1:3]\n",
    "slice_2 = tuple[:4]\n",
    "slice_3 = tuple[2:]\n",
    "slice_4 = tuple[-1:]"
   ]
  },
  {
   "cell_type": "code",
   "execution_count": 103,
   "id": "1cbcfdd1-42b2-4e2a-b6dc-c620ff760685",
   "metadata": {},
   "outputs": [
    {
     "name": "stdout",
     "output_type": "stream",
     "text": [
      "(2, 3)\n",
      "(1, 2, 3, 4)\n",
      "(3, 4, 5, 6, 7, 8, 9)\n",
      "(9,)\n"
     ]
    }
   ],
   "source": [
    "print(slice_1)\n",
    "print(slice_2)\n",
    "print(slice_3)\n",
    "print(slice_4)"
   ]
  },
  {
   "cell_type": "code",
   "execution_count": 110,
   "id": "7b50395a-6439-4250-b364-a16046bb1e7b",
   "metadata": {},
   "outputs": [
    {
     "name": "stdout",
     "output_type": "stream",
     "text": [
      "(10, 20, 30)\n"
     ]
    }
   ],
   "source": [
    "numbers = (10,20,30,40,50)\n",
    "first_three = numbers[:3]\n",
    "print(first_three)"
   ]
  },
  {
   "cell_type": "code",
   "execution_count": 118,
   "id": "35835d67-7ce3-4dc5-8a4e-b68fedbcb897",
   "metadata": {},
   "outputs": [
    {
     "name": "stdout",
     "output_type": "stream",
     "text": [
      "purple\n"
     ]
    }
   ],
   "source": [
    "colors=(\"red\",\"green\",\"blue\",\"yellow\",\"purple\")\n",
    "last_color = colors[-1]\n",
    "print(last_color)"
   ]
  },
  {
   "cell_type": "code",
   "execution_count": 122,
   "id": "3e718570-cadf-4a52-b652-4d0940384f28",
   "metadata": {},
   "outputs": [
    {
     "name": "stdout",
     "output_type": "stream",
     "text": [
      "5\n"
     ]
    }
   ],
   "source": [
    "nested_tuple=(1,(2,3),(4,(5,6),7),8)\n",
    "element_five = nested_tuple[2][1][0]\n",
    "print(element_five)"
   ]
  },
  {
   "cell_type": "code",
   "execution_count": 124,
   "id": "f6a97c61-4c3e-46a8-9e8e-0d94ba1b4ec0",
   "metadata": {},
   "outputs": [
    {
     "data": {
      "text/plain": [
       "tuple"
      ]
     },
     "execution_count": 124,
     "metadata": {},
     "output_type": "execute_result"
    }
   ],
   "source": [
    "#workarounds for editing a tuple\n",
    "fruits = (\"a\",\"b\",\"c\")\n",
    "type(fruits)"
   ]
  },
  {
   "cell_type": "code",
   "execution_count": 143,
   "id": "f637c774-7113-4d5e-ad91-7c0f72e1fe23",
   "metadata": {},
   "outputs": [],
   "source": [
    "ae=list(fruits)"
   ]
  },
  {
   "cell_type": "code",
   "execution_count": 145,
   "id": "220e0612-40c2-41a5-aadf-18ffbff1a8d3",
   "metadata": {},
   "outputs": [
    {
     "data": {
      "text/plain": [
       "list"
      ]
     },
     "execution_count": 145,
     "metadata": {},
     "output_type": "execute_result"
    }
   ],
   "source": [
    "type(ae)"
   ]
  },
  {
   "cell_type": "code",
   "execution_count": 147,
   "id": "a4880324-7230-47d0-9a7f-b2fe914e4687",
   "metadata": {},
   "outputs": [
    {
     "data": {
      "text/plain": [
       "['a', 'b', 'c', 'mang']"
      ]
     },
     "execution_count": 147,
     "metadata": {},
     "output_type": "execute_result"
    }
   ],
   "source": [
    "ae.append(\"mang\")\n",
    "ae"
   ]
  },
  {
   "cell_type": "code",
   "execution_count": 149,
   "id": "3f7b1f97-c75e-4947-88d8-514661a99921",
   "metadata": {},
   "outputs": [],
   "source": [
    "bv=list(fruits)"
   ]
  },
  {
   "cell_type": "code",
   "execution_count": 151,
   "id": "df4ae4db-454a-4f1c-bdbc-ac2458ec4753",
   "metadata": {},
   "outputs": [
    {
     "data": {
      "text/plain": [
       "list"
      ]
     },
     "execution_count": 151,
     "metadata": {},
     "output_type": "execute_result"
    }
   ],
   "source": [
    "type(bv)"
   ]
  },
  {
   "cell_type": "code",
   "execution_count": 153,
   "id": "5ce0b596-099c-45b9-af78-029ec9906c70",
   "metadata": {},
   "outputs": [],
   "source": [
    "bv.append(\"apple\")"
   ]
  },
  {
   "cell_type": "code",
   "execution_count": 155,
   "id": "cc1e4d9b-7258-4d00-8c70-40da684c9e87",
   "metadata": {},
   "outputs": [
    {
     "data": {
      "text/plain": [
       "['a', 'b', 'c', 'apple']"
      ]
     },
     "execution_count": 155,
     "metadata": {},
     "output_type": "execute_result"
    }
   ],
   "source": [
    "bv"
   ]
  },
  {
   "cell_type": "code",
   "execution_count": 159,
   "id": "1a7dccec-52ef-4df3-a38e-8fec715d8e34",
   "metadata": {},
   "outputs": [],
   "source": [
    "#concatination\n",
    "fruits = (\"apple\",\"banana\",\"cherry\")"
   ]
  },
  {
   "cell_type": "code",
   "execution_count": 161,
   "id": "3758b9f0-1cee-40fb-88e1-580206185281",
   "metadata": {},
   "outputs": [],
   "source": [
    "fruits1 = fruits + (\"date\",)"
   ]
  },
  {
   "cell_type": "code",
   "execution_count": 165,
   "id": "f6bf3b45-a2c1-427f-aace-4576c8563bbb",
   "metadata": {},
   "outputs": [
    {
     "name": "stdout",
     "output_type": "stream",
     "text": [
      "('apple', 'banana', 'cherry', 'date')\n"
     ]
    }
   ],
   "source": [
    "print(fruits1)"
   ]
  },
  {
   "cell_type": "code",
   "execution_count": 167,
   "id": "3c8f3363-88f5-4f9d-bc17-e0fccfac4254",
   "metadata": {},
   "outputs": [
    {
     "data": {
      "text/plain": [
       "('apple', 'banana', 'cherry')"
      ]
     },
     "execution_count": 167,
     "metadata": {},
     "output_type": "execute_result"
    }
   ],
   "source": [
    "fruits"
   ]
  },
  {
   "cell_type": "code",
   "execution_count": 177,
   "id": "2f3987b1-b49e-488a-8238-0be99b0d74ce",
   "metadata": {},
   "outputs": [
    {
     "ename": "NameError",
     "evalue": "name 'fruits' is not defined",
     "output_type": "error",
     "traceback": [
      "\u001b[1;31m---------------------------------------------------------------------------\u001b[0m",
      "\u001b[1;31mNameError\u001b[0m                                 Traceback (most recent call last)",
      "Cell \u001b[1;32mIn[177], line 2\u001b[0m\n\u001b[0;32m      1\u001b[0m \u001b[38;5;66;03m# delete\u001b[39;00m\n\u001b[1;32m----> 2\u001b[0m \u001b[38;5;28;01mdel\u001b[39;00m(fruits)\n",
      "\u001b[1;31mNameError\u001b[0m: name 'fruits' is not defined"
     ]
    }
   ],
   "source": [
    "# delete\n",
    "del(fruits)"
   ]
  },
  {
   "cell_type": "code",
   "execution_count": 179,
   "id": "721c19f1-574e-481b-956b-d57a5e90b917",
   "metadata": {},
   "outputs": [
    {
     "ename": "NameError",
     "evalue": "name 'fruits' is not defined",
     "output_type": "error",
     "traceback": [
      "\u001b[1;31m---------------------------------------------------------------------------\u001b[0m",
      "\u001b[1;31mNameError\u001b[0m                                 Traceback (most recent call last)",
      "Cell \u001b[1;32mIn[179], line 1\u001b[0m\n\u001b[1;32m----> 1\u001b[0m fruits\n",
      "\u001b[1;31mNameError\u001b[0m: name 'fruits' is not defined"
     ]
    }
   ],
   "source": [
    "fruits"
   ]
  },
  {
   "cell_type": "code",
   "execution_count": null,
   "id": "c2454307-97b8-4e0a-8971-3937f657bc14",
   "metadata": {},
   "outputs": [],
   "source": []
  }
 ],
 "metadata": {
  "kernelspec": {
   "display_name": "Python 3 (ipykernel)",
   "language": "python",
   "name": "python3"
  },
  "language_info": {
   "codemirror_mode": {
    "name": "ipython",
    "version": 3
   },
   "file_extension": ".py",
   "mimetype": "text/x-python",
   "name": "python",
   "nbconvert_exporter": "python",
   "pygments_lexer": "ipython3",
   "version": "3.12.7"
  }
 },
 "nbformat": 4,
 "nbformat_minor": 5
}
