{
 "cells": [
  {
   "cell_type": "markdown",
   "id": "262ea558-1261-40d5-85de-b6c3f55ce0cf",
   "metadata": {},
   "source": [
    "##  Random Number Generation\n"
   ]
  },
  {
   "cell_type": "markdown",
   "id": "8e18d2d1-e024-4fba-9c07-0f7a02f790af",
   "metadata": {},
   "source": [
    "1. Random Number Generation"
   ]
  },
  {
   "cell_type": "code",
   "execution_count": 60,
   "id": "c5a15fb4-0edc-4a70-8853-83c024f3719f",
   "metadata": {},
   "outputs": [],
   "source": [
    "import numpy as np"
   ]
  },
  {
   "cell_type": "code",
   "execution_count": 62,
   "id": "a69a38f1-f41f-4086-8c48-f6b3b02651f1",
   "metadata": {},
   "outputs": [
    {
     "name": "stdout",
     "output_type": "stream",
     "text": [
      "🎯 Uniform distribution:\n",
      " [[0.13997903 0.57987641 0.55166097]\n",
      " [0.32965668 0.28682374 0.96392065]\n",
      " [0.48001587 0.50712895 0.50234988]]\n"
     ]
    }
   ],
   "source": [
    "# Uniform distribution\n",
    "uniform = np.random.rand(3, 3)\n",
    "print(\"🎯 Uniform distribution:\\n\", uniform)"
   ]
  },
  {
   "cell_type": "code",
   "execution_count": 64,
   "id": "95e1dd71-2f12-43df-8123-68f3b4a9b2d0",
   "metadata": {},
   "outputs": [
    {
     "name": "stdout",
     "output_type": "stream",
     "text": [
      "\n",
      "📈 Normal distribution:\n",
      " [[-1.78848679  2.01054097 -0.10297325]\n",
      " [-0.68467578 -0.9181973   1.89819714]\n",
      " [-0.24106423  1.64396531 -0.38916886]]\n"
     ]
    }
   ],
   "source": [
    "# Normal distribution\n",
    "normal = np.random.randn(3, 3)\n",
    "print(\"\\n📈 Normal distribution:\\n\", normal)"
   ]
  },
  {
   "cell_type": "markdown",
   "id": "311ce442-451e-40b1-9805-e69b5d19d3ea",
   "metadata": {},
   "source": [
    "\n",
    "###  Searching in Arrays"
   ]
  },
  {
   "cell_type": "code",
   "execution_count": 67,
   "id": "82cb4cf2-05f9-49d4-9927-f46053ef4989",
   "metadata": {},
   "outputs": [],
   "source": [
    "arr = np.array([1, 2, 3, 4, 5])"
   ]
  },
  {
   "cell_type": "code",
   "execution_count": 69,
   "id": "8983e1d9-9528-4a6f-83b2-cae668034a5a",
   "metadata": {},
   "outputs": [
    {
     "data": {
      "text/plain": [
       "(array([3, 4], dtype=int64),)"
      ]
     },
     "execution_count": 69,
     "metadata": {},
     "output_type": "execute_result"
    }
   ],
   "source": [
    "np.where(arr > 3)"
   ]
  },
  {
   "cell_type": "code",
   "execution_count": 71,
   "id": "d6694802-98ed-4a1d-b218-dc76fbd2b973",
   "metadata": {},
   "outputs": [
    {
     "data": {
      "text/plain": [
       "(array([0, 1], dtype=int64),)"
      ]
     },
     "execution_count": 71,
     "metadata": {},
     "output_type": "execute_result"
    }
   ],
   "source": [
    "np.where(arr<=2)"
   ]
  },
  {
   "cell_type": "code",
   "execution_count": 73,
   "id": "113a0af7-f95d-418f-9357-c8b44d39271c",
   "metadata": {},
   "outputs": [
    {
     "data": {
      "text/plain": [
       "(array([], dtype=int64),)"
      ]
     },
     "execution_count": 73,
     "metadata": {},
     "output_type": "execute_result"
    }
   ],
   "source": [
    "np.where(arr>5)"
   ]
  },
  {
   "cell_type": "code",
   "execution_count": 75,
   "id": "1f168fca-11c5-4c08-8d43-cae3b40d5a2b",
   "metadata": {},
   "outputs": [
    {
     "name": "stdout",
     "output_type": "stream",
     "text": [
      "Where > 3: (array([3, 4], dtype=int64),)\n"
     ]
    }
   ],
   "source": [
    "print(\"Where > 3:\", np.where(arr > 3))"
   ]
  },
  {
   "cell_type": "code",
   "execution_count": 77,
   "id": "d7bf1cd8-98f9-4363-9279-fa1fdbc52860",
   "metadata": {},
   "outputs": [],
   "source": [
    "arr = np.array([1, 2, 3, 4, 5])"
   ]
  },
  {
   "cell_type": "code",
   "execution_count": 79,
   "id": "64274f11-1b90-4f4f-9bf8-d04ecc96484d",
   "metadata": {},
   "outputs": [
    {
     "data": {
      "text/plain": [
       "4"
      ]
     },
     "execution_count": 79,
     "metadata": {},
     "output_type": "execute_result"
    }
   ],
   "source": [
    "np.argmax(arr)"
   ]
  },
  {
   "cell_type": "code",
   "execution_count": 81,
   "id": "4e58a9ba-5bae-4e58-8d63-76c6b39121ce",
   "metadata": {},
   "outputs": [
    {
     "data": {
      "text/plain": [
       "0"
      ]
     },
     "execution_count": 81,
     "metadata": {},
     "output_type": "execute_result"
    }
   ],
   "source": [
    "np.argmin(arr)"
   ]
  },
  {
   "cell_type": "code",
   "execution_count": 83,
   "id": "580c3973-fe2c-444d-beca-a369965314e7",
   "metadata": {},
   "outputs": [
    {
     "name": "stdout",
     "output_type": "stream",
     "text": [
      "Max Index: 4\n"
     ]
    }
   ],
   "source": [
    "print(\"Max Index:\", np.argmax(arr))"
   ]
  },
  {
   "cell_type": "code",
   "execution_count": 85,
   "id": "954048f9-62d9-4289-9b87-0a15add1deb5",
   "metadata": {},
   "outputs": [
    {
     "name": "stdout",
     "output_type": "stream",
     "text": [
      "Min Index: 0\n"
     ]
    }
   ],
   "source": [
    "print(\"Min Index:\", np.argmin(arr))"
   ]
  },
  {
   "cell_type": "code",
   "execution_count": 87,
   "id": "7c3c15e7-5a38-45e9-9a78-7520bd3b9ad4",
   "metadata": {},
   "outputs": [],
   "source": [
    "sorted_arr = np.array([1, 3, 5 , 7 ])"
   ]
  },
  {
   "cell_type": "code",
   "execution_count": 89,
   "id": "70e9aa24-3cc4-4375-b582-1908b1b78676",
   "metadata": {},
   "outputs": [
    {
     "data": {
      "text/plain": [
       "3"
      ]
     },
     "execution_count": 89,
     "metadata": {},
     "output_type": "execute_result"
    }
   ],
   "source": [
    "np.searchsorted(sorted_arr, 6)"
   ]
  },
  {
   "cell_type": "code",
   "execution_count": 91,
   "id": "6db622b3-2ca6-4ff3-9f75-0fdcd20a8ccd",
   "metadata": {},
   "outputs": [
    {
     "data": {
      "text/plain": [
       "4"
      ]
     },
     "execution_count": 91,
     "metadata": {},
     "output_type": "execute_result"
    }
   ],
   "source": [
    "np.searchsorted(sorted_arr, 100)"
   ]
  },
  {
   "cell_type": "code",
   "execution_count": 93,
   "id": "892c48e7-ec94-4e68-809d-de0b70401ec3",
   "metadata": {},
   "outputs": [
    {
     "data": {
      "text/plain": [
       "0"
      ]
     },
     "execution_count": 93,
     "metadata": {},
     "output_type": "execute_result"
    }
   ],
   "source": [
    "np.searchsorted(sorted_arr, 0)"
   ]
  },
  {
   "cell_type": "code",
   "execution_count": 95,
   "id": "e12a34c3-e85d-43fc-9a12-b3bb30499bda",
   "metadata": {},
   "outputs": [
    {
     "name": "stdout",
     "output_type": "stream",
     "text": [
      "Insert 6 at index: 3\n"
     ]
    }
   ],
   "source": [
    "\n",
    "print(\"Insert 6 at index:\", np.searchsorted(sorted_arr, 6))"
   ]
  },
  {
   "cell_type": "code",
   "execution_count": 97,
   "id": "0cc47481-1416-4b62-a7a5-020a3179d0d3",
   "metadata": {},
   "outputs": [],
   "source": [
    "arr = np.array([1, 2, 3, 4, 5])"
   ]
  },
  {
   "cell_type": "code",
   "execution_count": 99,
   "id": "e2dc8526-ed89-49d9-8571-edd2dbbcd699",
   "metadata": {},
   "outputs": [
    {
     "name": "stdout",
     "output_type": "stream",
     "text": [
      "Extract > 3: [4 5]\n"
     ]
    }
   ],
   "source": [
    "print(\"Extract > 3:\", np.extract(arr > 3, arr))"
   ]
  },
  {
   "cell_type": "markdown",
   "id": "ec3d1350-ae6b-4b31-be00-d67de97319ed",
   "metadata": {},
   "source": [
    "\n",
    "###  Transposing Arrays\n",
    "\n",
    "Transposing means flipping an array’s rows and columns.  \n",
    "This is essential for matrix operations and organizing data."
   ]
  },
  {
   "cell_type": "code",
   "execution_count": null,
   "id": "90a16a04-a275-4c70-91fd-4159d90ead43",
   "metadata": {},
   "outputs": [],
   "source": []
  },
  {
   "cell_type": "code",
   "execution_count": 10,
   "id": "dede9c69-3085-425d-931f-5833dc6686ae",
   "metadata": {},
   "outputs": [
    {
     "name": "stdout",
     "output_type": "stream",
     "text": [
      "Original:\n",
      " [[1 2 3]\n",
      " [4 5 6]]\n",
      "Transposed:\n",
      " [[1 4]\n",
      " [2 5]\n",
      " [3 6]]\n"
     ]
    }
   ],
   "source": [
    "import numpy as np\n",
    "matrix = np.array([[1, 2, 3], [4, 5, 6]])\n",
    "print(\"Original:\\n\", matrix)\n",
    "print(\"Transposed:\\n\", np.transpose(matrix))\n"
   ]
  },
  {
   "cell_type": "code",
   "execution_count": 14,
   "id": "6b402547-2663-4efe-abb1-a66095bff579",
   "metadata": {},
   "outputs": [],
   "source": [
    "# mean calculation\n",
    "arr = np.array([1, 2, 3, 4, 5])\n"
   ]
  },
  {
   "cell_type": "code",
   "execution_count": 16,
   "id": "9e463457-a314-48dd-b87c-198a7c917338",
   "metadata": {},
   "outputs": [
    {
     "name": "stdout",
     "output_type": "stream",
     "text": [
      "Mean value: 3.0\n"
     ]
    }
   ],
   "source": [
    "print(\"Mean value:\", np.mean(arr))"
   ]
  },
  {
   "cell_type": "markdown",
   "id": "93c63776-9913-4ef4-8ead-c7ac6071701b",
   "metadata": {},
   "source": [
    "## splitting arrays"
   ]
  },
  {
   "cell_type": "code",
   "execution_count": 19,
   "id": "b716e16b-6789-4f78-9ad4-554d834513fb",
   "metadata": {},
   "outputs": [
    {
     "data": {
      "text/plain": [
       "[array([1, 2]), array([3, 4]), array([5, 6])]"
      ]
     },
     "execution_count": 19,
     "metadata": {},
     "output_type": "execute_result"
    }
   ],
   "source": [
    "# into equal parts\n",
    "arr = np.array([1,  2, 3, 4, 5, 6])\n",
    "\n",
    "\n",
    "\n",
    "np.split(arr, 3)"
   ]
  },
  {
   "cell_type": "code",
   "execution_count": 21,
   "id": "8c439529-db17-4c4e-affc-5b9ca4a5a3bc",
   "metadata": {},
   "outputs": [
    {
     "data": {
      "text/plain": [
       "[array([1]), array([2, 3, 4]), array([5, 6])]"
      ]
     },
     "execution_count": 21,
     "metadata": {},
     "output_type": "execute_result"
    }
   ],
   "source": [
    "# Split at specific positions\n",
    "np.split(arr, [1, 4])"
   ]
  },
  {
   "cell_type": "code",
   "execution_count": 23,
   "id": "48b28159-6da4-4c31-a8e8-6790619f5765",
   "metadata": {},
   "outputs": [
    {
     "name": "stdout",
     "output_type": "stream",
     "text": [
      "Split at Indices:\n"
     ]
    }
   ],
   "source": [
    "print(\"Split at Indices:\", ) # Split at specific positions "
   ]
  },
  {
   "cell_type": "code",
   "execution_count": 27,
   "id": "29c51250-5983-4403-baa0-f6352a92be5b",
   "metadata": {},
   "outputs": [
    {
     "ename": "SyntaxError",
     "evalue": "invalid syntax (337996270.py, line 1)",
     "output_type": "error",
     "traceback": [
      "\u001b[1;36m  Cell \u001b[1;32mIn[27], line 1\u001b[1;36m\u001b[0m\n\u001b[1;33m    matrix = np.array([[1,| 2,| 3],\u001b[0m\n\u001b[1;37m                          ^\u001b[0m\n\u001b[1;31mSyntaxError\u001b[0m\u001b[1;31m:\u001b[0m invalid syntax\n"
     ]
    }
   ],
   "source": [
    "matrix = np.array([[1,| 2,| 3], \n",
    "                 \n",
    "                   [4,| 5,| 6]])"
   ]
  },
  {
   "cell_type": "code",
   "execution_count": 29,
   "id": "60dc0dad-4362-486c-978d-8db2526fc663",
   "metadata": {},
   "outputs": [
    {
     "data": {
      "text/plain": [
       "[array([[1],\n",
       "        [4]]),\n",
       " array([[2],\n",
       "        [5]]),\n",
       " array([[3],\n",
       "        [6]])]"
      ]
     },
     "execution_count": 29,
     "metadata": {},
     "output_type": "execute_result"
    }
   ],
   "source": [
    "np.split(matrix, 3, axis=1)   #→ Split columns"
   ]
  },
  {
   "cell_type": "code",
   "execution_count": 31,
   "id": "48cfc978-855e-4fb0-92eb-64d9f4639a4a",
   "metadata": {},
   "outputs": [
    {
     "data": {
      "text/plain": [
       "[[1, 2, 3], [4, 5, 6]]"
      ]
     },
     "execution_count": 31,
     "metadata": {},
     "output_type": "execute_result"
    }
   ],
   "source": [
    "[[1, 2, 3],\n",
    " [4, 5, 6]]"
   ]
  },
  {
   "cell_type": "code",
   "execution_count": 33,
   "id": "055c7938-214d-4b06-bd5e-221293b55e24",
   "metadata": {},
   "outputs": [
    {
     "data": {
      "text/plain": [
       "[[[1], [4]], [[2], [5]], [[3], [6]]]"
      ]
     },
     "execution_count": 33,
     "metadata": {},
     "output_type": "execute_result"
    }
   ],
   "source": [
    "[ [ [1], [4] ],\n",
    " \n",
    "  [ [2], [5] ],\n",
    " \n",
    "  [ [3], [6] ] ]\n"
   ]
  },
  {
   "cell_type": "code",
   "execution_count": 35,
   "id": "05246a00-b3df-49c1-9b33-fe71dc99e921",
   "metadata": {},
   "outputs": [
    {
     "data": {
      "text/plain": [
       "[array([[1, 2, 3]]), array([[4, 5, 6]])]"
      ]
     },
     "execution_count": 35,
     "metadata": {},
     "output_type": "execute_result"
    }
   ],
   "source": [
    "np.split(matrix, 2, axis=0) "
   ]
  },
  {
   "cell_type": "code",
   "execution_count": 37,
   "id": "79265755-3e08-4c6d-8425-59e0eec34519",
   "metadata": {},
   "outputs": [
    {
     "ename": "SyntaxError",
     "evalue": "invalid character '→' (U+2192) (588533033.py, line 6)",
     "output_type": "error",
     "traceback": [
      "\u001b[1;36m  Cell \u001b[1;32mIn[37], line 6\u001b[1;36m\u001b[0m\n\u001b[1;33m    →   [1, 2, 3]\u001b[0m\n\u001b[1;37m    ^\u001b[0m\n\u001b[1;31mSyntaxError\u001b[0m\u001b[1;31m:\u001b[0m invalid character '→' (U+2192)\n"
     ]
    }
   ],
   "source": [
    "Original Matrix:\n",
    "[ [1, 2, 3],\n",
    "  [4, 5, 6] ]\n",
    "\n",
    "Split along axis=0 (rows):\n",
    "→   [1, 2, 3]\n",
    "     ↓\n",
    "     [4, 5, 6]\n",
    "\n",
    "Result:\n",
    "[\n",
    " [[1, 2, 3]],\n",
    " [[4, 5, 6]]\n",
    "]\n"
   ]
  },
  {
   "cell_type": "code",
   "execution_count": 39,
   "id": "35969af4-f259-4ecb-9830-c888538e3ac2",
   "metadata": {},
   "outputs": [],
   "source": [
    "# sorting arrays\n",
    "\n",
    "arr = np.array([3, 1, 4, 2])\n"
   ]
  },
  {
   "cell_type": "code",
   "execution_count": 41,
   "id": "9b359628-6941-4def-98a1-30dce4913041",
   "metadata": {},
   "outputs": [
    {
     "name": "stdout",
     "output_type": "stream",
     "text": [
      "Sorted Copy: [1 2 3 4]\n"
     ]
    }
   ],
   "source": [
    "print(\"Sorted Copy:\", np.sort(arr))"
   ]
  },
  {
   "cell_type": "code",
   "execution_count": 43,
   "id": "770b144b-64cb-4862-b934-5b6277c1f8dc",
   "metadata": {},
   "outputs": [
    {
     "data": {
      "text/plain": [
       "array([3, 1, 4, 2])"
      ]
     },
     "execution_count": 43,
     "metadata": {},
     "output_type": "execute_result"
    }
   ],
   "source": [
    "arr"
   ]
  },
  {
   "cell_type": "code",
   "execution_count": 45,
   "id": "2cdaa082-f980-4d84-808a-e37b2c50212f",
   "metadata": {},
   "outputs": [],
   "source": [
    "arr.sort()"
   ]
  },
  {
   "cell_type": "code",
   "execution_count": 47,
   "id": "42f3fd84-a2e4-4824-8c87-994786e8048d",
   "metadata": {},
   "outputs": [
    {
     "data": {
      "text/plain": [
       "array([1, 2, 3, 4])"
      ]
     },
     "execution_count": 47,
     "metadata": {},
     "output_type": "execute_result"
    }
   ],
   "source": [
    "arr"
   ]
  },
  {
   "cell_type": "code",
   "execution_count": 49,
   "id": "4da50485-aaf8-4c8c-a96f-d9df8a664d13",
   "metadata": {},
   "outputs": [],
   "source": [
    "matrix = np.array([[3, 1, 2],\n",
    "                   [6, 5, 4]])"
   ]
  },
  {
   "cell_type": "code",
   "execution_count": 51,
   "id": "a6b29700-b921-4da1-96bc-838bf8827a19",
   "metadata": {},
   "outputs": [
    {
     "name": "stdout",
     "output_type": "stream",
     "text": [
      "Sorted Rows:\n",
      " [[1 2 3]\n",
      " [4 5 6]]\n"
     ]
    }
   ],
   "source": [
    "\n",
    "print(\"Sorted Rows:\\n\", np.sort(matrix, axis=1))"
   ]
  },
  {
   "cell_type": "code",
   "execution_count": 55,
   "id": "b26eaa45-690d-418d-9032-4fbd461e59d3",
   "metadata": {},
   "outputs": [
    {
     "name": "stdout",
     "output_type": "stream",
     "text": [
      "Sorted columns:\n",
      " [[3 1 2]\n",
      " [6 5 4]]\n"
     ]
    }
   ],
   "source": [
    "print(\"Sorted columns:\\n\", np.sort(matrix, axis=0))"
   ]
  },
  {
   "cell_type": "markdown",
   "id": "be34132b-8707-4027-b0da-67fad4d914d9",
   "metadata": {},
   "source": [
    "## joining arrays"
   ]
  },
  {
   "cell_type": "markdown",
   "id": "15c7d202-f46f-4c5c-98c1-71113a28d3bc",
   "metadata": {},
   "source": [
    "vertical join "
   ]
  },
  {
   "cell_type": "code",
   "execution_count": 60,
   "id": "39b3d28f-0417-4601-b9d1-6a69deafc756",
   "metadata": {},
   "outputs": [],
   "source": [
    "arr1 = np.array([[1, 2], [3, 4]])\n",
    "arr2 = np.array([[5, 6]])"
   ]
  },
  {
   "cell_type": "code",
   "execution_count": 62,
   "id": "36a5cd02-3019-4855-8f20-d0cbcae3133f",
   "metadata": {},
   "outputs": [
    {
     "name": "stdout",
     "output_type": "stream",
     "text": [
      "Vertical Join:\n",
      " [[1 2]\n",
      " [3 4]\n",
      " [5 6]]\n"
     ]
    }
   ],
   "source": [
    "print(\"Vertical Join:\\n\", np.concatenate((arr1, arr2), axis=0))"
   ]
  },
  {
   "cell_type": "markdown",
   "id": "159d0f36-56d7-4e17-8d29-68426c5aea85",
   "metadata": {},
   "source": [
    "horizontal"
   ]
  },
  {
   "cell_type": "code",
   "execution_count": 65,
   "id": "99f9d78f-642e-45fc-bee3-28a7afcd8d96",
   "metadata": {},
   "outputs": [],
   "source": [
    "a = np.array([1, 2])\n",
    "b = np.array([3, 4])"
   ]
  },
  {
   "cell_type": "code",
   "execution_count": 67,
   "id": "38132971-7375-4f83-9394-b9a20a513e7b",
   "metadata": {},
   "outputs": [
    {
     "name": "stdout",
     "output_type": "stream",
     "text": [
      "Horizontal Join:\n",
      " [1 2 3 4]\n"
     ]
    }
   ],
   "source": [
    "print(\"Horizontal Join:\\n\", np.hstack((a, b)))"
   ]
  },
  {
   "cell_type": "code",
   "execution_count": 69,
   "id": "6ce87de7-a9df-4349-9685-185b843fb5c4",
   "metadata": {},
   "outputs": [],
   "source": [
    "arr3 = np.array([1, 2, 3])\n",
    "arr4 = np.array([4, 5, 6])"
   ]
  },
  {
   "cell_type": "code",
   "execution_count": 71,
   "id": "cefaf66f-2b93-4324-acc5-2e4465f0cdbd",
   "metadata": {},
   "outputs": [
    {
     "name": "stdout",
     "output_type": "stream",
     "text": [
      "Vertical Stack:\n",
      " [[1 2 3]\n",
      " [4 5 6]]\n"
     ]
    }
   ],
   "source": [
    "print(\"Vertical Stack:\\n\", np.vstack((arr3, arr4)))"
   ]
  },
  {
   "cell_type": "code",
   "execution_count": 73,
   "id": "b1c1f879-ed41-491b-bf1d-b5b9d703891a",
   "metadata": {},
   "outputs": [],
   "source": [
    "### Stacks arrays vertically (row-wise)### Stacks arrays vertically (row-wise)"
   ]
  },
  {
   "cell_type": "markdown",
   "id": "31239e91-7680-4c51-a030-aaa35068d122",
   "metadata": {},
   "source": [
    "## filtering arrays"
   ]
  },
  {
   "cell_type": "code",
   "execution_count": 76,
   "id": "0a01ac35-f9fb-4b1d-870c-b4bcc47aea7e",
   "metadata": {},
   "outputs": [],
   "source": [
    "arr = np.array([1, 2, 3, 4, 5, 6])"
   ]
  },
  {
   "cell_type": "code",
   "execution_count": 78,
   "id": "64e9af96-eb88-49da-9a3e-f4dbb17df190",
   "metadata": {},
   "outputs": [
    {
     "name": "stdout",
     "output_type": "stream",
     "text": [
      "Filtered > 3: [4 5 6]\n"
     ]
    }
   ],
   "source": [
    "# Filter values > 3\n",
    "print(\"Filtered > 3:\", arr[arr > 3])"
   ]
  },
  {
   "cell_type": "code",
   "execution_count": 80,
   "id": "811220a5-9c3f-469e-958f-309e40fdb0cc",
   "metadata": {},
   "outputs": [
    {
     "name": "stdout",
     "output_type": "stream",
     "text": [
      "Between 2 and 6: [3 4 5]\n"
     ]
    }
   ],
   "source": [
    "# Filter values between 2 and 6\n",
    "print(\"Between 2 and 6:\", arr[(arr > 2) & (arr < 6)])"
   ]
  },
  {
   "cell_type": "code",
   "execution_count": null,
   "id": "54cf2e55-4d16-4010-aba6-75647e92fd8e",
   "metadata": {},
   "outputs": [],
   "source": []
  }
 ],
 "metadata": {
  "kernelspec": {
   "display_name": "Python 3 (ipykernel)",
   "language": "python",
   "name": "python3"
  },
  "language_info": {
   "codemirror_mode": {
    "name": "ipython",
    "version": 3
   },
   "file_extension": ".py",
   "mimetype": "text/x-python",
   "name": "python",
   "nbconvert_exporter": "python",
   "pygments_lexer": "ipython3",
   "version": "3.12.7"
  }
 },
 "nbformat": 4,
 "nbformat_minor": 5
}
