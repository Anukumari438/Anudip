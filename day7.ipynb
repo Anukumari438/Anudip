{
 "cells": [
  {
   "cell_type": "markdown",
   "id": "87c43419-aa21-4d46-a5bf-53905bc20ce4",
   "metadata": {},
   "source": [
    "## Nested Function"
   ]
  },
  {
   "cell_type": "markdown",
   "id": "ddfe2a7e-d375-4170-ab17-2ab9cb8da69c",
   "metadata": {},
   "source": [
    "A **nested function** is a function defined inside another function. The inner function can access variables and parameters of the outer function, creating an enclosed environment known as a \"closure.\" Nested functions are useful for encapsulating functionality and creating more modular code."
   ]
  },
  {
   "cell_type": "code",
   "execution_count": 6,
   "id": "118e891e-1c4e-4dbe-bd06-63fa23d3531f",
   "metadata": {},
   "outputs": [
    {
     "name": "stdout",
     "output_type": "stream",
     "text": [
      "first\n",
      "hello\n"
     ]
    }
   ],
   "source": [
    "def func12():\n",
    "    print(\"first\")\n",
    "    def func13():\n",
    "        print(\"hello\")\n",
    "    func13()\n",
    "func12()\n",
    "        "
   ]
  },
  {
   "cell_type": "code",
   "execution_count": 8,
   "id": "e4ede704-c0b3-44ee-818c-b3bf332bc4f4",
   "metadata": {},
   "outputs": [
    {
     "name": "stdout",
     "output_type": "stream",
     "text": [
      "first\n"
     ]
    }
   ],
   "source": [
    "def func12():\n",
    "    print(\"first\")\n",
    "func12()\n"
   ]
  },
  {
   "cell_type": "code",
   "execution_count": 10,
   "id": "1b798c39-c679-4218-a679-67f587772a12",
   "metadata": {},
   "outputs": [
    {
     "name": "stdout",
     "output_type": "stream",
     "text": [
      "my name is raj\n",
      "hello world\n"
     ]
    }
   ],
   "source": [
    "def outer():\n",
    "    def inner():\n",
    "        print(\"hello world\")\n",
    "    print(\"my name is raj\")\n",
    "    inner()\n",
    "    \n",
    "outer()"
   ]
  },
  {
   "cell_type": "code",
   "execution_count": 12,
   "id": "bb3e26d9-bed8-4772-ae25-191d0acca5dd",
   "metadata": {},
   "outputs": [
    {
     "name": "stdout",
     "output_type": "stream",
     "text": [
      "Function 2\n",
      "Function 1\n",
      "hello\n"
     ]
    }
   ],
   "source": [
    "def disp(): \n",
    "    \n",
    "\tdef show():                         #5\n",
    "\t\tprint(\"Function 1\")         #6\n",
    "\tprint(\"Function 2\")              #3\n",
    "\tshow()                              #4\n",
    "disp() \n",
    "\n",
    "\n",
    "\n",
    "#executio number  1\n",
    "print(\"hello\")"
   ]
  },
  {
   "cell_type": "code",
   "execution_count": 14,
   "id": "d51c4a10-b79a-47f2-9a63-f79a817373cb",
   "metadata": {},
   "outputs": [
    {
     "name": "stdout",
     "output_type": "stream",
     "text": [
      "Inner function accessing: Outer\n"
     ]
    }
   ],
   "source": [
    "def outer_function():\n",
    "    # Outer function code\n",
    "    outer_variable = \"Outer\"\n",
    "\n",
    "    def inner_function():\n",
    "        # Inner function code\n",
    "        print(\"Inner function accessing:\", outer_variable)\n",
    "\n",
    "    # Calling the inner function inside the outer function\n",
    "    inner_function()\n",
    "\n",
    "# Calling the outer function\n",
    "outer_function()"
   ]
  },
  {
   "cell_type": "code",
   "execution_count": 16,
   "id": "3bcc3604-832c-4ff5-a75d-f2f196fa92a7",
   "metadata": {},
   "outputs": [
    {
     "name": "stdout",
     "output_type": "stream",
     "text": [
      "Function 1\n",
      "Function 2\n",
      "out of the function1\n",
      "Out of the function2\n"
     ]
    }
   ],
   "source": [
    "def disp():                   #2\n",
    "    def show():                         #5\n",
    "        print(\"Function 2\")         #6\n",
    "    print(\"Function 1\")              #3\n",
    "    show()                              #4   \n",
    "    print(\"out of the function1\")        #7\n",
    "disp()                   #executio number  1\n",
    "print(\"Out of the function2\") "
   ]
  },
  {
   "cell_type": "code",
   "execution_count": 18,
   "id": "4162de51-4653-45c5-ae5f-db047c25a88d",
   "metadata": {},
   "outputs": [
    {
     "name": "stdout",
     "output_type": "stream",
     "text": [
      "Show Function This is arguement\n"
     ]
    }
   ],
   "source": [
    "\n",
    "def disp(st):                        #this is parameter\n",
    "\tdef show():\n",
    "\t\treturn \"Show Function \"\n",
    "\tresult = show() + st \n",
    "\treturn result\n",
    "print(disp(\"This is arguement\"))  "
   ]
  },
  {
   "cell_type": "code",
   "execution_count": 20,
   "id": "3cf1ca71-79ce-44f6-a66b-841d2b30fb4f",
   "metadata": {},
   "outputs": [
    {
     "name": "stdout",
     "output_type": "stream",
     "text": [
      "Hello, World!\n"
     ]
    }
   ],
   "source": [
    "# Deleting a Function\n",
    "def my_function():\n",
    "    print(\"Hello, World!\")\n",
    "\n",
    "# Calling the function\n",
    "my_function()\n",
    "\n",
    "del my_function"
   ]
  },
  {
   "cell_type": "code",
   "execution_count": 22,
   "id": "5e4e1d7b-270a-4cca-991c-06d811a06993",
   "metadata": {},
   "outputs": [
    {
     "ename": "NameError",
     "evalue": "name 'my_function' is not defined",
     "output_type": "error",
     "traceback": [
      "\u001b[1;31m---------------------------------------------------------------------------\u001b[0m",
      "\u001b[1;31mNameError\u001b[0m                                 Traceback (most recent call last)",
      "Cell \u001b[1;32mIn[22], line 1\u001b[0m\n\u001b[1;32m----> 1\u001b[0m my_function()\n",
      "\u001b[1;31mNameError\u001b[0m: name 'my_function' is not defined"
     ]
    }
   ],
   "source": [
    "my_function()"
   ]
  },
  {
   "cell_type": "code",
   "execution_count": 24,
   "id": "3e9777c7-22fc-4d14-bfb6-c8d00268b101",
   "metadata": {},
   "outputs": [
    {
     "name": "stdout",
     "output_type": "stream",
     "text": [
      "Hello!\n"
     ]
    }
   ],
   "source": [
    "def greet():\n",
    "    print(\"Hello!\")\n",
    "\n",
    "# Calling the function\n",
    "greet() "
   ]
  },
  {
   "cell_type": "code",
   "execution_count": 26,
   "id": "20b61632-a2f0-43bc-92e2-766c828e0767",
   "metadata": {},
   "outputs": [],
   "source": [
    "del greet"
   ]
  },
  {
   "cell_type": "code",
   "execution_count": 28,
   "id": "b04a2e51-4f99-47c5-9bac-0088f237185d",
   "metadata": {},
   "outputs": [
    {
     "ename": "NameError",
     "evalue": "name 'greet' is not defined",
     "output_type": "error",
     "traceback": [
      "\u001b[1;31m---------------------------------------------------------------------------\u001b[0m",
      "\u001b[1;31mNameError\u001b[0m                                 Traceback (most recent call last)",
      "Cell \u001b[1;32mIn[28], line 1\u001b[0m\n\u001b[1;32m----> 1\u001b[0m greet()\n",
      "\u001b[1;31mNameError\u001b[0m: name 'greet' is not defined"
     ]
    }
   ],
   "source": [
    "greet()"
   ]
  },
  {
   "cell_type": "code",
   "execution_count": 30,
   "id": "ee6bf8c0-7c8c-4602-af85-e12b2166cbbd",
   "metadata": {},
   "outputs": [],
   "source": [
    "def func():\n",
    "    \"klfasdf\"\n",
    "func()"
   ]
  },
  {
   "cell_type": "markdown",
   "id": "0ee56fad-45c5-498d-ad36-0293bce12660",
   "metadata": {},
   "source": [
    "### Lambda Function in Python\n",
    "\n",
    "A **lambda function** in Python is a small, anonymous function defined using the `lambda` keyword. It can take any number of arguments, but can only have one expression. The result of this expression is automatically returned without the need for a `return` statement. Lambda functions are useful for short, simple operations where defining a full function might be unnecessary."
   ]
  },
  {
   "cell_type": "code",
   "execution_count": 35,
   "id": "6878cbf7-f5db-43a5-9ad4-1c5719980e1e",
   "metadata": {},
   "outputs": [],
   "source": [
    "def func1 (a):\n",
    "    b = a+10\n",
    "    return b"
   ]
  },
  {
   "cell_type": "code",
   "execution_count": 37,
   "id": "193b30d2-b988-401e-b21e-01c72b6296df",
   "metadata": {},
   "outputs": [],
   "source": [
    "ab = func1(20)"
   ]
  },
  {
   "cell_type": "code",
   "execution_count": 39,
   "id": "4adb64ae-0ea1-4016-89ab-a44a7277bf05",
   "metadata": {},
   "outputs": [
    {
     "data": {
      "text/plain": [
       "30"
      ]
     },
     "execution_count": 39,
     "metadata": {},
     "output_type": "execute_result"
    }
   ],
   "source": [
    "ab"
   ]
  },
  {
   "cell_type": "code",
   "execution_count": 41,
   "id": "e75ef565-0b2c-4617-9fc7-8695c574ad7f",
   "metadata": {},
   "outputs": [],
   "source": [
    "ba = lambda a,b,c : a+b+c"
   ]
  },
  {
   "cell_type": "code",
   "execution_count": 43,
   "id": "37d596a4-9737-4d05-aa58-cafa8df0f615",
   "metadata": {},
   "outputs": [
    {
     "data": {
      "text/plain": [
       "90"
      ]
     },
     "execution_count": 43,
     "metadata": {},
     "output_type": "execute_result"
    }
   ],
   "source": [
    "ba(20,30,40)"
   ]
  },
  {
   "cell_type": "code",
   "execution_count": 45,
   "id": "e6c66a21-24f3-43b3-8b43-d773e0d9ae38",
   "metadata": {},
   "outputs": [],
   "source": [
    "a = lambda c : c*10"
   ]
  },
  {
   "cell_type": "code",
   "execution_count": 47,
   "id": "c3b3f38a-d3c3-4200-936d-e9118e4de236",
   "metadata": {},
   "outputs": [
    {
     "data": {
      "text/plain": [
       "20"
      ]
     },
     "execution_count": 47,
     "metadata": {},
     "output_type": "execute_result"
    }
   ],
   "source": [
    "a(2)"
   ]
  },
  {
   "cell_type": "code",
   "execution_count": 49,
   "id": "e82c2682-5af5-4554-a094-2f800f6a5658",
   "metadata": {},
   "outputs": [
    {
     "name": "stdout",
     "output_type": "stream",
     "text": [
      "15\n"
     ]
    }
   ],
   "source": [
    "add_10 = lambda x: x + 10\n",
    "print(add_10(5)) "
   ]
  },
  {
   "cell_type": "code",
   "execution_count": 51,
   "id": "d1bfbbad-a415-4384-95e6-382f87b1b510",
   "metadata": {},
   "outputs": [
    {
     "name": "stdout",
     "output_type": "stream",
     "text": [
      "12\n"
     ]
    }
   ],
   "source": [
    "multiply = lambda a, b: a * b\n",
    "print(multiply(3, 4))"
   ]
  },
  {
   "cell_type": "code",
   "execution_count": 53,
   "id": "d29ab549-50f0-4829-b7f9-320e60a45873",
   "metadata": {},
   "outputs": [
    {
     "name": "stdout",
     "output_type": "stream",
     "text": [
      "[2, 4, 6, 8, 10]\n"
     ]
    }
   ],
   "source": [
    "numbers = [1, 2, 3, 4, 5]\n",
    "doubled = list(map(lambda x: x * 2, numbers))\n",
    "print(doubled) "
   ]
  },
  {
   "cell_type": "code",
   "execution_count": 55,
   "id": "c8e38d92-df1d-4a88-aeb8-53f18dd1af29",
   "metadata": {},
   "outputs": [
    {
     "name": "stdout",
     "output_type": "stream",
     "text": [
      "[2, 4]\n"
     ]
    }
   ],
   "source": [
    "numbers = [1, 2, 3, 4, 5]\n",
    "evens = list(filter(lambda x: x % 2 == 0, numbers))\n",
    "print(evens)"
   ]
  },
  {
   "cell_type": "code",
   "execution_count": 57,
   "id": "f73d612e-eb7d-4fca-a38f-44dd909c08b0",
   "metadata": {},
   "outputs": [
    {
     "name": "stdout",
     "output_type": "stream",
     "text": [
      "15\n"
     ]
    }
   ],
   "source": [
    "from functools import reduce\n",
    "\n",
    "# Sum all numbers in the list\n",
    "numbers = [1, 2, 3, 4, 5]\n",
    "total = reduce(lambda x, y: x + y, numbers)\n",
    "print(total)"
   ]
  },
  {
   "cell_type": "code",
   "execution_count": 59,
   "id": "549d09eb-a49b-4f32-b371-38cb52fbb21b",
   "metadata": {},
   "outputs": [
    {
     "data": {
      "text/plain": [
       "[3, 4, 5, 6, 7]"
      ]
     },
     "execution_count": 59,
     "metadata": {},
     "output_type": "execute_result"
    }
   ],
   "source": [
    "numbers = [1, 2, 3, 4, 5]\n",
    "list(map(lambda a :a+2,numbers))\n"
   ]
  },
  {
   "cell_type": "code",
   "execution_count": 61,
   "id": "f9efe3f4-bd03-4249-90af-37ad4912d588",
   "metadata": {},
   "outputs": [
    {
     "name": "stdout",
     "output_type": "stream",
     "text": [
      "[1, 4, 9, 16, 25]\n"
     ]
    }
   ],
   "source": [
    "numbers = [1, 2, 3, 4, 5]\n",
    "squares = list(map(lambda x: x ** 2, numbers))\n",
    "print(squares)"
   ]
  },
  {
   "cell_type": "code",
   "execution_count": 63,
   "id": "3327e65a-1c3f-41ef-9cca-56e547c5f72d",
   "metadata": {},
   "outputs": [],
   "source": [
    "def square(x):\n",
    "    return x ** 2"
   ]
  },
  {
   "cell_type": "code",
   "execution_count": 65,
   "id": "8322ce4c-c8a8-43b6-ab9d-0876af021acd",
   "metadata": {},
   "outputs": [],
   "source": [
    "num = [1,2,3,4,5]"
   ]
  },
  {
   "cell_type": "code",
   "execution_count": 67,
   "id": "03751479-9787-4ed8-a1a7-eec8200a113d",
   "metadata": {},
   "outputs": [
    {
     "data": {
      "text/plain": [
       "[1, 4, 9, 16, 25]"
      ]
     },
     "execution_count": 67,
     "metadata": {},
     "output_type": "execute_result"
    }
   ],
   "source": [
    "list(map(square,num))"
   ]
  },
  {
   "cell_type": "code",
   "execution_count": 69,
   "id": "a60b0b31-6f07-4c57-81c5-21093b53a3e3",
   "metadata": {},
   "outputs": [],
   "source": [
    "num2 = (1,5,4,8)"
   ]
  },
  {
   "cell_type": "code",
   "execution_count": 71,
   "id": "4cc2107c-022f-47c3-b714-56442d3fe363",
   "metadata": {},
   "outputs": [
    {
     "data": {
      "text/plain": [
       "(1, 25, 16, 64)"
      ]
     },
     "execution_count": 71,
     "metadata": {},
     "output_type": "execute_result"
    }
   ],
   "source": [
    "tuple(map(square,num2))"
   ]
  },
  {
   "cell_type": "code",
   "execution_count": 73,
   "id": "221ccb6c-94b4-4ed2-b14f-5659fc3be720",
   "metadata": {},
   "outputs": [
    {
     "name": "stdout",
     "output_type": "stream",
     "text": [
      "[1, 4, 9, 16, 25]\n"
     ]
    }
   ],
   "source": [
    "def square(x):\n",
    "    return x ** 2\n",
    "\n",
    "numbers = [1, 2, 3, 4, 5]\n",
    "squares = list(map(square, numbers))\n",
    "print(squares)"
   ]
  },
  {
   "cell_type": "code",
   "execution_count": 75,
   "id": "db1b2e74-60fc-4459-8c61-955cfcb739ca",
   "metadata": {},
   "outputs": [
    {
     "name": "stdout",
     "output_type": "stream",
     "text": [
      "[5, 7, 9]\n"
     ]
    }
   ],
   "source": [
    "# Adding corresponding elements of two lists\n",
    "numbers1 = [1, 2, 3]\n",
    "numbers2 = [4, 5, 6]\n",
    "sum_result = list(map(lambda x, y: x + y, numbers1, numbers2))\n",
    "print(sum_result)"
   ]
  },
  {
   "cell_type": "code",
   "execution_count": 77,
   "id": "e0603ba5-c73f-402e-92a9-2269ef7b0172",
   "metadata": {},
   "outputs": [
    {
     "name": "stdout",
     "output_type": "stream",
     "text": [
      "(-1, -2, -3, -4)\n"
     ]
    }
   ],
   "source": [
    "numbers_tuple = (1, 2, 3, 4)\n",
    "negatives = tuple(map(lambda x: -x, numbers_tuple))\n",
    "print(negatives)"
   ]
  },
  {
   "cell_type": "code",
   "execution_count": 79,
   "id": "495122d2-c4cf-45ca-b298-70b475388267",
   "metadata": {},
   "outputs": [
    {
     "name": "stdout",
     "output_type": "stream",
     "text": [
      "['H', 'E', 'L', 'L', 'O']\n"
     ]
    }
   ],
   "source": [
    "text = \"hello\"\n",
    "uppercase_text = list(map(str.upper, text))\n",
    "print(uppercase_text)"
   ]
  },
  {
   "cell_type": "code",
   "execution_count": 81,
   "id": "1906342f-6b00-464c-9d6c-97d1f162b7bb",
   "metadata": {},
   "outputs": [
    {
     "name": "stdout",
     "output_type": "stream",
     "text": [
      "[None, 4, None, 8, None]\n"
     ]
    }
   ],
   "source": [
    "numbers = [1, 2, 3, 4, 5]\n",
    "doubled_evens = list(map(lambda x: x * 2 if x % 2 == 0 else None, numbers))\n",
    "print(doubled_evens)"
   ]
  },
  {
   "cell_type": "code",
   "execution_count": 83,
   "id": "4d5ede03-9222-484a-9892-c7738805ec63",
   "metadata": {},
   "outputs": [
    {
     "name": "stdout",
     "output_type": "stream",
     "text": [
      "[5, 7]\n"
     ]
    }
   ],
   "source": [
    "numbers1 = [1, 2, 3]\n",
    "numbers2 = [4, 5]\n",
    "sum_result = list(map(lambda x, y: x + y, numbers1, numbers2))\n",
    "print(sum_result)  # Output: [5, 7]"
   ]
  },
  {
   "cell_type": "code",
   "execution_count": 85,
   "id": "9313b6c0-a5af-4955-9d92-8f6f6b6bdff7",
   "metadata": {},
   "outputs": [
    {
     "name": "stdout",
     "output_type": "stream",
     "text": [
      "<map object at 0x0000019113F5BB80>\n"
     ]
    }
   ],
   "source": [
    "numbers1 = [1, 2, 3]\n",
    "numbers2 = [4, 5, 6]\n",
    "sum_result = map(lambda x, y: x + y, numbers1, numbers2)\n",
    "\n",
    "# sum_result is a map object (iterator), and you can't directly see the result\n",
    "print(sum_result)"
   ]
  },
  {
   "cell_type": "code",
   "execution_count": 87,
   "id": "38806b71-fe7c-403c-b196-0ba4f07dcafd",
   "metadata": {},
   "outputs": [
    {
     "name": "stdout",
     "output_type": "stream",
     "text": [
      "[5, 7, 9]\n"
     ]
    }
   ],
   "source": [
    "numbers1 = [1, 2, 3]\n",
    "numbers2 = [4, 5, 6]\n",
    "sum_result = list(map(lambda x, y: x + y, numbers1, numbers2))\n",
    "\n",
    "# Now, sum_result contains a list with the summed values\n",
    "print(sum_result)"
   ]
  },
  {
   "cell_type": "code",
   "execution_count": 89,
   "id": "5582bfae-858c-4ebe-a99c-ec1a03aeb377",
   "metadata": {},
   "outputs": [],
   "source": [
    "numbers = [1, 2, 3, 4, 5, 6, 7, 8, 9, 10]"
   ]
  },
  {
   "cell_type": "code",
   "execution_count": 91,
   "id": "eaca3bc4-ffdb-4fd6-86ac-51224cd97dcb",
   "metadata": {},
   "outputs": [],
   "source": [
    "def even(n):\n",
    "    return n%2 == 0"
   ]
  },
  {
   "cell_type": "code",
   "execution_count": 93,
   "id": "81dc9d66-c35c-46c2-83cd-14481f89bc53",
   "metadata": {},
   "outputs": [
    {
     "data": {
      "text/plain": [
       "[2, 4, 6, 8, 10]"
      ]
     },
     "execution_count": 93,
     "metadata": {},
     "output_type": "execute_result"
    }
   ],
   "source": [
    "list(filter(even,numbers))"
   ]
  },
  {
   "cell_type": "code",
   "execution_count": 95,
   "id": "e87e58bc-b18c-4d57-8ed6-5e8274b7cc49",
   "metadata": {},
   "outputs": [],
   "source": [
    "numbers = [1, 2, 3, 4, 5, 6, 7, 8, 9, 10]\n",
    "\n",
    "# Function to check if a number is even\n",
    "def is_even(n):\n",
    "    return n % 2 == 0\n",
    "\n",
    "# Applying filter to keep only even numbers\n",
    "even_numbers = filter(is_even, numbers)"
   ]
  },
  {
   "cell_type": "code",
   "execution_count": 97,
   "id": "51982e0c-7d48-4fec-9a8c-0665590033df",
   "metadata": {},
   "outputs": [
    {
     "data": {
      "text/plain": [
       "[2, 4, 6, 8, 10]"
      ]
     },
     "execution_count": 97,
     "metadata": {},
     "output_type": "execute_result"
    }
   ],
   "source": [
    "list(even_numbers)"
   ]
  },
  {
   "cell_type": "code",
   "execution_count": 99,
   "id": "ec345292-3b7b-411f-a402-92bad8ec7ab1",
   "metadata": {},
   "outputs": [
    {
     "name": "stdout",
     "output_type": "stream",
     "text": [
      "[]\n"
     ]
    }
   ],
   "source": [
    "even_numbers_list = list(even_numbers)\n",
    "print(even_numbers_list)"
   ]
  },
  {
   "cell_type": "code",
   "execution_count": 101,
   "id": "3288abc2-c224-44fc-bd30-5ceffea1e48e",
   "metadata": {},
   "outputs": [
    {
     "name": "stdout",
     "output_type": "stream",
     "text": [
      "[1, 3, 5, 7, 9]\n"
     ]
    }
   ],
   "source": [
    "numbers = [1, 2, 3, 4, 5, 6, 7, 8, 9, 10]\n",
    "\n",
    "# Using lambda to filter odd numbers\n",
    "odd_numbers = list(filter(lambda n: n % 2 != 0, numbers))\n",
    "\n",
    "print(odd_numbers)"
   ]
  },
  {
   "cell_type": "code",
   "execution_count": 103,
   "id": "02e4fef0-1ee9-4e69-b141-c08689b73804",
   "metadata": {},
   "outputs": [
    {
     "name": "stdout",
     "output_type": "stream",
     "text": [
      "[2, 4, 6, 8]\n"
     ]
    }
   ],
   "source": [
    "  numbers = [1, 2, 3, 4]\n",
    "  result = map(lambda x: x * 2, numbers)\n",
    "  print(list(result))"
   ]
  },
  {
   "cell_type": "code",
   "execution_count": 107,
   "id": "f9f932bc-f4e5-42ca-bdb9-a3081f2fc8df",
   "metadata": {},
   "outputs": [
    {
     "name": "stdout",
     "output_type": "stream",
     "text": [
      "[2, 4]\n"
     ]
    }
   ],
   "source": [
    "  numbers = [1, 2, 3, 4]\n",
    "  result = filter(lambda x: x % 2 == 0, numbers)\n",
    "  print(list(result)) "
   ]
  },
  {
   "cell_type": "code",
   "execution_count": 109,
   "id": "fb7df4b1-026a-4b44-a274-efac939cc5d0",
   "metadata": {},
   "outputs": [
    {
     "name": "stdout",
     "output_type": "stream",
     "text": [
      "[1, 4, 9, 16]\n",
      "[2, 4]\n"
     ]
    }
   ],
   "source": [
    "squared_numbers = map(lambda x: x**2, numbers)\n",
    "print(list(squared_numbers))  # Output: [1, 4, 9, 16, 25]\n",
    "\n",
    "# Using filter to extract even numbers\n",
    "even_numbers = filter(lambda x: x % 2 == 0, numbers)\n",
    "print(list(even_numbers)) "
   ]
  },
  {
   "cell_type": "code",
   "execution_count": 111,
   "id": "a17db97d-50d6-4c6d-a3ac-e01203223118",
   "metadata": {},
   "outputs": [
    {
     "name": "stdout",
     "output_type": "stream",
     "text": [
      "[False, True, False, True]\n"
     ]
    }
   ],
   "source": [
    "numbers = [1, 2, 3, 4]\n",
    "result = map(lambda x: x % 2 == 0, numbers)\n",
    "print(list(result))"
   ]
  },
  {
   "cell_type": "code",
   "execution_count": 113,
   "id": "e545c6cd-8ee2-4cf3-b36b-ada1a9c1569b",
   "metadata": {},
   "outputs": [],
   "source": [
    "from functools import reduce"
   ]
  },
  {
   "cell_type": "code",
   "execution_count": 115,
   "id": "b1223538-974a-44be-8891-b4053aea3a71",
   "metadata": {},
   "outputs": [],
   "source": [
    "\n",
    "numbers = [1, 2, 3, 4, 5]"
   ]
  },
  {
   "cell_type": "code",
   "execution_count": 117,
   "id": "29c68533-8232-4a76-8233-cb3acac9995c",
   "metadata": {},
   "outputs": [],
   "source": [
    "def add(x, y):\n",
    "    return x * y"
   ]
  },
  {
   "cell_type": "code",
   "execution_count": 119,
   "id": "486a1a4f-c5f0-4f07-abe7-a6948d805a0c",
   "metadata": {},
   "outputs": [
    {
     "data": {
      "text/plain": [
       "120"
      ]
     },
     "execution_count": 119,
     "metadata": {},
     "output_type": "execute_result"
    }
   ],
   "source": [
    "reduce(add,numbers)"
   ]
  },
  {
   "cell_type": "code",
   "execution_count": 121,
   "id": "abcc0326-6d45-486e-9b25-c5ff78ad23a2",
   "metadata": {},
   "outputs": [
    {
     "name": "stdout",
     "output_type": "stream",
     "text": [
      "120\n"
     ]
    }
   ],
   "source": [
    "\n",
    "total_sum = reduce(add, numbers)\n",
    "\n",
    "print(total_sum) "
   ]
  },
  {
   "cell_type": "code",
   "execution_count": 123,
   "id": "90ff6aa1-0ed0-46f8-a438-c00ab5347c9f",
   "metadata": {},
   "outputs": [
    {
     "name": "stdout",
     "output_type": "stream",
     "text": [
      "120\n"
     ]
    }
   ],
   "source": [
    "from functools import reduce\n",
    "\n",
    "# List of numbers\n",
    "numbers = [1, 2, 3, 4, 5]\n",
    "\n",
    "# Using lambda function to multiply elements\n",
    "product = reduce(lambda x, y: x * y, numbers)\n",
    "\n",
    "print(product)  "
   ]
  },
  {
   "cell_type": "code",
   "execution_count": 125,
   "id": "cabaad47-e373-4787-a59b-a4fdfbfeebe5",
   "metadata": {},
   "outputs": [
    {
     "name": "stdout",
     "output_type": "stream",
     "text": [
      "25\n"
     ]
    }
   ],
   "source": [
    "from functools import reduce\n",
    "\n",
    "# List of numbers\n",
    "numbers = [1, 2, 3, 4, 5]\n",
    "\n",
    "# Reduce to sum all elements with an initializer of 10\n",
    "total_sum = reduce(lambda x, y: x + y, numbers, 10)\n",
    "\n",
    "print(total_sum)"
   ]
  },
  {
   "cell_type": "code",
   "execution_count": null,
   "id": "d360994a-74b2-49d9-9672-827fafb729fd",
   "metadata": {},
   "outputs": [],
   "source": []
  }
 ],
 "metadata": {
  "kernelspec": {
   "display_name": "Python 3 (ipykernel)",
   "language": "python",
   "name": "python3"
  },
  "language_info": {
   "codemirror_mode": {
    "name": "ipython",
    "version": 3
   },
   "file_extension": ".py",
   "mimetype": "text/x-python",
   "name": "python",
   "nbconvert_exporter": "python",
   "pygments_lexer": "ipython3",
   "version": "3.12.7"
  }
 },
 "nbformat": 4,
 "nbformat_minor": 5
}
