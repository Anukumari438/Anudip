{
 "cells": [
  {
   "cell_type": "markdown",
   "id": "67215857-a184-4896-840a-e32248a79349",
   "metadata": {},
   "source": [
    "### What is Numpy?\n",
    "\n",
    "NumPy is a powerful Python library for numerical and scientific computations. It provides support for large, multi-dimensional arrays and matrices, along with a wide range of mathematical functions to operate on these arrays. NumPy is the foundation for many data science and scientific computing libraries in Python. Here are some basic concepts of NumPy:\n",
    "\n"
   ]
  },
  {
   "cell_type": "code",
   "execution_count": 2,
   "id": "680d38f0-e0bd-45dc-93e0-2100a9425e57",
   "metadata": {},
   "outputs": [],
   "source": [
    "my_list = [1, 2, 3, 4, 5]"
   ]
  },
  {
   "cell_type": "code",
   "execution_count": 4,
   "id": "8e7fd850-e99a-4645-b37b-859a5669c0af",
   "metadata": {},
   "outputs": [
    {
     "ename": "TypeError",
     "evalue": "can only concatenate list (not \"int\") to list",
     "output_type": "error",
     "traceback": [
      "\u001b[1;31m---------------------------------------------------------------------------\u001b[0m",
      "\u001b[1;31mTypeError\u001b[0m                                 Traceback (most recent call last)",
      "Cell \u001b[1;32mIn[4], line 1\u001b[0m\n\u001b[1;32m----> 1\u001b[0m my_list \u001b[38;5;241m+\u001b[39m \u001b[38;5;241m2\u001b[39m\n",
      "\u001b[1;31mTypeError\u001b[0m: can only concatenate list (not \"int\") to list"
     ]
    }
   ],
   "source": [
    "my_list + 2"
   ]
  },
  {
   "cell_type": "code",
   "execution_count": 6,
   "id": "3a720f90-364d-4fac-9dc0-4ab7a5d042d9",
   "metadata": {},
   "outputs": [],
   "source": [
    "l = [1,2,3,45]"
   ]
  },
  {
   "cell_type": "code",
   "execution_count": 10,
   "id": "8b73f2c2-208d-4b02-a9e3-2b239822b4dd",
   "metadata": {},
   "outputs": [
    {
     "data": {
      "text/plain": [
       "[1, 2, 3, 45]"
      ]
     },
     "execution_count": 10,
     "metadata": {},
     "output_type": "execute_result"
    }
   ],
   "source": [
    "l"
   ]
  },
  {
   "cell_type": "code",
   "execution_count": 12,
   "id": "a3cda760-5ced-4653-81bb-ef8f61275b2a",
   "metadata": {},
   "outputs": [],
   "source": [
    "from array import array\n",
    "my_array = array('i', [1, 2, 3, 4, 5])"
   ]
  },
  {
   "cell_type": "code",
   "execution_count": 14,
   "id": "a9e5523f-f255-4d6a-829e-cf427de5eb96",
   "metadata": {},
   "outputs": [],
   "source": [
    "l = [1,1,2,3]"
   ]
  },
  {
   "cell_type": "code",
   "execution_count": 16,
   "id": "e2471411-755f-4832-b9bf-ed32ecd1451c",
   "metadata": {},
   "outputs": [
    {
     "data": {
      "text/plain": [
       "[1, 1, 2, 3]"
      ]
     },
     "execution_count": 16,
     "metadata": {},
     "output_type": "execute_result"
    }
   ],
   "source": [
    "l"
   ]
  },
  {
   "cell_type": "code",
   "execution_count": 18,
   "id": "6784d8e5-fd03-46be-a179-2b3cb3d9d852",
   "metadata": {},
   "outputs": [],
   "source": [
    "import numpy as np"
   ]
  },
  {
   "cell_type": "code",
   "execution_count": 20,
   "id": "8d71c106-24b6-4884-9bd2-dc24643b0557",
   "metadata": {},
   "outputs": [],
   "source": [
    "arr = np.array([1,2,3,4])"
   ]
  },
  {
   "cell_type": "code",
   "execution_count": 22,
   "id": "9d3c43fe-a258-48b8-b55f-05627a762f1d",
   "metadata": {},
   "outputs": [
    {
     "data": {
      "text/plain": [
       "array([1, 2, 3, 4])"
      ]
     },
     "execution_count": 22,
     "metadata": {},
     "output_type": "execute_result"
    }
   ],
   "source": [
    "arr"
   ]
  },
  {
   "cell_type": "code",
   "execution_count": 24,
   "id": "a507a3a8-46a0-4f33-badb-b9e6f95140e5",
   "metadata": {},
   "outputs": [
    {
     "data": {
      "text/plain": [
       "numpy.ndarray"
      ]
     },
     "execution_count": 24,
     "metadata": {},
     "output_type": "execute_result"
    }
   ],
   "source": [
    "type(arr)"
   ]
  },
  {
   "cell_type": "code",
   "execution_count": 26,
   "id": "611c6fe5-e899-4835-a35b-98e38e6f466e",
   "metadata": {},
   "outputs": [
    {
     "data": {
      "text/plain": [
       "1"
      ]
     },
     "execution_count": 26,
     "metadata": {},
     "output_type": "execute_result"
    }
   ],
   "source": [
    "arr.ndim"
   ]
  },
  {
   "cell_type": "code",
   "execution_count": 28,
   "id": "6e17c7c6-1b56-41a5-a0b1-fad7ba3c0d1a",
   "metadata": {},
   "outputs": [
    {
     "data": {
      "text/plain": [
       "dtype('int32')"
      ]
     },
     "execution_count": 28,
     "metadata": {},
     "output_type": "execute_result"
    }
   ],
   "source": [
    "arr.dtype"
   ]
  },
  {
   "cell_type": "code",
   "execution_count": 30,
   "id": "03ad4234-45c7-4ac4-b2a4-c9e1be89e140",
   "metadata": {},
   "outputs": [],
   "source": [
    "import numpy as np"
   ]
  },
  {
   "cell_type": "code",
   "execution_count": 32,
   "id": "8b8b87d4-8beb-4ab0-84a1-8c267fb48c6c",
   "metadata": {},
   "outputs": [],
   "source": [
    "array_new = np.array([1,2,3,4,5,6])"
   ]
  },
  {
   "cell_type": "code",
   "execution_count": 34,
   "id": "9545dcdb-e1f1-47d1-b326-93ee49f6d3f5",
   "metadata": {},
   "outputs": [
    {
     "data": {
      "text/plain": [
       "array([4, 5, 6, 7, 8, 9])"
      ]
     },
     "execution_count": 34,
     "metadata": {},
     "output_type": "execute_result"
    }
   ],
   "source": [
    "array_new + 3"
   ]
  },
  {
   "cell_type": "code",
   "execution_count": 36,
   "id": "f8fbb1a4-947a-406e-b0f9-d376c678a3fa",
   "metadata": {},
   "outputs": [
    {
     "data": {
      "text/plain": [
       "numpy.ndarray"
      ]
     },
     "execution_count": 36,
     "metadata": {},
     "output_type": "execute_result"
    }
   ],
   "source": [
    "type(array_new)"
   ]
  },
  {
   "cell_type": "code",
   "execution_count": 38,
   "id": "0be640cc-95c6-4883-a961-dbbfa7a37577",
   "metadata": {},
   "outputs": [],
   "source": [
    "import numpy as np\n",
    "\n",
    "my_numpy_array = np.array([1, 2, 3, 4, 5])"
   ]
  },
  {
   "cell_type": "code",
   "execution_count": 40,
   "id": "8e66b06c-ae64-4960-8062-b26919969f09",
   "metadata": {},
   "outputs": [],
   "source": [
    "import numpy as np\n",
    "\n",
    "my_numpy_array = np.array([1, 2, 3, 4, 5])"
   ]
  },
  {
   "cell_type": "code",
   "execution_count": 42,
   "id": "11a39938-bcd2-4108-9213-02907ecfe361",
   "metadata": {},
   "outputs": [],
   "source": [
    "new_arr=my_numpy_array*3"
   ]
  },
  {
   "cell_type": "code",
   "execution_count": 44,
   "id": "f5eec6a2-203f-47ff-90de-f61a91351db0",
   "metadata": {},
   "outputs": [
    {
     "data": {
      "text/plain": [
       "array([ 3,  6,  9, 12, 15])"
      ]
     },
     "execution_count": 44,
     "metadata": {},
     "output_type": "execute_result"
    }
   ],
   "source": [
    "new_arr\n"
   ]
  },
  {
   "cell_type": "code",
   "execution_count": 46,
   "id": "5551cd8e-0cba-4bf4-ba3c-5f19e10c5c8a",
   "metadata": {},
   "outputs": [
    {
     "data": {
      "text/plain": [
       "numpy.ndarray"
      ]
     },
     "execution_count": 46,
     "metadata": {},
     "output_type": "execute_result"
    }
   ],
   "source": [
    "type(my_numpy_array)"
   ]
  },
  {
   "cell_type": "code",
   "execution_count": 48,
   "id": "8a3c947e-93e3-4034-812e-ce35b8fbaf78",
   "metadata": {},
   "outputs": [
    {
     "data": {
      "text/plain": [
       "[1, 1, 2, 3]"
      ]
     },
     "execution_count": 48,
     "metadata": {},
     "output_type": "execute_result"
    }
   ],
   "source": [
    "l"
   ]
  },
  {
   "cell_type": "code",
   "execution_count": 50,
   "id": "09c2e3f1-328d-409b-8a51-75f2ffa7472e",
   "metadata": {},
   "outputs": [
    {
     "data": {
      "text/plain": [
       "[1, 1, 2, 3, 1, 1, 2, 3, 1, 1, 2, 3]"
      ]
     },
     "execution_count": 50,
     "metadata": {},
     "output_type": "execute_result"
    }
   ],
   "source": [
    "l*3"
   ]
  },
  {
   "cell_type": "code",
   "execution_count": 52,
   "id": "81ae8032-d437-4de2-ae4a-78dfcaf7e28f",
   "metadata": {},
   "outputs": [
    {
     "data": {
      "text/plain": [
       "[1, 1, 2, 3, 1, 1, 2, 3, 1, 1, 2, 3]"
      ]
     },
     "execution_count": 52,
     "metadata": {},
     "output_type": "execute_result"
    }
   ],
   "source": [
    "l *3"
   ]
  },
  {
   "cell_type": "code",
   "execution_count": 54,
   "id": "5705c94a-3198-4da6-9a5f-110f3b431053",
   "metadata": {},
   "outputs": [
    {
     "data": {
      "text/plain": [
       "array([1, 2, 3, 4, 5, 6])"
      ]
     },
     "execution_count": 54,
     "metadata": {},
     "output_type": "execute_result"
    }
   ],
   "source": [
    "array_new"
   ]
  },
  {
   "cell_type": "code",
   "execution_count": 56,
   "id": "62be63ce-f6fd-42c8-a188-bbbf6028140a",
   "metadata": {},
   "outputs": [
    {
     "data": {
      "text/plain": [
       "array([ 2,  4,  6,  8, 10, 12])"
      ]
     },
     "execution_count": 56,
     "metadata": {},
     "output_type": "execute_result"
    }
   ],
   "source": [
    "array_new * 2"
   ]
  },
  {
   "cell_type": "code",
   "execution_count": 58,
   "id": "6c61d028-795d-4fad-83ea-5538d86e0285",
   "metadata": {},
   "outputs": [
    {
     "name": "stdout",
     "output_type": "stream",
     "text": [
      "[2 4 6]\n"
     ]
    }
   ],
   "source": [
    "import numpy as np\n",
    "\n",
    "my_array = np.array([1, 2, 3])\n",
    "result = my_array * 2\n",
    "print(result)"
   ]
  },
  {
   "cell_type": "code",
   "execution_count": 60,
   "id": "9f18977b-c711-425f-9f08-1caeaedcc3f3",
   "metadata": {},
   "outputs": [
    {
     "data": {
      "text/plain": [
       "array([1, 2, 3, 4])"
      ]
     },
     "execution_count": 60,
     "metadata": {},
     "output_type": "execute_result"
    }
   ],
   "source": [
    "arr"
   ]
  },
  {
   "cell_type": "code",
   "execution_count": 62,
   "id": "9a0ebb04-2c95-44c9-80ed-7eeb10f9eade",
   "metadata": {},
   "outputs": [
    {
     "data": {
      "text/plain": [
       "array([False, False,  True,  True])"
      ]
     },
     "execution_count": 62,
     "metadata": {},
     "output_type": "execute_result"
    }
   ],
   "source": [
    "arr>2"
   ]
  },
  {
   "cell_type": "code",
   "execution_count": 9,
   "id": "ceeb7c46-79aa-4d11-bbe2-2df58f3b5ea8",
   "metadata": {},
   "outputs": [
    {
     "ename": "NameError",
     "evalue": "name 'np' is not defined",
     "output_type": "error",
     "traceback": [
      "\u001b[1;31m---------------------------------------------------------------------------\u001b[0m",
      "\u001b[1;31mNameError\u001b[0m                                 Traceback (most recent call last)",
      "Cell \u001b[1;32mIn[9], line 1\u001b[0m\n\u001b[1;32m----> 1\u001b[0m array_2d \u001b[38;5;241m=\u001b[39m np\u001b[38;5;241m.\u001b[39marray([[\u001b[38;5;241m1\u001b[39m,\u001b[38;5;241m2\u001b[39m,\u001b[38;5;241m3\u001b[39m],[\u001b[38;5;241m4\u001b[39m,\u001b[38;5;241m5\u001b[39m,\u001b[38;5;241m6\u001b[39m]])\n\u001b[0;32m      2\u001b[0m array_2d\n",
      "\u001b[1;31mNameError\u001b[0m: name 'np' is not defined"
     ]
    }
   ],
   "source": [
    "array_2d = np.array([[1,2,3],[4,5,6]])\n",
    "array_2d"
   ]
  },
  {
   "cell_type": "code",
   "execution_count": 7,
   "id": "f9121f32-23ac-4fca-9d97-cc17f9b8bd62",
   "metadata": {},
   "outputs": [
    {
     "ename": "NameError",
     "evalue": "name 'array_2d' is not defined",
     "output_type": "error",
     "traceback": [
      "\u001b[1;31m---------------------------------------------------------------------------\u001b[0m",
      "\u001b[1;31mNameError\u001b[0m                                 Traceback (most recent call last)",
      "Cell \u001b[1;32mIn[7], line 1\u001b[0m\n\u001b[1;32m----> 1\u001b[0m array_2d\u001b[38;5;241m.\u001b[39mshape\n",
      "\u001b[1;31mNameError\u001b[0m: name 'array_2d' is not defined"
     ]
    }
   ],
   "source": [
    "array_2d.shape"
   ]
  },
  {
   "cell_type": "code",
   "execution_count": 5,
   "id": "4120a333-9910-4375-91be-e8917ad210e5",
   "metadata": {},
   "outputs": [
    {
     "ename": "NameError",
     "evalue": "name 'array_2d' is not defined",
     "output_type": "error",
     "traceback": [
      "\u001b[1;31m---------------------------------------------------------------------------\u001b[0m",
      "\u001b[1;31mNameError\u001b[0m                                 Traceback (most recent call last)",
      "Cell \u001b[1;32mIn[5], line 1\u001b[0m\n\u001b[1;32m----> 1\u001b[0m array_2d\u001b[38;5;241m.\u001b[39mndim\n",
      "\u001b[1;31mNameError\u001b[0m: name 'array_2d' is not defined"
     ]
    }
   ],
   "source": [
    "array_2d.ndim"
   ]
  },
  {
   "cell_type": "code",
   "execution_count": 3,
   "id": "21092f46-5d56-4821-8d31-3c10b51e1ad7",
   "metadata": {},
   "outputs": [
    {
     "ename": "NameError",
     "evalue": "name 'array_2d' is not defined",
     "output_type": "error",
     "traceback": [
      "\u001b[1;31m---------------------------------------------------------------------------\u001b[0m",
      "\u001b[1;31mNameError\u001b[0m                                 Traceback (most recent call last)",
      "Cell \u001b[1;32mIn[3], line 1\u001b[0m\n\u001b[1;32m----> 1\u001b[0m array_2d\n",
      "\u001b[1;31mNameError\u001b[0m: name 'array_2d' is not defined"
     ]
    }
   ],
   "source": [
    "array_2d"
   ]
  },
  {
   "cell_type": "code",
   "execution_count": 1,
   "id": "e5af0448-d2f6-4544-bef5-9618d0fe3f73",
   "metadata": {},
   "outputs": [
    {
     "ename": "NameError",
     "evalue": "name 'array_2d' is not defined",
     "output_type": "error",
     "traceback": [
      "\u001b[1;31m---------------------------------------------------------------------------\u001b[0m",
      "\u001b[1;31mNameError\u001b[0m                                 Traceback (most recent call last)",
      "Cell \u001b[1;32mIn[1], line 1\u001b[0m\n\u001b[1;32m----> 1\u001b[0m array_2d \u001b[38;5;241m*\u001b[39m \u001b[38;5;241m10\u001b[39m\n",
      "\u001b[1;31mNameError\u001b[0m: name 'array_2d' is not defined"
     ]
    }
   ],
   "source": [
    "array_2d * 10 "
   ]
  },
  {
   "cell_type": "code",
   "execution_count": 11,
   "id": "738a78c7-f7bc-4ae8-a9ea-811bbb94f9e8",
   "metadata": {},
   "outputs": [],
   "source": [
    "   import numpy as np\n",
    "\n",
    "   list_data = [1, 2, 3, 4, 5]\n",
    "   array_from_list = np.array(list_data)"
   ]
  },
  {
   "cell_type": "code",
   "execution_count": 13,
   "id": "1c4f8d72-47ea-42e1-a911-000b19c9ea42",
   "metadata": {},
   "outputs": [
    {
     "data": {
      "text/plain": [
       "[1, 2, 3, 4, 5]"
      ]
     },
     "execution_count": 13,
     "metadata": {},
     "output_type": "execute_result"
    }
   ],
   "source": [
    "list_data"
   ]
  },
  {
   "cell_type": "code",
   "execution_count": 15,
   "id": "411d5803-82c0-48ae-82dc-a008f695096f",
   "metadata": {},
   "outputs": [
    {
     "data": {
      "text/plain": [
       "list"
      ]
     },
     "execution_count": 15,
     "metadata": {},
     "output_type": "execute_result"
    }
   ],
   "source": [
    "type(list_data)"
   ]
  },
  {
   "cell_type": "code",
   "execution_count": 17,
   "id": "7e9cfaeb-eda7-49fb-8009-250b976f09dd",
   "metadata": {},
   "outputs": [
    {
     "data": {
      "text/plain": [
       "[1, 2, 3, 4, 5]"
      ]
     },
     "execution_count": 17,
     "metadata": {},
     "output_type": "execute_result"
    }
   ],
   "source": [
    "list_data"
   ]
  },
  {
   "cell_type": "code",
   "execution_count": 19,
   "id": "58b9943f-49de-44e5-88ff-27fcaf9b9f37",
   "metadata": {},
   "outputs": [
    {
     "data": {
      "text/plain": [
       "array([1, 2, 3, 4, 5])"
      ]
     },
     "execution_count": 19,
     "metadata": {},
     "output_type": "execute_result"
    }
   ],
   "source": [
    "array_from_list"
   ]
  },
  {
   "cell_type": "code",
   "execution_count": 21,
   "id": "e75de624-552d-49e3-b81b-ee6c3e637557",
   "metadata": {},
   "outputs": [
    {
     "data": {
      "text/plain": [
       "numpy.ndarray"
      ]
     },
     "execution_count": 21,
     "metadata": {},
     "output_type": "execute_result"
    }
   ],
   "source": [
    "type(array_from_list)"
   ]
  },
  {
   "cell_type": "code",
   "execution_count": 23,
   "id": "9888ea7e-cc9a-49e3-973c-bb8b15c05a7b",
   "metadata": {},
   "outputs": [
    {
     "data": {
      "text/plain": [
       "dtype('int32')"
      ]
     },
     "execution_count": 23,
     "metadata": {},
     "output_type": "execute_result"
    }
   ],
   "source": [
    "array_from_list.dtype"
   ]
  },
  {
   "cell_type": "code",
   "execution_count": 25,
   "id": "3cf23200-92ca-47b1-a226-28cc41b643f5",
   "metadata": {},
   "outputs": [],
   "source": [
    "lis1 = [1,2,3,4,5]"
   ]
  },
  {
   "cell_type": "code",
   "execution_count": 27,
   "id": "985ae72b-3407-4c7e-a432-74799ac21838",
   "metadata": {},
   "outputs": [
    {
     "data": {
      "text/plain": [
       "[1, 2, 3, 4, 5]"
      ]
     },
     "execution_count": 27,
     "metadata": {},
     "output_type": "execute_result"
    }
   ],
   "source": [
    "lis1"
   ]
  },
  {
   "cell_type": "code",
   "execution_count": 37,
   "id": "50560941-de36-439c-8bd5-a34b08953ec4",
   "metadata": {},
   "outputs": [
    {
     "ename": "NameError",
     "evalue": "name 'df' is not defined",
     "output_type": "error",
     "traceback": [
      "\u001b[1;31m---------------------------------------------------------------------------\u001b[0m",
      "\u001b[1;31mNameError\u001b[0m                                 Traceback (most recent call last)",
      "Cell \u001b[1;32mIn[37], line 1\u001b[0m\n\u001b[1;32m----> 1\u001b[0m df\n",
      "\u001b[1;31mNameError\u001b[0m: name 'df' is not defined"
     ]
    }
   ],
   "source": [
    "df"
   ]
  },
  {
   "cell_type": "code",
   "execution_count": 39,
   "id": "12a0fa75-0371-4b9b-a135-b09484a62774",
   "metadata": {},
   "outputs": [],
   "source": [
    "arr = np.array([4,5,6,8,9,8,5])"
   ]
  },
  {
   "cell_type": "code",
   "execution_count": 41,
   "id": "400a9fef-3589-47ca-94c0-191dd40d8edd",
   "metadata": {},
   "outputs": [
    {
     "data": {
      "text/plain": [
       "array([4, 5, 6, 8, 9, 8, 5])"
      ]
     },
     "execution_count": 41,
     "metadata": {},
     "output_type": "execute_result"
    }
   ],
   "source": [
    "arr"
   ]
  },
  {
   "cell_type": "code",
   "execution_count": 43,
   "id": "46f99acd-e2a4-4ba3-a3fc-7f09b285a4e9",
   "metadata": {},
   "outputs": [
    {
     "data": {
      "text/plain": [
       "array([14, 15, 16, 18, 19, 18, 15])"
      ]
     },
     "execution_count": 43,
     "metadata": {},
     "output_type": "execute_result"
    }
   ],
   "source": [
    "arr+10"
   ]
  },
  {
   "cell_type": "code",
   "execution_count": 45,
   "id": "c5cc9e16-7e0d-43da-8f0c-5e656b8ed224",
   "metadata": {},
   "outputs": [],
   "source": [
    "   tuple_data = (5.5, 6.6, 7.7)\n",
    "   array_from_tuple = np.array(tuple_data)"
   ]
  },
  {
   "cell_type": "code",
   "execution_count": 47,
   "id": "aea373b9-ebdd-4a14-add3-335e010c28d9",
   "metadata": {},
   "outputs": [],
   "source": [
    "list_data = [1, 2, 3, 4, 5]\n"
   ]
  },
  {
   "cell_type": "code",
   "execution_count": 49,
   "id": "f2a2f990-038e-4f38-b4d1-5d43f2591b9f",
   "metadata": {},
   "outputs": [],
   "source": [
    "a11 = np.array(list_data)"
   ]
  },
  {
   "cell_type": "code",
   "execution_count": 51,
   "id": "4ece03a7-4216-44d4-8fc1-13198d89c4ff",
   "metadata": {},
   "outputs": [
    {
     "data": {
      "text/plain": [
       "array([1, 2, 3, 4, 5])"
      ]
     },
     "execution_count": 51,
     "metadata": {},
     "output_type": "execute_result"
    }
   ],
   "source": [
    "a11\n"
   ]
  },
  {
   "cell_type": "code",
   "execution_count": 53,
   "id": "3036ecc0-2ef8-4a5d-b417-88337440d468",
   "metadata": {},
   "outputs": [],
   "source": [
    "tuple_data = (5.5, 6.6, 7.7)\n",
    "a22 = np.array(tuple_data)"
   ]
  },
  {
   "cell_type": "code",
   "execution_count": 55,
   "id": "b6474d8d-d61f-4d38-8c23-9416b63da763",
   "metadata": {},
   "outputs": [
    {
     "data": {
      "text/plain": [
       "array([5.5, 6.6, 7.7])"
      ]
     },
     "execution_count": 55,
     "metadata": {},
     "output_type": "execute_result"
    }
   ],
   "source": [
    "a22"
   ]
  },
  {
   "cell_type": "markdown",
   "id": "9b4fcfc4-eef3-4632-a935-ced81840702e",
   "metadata": {},
   "source": [
    "2. **Using Functions to Generate Data"
   ]
  },
  {
   "cell_type": "code",
   "execution_count": 58,
   "id": "4fffb99d-e578-4603-88cc-420061d1efc0",
   "metadata": {},
   "outputs": [],
   "source": [
    "a33 = np.ones((3,4))"
   ]
  },
  {
   "cell_type": "code",
   "execution_count": 60,
   "id": "c4814803-d24b-4c1f-bf62-734e6d1c09af",
   "metadata": {},
   "outputs": [
    {
     "data": {
      "text/plain": [
       "numpy.ndarray"
      ]
     },
     "execution_count": 60,
     "metadata": {},
     "output_type": "execute_result"
    }
   ],
   "source": [
    "type(a33)"
   ]
  },
  {
   "cell_type": "code",
   "execution_count": 62,
   "id": "54c9b687-860f-4d2a-a2c9-cf007ccb07c1",
   "metadata": {},
   "outputs": [
    {
     "data": {
      "text/plain": [
       "array([[1., 1., 1., 1.],\n",
       "       [1., 1., 1., 1.],\n",
       "       [1., 1., 1., 1.]])"
      ]
     },
     "execution_count": 62,
     "metadata": {},
     "output_type": "execute_result"
    }
   ],
   "source": [
    "a33"
   ]
  },
  {
   "cell_type": "code",
   "execution_count": 64,
   "id": "4ae8734d-0fc6-40d8-a7c9-61eebde7d14b",
   "metadata": {},
   "outputs": [],
   "source": [
    "a44 = np.zeros((2,4))"
   ]
  },
  {
   "cell_type": "code",
   "execution_count": 66,
   "id": "f5508643-4b83-4857-8480-d1db5da748f6",
   "metadata": {},
   "outputs": [
    {
     "data": {
      "text/plain": [
       "array([[0., 0., 0., 0.],\n",
       "       [0., 0., 0., 0.]])"
      ]
     },
     "execution_count": 66,
     "metadata": {},
     "output_type": "execute_result"
    }
   ],
   "source": [
    "a44"
   ]
  },
  {
   "cell_type": "code",
   "execution_count": 68,
   "id": "f0106e93-5724-4185-a4d0-31d6e82d4a81",
   "metadata": {},
   "outputs": [],
   "source": [
    "import numpy as np\n",
    "\n",
    "array1 = np.array([1,2,3])"
   ]
  },
  {
   "cell_type": "code",
   "execution_count": 70,
   "id": "cc0e4ed9-deb3-427a-88cc-e039058364f9",
   "metadata": {},
   "outputs": [],
   "source": [
    "   import numpy as np\n",
    "\n",
    "   zeros_array = np.zeros((3, 3))   "
   ]
  },
  {
   "cell_type": "code",
   "execution_count": 72,
   "id": "af92b868-b175-4b8a-b100-48ea0b40f8ff",
   "metadata": {},
   "outputs": [],
   "source": [
    "    ones_array = np.ones((2, 4)) "
   ]
  },
  {
   "cell_type": "code",
   "execution_count": null,
   "id": "3a28ca1f-08bd-418a-a8ae-50c00c73a105",
   "metadata": {},
   "outputs": [],
   "source": []
  },
  {
   "cell_type": "code",
   "execution_count": 76,
   "id": "3cc1f4ec-9e55-4b02-9999-1ad01c44fdf5",
   "metadata": {},
   "outputs": [],
   "source": [
    "   identity_matrix = np.eye(3) "
   ]
  },
  {
   "cell_type": "code",
   "execution_count": 78,
   "id": "43ebe9da-fa98-4890-b0c4-2c034822d634",
   "metadata": {},
   "outputs": [
    {
     "data": {
      "text/plain": [
       "array([[1., 0., 0.],\n",
       "       [0., 1., 0.],\n",
       "       [0., 0., 1.]])"
      ]
     },
     "execution_count": 78,
     "metadata": {},
     "output_type": "execute_result"
    }
   ],
   "source": [
    "identity_matrix\n"
   ]
  },
  {
   "cell_type": "code",
   "execution_count": 80,
   "id": "024871c8-e637-4d66-ac0d-0d6d98348c01",
   "metadata": {},
   "outputs": [],
   "source": [
    "   random_array = np.random.rand(4, 4) "
   ]
  },
  {
   "cell_type": "markdown",
   "id": "335c7fdc-0da6-409c-85c2-1ef9a590a868",
   "metadata": {},
   "source": [
    "Specifying Data Type"
   ]
  },
  {
   "cell_type": "code",
   "execution_count": 83,
   "id": "b65e844f-9b47-4edc-866c-88005be4a458",
   "metadata": {},
   "outputs": [],
   "source": [
    "l = [1,2,3,4]"
   ]
  },
  {
   "cell_type": "code",
   "execution_count": 85,
   "id": "4f1e5333-8d9c-4422-8d9f-4b54ec8810d6",
   "metadata": {},
   "outputs": [
    {
     "data": {
      "text/plain": [
       "array([1, 2, 3, 4])"
      ]
     },
     "execution_count": 85,
     "metadata": {},
     "output_type": "execute_result"
    }
   ],
   "source": [
    "np.array(l,dtype=np.int32 )"
   ]
  },
  {
   "cell_type": "code",
   "execution_count": 87,
   "id": "4f0e332c-e597-4719-960a-0ee697749e4a",
   "metadata": {},
   "outputs": [],
   "source": [
    "   import numpy as np\n",
    "\n",
    "   int_array = np.array([1, 2, 3], dtype=np.int32)\n",
    "   float_array = np.array([0.1, 0.2, 0.3], dtype=np.float64)"
   ]
  },
  {
   "cell_type": "markdown",
   "id": "6e568f78-3c30-4104-825c-a0f126308a44",
   "metadata": {},
   "source": [
    "Using arange and linspac"
   ]
  },
  {
   "cell_type": "code",
   "execution_count": 90,
   "id": "0a137ab6-7f1a-4aab-9479-8a643ca06f48",
   "metadata": {},
   "outputs": [],
   "source": [
    "a44 = np.arange(0,12)"
   ]
  },
  {
   "cell_type": "code",
   "execution_count": 92,
   "id": "a6048f5c-0346-4d6c-a5eb-b583931d87c9",
   "metadata": {},
   "outputs": [],
   "source": [
    "a66=np.arange(5,7)"
   ]
  },
  {
   "cell_type": "code",
   "execution_count": 94,
   "id": "ccbe910a-1873-4670-92cc-08a0d24f82ae",
   "metadata": {},
   "outputs": [
    {
     "data": {
      "text/plain": [
       "array([5, 6])"
      ]
     },
     "execution_count": 94,
     "metadata": {},
     "output_type": "execute_result"
    }
   ],
   "source": [
    "a66"
   ]
  },
  {
   "cell_type": "code",
   "execution_count": 96,
   "id": "7a16cbee-50d2-439a-8fc9-d2a454b97d68",
   "metadata": {},
   "outputs": [
    {
     "data": {
      "text/plain": [
       "array([ 0,  1,  2,  3,  4,  5,  6,  7,  8,  9, 10, 11])"
      ]
     },
     "execution_count": 96,
     "metadata": {},
     "output_type": "execute_result"
    }
   ],
   "source": [
    "a44\n"
   ]
  },
  {
   "cell_type": "code",
   "execution_count": 98,
   "id": "5e9db600-7939-4c86-b9ea-1403d80708e9",
   "metadata": {},
   "outputs": [],
   "source": [
    "   import numpy as np\n",
    "\n",
    "   range_array = np.arange(0, 10, 2)      # Array from 0 to 10 (exclusive) with step 2\n",
    "   linspace_array = np.linspace(0, 10, 5) "
   ]
  },
  {
   "cell_type": "code",
   "execution_count": 100,
   "id": "129972e9-4bee-4052-9f3b-4357c0710738",
   "metadata": {},
   "outputs": [
    {
     "data": {
      "text/plain": [
       "array([ 0. ,  2.5,  5. ,  7.5, 10. ])"
      ]
     },
     "execution_count": 100,
     "metadata": {},
     "output_type": "execute_result"
    }
   ],
   "source": [
    "linspace_array\n"
   ]
  },
  {
   "cell_type": "code",
   "execution_count": 102,
   "id": "2a970a7e-87e1-483e-813a-97a2460f5710",
   "metadata": {},
   "outputs": [
    {
     "data": {
      "text/plain": [
       "array([ 0.,  2.,  4.,  6.,  8., 10.])"
      ]
     },
     "execution_count": 102,
     "metadata": {},
     "output_type": "execute_result"
    }
   ],
   "source": [
    "linspace_array_2 = np.linspace(0, 10, 6)\n",
    "linspace_array_2\n"
   ]
  },
  {
   "cell_type": "code",
   "execution_count": 104,
   "id": "1df26021-979f-400b-bb49-866456023f97",
   "metadata": {},
   "outputs": [],
   "source": [
    "linspace_array_3=np.linspace(0,15,4)"
   ]
  },
  {
   "cell_type": "code",
   "execution_count": 106,
   "id": "ea5a56c6-2d02-450d-9ea5-34eb9a2495ef",
   "metadata": {},
   "outputs": [
    {
     "data": {
      "text/plain": [
       "array([ 0.,  5., 10., 15.])"
      ]
     },
     "execution_count": 106,
     "metadata": {},
     "output_type": "execute_result"
    }
   ],
   "source": [
    "linspace_array_3"
   ]
  },
  {
   "cell_type": "code",
   "execution_count": 108,
   "id": "1c25727e-d20e-451a-9c44-9d3d4dd4555c",
   "metadata": {},
   "outputs": [],
   "source": [
    "list_data = [1, 2, 3, 4, 5]\n",
    "array_from_list = np.array(list_data)"
   ]
  },
  {
   "cell_type": "code",
   "execution_count": 110,
   "id": "26cf331e-3d0e-4d48-b5fc-de2cb8fa04ad",
   "metadata": {},
   "outputs": [
    {
     "data": {
      "text/plain": [
       "array([1, 2, 3, 4, 5])"
      ]
     },
     "execution_count": 110,
     "metadata": {},
     "output_type": "execute_result"
    }
   ],
   "source": [
    "array_from_list\n"
   ]
  },
  {
   "cell_type": "code",
   "execution_count": 112,
   "id": "8ac0ee3e-0407-4ca4-b89b-825fa71e95dc",
   "metadata": {},
   "outputs": [],
   "source": [
    "tuple_data = (5.5, 6.6, 7.7)\n",
    "array_from_tuple = np.array(tuple_data)"
   ]
  },
  {
   "cell_type": "code",
   "execution_count": 114,
   "id": "b56fd0d7-92b2-46ab-b121-35e540b661cb",
   "metadata": {},
   "outputs": [],
   "source": [
    "zeros_array = np.zeros((3, 3))      \n",
    "ones_array = np.ones((2, 4))       \n",
    "identity_matrix = np.eye(3)        \n",
    "\n",
    "random_array = np.random.rand(4, 4)"
   ]
  },
  {
   "cell_type": "code",
   "execution_count": 116,
   "id": "005e837e-3a84-4f9d-825d-46dbcd939de7",
   "metadata": {},
   "outputs": [
    {
     "data": {
      "text/plain": [
       "array([[0.35652883, 0.98049281, 0.0928021 , 0.80292585],\n",
       "       [0.89562866, 0.70878801, 0.65456118, 0.85912429],\n",
       "       [0.87823362, 0.75712256, 0.12786549, 0.52088369],\n",
       "       [0.92825876, 0.21471269, 0.01502784, 0.78047377]])"
      ]
     },
     "execution_count": 116,
     "metadata": {},
     "output_type": "execute_result"
    }
   ],
   "source": [
    "random_array"
   ]
  },
  {
   "cell_type": "code",
   "execution_count": 118,
   "id": "3abcdd34-169a-48d1-94e0-ef077418f266",
   "metadata": {},
   "outputs": [
    {
     "data": {
      "text/plain": [
       "array([[0., 0., 0.],\n",
       "       [0., 0., 0.],\n",
       "       [0., 0., 0.]])"
      ]
     },
     "execution_count": 118,
     "metadata": {},
     "output_type": "execute_result"
    }
   ],
   "source": [
    "zeros_array\n"
   ]
  },
  {
   "cell_type": "code",
   "execution_count": 120,
   "id": "32d8ea94-1d29-4322-baad-42e82a48d514",
   "metadata": {},
   "outputs": [
    {
     "data": {
      "text/plain": [
       "array([[1., 1., 1., 1.],\n",
       "       [1., 1., 1., 1.]])"
      ]
     },
     "execution_count": 120,
     "metadata": {},
     "output_type": "execute_result"
    }
   ],
   "source": [
    "ones_array"
   ]
  },
  {
   "cell_type": "code",
   "execution_count": 122,
   "id": "b49b0e9c-eb85-4a75-9b3c-6d0665e36195",
   "metadata": {},
   "outputs": [
    {
     "name": "stdout",
     "output_type": "stream",
     "text": [
      "[1 2 3 4 5]\n"
     ]
    }
   ],
   "source": [
    "import numpy as np\n",
    "\n",
    "a1 = np.array([1,2,3,4,5])\n",
    "print(a1)"
   ]
  },
  {
   "cell_type": "code",
   "execution_count": 124,
   "id": "46f56db7-03a8-4a02-b4d6-47918fdd053b",
   "metadata": {},
   "outputs": [
    {
     "name": "stdout",
     "output_type": "stream",
     "text": [
      "[[1 2 3 5]\n",
      " [4 5 6 8]]\n"
     ]
    }
   ],
   "source": [
    "# 2D and 3D\n",
    "b1 = np.array([[1,2,3,5],[4,5,6,8]])\n",
    "print(b1)"
   ]
  },
  {
   "cell_type": "code",
   "execution_count": 126,
   "id": "07c8fb5d-7c34-4139-881d-cadb6d94cb70",
   "metadata": {},
   "outputs": [
    {
     "data": {
      "text/plain": [
       "[[[], [], []]]"
      ]
     },
     "execution_count": 126,
     "metadata": {},
     "output_type": "execute_result"
    }
   ],
   "source": [
    "[[[],[],[]]]"
   ]
  },
  {
   "cell_type": "code",
   "execution_count": 128,
   "id": "2b12018d-b262-4031-87fd-422ee645be91",
   "metadata": {},
   "outputs": [
    {
     "data": {
      "text/plain": [
       "array([[[1, 2, 3],\n",
       "        [4, 5, 6],\n",
       "        [7, 8, 9]]])"
      ]
     },
     "execution_count": 128,
     "metadata": {},
     "output_type": "execute_result"
    }
   ],
   "source": [
    "a55 = np.array([[[1,2,3],[4,5,6],[7,8,9]]])\n",
    "\n",
    "a55"
   ]
  },
  {
   "cell_type": "code",
   "execution_count": 130,
   "id": "2d3bd4d4-6bde-4ec1-8432-a5e07af1b681",
   "metadata": {},
   "outputs": [
    {
     "data": {
      "text/plain": [
       "3"
      ]
     },
     "execution_count": 130,
     "metadata": {},
     "output_type": "execute_result"
    }
   ],
   "source": [
    "a55.ndim"
   ]
  },
  {
   "cell_type": "code",
   "execution_count": 132,
   "id": "84ba0ee8-e408-488e-a00e-6d137d1fc28f",
   "metadata": {},
   "outputs": [
    {
     "name": "stdout",
     "output_type": "stream",
     "text": [
      "[[[1 2]\n",
      "  [3 4]]\n",
      "\n",
      " [[5 6]\n",
      "  [7 8]]]\n"
     ]
    }
   ],
   "source": [
    "c1 = np.array([[[1,2],[3,4]],[[5,6],[7,8]]])\n",
    "print(c1)"
   ]
  },
  {
   "cell_type": "code",
   "execution_count": 134,
   "id": "2a5ba507-9b2b-4361-964d-e191ec949fad",
   "metadata": {},
   "outputs": [
    {
     "data": {
      "text/plain": [
       "array([10., 20., 30., 40.])"
      ]
     },
     "execution_count": 134,
     "metadata": {},
     "output_type": "execute_result"
    }
   ],
   "source": [
    "# dtype\n",
    "np.array([10,20,30,40],dtype=float)"
   ]
  },
  {
   "cell_type": "code",
   "execution_count": 136,
   "id": "f3cb8304-8c24-4190-a9be-ec5542dd4688",
   "metadata": {},
   "outputs": [
    {
     "data": {
      "text/plain": [
       "array([ 0,  1,  2,  3,  4,  5,  6,  7,  8,  9, 10])"
      ]
     },
     "execution_count": 136,
     "metadata": {},
     "output_type": "execute_result"
    }
   ],
   "source": [
    "\n",
    "np.arange(0,11)   "
   ]
  },
  {
   "cell_type": "code",
   "execution_count": 138,
   "id": "04a68329-ffa2-444c-be5e-be89924507a1",
   "metadata": {},
   "outputs": [
    {
     "data": {
      "text/plain": [
       "array([ 0,  1,  2,  3,  4,  5,  6,  7,  8,  9, 10, 11, 12, 13, 14, 15])"
      ]
     },
     "execution_count": 138,
     "metadata": {},
     "output_type": "execute_result"
    }
   ],
   "source": [
    "np.arange(16)"
   ]
  },
  {
   "cell_type": "code",
   "execution_count": 140,
   "id": "77b90ce7-01c6-4417-9d64-93027756e531",
   "metadata": {},
   "outputs": [
    {
     "data": {
      "text/plain": [
       "array([[ 0,  1],\n",
       "       [ 2,  3],\n",
       "       [ 4,  5],\n",
       "       [ 6,  7],\n",
       "       [ 8,  9],\n",
       "       [10, 11],\n",
       "       [12, 13],\n",
       "       [14, 15]])"
      ]
     },
     "execution_count": 140,
     "metadata": {},
     "output_type": "execute_result"
    }
   ],
   "source": [
    "np.arange(16).reshape(8,2)"
   ]
  },
  {
   "cell_type": "code",
   "execution_count": 142,
   "id": "1ae73e5a-c8e1-4bdd-b2b6-09eaa6953e0e",
   "metadata": {},
   "outputs": [
    {
     "data": {
      "text/plain": [
       "(3, 2, 1)"
      ]
     },
     "execution_count": 142,
     "metadata": {},
     "output_type": "execute_result"
    }
   ],
   "source": [
    "(1,2)\n",
    "(3,2,1)"
   ]
  },
  {
   "cell_type": "code",
   "execution_count": 144,
   "id": "151072d2-7684-44a5-83d5-ec6fc37de27c",
   "metadata": {},
   "outputs": [
    {
     "data": {
      "text/plain": [
       "array([[[ 0,  1,  2],\n",
       "        [ 3,  4,  5],\n",
       "        [ 6,  7,  8]],\n",
       "\n",
       "       [[ 9, 10, 11],\n",
       "        [12, 13, 14],\n",
       "        [15, 16, 17]],\n",
       "\n",
       "       [[18, 19, 20],\n",
       "        [21, 22, 23],\n",
       "        [24, 25, 26]]])"
      ]
     },
     "execution_count": 144,
     "metadata": {},
     "output_type": "execute_result"
    }
   ],
   "source": [
    "# with reshape\n",
    "np.arange(27).reshape(3,3,3)"
   ]
  },
  {
   "cell_type": "code",
   "execution_count": 146,
   "id": "86829a91-7a1f-4fc7-8786-7d3d98c3adc6",
   "metadata": {},
   "outputs": [
    {
     "data": {
      "text/plain": [
       "array([[[[ 0,  1],\n",
       "         [ 2,  3]],\n",
       "\n",
       "        [[ 4,  5],\n",
       "         [ 6,  7]]],\n",
       "\n",
       "\n",
       "       [[[ 8,  9],\n",
       "         [10, 11]],\n",
       "\n",
       "        [[12, 13],\n",
       "         [14, 15]]]])"
      ]
     },
     "execution_count": 146,
     "metadata": {},
     "output_type": "execute_result"
    }
   ],
   "source": [
    "np.arange(16).reshape(2,2,2,2)"
   ]
  },
  {
   "cell_type": "code",
   "execution_count": 148,
   "id": "c5caeadf-5731-4686-99cb-b1fdfa13bf69",
   "metadata": {},
   "outputs": [
    {
     "data": {
      "text/plain": [
       "array([[1., 1., 1., 1., 1.],\n",
       "       [1., 1., 1., 1., 1.],\n",
       "       [1., 1., 1., 1., 1.]])"
      ]
     },
     "execution_count": 148,
     "metadata": {},
     "output_type": "execute_result"
    }
   ],
   "source": [
    "# np.ones and np.zeros\n",
    "np.ones((3,5))"
   ]
  },
  {
   "cell_type": "code",
   "execution_count": 150,
   "id": "a98a7f0c-725a-43ca-82d1-54614fad2bd9",
   "metadata": {},
   "outputs": [
    {
     "data": {
      "text/plain": [
       "array([[0., 0., 0., 0., 0.],\n",
       "       [0., 0., 0., 0., 0.],\n",
       "       [0., 0., 0., 0., 0.]])"
      ]
     },
     "execution_count": 150,
     "metadata": {},
     "output_type": "execute_result"
    }
   ],
   "source": [
    "np.zeros((3,5))"
   ]
  },
  {
   "cell_type": "code",
   "execution_count": 152,
   "id": "ebbd5316-7c0a-41d0-ba09-52eacbe5931f",
   "metadata": {},
   "outputs": [
    {
     "data": {
      "text/plain": [
       "array([[0.35903124, 0.95322491, 0.57023856, 0.3260548 ],\n",
       "       [0.34351078, 0.10766624, 0.38668959, 0.10862475],\n",
       "       [0.45285635, 0.36283932, 0.53810575, 0.9273531 ]])"
      ]
     },
     "execution_count": 152,
     "metadata": {},
     "output_type": "execute_result"
    }
   ],
   "source": [
    "np.random.random((3,4))"
   ]
  },
  {
   "cell_type": "code",
   "execution_count": 154,
   "id": "03e8df39-4d0b-4638-be20-eac0700384b2",
   "metadata": {},
   "outputs": [
    {
     "data": {
      "text/plain": [
       "array([[0.39975917, 0.32361764, 0.79115523, 0.59669517, 0.7296108 ],\n",
       "       [0.91866235, 0.88802422, 0.18715365, 0.80934763, 0.0628161 ],\n",
       "       [0.2157651 , 0.93234019, 0.02671904, 0.54009723, 0.11212685]])"
      ]
     },
     "execution_count": 154,
     "metadata": {},
     "output_type": "execute_result"
    }
   ],
   "source": [
    "# np.random\n",
    "np.random.random((3,5))"
   ]
  },
  {
   "cell_type": "code",
   "execution_count": 156,
   "id": "43fa6930-3ac6-4f4a-a60e-1be01c308166",
   "metadata": {},
   "outputs": [
    {
     "data": {
      "text/plain": [
       "array([-20, -18, -16, -14, -12, -10,  -8,  -6,  -4,  -2,   1,   3,   5,\n",
       "         7,   9,  11,  13,  15,  17,  20])"
      ]
     },
     "execution_count": 156,
     "metadata": {},
     "output_type": "execute_result"
    }
   ],
   "source": [
    "# np.linspace \n",
    "\n",
    "np.linspace(-20,20,20,dtype=int)"
   ]
  },
  {
   "cell_type": "code",
   "execution_count": 158,
   "id": "df9f5929-7079-4a50-978a-63d8c92a2266",
   "metadata": {},
   "outputs": [
    {
     "data": {
      "text/plain": [
       "array([[1., 0., 0., 0.],\n",
       "       [0., 1., 0., 0.],\n",
       "       [0., 0., 1., 0.],\n",
       "       [0., 0., 0., 1.]])"
      ]
     },
     "execution_count": 158,
     "metadata": {},
     "output_type": "execute_result"
    }
   ],
   "source": [
    "# np.identity\n",
    "np.identity(4)"
   ]
  },
  {
   "cell_type": "code",
   "execution_count": 160,
   "id": "1657538d-92de-48ec-b50f-0389f382a0b7",
   "metadata": {},
   "outputs": [
    {
     "data": {
      "text/plain": [
       "1"
      ]
     },
     "execution_count": 160,
     "metadata": {},
     "output_type": "execute_result"
    }
   ],
   "source": [
    "1"
   ]
  },
  {
   "cell_type": "code",
   "execution_count": 162,
   "id": "34d07c55-aee7-4f5d-9cbe-3f86f6f2f8fc",
   "metadata": {},
   "outputs": [],
   "source": [
    "l.append(5)"
   ]
  },
  {
   "cell_type": "code",
   "execution_count": 164,
   "id": "27a54bc0-e9a8-41f7-9748-3e8e8d0cd70a",
   "metadata": {},
   "outputs": [
    {
     "data": {
      "text/plain": [
       "1"
      ]
     },
     "execution_count": 164,
     "metadata": {},
     "output_type": "execute_result"
    }
   ],
   "source": [
    "1"
   ]
  },
  {
   "cell_type": "code",
   "execution_count": 174,
   "id": "cddce8ff-36a5-4fa2-9a94-93f9e2f11928",
   "metadata": {},
   "outputs": [
    {
     "data": {
      "text/plain": [
       "False"
      ]
     },
     "execution_count": 174,
     "metadata": {},
     "output_type": "execute_result"
    }
   ],
   "source": [
    "1==([1,2,3,4,5])"
   ]
  },
  {
   "cell_type": "markdown",
   "id": "77a9a74d-5e8e-4d85-905a-f251bf3dcbdf",
   "metadata": {},
   "source": [
    " NumPy Array Indexing"
   ]
  },
  {
   "cell_type": "code",
   "execution_count": 177,
   "id": "a858b7a6-2cde-4aac-9e95-24629dcccd06",
   "metadata": {},
   "outputs": [
    {
     "data": {
      "text/plain": [
       "[4, 5, 6]"
      ]
     },
     "execution_count": 177,
     "metadata": {},
     "output_type": "execute_result"
    }
   ],
   "source": [
    "[1, 2, 3],\n",
    "[4, 5, 6]\n",
    "[4, 5, 6]"
   ]
  },
  {
   "cell_type": "markdown",
   "id": "39a8a147-861c-4754-a539-28cb0f3f70e8",
   "metadata": {},
   "source": [
    "2D Example\n",
    "Slicing\n",
    "Slicing allows extracting parts of arrays using `[start:stop:step]\n",
    "arr = np.array([10, 20, 30, 40, 50])\n",
    "print(arr[1:4])    \n",
    "\n",
    "2D Example\n",
    "matrix = np.array([[1, 2, 3],\n",
    "                   [4, 5, 6],\n",
    "                   [7, 8, 9]])\n",
    "\n",
    "print(matrix[0:2, 1:3])\n",
    "\n",
    "Integer Array Indexing\n",
    "You can pass a list/array of indices to select specific elements\n"
   ]
  },
  {
   "cell_type": "markdown",
   "id": "76cdbe2a-3aa3-4711-bd0a-cd46603b1ea2",
   "metadata": {},
   "source": [
    "### NumPy Array Slicing"
   ]
  },
  {
   "cell_type": "markdown",
   "id": "32b7641d-e703-4758-9332-948059589d7a",
   "metadata": {},
   "source": [
    " 1D Array Slicing"
   ]
  },
  {
   "cell_type": "code",
   "execution_count": 195,
   "id": "d78e3c15-2dd0-4802-b12a-bad14200a408",
   "metadata": {},
   "outputs": [
    {
     "name": "stdout",
     "output_type": "stream",
     "text": [
      "[5 6 8]\n"
     ]
    }
   ],
   "source": [
    "print(arr[1:4])"
   ]
  },
  {
   "cell_type": "code",
   "execution_count": 197,
   "id": "185f7d56-0b3f-4a90-a5a1-641e7c3cb53a",
   "metadata": {},
   "outputs": [
    {
     "name": "stdout",
     "output_type": "stream",
     "text": [
      "[4 5 6]\n"
     ]
    }
   ],
   "source": [
    "print(arr[:3])"
   ]
  },
  {
   "cell_type": "code",
   "execution_count": 199,
   "id": "ed7159fe-99b0-4294-8790-20ae4f6bf75f",
   "metadata": {},
   "outputs": [
    {
     "name": "stdout",
     "output_type": "stream",
     "text": [
      "[4 6 9 5]\n"
     ]
    }
   ],
   "source": [
    "print(arr[::2])"
   ]
  },
  {
   "cell_type": "code",
   "execution_count": 201,
   "id": "439baf7d-e2bc-4372-ba77-a5bf94bfdc02",
   "metadata": {},
   "outputs": [
    {
     "name": "stdout",
     "output_type": "stream",
     "text": [
      "[5 8 9 8 6 5 4]\n"
     ]
    }
   ],
   "source": [
    "print(arr[::-1])"
   ]
  },
  {
   "cell_type": "code",
   "execution_count": 203,
   "id": "30ffa1d9-a613-45e1-9430-2d2238b3d4c5",
   "metadata": {},
   "outputs": [
    {
     "ename": "NameError",
     "evalue": "name 'matrix' is not defined",
     "output_type": "error",
     "traceback": [
      "\u001b[1;31m---------------------------------------------------------------------------\u001b[0m",
      "\u001b[1;31mNameError\u001b[0m                                 Traceback (most recent call last)",
      "Cell \u001b[1;32mIn[203], line 1\u001b[0m\n\u001b[1;32m----> 1\u001b[0m \u001b[38;5;28mprint\u001b[39m(matrix[\u001b[38;5;241m2\u001b[39m:\u001b[38;5;241m3\u001b[39m,\u001b[38;5;241m1\u001b[39m:\u001b[38;5;241m2\u001b[39m])\n",
      "\u001b[1;31mNameError\u001b[0m: name 'matrix' is not defined"
     ]
    }
   ],
   "source": [
    "print(matrix[2:3,1:2])"
   ]
  },
  {
   "cell_type": "markdown",
   "id": "cec1e752-dfa4-4617-b2ef-98a5045c1118",
   "metadata": {},
   "source": [
    "### 2D Array Slicing"
   ]
  },
  {
   "cell_type": "code",
   "execution_count": 206,
   "id": "ca8c12ac-418f-48ef-bdfc-c44edccb5eb3",
   "metadata": {},
   "outputs": [],
   "source": [
    "matrix = np.array([[1, 2, 3],\n",
    "                   [4, 5, 6],\n",
    "                   [7, 8, 9]])"
   ]
  },
  {
   "cell_type": "code",
   "execution_count": 208,
   "id": "47672fa7-b3d8-460c-b435-be32e21c283d",
   "metadata": {},
   "outputs": [
    {
     "name": "stdout",
     "output_type": "stream",
     "text": [
      "[[8]]\n"
     ]
    }
   ],
   "source": [
    "\n",
    "print(matrix[2:3,1:2])"
   ]
  },
  {
   "cell_type": "code",
   "execution_count": 210,
   "id": "3ba35b23-91e9-48d7-b612-f26536bc7513",
   "metadata": {},
   "outputs": [
    {
     "name": "stdout",
     "output_type": "stream",
     "text": [
      "[[2 3]\n",
      " [5 6]]\n"
     ]
    }
   ],
   "source": [
    "matrix = np.array([[1, 2, 3],\n",
    "                   [4, 5, 6],\n",
    "                   [7, 8, 9]])\n",
    "\n",
    "print(matrix[0:2, 1:3]) "
   ]
  },
  {
   "cell_type": "markdown",
   "id": "03c87b75-bce9-4f92-b3b1-7e3826d1d2eb",
   "metadata": {},
   "source": [
    "### NumPy Array Copy vs View"
   ]
  },
  {
   "cell_type": "code",
   "execution_count": 213,
   "id": "68f9fd94-6904-4b22-b763-a4d9d0062c4b",
   "metadata": {},
   "outputs": [],
   "source": [
    "a = np.array([1, 2, 3, 4])"
   ]
  },
  {
   "cell_type": "code",
   "execution_count": 215,
   "id": "c608f741-fb34-421c-8f2e-b47771224d0b",
   "metadata": {},
   "outputs": [],
   "source": [
    "b = a[1:3]"
   ]
  },
  {
   "cell_type": "code",
   "execution_count": 217,
   "id": "c4da5004-7f58-4485-8627-7d35077ad9fa",
   "metadata": {},
   "outputs": [
    {
     "data": {
      "text/plain": [
       "array([2, 3])"
      ]
     },
     "execution_count": 217,
     "metadata": {},
     "output_type": "execute_result"
    }
   ],
   "source": [
    "b"
   ]
  },
  {
   "cell_type": "code",
   "execution_count": 219,
   "id": "78412c2f-fc71-4727-9a11-a2a3f6401fa0",
   "metadata": {},
   "outputs": [],
   "source": [
    "b[0] = 99"
   ]
  },
  {
   "cell_type": "code",
   "execution_count": 221,
   "id": "b29db0ae-6e1a-4245-b984-6038992eb17a",
   "metadata": {},
   "outputs": [
    {
     "data": {
      "text/plain": [
       "array([99,  3])"
      ]
     },
     "execution_count": 221,
     "metadata": {},
     "output_type": "execute_result"
    }
   ],
   "source": [
    "b"
   ]
  },
  {
   "cell_type": "code",
   "execution_count": 223,
   "id": "9471207f-6297-4fbc-a59a-b966a7beb0ac",
   "metadata": {},
   "outputs": [
    {
     "data": {
      "text/plain": [
       "array([ 1, 99,  3,  4])"
      ]
     },
     "execution_count": 223,
     "metadata": {},
     "output_type": "execute_result"
    }
   ],
   "source": [
    "a"
   ]
  },
  {
   "cell_type": "code",
   "execution_count": 225,
   "id": "a02fdd56-09ca-4b17-aa7a-d6f226ff2524",
   "metadata": {},
   "outputs": [],
   "source": [
    "a = np.array([1, 2, 3, 4])"
   ]
  },
  {
   "cell_type": "code",
   "execution_count": 227,
   "id": "dfabf0f3-249f-402c-a71a-15bf79b4b0c4",
   "metadata": {},
   "outputs": [],
   "source": [
    "b = a[1:3].copy() "
   ]
  },
  {
   "cell_type": "code",
   "execution_count": 229,
   "id": "d98075b7-6f55-4a28-a0b1-6e9e8bda097b",
   "metadata": {},
   "outputs": [],
   "source": [
    "b[0] = 99"
   ]
  },
  {
   "cell_type": "code",
   "execution_count": 231,
   "id": "0fb5ce62-4d90-44d7-9fa3-9871643c6a11",
   "metadata": {},
   "outputs": [
    {
     "name": "stdout",
     "output_type": "stream",
     "text": [
      "[1 2 3 4]\n"
     ]
    }
   ],
   "source": [
    "print(a)"
   ]
  },
  {
   "cell_type": "code",
   "execution_count": 233,
   "id": "fce8002a-2ead-4cad-911b-a1e1c9364e5c",
   "metadata": {},
   "outputs": [
    {
     "name": "stdout",
     "output_type": "stream",
     "text": [
      "[99  3]\n"
     ]
    }
   ],
   "source": [
    "print(b) "
   ]
  },
  {
   "cell_type": "markdown",
   "id": "74d5595b-a431-4e35-8ac8-c5fb303b6765",
   "metadata": {},
   "source": [
    "### NumPy Array Shape and Reshaping"
   ]
  },
  {
   "cell_type": "code",
   "execution_count": 237,
   "id": "f106afe2-2d87-410a-8d2c-3c9ee1996bf4",
   "metadata": {},
   "outputs": [],
   "source": [
    "arr = np.array([[1, 2, 3], \n",
    "                [4, 5, 6]])"
   ]
  },
  {
   "cell_type": "code",
   "execution_count": 240,
   "id": "e6f0919c-cbfb-4f9c-b262-8705a176600a",
   "metadata": {},
   "outputs": [
    {
     "data": {
      "text/plain": [
       "(2, 3)"
      ]
     },
     "execution_count": 240,
     "metadata": {},
     "output_type": "execute_result"
    }
   ],
   "source": [
    "arr.shape"
   ]
  },
  {
   "cell_type": "code",
   "execution_count": 242,
   "id": "908d78cb-81ff-4ade-afa0-8e444dc07794",
   "metadata": {},
   "outputs": [],
   "source": [
    "arr2 = np.array([[1, 2, 3], \n",
    "                 [4, 5, 6],\n",
    "                 [4, 5, 6]])"
   ]
  },
  {
   "cell_type": "code",
   "execution_count": 244,
   "id": "9c44a6c7-51b0-4d57-beb0-64e5b05f6041",
   "metadata": {},
   "outputs": [
    {
     "data": {
      "text/plain": [
       "(3, 3)"
      ]
     },
     "execution_count": 244,
     "metadata": {},
     "output_type": "execute_result"
    }
   ],
   "source": [
    "arr2.shape"
   ]
  },
  {
   "cell_type": "markdown",
   "id": "954dfbf1-d7d7-4471-8894-f70c3d686246",
   "metadata": {},
   "source": [
    "###  Reshaping Arrays"
   ]
  },
  {
   "cell_type": "code",
   "execution_count": 247,
   "id": "1803a669-3f0f-4d1c-bb1e-612c45ca423a",
   "metadata": {},
   "outputs": [],
   "source": [
    "a = np.arange(12)"
   ]
  },
  {
   "cell_type": "code",
   "execution_count": 249,
   "id": "97b2295c-e51d-4870-bfa1-9a480517fcbb",
   "metadata": {},
   "outputs": [
    {
     "data": {
      "text/plain": [
       "array([ 0,  1,  2,  3,  4,  5,  6,  7,  8,  9, 10, 11])"
      ]
     },
     "execution_count": 249,
     "metadata": {},
     "output_type": "execute_result"
    }
   ],
   "source": [
    "a"
   ]
  },
  {
   "cell_type": "code",
   "execution_count": 251,
   "id": "6ad39e78-4402-45ea-828f-d37de08b9ec8",
   "metadata": {},
   "outputs": [],
   "source": [
    "b = a.reshape(3, 4)"
   ]
  },
  {
   "cell_type": "code",
   "execution_count": 253,
   "id": "013511f0-f32c-4c7c-88c3-250779bfc647",
   "metadata": {},
   "outputs": [
    {
     "data": {
      "text/plain": [
       "array([[ 0,  1,  2,  3],\n",
       "       [ 4,  5,  6,  7],\n",
       "       [ 8,  9, 10, 11]])"
      ]
     },
     "execution_count": 253,
     "metadata": {},
     "output_type": "execute_result"
    }
   ],
   "source": [
    "b"
   ]
  },
  {
   "cell_type": "code",
   "execution_count": 255,
   "id": "1ab8b1b9-7cc0-42aa-bad2-32e9f46b2eb4",
   "metadata": {},
   "outputs": [],
   "source": [
    "c = a.reshape(12, 1)"
   ]
  },
  {
   "cell_type": "code",
   "execution_count": 257,
   "id": "ef4c8cec-f510-4429-a844-efcee2e70e21",
   "metadata": {},
   "outputs": [
    {
     "data": {
      "text/plain": [
       "array([[ 0],\n",
       "       [ 1],\n",
       "       [ 2],\n",
       "       [ 3],\n",
       "       [ 4],\n",
       "       [ 5],\n",
       "       [ 6],\n",
       "       [ 7],\n",
       "       [ 8],\n",
       "       [ 9],\n",
       "       [10],\n",
       "       [11]])"
      ]
     },
     "execution_count": 257,
     "metadata": {},
     "output_type": "execute_result"
    }
   ],
   "source": [
    "c"
   ]
  },
  {
   "cell_type": "code",
   "execution_count": 261,
   "id": "ab260d9a-243d-4018-a355-49ac3d0cf41a",
   "metadata": {},
   "outputs": [
    {
     "ename": "SyntaxError",
     "evalue": "invalid syntax (1962180561.py, line 3)",
     "output_type": "error",
     "traceback": [
      "\u001b[1;36m  Cell \u001b[1;32mIn[261], line 3\u001b[1;36m\u001b[0m\n\u001b[1;33m    3*4 ===12\u001b[0m\n\u001b[1;37m          ^\u001b[0m\n\u001b[1;31mSyntaxError\u001b[0m\u001b[1;31m:\u001b[0m invalid syntax\n"
     ]
    }
   ],
   "source": [
    "12 \n",
    "\n",
    "3*4 ===12\n",
    "6*2====12\n",
    "12*1===12\n",
    "\n",
    "\n",
    "3*5==15   \\\\\\\\\\"
   ]
  },
  {
   "cell_type": "markdown",
   "id": "75477bdd-135d-40b5-a981-1b67641a63cb",
   "metadata": {},
   "source": [
    "### Array Attributes"
   ]
  },
  {
   "cell_type": "code",
   "execution_count": 266,
   "id": "36375b96-f2c6-4104-86d0-d0b35583a172",
   "metadata": {},
   "outputs": [],
   "source": [
    "import numpy as np"
   ]
  },
  {
   "cell_type": "code",
   "execution_count": 268,
   "id": "cc4807e4-6cec-4575-9cb4-aad6019cf637",
   "metadata": {},
   "outputs": [],
   "source": [
    "arr_1d = np.array([1,2,3,4,5,6])"
   ]
  },
  {
   "cell_type": "code",
   "execution_count": 270,
   "id": "67d04bce-d9ea-406b-8999-34b8ca65eb05",
   "metadata": {},
   "outputs": [],
   "source": [
    "arr_2d = np.array([[1,2,3,4,5,6],\n",
    "                   [10,20,30,40,50,60]])"
   ]
  },
  {
   "cell_type": "code",
   "execution_count": 272,
   "id": "dabe385b-de22-43b3-8032-4f8dcd00ca3a",
   "metadata": {},
   "outputs": [
    {
     "data": {
      "text/plain": [
       "array([[ 1, 10],\n",
       "       [ 2, 20],\n",
       "       [ 3, 30],\n",
       "       [ 4, 40],\n",
       "       [ 5, 50],\n",
       "       [ 6, 60]])"
      ]
     },
     "execution_count": 272,
     "metadata": {},
     "output_type": "execute_result"
    }
   ],
   "source": [
    "arr_2d.transpose()"
   ]
  },
  {
   "cell_type": "code",
   "execution_count": 274,
   "id": "ceedb990-1e76-4302-954b-20e506ea0ded",
   "metadata": {},
   "outputs": [],
   "source": [
    "arr_3d=np.array([[ 0,  1,  2,  3],\n",
    "       [ 4,  5,  6,  7],\n",
    "       [ 8,  9, 10, 11]])"
   ]
  },
  {
   "cell_type": "code",
   "execution_count": 276,
   "id": "b30395ed-491b-4964-a6b9-acc37af05f11",
   "metadata": {},
   "outputs": [
    {
     "data": {
      "text/plain": [
       "array([[ 0,  4,  8],\n",
       "       [ 1,  5,  9],\n",
       "       [ 2,  6, 10],\n",
       "       [ 3,  7, 11]])"
      ]
     },
     "execution_count": 276,
     "metadata": {},
     "output_type": "execute_result"
    }
   ],
   "source": [
    "arr_3d.transpose()"
   ]
  },
  {
   "cell_type": "code",
   "execution_count": 278,
   "id": "b57089b4-0d3d-41f6-9bfd-c976fc446bfe",
   "metadata": {},
   "outputs": [
    {
     "data": {
      "text/plain": [
       "(6,)"
      ]
     },
     "execution_count": 278,
     "metadata": {},
     "output_type": "execute_result"
    }
   ],
   "source": [
    "arr_1d.shape"
   ]
  },
  {
   "cell_type": "code",
   "execution_count": 280,
   "id": "e706290d-1423-4627-86a8-9b22fd4c3b6e",
   "metadata": {},
   "outputs": [
    {
     "data": {
      "text/plain": [
       "(2, 6)"
      ]
     },
     "execution_count": 280,
     "metadata": {},
     "output_type": "execute_result"
    }
   ],
   "source": [
    "arr_2d.shape"
   ]
  },
  {
   "cell_type": "code",
   "execution_count": 282,
   "id": "fd32be9d-445a-4c90-9921-a7d1d572e462",
   "metadata": {},
   "outputs": [
    {
     "data": {
      "text/plain": [
       "(2, 3)"
      ]
     },
     "execution_count": 282,
     "metadata": {},
     "output_type": "execute_result"
    }
   ],
   "source": [
    "arr.shape"
   ]
  },
  {
   "cell_type": "code",
   "execution_count": 284,
   "id": "e6a6827e-bd0e-4c27-9d93-80f5a10dc9f8",
   "metadata": {},
   "outputs": [
    {
     "data": {
      "text/plain": [
       "2"
      ]
     },
     "execution_count": 284,
     "metadata": {},
     "output_type": "execute_result"
    }
   ],
   "source": [
    "arr.ndim"
   ]
  },
  {
   "cell_type": "code",
   "execution_count": 286,
   "id": "f09ced89-7ab6-4abc-83b4-78bdbcad37c8",
   "metadata": {},
   "outputs": [],
   "source": [
    "arr_2d = np.arange(12).reshape(4,3)"
   ]
  },
  {
   "cell_type": "code",
   "execution_count": 288,
   "id": "270c1a2c-8e3d-4739-b321-5a6d6a98630d",
   "metadata": {},
   "outputs": [
    {
     "data": {
      "text/plain": [
       "array([[ 0,  1,  2],\n",
       "       [ 3,  4,  5],\n",
       "       [ 6,  7,  8],\n",
       "       [ 9, 10, 11]])"
      ]
     },
     "execution_count": 288,
     "metadata": {},
     "output_type": "execute_result"
    }
   ],
   "source": [
    "arr_2d"
   ]
  },
  {
   "cell_type": "code",
   "execution_count": 290,
   "id": "6c2067d6-1199-42ab-a493-4ae1cb214053",
   "metadata": {},
   "outputs": [
    {
     "ename": "NameError",
     "evalue": "name 'df' is not defined",
     "output_type": "error",
     "traceback": [
      "\u001b[1;31m---------------------------------------------------------------------------\u001b[0m",
      "\u001b[1;31mNameError\u001b[0m                                 Traceback (most recent call last)",
      "Cell \u001b[1;32mIn[290], line 1\u001b[0m\n\u001b[1;32m----> 1\u001b[0m df\n",
      "\u001b[1;31mNameError\u001b[0m: name 'df' is not defined"
     ]
    }
   ],
   "source": [
    "df\n"
   ]
  },
  {
   "cell_type": "code",
   "execution_count": 292,
   "id": "55fa494f-5a91-4dbe-a0dc-8dac04edbeb1",
   "metadata": {},
   "outputs": [
    {
     "data": {
      "text/plain": [
       "2"
      ]
     },
     "execution_count": 292,
     "metadata": {},
     "output_type": "execute_result"
    }
   ],
   "source": [
    "arr_2d.ndim"
   ]
  },
  {
   "cell_type": "code",
   "execution_count": 294,
   "id": "32c7cbd3-08f6-4777-8aa6-973f7385bb1f",
   "metadata": {},
   "outputs": [
    {
     "data": {
      "text/plain": [
       "(4, 3)"
      ]
     },
     "execution_count": 294,
     "metadata": {},
     "output_type": "execute_result"
    }
   ],
   "source": [
    "arr_2d.shape"
   ]
  },
  {
   "cell_type": "code",
   "execution_count": 296,
   "id": "f597b5f6-bf2b-4cb1-8df9-015a802536d1",
   "metadata": {},
   "outputs": [
    {
     "data": {
      "text/plain": [
       "12"
      ]
     },
     "execution_count": 296,
     "metadata": {},
     "output_type": "execute_result"
    }
   ],
   "source": [
    "arr_2d.size"
   ]
  },
  {
   "cell_type": "markdown",
   "id": "a954e899-b28e-43e8-9912-bd33b1ac59c3",
   "metadata": {},
   "source": [
    "### 1. **`ndim`** (Number of Dimensions)"
   ]
  },
  {
   "cell_type": "code",
   "execution_count": 299,
   "id": "b42d4c17-6002-45f5-ba52-bc96ed53e93b",
   "metadata": {},
   "outputs": [],
   "source": [
    "a11 = np.arange(12)\n",
    "a22 = np.arange(12).reshape(3,4)\n",
    "a33 = np.arange(27).reshape(3,3,3)"
   ]
  },
  {
   "cell_type": "code",
   "execution_count": 301,
   "id": "67408cb8-4e05-46ff-9b0e-de6e0cc4f3b6",
   "metadata": {},
   "outputs": [
    {
     "data": {
      "text/plain": [
       "array([ 0,  1,  2,  3,  4,  5,  6,  7,  8,  9, 10, 11])"
      ]
     },
     "execution_count": 301,
     "metadata": {},
     "output_type": "execute_result"
    }
   ],
   "source": [
    "a11"
   ]
  },
  {
   "cell_type": "code",
   "execution_count": 303,
   "id": "8fc1cefa-7fbc-49e8-830e-ce4ae7f53ca7",
   "metadata": {},
   "outputs": [
    {
     "data": {
      "text/plain": [
       "array([[ 0,  1,  2,  3],\n",
       "       [ 4,  5,  6,  7],\n",
       "       [ 8,  9, 10, 11]])"
      ]
     },
     "execution_count": 303,
     "metadata": {},
     "output_type": "execute_result"
    }
   ],
   "source": [
    "a22"
   ]
  },
  {
   "cell_type": "code",
   "execution_count": 305,
   "id": "867424e2-bd99-4983-8348-2c92dd1fc408",
   "metadata": {},
   "outputs": [
    {
     "data": {
      "text/plain": [
       "array([[[ 0,  1,  2],\n",
       "        [ 3,  4,  5],\n",
       "        [ 6,  7,  8]],\n",
       "\n",
       "       [[ 9, 10, 11],\n",
       "        [12, 13, 14],\n",
       "        [15, 16, 17]],\n",
       "\n",
       "       [[18, 19, 20],\n",
       "        [21, 22, 23],\n",
       "        [24, 25, 26]]])"
      ]
     },
     "execution_count": 305,
     "metadata": {},
     "output_type": "execute_result"
    }
   ],
   "source": [
    "a33"
   ]
  },
  {
   "cell_type": "code",
   "execution_count": 307,
   "id": "a9b8c7be-3eb3-4eb4-9d81-379e6d849f25",
   "metadata": {},
   "outputs": [
    {
     "data": {
      "text/plain": [
       "1"
      ]
     },
     "execution_count": 307,
     "metadata": {},
     "output_type": "execute_result"
    }
   ],
   "source": [
    "a11.ndim"
   ]
  },
  {
   "cell_type": "code",
   "execution_count": 309,
   "id": "a50a5df6-6458-491f-b9b6-ea90beb76306",
   "metadata": {},
   "outputs": [
    {
     "data": {
      "text/plain": [
       "2"
      ]
     },
     "execution_count": 309,
     "metadata": {},
     "output_type": "execute_result"
    }
   ],
   "source": [
    "a22.ndim"
   ]
  },
  {
   "cell_type": "code",
   "execution_count": 311,
   "id": "760f6dd6-6fe2-4be5-b84a-b6d7ca856567",
   "metadata": {},
   "outputs": [
    {
     "data": {
      "text/plain": [
       "3"
      ]
     },
     "execution_count": 311,
     "metadata": {},
     "output_type": "execute_result"
    }
   ],
   "source": [
    "a33.ndim"
   ]
  },
  {
   "cell_type": "code",
   "execution_count": 313,
   "id": "cca54531-56ee-4e8c-a98f-821d67955e46",
   "metadata": {},
   "outputs": [
    {
     "data": {
      "text/plain": [
       "1"
      ]
     },
     "execution_count": 313,
     "metadata": {},
     "output_type": "execute_result"
    }
   ],
   "source": [
    "import numpy as np\n",
    "\n",
    "# 1D Array\n",
    "array_1d = np.array([1, 2, 3])\n",
    "array_1d.ndim "
   ]
  },
  {
   "cell_type": "code",
   "execution_count": 315,
   "id": "ee941a92-fd04-457a-8097-3b2bbe264b75",
   "metadata": {},
   "outputs": [
    {
     "data": {
      "text/plain": [
       "2"
      ]
     },
     "execution_count": 315,
     "metadata": {},
     "output_type": "execute_result"
    }
   ],
   "source": [
    "array_2d = np.array([[1, 2], [3, 4]])\n",
    "array_2d.ndim"
   ]
  },
  {
   "cell_type": "markdown",
   "id": "7b4f765a-e30d-413f-97d7-d3358e897a7c",
   "metadata": {},
   "source": [
    "\n",
    "### 2. **`shape`** (Shape of the Array)"
   ]
  },
  {
   "cell_type": "code",
   "execution_count": 318,
   "id": "b95be17e-334a-4ce5-994e-30e021cdd9af",
   "metadata": {},
   "outputs": [
    {
     "data": {
      "text/plain": [
       "(12,)"
      ]
     },
     "execution_count": 318,
     "metadata": {},
     "output_type": "execute_result"
    }
   ],
   "source": [
    "a11.shape"
   ]
  },
  {
   "cell_type": "code",
   "execution_count": 320,
   "id": "8b673f69-15aa-4ba0-b8b6-e0506582efc0",
   "metadata": {},
   "outputs": [
    {
     "data": {
      "text/plain": [
       "array([ 0,  1,  2,  3,  4,  5,  6,  7,  8,  9, 10, 11])"
      ]
     },
     "execution_count": 320,
     "metadata": {},
     "output_type": "execute_result"
    }
   ],
   "source": [
    "a11"
   ]
  },
  {
   "cell_type": "code",
   "execution_count": 322,
   "id": "0551d888-a513-4a71-b41b-e131d77fd272",
   "metadata": {},
   "outputs": [
    {
     "data": {
      "text/plain": [
       "(3, 4)"
      ]
     },
     "execution_count": 322,
     "metadata": {},
     "output_type": "execute_result"
    }
   ],
   "source": [
    "a22.shape"
   ]
  },
  {
   "cell_type": "code",
   "execution_count": 324,
   "id": "c0a2eca2-58fc-41bf-b0e5-5a2fdb4d43dc",
   "metadata": {},
   "outputs": [
    {
     "data": {
      "text/plain": [
       "array([[ 0,  1,  2,  3],\n",
       "       [ 4,  5,  6,  7],\n",
       "       [ 8,  9, 10, 11]])"
      ]
     },
     "execution_count": 324,
     "metadata": {},
     "output_type": "execute_result"
    }
   ],
   "source": [
    "a22\n"
   ]
  },
  {
   "cell_type": "code",
   "execution_count": 326,
   "id": "efc7a7f8-5e73-4833-a943-6c79f6cb0d00",
   "metadata": {},
   "outputs": [
    {
     "data": {
      "text/plain": [
       "(3, 3, 3)"
      ]
     },
     "execution_count": 326,
     "metadata": {},
     "output_type": "execute_result"
    }
   ],
   "source": [
    "a33.shape"
   ]
  },
  {
   "cell_type": "code",
   "execution_count": 328,
   "id": "5858df70-6b75-46a5-bcbe-2a58983d1404",
   "metadata": {},
   "outputs": [
    {
     "data": {
      "text/plain": [
       "array([[[ 0,  1,  2],\n",
       "        [ 3,  4,  5],\n",
       "        [ 6,  7,  8]],\n",
       "\n",
       "       [[ 9, 10, 11],\n",
       "        [12, 13, 14],\n",
       "        [15, 16, 17]],\n",
       "\n",
       "       [[18, 19, 20],\n",
       "        [21, 22, 23],\n",
       "        [24, 25, 26]]])"
      ]
     },
     "execution_count": 328,
     "metadata": {},
     "output_type": "execute_result"
    }
   ],
   "source": [
    "a33\n"
   ]
  },
  {
   "cell_type": "code",
   "execution_count": 330,
   "id": "ccf7ef75-d28a-45b4-8800-0f3dc5937aef",
   "metadata": {},
   "outputs": [
    {
     "data": {
      "text/plain": [
       "(3,)"
      ]
     },
     "execution_count": 330,
     "metadata": {},
     "output_type": "execute_result"
    }
   ],
   "source": [
    "array_1d.shape"
   ]
  },
  {
   "cell_type": "code",
   "execution_count": 332,
   "id": "eb5f84e0-adfe-47a8-a92b-0cb9f0356c43",
   "metadata": {},
   "outputs": [
    {
     "data": {
      "text/plain": [
       "(2, 2)"
      ]
     },
     "execution_count": 332,
     "metadata": {},
     "output_type": "execute_result"
    }
   ],
   "source": [
    "array_2d.shape"
   ]
  },
  {
   "cell_type": "markdown",
   "id": "6d4923e1-6ff0-456f-9ad2-ddea3740800c",
   "metadata": {},
   "source": [
    "### 3. **`size`** (Total Number of Elements)"
   ]
  },
  {
   "cell_type": "code",
   "execution_count": 335,
   "id": "572f3056-734d-4724-b498-69615f2a1fae",
   "metadata": {},
   "outputs": [
    {
     "data": {
      "text/plain": [
       "12"
      ]
     },
     "execution_count": 335,
     "metadata": {},
     "output_type": "execute_result"
    }
   ],
   "source": [
    "a11.size"
   ]
  },
  {
   "cell_type": "code",
   "execution_count": 337,
   "id": "b813d549-0563-4e01-ae90-6608af926a6d",
   "metadata": {},
   "outputs": [
    {
     "data": {
      "text/plain": [
       "12"
      ]
     },
     "execution_count": 337,
     "metadata": {},
     "output_type": "execute_result"
    }
   ],
   "source": [
    "a22.size"
   ]
  },
  {
   "cell_type": "code",
   "execution_count": 339,
   "id": "d50dd35f-9392-4aaa-b82a-6362f800bde4",
   "metadata": {},
   "outputs": [
    {
     "data": {
      "text/plain": [
       "(3, 4)"
      ]
     },
     "execution_count": 339,
     "metadata": {},
     "output_type": "execute_result"
    }
   ],
   "source": [
    "a22.shape"
   ]
  },
  {
   "cell_type": "code",
   "execution_count": 341,
   "id": "ffd00f17-67d0-4f35-9af1-558414bbb8d5",
   "metadata": {},
   "outputs": [
    {
     "data": {
      "text/plain": [
       "(3, 3, 3)"
      ]
     },
     "execution_count": 341,
     "metadata": {},
     "output_type": "execute_result"
    }
   ],
   "source": [
    "a33.shape"
   ]
  },
  {
   "cell_type": "code",
   "execution_count": 343,
   "id": "3d15f19b-4841-48ee-8905-2d28b3029047",
   "metadata": {},
   "outputs": [
    {
     "data": {
      "text/plain": [
       "3"
      ]
     },
     "execution_count": 343,
     "metadata": {},
     "output_type": "execute_result"
    }
   ],
   "source": [
    "array_1d.size"
   ]
  },
  {
   "cell_type": "code",
   "execution_count": 345,
   "id": "bc816776-4c5f-4f98-8308-44e6644c0ea2",
   "metadata": {},
   "outputs": [
    {
     "data": {
      "text/plain": [
       "4"
      ]
     },
     "execution_count": 345,
     "metadata": {},
     "output_type": "execute_result"
    }
   ],
   "source": [
    "array_2d.size "
   ]
  },
  {
   "cell_type": "markdown",
   "id": "f774e42f-0eea-49a6-b83b-6566c7f7f2e3",
   "metadata": {},
   "source": [
    "### 4. **`dtype`** (Data Type of Elements)Returns the data type of the elements stored in the array."
   ]
  },
  {
   "cell_type": "code",
   "execution_count": 348,
   "id": "9741f83c-258b-4486-9486-ebf404668685",
   "metadata": {},
   "outputs": [
    {
     "data": {
      "text/plain": [
       "dtype('int32')"
      ]
     },
     "execution_count": 348,
     "metadata": {},
     "output_type": "execute_result"
    }
   ],
   "source": [
    "a11.dtype"
   ]
  },
  {
   "cell_type": "code",
   "execution_count": 350,
   "id": "8115ccb0-d89f-42b3-8515-643cad7c327a",
   "metadata": {},
   "outputs": [
    {
     "data": {
      "text/plain": [
       "dtype('int32')"
      ]
     },
     "execution_count": 350,
     "metadata": {},
     "output_type": "execute_result"
    }
   ],
   "source": [
    "a22.dtype"
   ]
  },
  {
   "cell_type": "code",
   "execution_count": 352,
   "id": "407f6c13-933c-43b3-8860-a73f6c813ebf",
   "metadata": {},
   "outputs": [
    {
     "data": {
      "text/plain": [
       "dtype('int32')"
      ]
     },
     "execution_count": 352,
     "metadata": {},
     "output_type": "execute_result"
    }
   ],
   "source": [
    "a33.dtype"
   ]
  },
  {
   "cell_type": "code",
   "execution_count": 354,
   "id": "99d323d8-ea9c-4100-b9ca-22381504f2fe",
   "metadata": {},
   "outputs": [
    {
     "data": {
      "text/plain": [
       "dtype('int32')"
      ]
     },
     "execution_count": 354,
     "metadata": {},
     "output_type": "execute_result"
    }
   ],
   "source": [
    "a33.dtype"
   ]
  },
  {
   "cell_type": "code",
   "execution_count": 356,
   "id": "80c41f10-d312-4f01-84ba-d61c7b9986e2",
   "metadata": {},
   "outputs": [
    {
     "data": {
      "text/plain": [
       "dtype('int32')"
      ]
     },
     "execution_count": 356,
     "metadata": {},
     "output_type": "execute_result"
    }
   ],
   "source": [
    "array_1d.dtype"
   ]
  },
  {
   "cell_type": "code",
   "execution_count": 358,
   "id": "f5e8fc54-11be-46c6-80ef-0bcabe00a003",
   "metadata": {},
   "outputs": [
    {
     "data": {
      "text/plain": [
       "dtype('int32')"
      ]
     },
     "execution_count": 358,
     "metadata": {},
     "output_type": "execute_result"
    }
   ],
   "source": [
    "array_2d.dtype"
   ]
  },
  {
   "cell_type": "markdown",
   "id": "29dbda20-1e80-4795-934d-2d8fa9afb621",
   "metadata": {},
   "source": [
    "### 5. **`itemsize`** (Size of Each Element in Bytes)"
   ]
  },
  {
   "cell_type": "code",
   "execution_count": 363,
   "id": "b4cf345c-59cb-49a0-ad59-0625e7aee27a",
   "metadata": {},
   "outputs": [
    {
     "data": {
      "text/plain": [
       "4"
      ]
     },
     "execution_count": 363,
     "metadata": {},
     "output_type": "execute_result"
    }
   ],
   "source": [
    "a11.itemsize"
   ]
  },
  {
   "cell_type": "code",
   "execution_count": 365,
   "id": "8266810f-dbd8-4e2a-b4dd-2e63157ebda7",
   "metadata": {},
   "outputs": [
    {
     "data": {
      "text/plain": [
       "4"
      ]
     },
     "execution_count": 365,
     "metadata": {},
     "output_type": "execute_result"
    }
   ],
   "source": [
    "array_1d.itemsize"
   ]
  },
  {
   "cell_type": "code",
   "execution_count": 367,
   "id": "250f4986-73eb-4a62-ba11-f714b5b48355",
   "metadata": {},
   "outputs": [
    {
     "data": {
      "text/plain": [
       "4"
      ]
     },
     "execution_count": 367,
     "metadata": {},
     "output_type": "execute_result"
    }
   ],
   "source": [
    "\n",
    "array_2d.itemsize "
   ]
  },
  {
   "cell_type": "code",
   "execution_count": 369,
   "id": "32f94da3-9086-43eb-870c-82db136ba804",
   "metadata": {},
   "outputs": [],
   "source": [
    "import numpy as np "
   ]
  },
  {
   "cell_type": "code",
   "execution_count": 371,
   "id": "62034065-e93f-44c0-93e2-7bdaf014c80e",
   "metadata": {},
   "outputs": [
    {
     "data": {
      "text/plain": [
       "array([[ 0,  1,  2,  3],\n",
       "       [ 4,  5,  6,  7],\n",
       "       [ 8,  9, 10, 11]])"
      ]
     },
     "execution_count": 371,
     "metadata": {},
     "output_type": "execute_result"
    }
   ],
   "source": [
    "a11 = np.arange(12).reshape(3,4)\n",
    "a11"
   ]
  },
  {
   "cell_type": "code",
   "execution_count": 373,
   "id": "35b8b80c-5af2-48aa-959f-a13c24323850",
   "metadata": {},
   "outputs": [
    {
     "data": {
      "text/plain": [
       "array([[ 0,  1,  2,  3],\n",
       "       [ 4,  5,  6,  7],\n",
       "       [ 8,  9, 10, 11]])"
      ]
     },
     "execution_count": 373,
     "metadata": {},
     "output_type": "execute_result"
    }
   ],
   "source": [
    "a22"
   ]
  },
  {
   "cell_type": "code",
   "execution_count": 375,
   "id": "7c73d8dc-49e6-4a9a-b6ae-07e3577df826",
   "metadata": {},
   "outputs": [
    {
     "data": {
      "text/plain": [
       "array([[ 0,  1,  2,  3],\n",
       "       [ 4,  5,  6,  7],\n",
       "       [ 8,  9, 10, 11]])"
      ]
     },
     "execution_count": 375,
     "metadata": {},
     "output_type": "execute_result"
    }
   ],
   "source": [
    "a22"
   ]
  },
  {
   "cell_type": "code",
   "execution_count": 377,
   "id": "67df0ea5-e47e-4916-8aee-4ea4647487fa",
   "metadata": {},
   "outputs": [
    {
     "data": {
      "text/plain": [
       "3"
      ]
     },
     "execution_count": 377,
     "metadata": {},
     "output_type": "execute_result"
    }
   ],
   "source": [
    "a33.ndim"
   ]
  },
  {
   "cell_type": "code",
   "execution_count": 379,
   "id": "7426f888-fd07-4904-b26f-e4dd2ee8dbc5",
   "metadata": {},
   "outputs": [
    {
     "data": {
      "text/plain": [
       "2"
      ]
     },
     "execution_count": 379,
     "metadata": {},
     "output_type": "execute_result"
    }
   ],
   "source": [
    "a11.ndim"
   ]
  },
  {
   "cell_type": "code",
   "execution_count": 381,
   "id": "cc9cd7cd-a05e-4c7a-8948-4a4521649956",
   "metadata": {},
   "outputs": [
    {
     "name": "stdout",
     "output_type": "stream",
     "text": [
      "(3, 3, 3)\n"
     ]
    }
   ],
   "source": [
    "print(a33.shape)"
   ]
  },
  {
   "cell_type": "code",
   "execution_count": 383,
   "id": "4f7ab8c0-39a1-43e5-ade4-ca41793fd3aa",
   "metadata": {},
   "outputs": [
    {
     "data": {
      "text/plain": [
       "(3, 4)"
      ]
     },
     "execution_count": 383,
     "metadata": {},
     "output_type": "execute_result"
    }
   ],
   "source": [
    "a11.shape"
   ]
  },
  {
   "cell_type": "code",
   "execution_count": 385,
   "id": "89059afd-c9f8-4de8-a574-995200b75cce",
   "metadata": {},
   "outputs": [
    {
     "name": "stdout",
     "output_type": "stream",
     "text": [
      "12\n"
     ]
    },
    {
     "data": {
      "text/plain": [
       "array([[ 0,  1,  2,  3],\n",
       "       [ 4,  5,  6,  7],\n",
       "       [ 8,  9, 10, 11]])"
      ]
     },
     "execution_count": 385,
     "metadata": {},
     "output_type": "execute_result"
    }
   ],
   "source": [
    "print(a22.size)\n",
    "a22"
   ]
  },
  {
   "cell_type": "code",
   "execution_count": 387,
   "id": "30280776-978d-40df-bcc1-2a16a8e2bba5",
   "metadata": {},
   "outputs": [
    {
     "data": {
      "text/plain": [
       "array([[[ 0,  1,  2],\n",
       "        [ 3,  4,  5],\n",
       "        [ 6,  7,  8]],\n",
       "\n",
       "       [[ 9, 10, 11],\n",
       "        [12, 13, 14],\n",
       "        [15, 16, 17]],\n",
       "\n",
       "       [[18, 19, 20],\n",
       "        [21, 22, 23],\n",
       "        [24, 25, 26]]])"
      ]
     },
     "execution_count": 387,
     "metadata": {},
     "output_type": "execute_result"
    }
   ],
   "source": [
    "a33"
   ]
  },
  {
   "cell_type": "code",
   "execution_count": 389,
   "id": "ecb0babe-669e-4439-9e0c-c79c4d3b0fb1",
   "metadata": {},
   "outputs": [
    {
     "name": "stdout",
     "output_type": "stream",
     "text": [
      "int32\n",
      "int32\n",
      "int32\n"
     ]
    }
   ],
   "source": [
    "# dtype\n",
    "print(a11.dtype)\n",
    "print(a22.dtype)\n",
    "print(a33.dtype)"
   ]
  },
  {
   "cell_type": "markdown",
   "id": "9203aca8-cc10-4779-9681-27279ddf7022",
   "metadata": {},
   "source": [
    "### Array Operations"
   ]
  },
  {
   "cell_type": "markdown",
   "id": "fabef659-06bb-413c-8bee-63f7c703b1c6",
   "metadata": {},
   "source": [
    "### 1. **Addition**\n",
    "- You can add two arrays element-wise."
   ]
  },
  {
   "cell_type": "code",
   "execution_count": 397,
   "id": "6333939d-8b0e-4314-b632-64abe30e5d86",
   "metadata": {},
   "outputs": [],
   "source": [
    "a1 = np.array([1, 2, 3])\n",
    "a2 = np.array([4, 5, 6])"
   ]
  },
  {
   "cell_type": "code",
   "execution_count": 399,
   "id": "f09452ff-b194-4270-ad23-9b10c700c562",
   "metadata": {},
   "outputs": [
    {
     "data": {
      "text/plain": [
       "array([1, 2, 3])"
      ]
     },
     "execution_count": 399,
     "metadata": {},
     "output_type": "execute_result"
    }
   ],
   "source": [
    "a1"
   ]
  },
  {
   "cell_type": "code",
   "execution_count": 401,
   "id": "30428532-2519-4f82-8d24-eeab46c70676",
   "metadata": {},
   "outputs": [
    {
     "data": {
      "text/plain": [
       "array([4, 5, 6])"
      ]
     },
     "execution_count": 401,
     "metadata": {},
     "output_type": "execute_result"
    }
   ],
   "source": [
    "a2"
   ]
  },
  {
   "cell_type": "code",
   "execution_count": 403,
   "id": "48a98f43-5632-46cc-97f5-d0c87a7e8f1c",
   "metadata": {},
   "outputs": [
    {
     "data": {
      "text/plain": [
       "array([5, 7, 9])"
      ]
     },
     "execution_count": 403,
     "metadata": {},
     "output_type": "execute_result"
    }
   ],
   "source": [
    "a1+a2"
   ]
  },
  {
   "cell_type": "code",
   "execution_count": 405,
   "id": "478bd5b0-e4f4-47a0-ac9e-d79c3a31eab8",
   "metadata": {},
   "outputs": [],
   "source": [
    "a11 = np.array([ 0,  1,  2,  3,  4,  5,  6,  7,  8,  9, 10, 11])"
   ]
  },
  {
   "cell_type": "code",
   "execution_count": 407,
   "id": "dd2cb77e-6776-4ed5-bcb9-d1d0754a41de",
   "metadata": {},
   "outputs": [],
   "source": [
    "a22 = np.array(([[ 0,  1,  2,  3],\n",
    "       [ 4,  5,  6,  7],\n",
    "       [ 8,  9, 10, 11]]))"
   ]
  },
  {
   "cell_type": "code",
   "execution_count": 409,
   "id": "a255389e-86cf-4f56-9de9-03f3189aa403",
   "metadata": {},
   "outputs": [
    {
     "ename": "ValueError",
     "evalue": "operands could not be broadcast together with shapes (12,) (3,4) ",
     "output_type": "error",
     "traceback": [
      "\u001b[1;31m---------------------------------------------------------------------------\u001b[0m",
      "\u001b[1;31mValueError\u001b[0m                                Traceback (most recent call last)",
      "Cell \u001b[1;32mIn[409], line 1\u001b[0m\n\u001b[1;32m----> 1\u001b[0m a11\u001b[38;5;241m+\u001b[39ma22\n",
      "\u001b[1;31mValueError\u001b[0m: operands could not be broadcast together with shapes (12,) (3,4) "
     ]
    }
   ],
   "source": [
    "a11+a22"
   ]
  },
  {
   "cell_type": "code",
   "execution_count": 411,
   "id": "4a73149e-9e05-4a7a-b8df-161e6d264a17",
   "metadata": {},
   "outputs": [],
   "source": [
    "import numpy as np\n",
    "\n",
    "# Arrays\n",
    "array1 = np.array([1, 2, 3])\n",
    "array2 = np.array([4, 5, 6])"
   ]
  },
  {
   "cell_type": "code",
   "execution_count": 413,
   "id": "e98fc4da-a375-4950-910e-ba0767e0705f",
   "metadata": {},
   "outputs": [
    {
     "data": {
      "text/plain": [
       "array([5, 7, 9])"
      ]
     },
     "execution_count": 413,
     "metadata": {},
     "output_type": "execute_result"
    }
   ],
   "source": [
    "\n",
    "result_add = array1 + array2\n",
    "result_add  # Output: array([5, 7, 9])"
   ]
  },
  {
   "cell_type": "markdown",
   "id": "c2a6d9c7-5ac0-4e94-89e7-93519f9b6d2f",
   "metadata": {},
   "source": [
    "\n",
    "### 2. **Subtraction**"
   ]
  },
  {
   "cell_type": "code",
   "execution_count": 416,
   "id": "03f695ac-c0eb-4ba9-a20f-8cc675746915",
   "metadata": {},
   "outputs": [
    {
     "data": {
      "text/plain": [
       "array([3, 3, 3])"
      ]
     },
     "execution_count": 416,
     "metadata": {},
     "output_type": "execute_result"
    }
   ],
   "source": [
    "a2 - a1"
   ]
  },
  {
   "cell_type": "code",
   "execution_count": 418,
   "id": "33bb6c96-f49e-4222-92ed-381503f1f319",
   "metadata": {},
   "outputs": [
    {
     "data": {
      "text/plain": [
       "array([1, 2, 3])"
      ]
     },
     "execution_count": 418,
     "metadata": {},
     "output_type": "execute_result"
    }
   ],
   "source": [
    "a1"
   ]
  },
  {
   "cell_type": "code",
   "execution_count": 420,
   "id": "9aef930a-04d4-4491-9b49-628177830721",
   "metadata": {},
   "outputs": [
    {
     "data": {
      "text/plain": [
       "array([4, 5, 6])"
      ]
     },
     "execution_count": 420,
     "metadata": {},
     "output_type": "execute_result"
    }
   ],
   "source": [
    "a2"
   ]
  },
  {
   "cell_type": "code",
   "execution_count": 422,
   "id": "f1800a5f-950a-4711-bb65-bcd2d96f9ce5",
   "metadata": {},
   "outputs": [
    {
     "data": {
      "text/plain": [
       "array([-3, -3, -3])"
      ]
     },
     "execution_count": 422,
     "metadata": {},
     "output_type": "execute_result"
    }
   ],
   "source": [
    "\n",
    "result_sub = array1 - array2\n",
    "result_sub  "
   ]
  },
  {
   "cell_type": "markdown",
   "id": "6a1073ba-5ecc-49fc-90f3-41ca522f8dea",
   "metadata": {},
   "source": [
    "\n",
    "### 3. **Multiplication**"
   ]
  },
  {
   "cell_type": "code",
   "execution_count": 425,
   "id": "f88413f4-35bc-4650-b713-7957e4bb796d",
   "metadata": {},
   "outputs": [
    {
     "data": {
      "text/plain": [
       "array([1, 2, 3])"
      ]
     },
     "execution_count": 425,
     "metadata": {},
     "output_type": "execute_result"
    }
   ],
   "source": [
    "a1"
   ]
  },
  {
   "cell_type": "code",
   "execution_count": 427,
   "id": "2cadf8ac-300b-469c-af27-2ee083a3f0f5",
   "metadata": {},
   "outputs": [
    {
     "data": {
      "text/plain": [
       "array([4, 5, 6])"
      ]
     },
     "execution_count": 427,
     "metadata": {},
     "output_type": "execute_result"
    }
   ],
   "source": [
    "a2"
   ]
  },
  {
   "cell_type": "code",
   "execution_count": 429,
   "id": "f7c8b526-7c27-44ec-9e92-89a31592aa51",
   "metadata": {},
   "outputs": [
    {
     "data": {
      "text/plain": [
       "array([ 4, 10, 18])"
      ]
     },
     "execution_count": 429,
     "metadata": {},
     "output_type": "execute_result"
    }
   ],
   "source": [
    "a1 *a2"
   ]
  },
  {
   "cell_type": "code",
   "execution_count": 431,
   "id": "06c97d32-8f09-453e-a5ce-f07685dfc1d7",
   "metadata": {},
   "outputs": [
    {
     "data": {
      "text/plain": [
       "array([1, 2, 3])"
      ]
     },
     "execution_count": 431,
     "metadata": {},
     "output_type": "execute_result"
    }
   ],
   "source": [
    "a1"
   ]
  },
  {
   "cell_type": "code",
   "execution_count": 433,
   "id": "0745249a-788b-4585-a914-09e6bd612cc0",
   "metadata": {},
   "outputs": [
    {
     "data": {
      "text/plain": [
       "array([4, 5, 6])"
      ]
     },
     "execution_count": 433,
     "metadata": {},
     "output_type": "execute_result"
    }
   ],
   "source": [
    "a2"
   ]
  },
  {
   "cell_type": "code",
   "execution_count": 435,
   "id": "5cba1109-0f91-4522-9700-a6d636ea9d98",
   "metadata": {},
   "outputs": [
    {
     "data": {
      "text/plain": [
       "array([ 4, 10, 18])"
      ]
     },
     "execution_count": 435,
     "metadata": {},
     "output_type": "execute_result"
    }
   ],
   "source": [
    "result_mul = array1 * array2\n",
    "result_mul"
   ]
  },
  {
   "cell_type": "markdown",
   "id": "c1e5f7a1-fd9c-4c69-95e3-6bdd085a6316",
   "metadata": {},
   "source": [
    "\n",
    "### 4. **Division**"
   ]
  },
  {
   "cell_type": "code",
   "execution_count": 438,
   "id": "521c7c7c-a20c-4053-80e7-0532d4962fd2",
   "metadata": {},
   "outputs": [
    {
     "data": {
      "text/plain": [
       "array([0.25, 0.4 , 0.5 ])"
      ]
     },
     "execution_count": 438,
     "metadata": {},
     "output_type": "execute_result"
    }
   ],
   "source": [
    "a1 /a2"
   ]
  },
  {
   "cell_type": "code",
   "execution_count": 440,
   "id": "56be7559-728f-484d-9296-3aa97bc63999",
   "metadata": {},
   "outputs": [],
   "source": [
    "a1[0] = 15"
   ]
  },
  {
   "cell_type": "code",
   "execution_count": 443,
   "id": "cb719039-a644-46a5-a114-951e60d9fb27",
   "metadata": {},
   "outputs": [
    {
     "data": {
      "text/plain": [
       "array([0.25, 0.4 , 0.5 ])"
      ]
     },
     "execution_count": 443,
     "metadata": {},
     "output_type": "execute_result"
    }
   ],
   "source": [
    "result_div = array1 / array2\n",
    "result_div "
   ]
  },
  {
   "cell_type": "markdown",
   "id": "977815a8-35c2-44a7-8127-09c0b8b65b8f",
   "metadata": {},
   "source": [
    "\n",
    "### 5. **Scalar Operations**"
   ]
  },
  {
   "cell_type": "code",
   "execution_count": 448,
   "id": "35cb9aa6-a184-415b-8bd3-4090451a977b",
   "metadata": {},
   "outputs": [
    {
     "data": {
      "text/plain": [
       "array([25, 12, 13])"
      ]
     },
     "execution_count": 448,
     "metadata": {},
     "output_type": "execute_result"
    }
   ],
   "source": [
    "a1 +10"
   ]
  },
  {
   "cell_type": "code",
   "execution_count": 450,
   "id": "7041a39a-4aee-4f27-9b92-99ae7067d678",
   "metadata": {},
   "outputs": [
    {
     "data": {
      "text/plain": [
       "array([375,  50,  75])"
      ]
     },
     "execution_count": 450,
     "metadata": {},
     "output_type": "execute_result"
    }
   ],
   "source": [
    "a1*25"
   ]
  },
  {
   "cell_type": "code",
   "execution_count": 452,
   "id": "df6d05a1-7e79-4fcd-b3f1-ac97f9b64870",
   "metadata": {},
   "outputs": [
    {
     "data": {
      "text/plain": [
       "array([12, -1,  0])"
      ]
     },
     "execution_count": 452,
     "metadata": {},
     "output_type": "execute_result"
    }
   ],
   "source": [
    "a1 - 3"
   ]
  },
  {
   "cell_type": "code",
   "execution_count": 454,
   "id": "2874b4b1-7de0-429c-abe1-256f2309c4a6",
   "metadata": {},
   "outputs": [
    {
     "data": {
      "text/plain": [
       "array([[  0,  33,  66,  99],\n",
       "       [132, 165, 198, 231],\n",
       "       [264, 297, 330, 363]])"
      ]
     },
     "execution_count": 454,
     "metadata": {},
     "output_type": "execute_result"
    }
   ],
   "source": [
    "a22 *33"
   ]
  },
  {
   "cell_type": "code",
   "execution_count": 456,
   "id": "c9c78d1e-ad27-4607-967a-ca2df4d80ed5",
   "metadata": {},
   "outputs": [
    {
     "data": {
      "text/plain": [
       "array([[[10, 11, 12],\n",
       "        [13, 14, 15],\n",
       "        [16, 17, 18]],\n",
       "\n",
       "       [[19, 20, 21],\n",
       "        [22, 23, 24],\n",
       "        [25, 26, 27]],\n",
       "\n",
       "       [[28, 29, 30],\n",
       "        [31, 32, 33],\n",
       "        [34, 35, 36]]])"
      ]
     },
     "execution_count": 456,
     "metadata": {},
     "output_type": "execute_result"
    }
   ],
   "source": [
    "a33 + 10"
   ]
  },
  {
   "cell_type": "code",
   "execution_count": 458,
   "id": "93046a76-7d86-4838-8166-0a8ea889eb5f",
   "metadata": {},
   "outputs": [
    {
     "data": {
      "text/plain": [
       "array([11, 12, 13])"
      ]
     },
     "execution_count": 458,
     "metadata": {},
     "output_type": "execute_result"
    }
   ],
   "source": [
    "result_scalar_add = array1 + 10\n",
    "result_scalar_add "
   ]
  },
  {
   "cell_type": "code",
   "execution_count": 460,
   "id": "eadd19b5-5097-4316-b3b8-e0769b7fde8b",
   "metadata": {},
   "outputs": [
    {
     "data": {
      "text/plain": [
       "array([2, 4, 6])"
      ]
     },
     "execution_count": 460,
     "metadata": {},
     "output_type": "execute_result"
    }
   ],
   "source": [
    "result_scalar_mul = array1 * 2\n",
    "result_scalar_mul"
   ]
  },
  {
   "cell_type": "markdown",
   "id": "5e5fbd6c-9dc6-43f1-a629-042d285eb3a9",
   "metadata": {},
   "source": [
    "### 6. **Exponentiation**"
   ]
  },
  {
   "cell_type": "code",
   "execution_count": 463,
   "id": "b0f62fb0-b857-4e51-9b72-fa5372858fbf",
   "metadata": {},
   "outputs": [
    {
     "data": {
      "text/plain": [
       "array([1, 2, 3])"
      ]
     },
     "execution_count": 463,
     "metadata": {},
     "output_type": "execute_result"
    }
   ],
   "source": [
    "array1\n"
   ]
  },
  {
   "cell_type": "code",
   "execution_count": 465,
   "id": "69cdb695-3101-404b-ba1e-919ce4019ffd",
   "metadata": {},
   "outputs": [
    {
     "data": {
      "text/plain": [
       "array([1, 4, 9])"
      ]
     },
     "execution_count": 465,
     "metadata": {},
     "output_type": "execute_result"
    }
   ],
   "source": [
    "result_pow = array1 ** 2\n",
    "result_pow"
   ]
  },
  {
   "cell_type": "markdown",
   "id": "168ffab9-96f5-4ceb-ac71-9666a9659d23",
   "metadata": {},
   "source": [
    "### 7. **Modulus**"
   ]
  },
  {
   "cell_type": "code",
   "execution_count": 470,
   "id": "7709ad33-2d3d-467b-8679-59bf9707cb51",
   "metadata": {},
   "outputs": [
    {
     "data": {
      "text/plain": [
       "array([1, 2, 3])"
      ]
     },
     "execution_count": 470,
     "metadata": {},
     "output_type": "execute_result"
    }
   ],
   "source": [
    "array1"
   ]
  },
  {
   "cell_type": "code",
   "execution_count": 472,
   "id": "8f36f3db-1708-4efc-8481-d97efacd2c86",
   "metadata": {},
   "outputs": [
    {
     "data": {
      "text/plain": [
       "array([3, 2, 3])"
      ]
     },
     "execution_count": 472,
     "metadata": {},
     "output_type": "execute_result"
    }
   ],
   "source": [
    "a1 %a2"
   ]
  },
  {
   "cell_type": "code",
   "execution_count": 474,
   "id": "063315c6-b804-4bd3-b59a-5f64f982125f",
   "metadata": {},
   "outputs": [
    {
     "data": {
      "text/plain": [
       "array([1, 0, 1], dtype=int32)"
      ]
     },
     "execution_count": 474,
     "metadata": {},
     "output_type": "execute_result"
    }
   ],
   "source": [
    "result_mod = array1 % 2\n",
    "result_mod"
   ]
  },
  {
   "cell_type": "code",
   "execution_count": 476,
   "id": "02c46292-75fa-4c42-93a2-b9c681146790",
   "metadata": {},
   "outputs": [],
   "source": [
    "a = np.array([2,4,6])"
   ]
  },
  {
   "cell_type": "code",
   "execution_count": 478,
   "id": "b5571ba1-6175-4a4c-9daa-157958727cd1",
   "metadata": {},
   "outputs": [
    {
     "data": {
      "text/plain": [
       "array([0, 0, 0], dtype=int32)"
      ]
     },
     "execution_count": 478,
     "metadata": {},
     "output_type": "execute_result"
    }
   ],
   "source": [
    "a%2"
   ]
  },
  {
   "cell_type": "markdown",
   "id": "810731d6-8f93-4b7c-b5fc-9addac06af9d",
   "metadata": {},
   "source": [
    "### dot product "
   ]
  },
  {
   "cell_type": "code",
   "execution_count": 483,
   "id": "8ece99e7-27b9-4e94-8cbe-916b898046aa",
   "metadata": {},
   "outputs": [
    {
     "data": {
      "text/plain": [
       "32"
      ]
     },
     "execution_count": 483,
     "metadata": {},
     "output_type": "execute_result"
    }
   ],
   "source": [
    "result_dot = np.dot(array1, array2)\n",
    "result_dot "
   ]
  },
  {
   "cell_type": "markdown",
   "id": "7ba44bea-48c7-44c0-a1a3-8254ad1ad7a4",
   "metadata": {},
   "source": [
    "### 1. **Greater Than (`>`)**"
   ]
  },
  {
   "cell_type": "code",
   "execution_count": 488,
   "id": "29bc5585-30e3-40f5-a8e7-c4877089cfdf",
   "metadata": {},
   "outputs": [
    {
     "data": {
      "text/plain": [
       "True"
      ]
     },
     "execution_count": 488,
     "metadata": {},
     "output_type": "execute_result"
    }
   ],
   "source": [
    "3>2"
   ]
  },
  {
   "cell_type": "code",
   "execution_count": 490,
   "id": "629e6561-6760-4716-b3e1-dc5a9fd0d628",
   "metadata": {},
   "outputs": [
    {
     "data": {
      "text/plain": [
       "array([15,  2,  3])"
      ]
     },
     "execution_count": 490,
     "metadata": {},
     "output_type": "execute_result"
    }
   ],
   "source": [
    "a1"
   ]
  },
  {
   "cell_type": "code",
   "execution_count": 492,
   "id": "b113157f-c764-46d0-8489-d2e310935b41",
   "metadata": {},
   "outputs": [
    {
     "data": {
      "text/plain": [
       "array([False, False, False, False,  True,  True,  True,  True,  True,\n",
       "        True,  True,  True])"
      ]
     },
     "execution_count": 492,
     "metadata": {},
     "output_type": "execute_result"
    }
   ],
   "source": [
    "a11 > 3"
   ]
  },
  {
   "cell_type": "code",
   "execution_count": 494,
   "id": "435b0074-dac6-4903-84d2-68863eed262f",
   "metadata": {},
   "outputs": [
    {
     "data": {
      "text/plain": [
       "True"
      ]
     },
     "execution_count": 494,
     "metadata": {},
     "output_type": "execute_result"
    }
   ],
   "source": [
    "3>2"
   ]
  },
  {
   "cell_type": "code",
   "execution_count": 496,
   "id": "0713d31a-ca7e-4997-a6f2-c310e07190f0",
   "metadata": {},
   "outputs": [],
   "source": [
    "a21 = np.arange(12).reshape(3,4)"
   ]
  },
  {
   "cell_type": "code",
   "execution_count": 498,
   "id": "225253e2-ef5b-4927-af68-2a879bf730a5",
   "metadata": {},
   "outputs": [
    {
     "data": {
      "text/plain": [
       "array([[ 0,  1,  2,  3],\n",
       "       [ 4,  5,  6,  7],\n",
       "       [ 8,  9, 10, 11]])"
      ]
     },
     "execution_count": 498,
     "metadata": {},
     "output_type": "execute_result"
    }
   ],
   "source": [
    "a21\n"
   ]
  },
  {
   "cell_type": "code",
   "execution_count": 500,
   "id": "bea28877-e67b-4fc0-b912-d09d4cd3a4a2",
   "metadata": {},
   "outputs": [],
   "source": [
    "a33 = np.arange(27).reshape(3,3,3)"
   ]
  },
  {
   "cell_type": "code",
   "execution_count": 502,
   "id": "cd57f5c0-5978-4737-92a3-95ea4964eaa1",
   "metadata": {},
   "outputs": [],
   "source": [
    "a11 = np.arange(12)"
   ]
  },
  {
   "cell_type": "code",
   "execution_count": 504,
   "id": "9d1c808a-3eb7-4705-ba18-5ffc2385514c",
   "metadata": {},
   "outputs": [
    {
     "data": {
      "text/plain": [
       "array([ 0,  1,  2,  3,  4,  5,  6,  7,  8,  9, 10, 11])"
      ]
     },
     "execution_count": 504,
     "metadata": {},
     "output_type": "execute_result"
    }
   ],
   "source": [
    "a11"
   ]
  },
  {
   "cell_type": "code",
   "execution_count": 506,
   "id": "20ffd805-f08c-43b1-baa7-0e680f2bed49",
   "metadata": {},
   "outputs": [],
   "source": [
    "import numpy as np\n",
    "\n",
    "array1 = np.array([1, 2, 3])\n",
    "array2 = np.array([2, 2, 4])"
   ]
  },
  {
   "cell_type": "code",
   "execution_count": 508,
   "id": "c2a02274-7c61-4421-ae37-e8a3a84d6211",
   "metadata": {},
   "outputs": [
    {
     "data": {
      "text/plain": [
       "array([15,  2,  3])"
      ]
     },
     "execution_count": 508,
     "metadata": {},
     "output_type": "execute_result"
    }
   ],
   "source": [
    "a1"
   ]
  },
  {
   "cell_type": "code",
   "execution_count": 510,
   "id": "adfb7a79-7a50-4551-a443-dbd7ddc5acad",
   "metadata": {},
   "outputs": [
    {
     "data": {
      "text/plain": [
       "array([4, 5, 6])"
      ]
     },
     "execution_count": 510,
     "metadata": {},
     "output_type": "execute_result"
    }
   ],
   "source": [
    "a2\n"
   ]
  },
  {
   "cell_type": "code",
   "execution_count": 512,
   "id": "78e3cb75-112e-4793-bd49-4fc0397b0fac",
   "metadata": {},
   "outputs": [
    {
     "data": {
      "text/plain": [
       "array([False,  True,  True])"
      ]
     },
     "execution_count": 512,
     "metadata": {},
     "output_type": "execute_result"
    }
   ],
   "source": [
    "a1 < a2"
   ]
  },
  {
   "cell_type": "code",
   "execution_count": 514,
   "id": "0bb67135-0dba-4ff6-8b81-88c1e010fd4b",
   "metadata": {},
   "outputs": [
    {
     "data": {
      "text/plain": [
       "array([1, 2, 3])"
      ]
     },
     "execution_count": 514,
     "metadata": {},
     "output_type": "execute_result"
    }
   ],
   "source": [
    "array1\n"
   ]
  },
  {
   "cell_type": "code",
   "execution_count": 516,
   "id": "185b0652-5c88-4546-8ec8-2c96e513449a",
   "metadata": {},
   "outputs": [
    {
     "data": {
      "text/plain": [
       "array([2, 2, 4])"
      ]
     },
     "execution_count": 516,
     "metadata": {},
     "output_type": "execute_result"
    }
   ],
   "source": [
    "array2\n"
   ]
  },
  {
   "cell_type": "code",
   "execution_count": 518,
   "id": "01d601ff-f632-4256-a11e-c4c7a12a4da6",
   "metadata": {},
   "outputs": [
    {
     "ename": "NameError",
     "evalue": "name 'result_g' is not defined",
     "output_type": "error",
     "traceback": [
      "\u001b[1;31m---------------------------------------------------------------------------\u001b[0m",
      "\u001b[1;31mNameError\u001b[0m                                 Traceback (most recent call last)",
      "Cell \u001b[1;32mIn[518], line 2\u001b[0m\n\u001b[0;32m      1\u001b[0m result_gt \u001b[38;5;241m=\u001b[39m array1 \u001b[38;5;241m>\u001b[39m array2\n\u001b[1;32m----> 2\u001b[0m result_g\n",
      "\u001b[1;31mNameError\u001b[0m: name 'result_g' is not defined"
     ]
    }
   ],
   "source": [
    "result_gt = array1 > array2\n",
    "result_g"
   ]
  },
  {
   "cell_type": "code",
   "execution_count": 520,
   "id": "a225940c-429b-4f00-90a7-f88198c0b60f",
   "metadata": {},
   "outputs": [
    {
     "data": {
      "text/plain": [
       "array([ 0,  1,  2,  3,  4,  5,  6,  7,  8,  9, 10, 11])"
      ]
     },
     "execution_count": 520,
     "metadata": {},
     "output_type": "execute_result"
    }
   ],
   "source": [
    "a11"
   ]
  },
  {
   "cell_type": "code",
   "execution_count": 522,
   "id": "cb9a3232-10d2-468d-9ac7-2b4417c87817",
   "metadata": {},
   "outputs": [
    {
     "data": {
      "text/plain": [
       "array([False, False, False, False,  True,  True,  True,  True,  True,\n",
       "        True,  True,  True])"
      ]
     },
     "execution_count": 522,
     "metadata": {},
     "output_type": "execute_result"
    }
   ],
   "source": [
    "a11>3"
   ]
  },
  {
   "cell_type": "code",
   "execution_count": 524,
   "id": "be87935f-ac6c-411e-85d0-65e9d514eccb",
   "metadata": {},
   "outputs": [
    {
     "data": {
      "text/plain": [
       "array([[False, False, False, False],\n",
       "       [False, False, False, False],\n",
       "       [False,  True,  True,  True]])"
      ]
     },
     "execution_count": 524,
     "metadata": {},
     "output_type": "execute_result"
    }
   ],
   "source": [
    "a21>8"
   ]
  },
  {
   "cell_type": "markdown",
   "id": "003b1ee0-afb0-44de-944b-e9f61e147633",
   "metadata": {},
   "source": [
    "\n",
    "\n",
    "### 2. **Less Than (`<`)**"
   ]
  },
  {
   "cell_type": "code",
   "execution_count": 529,
   "id": "dc072dac-66e9-489a-b321-b5fdc5a47e3a",
   "metadata": {},
   "outputs": [
    {
     "data": {
      "text/plain": [
       "array([ True, False,  True])"
      ]
     },
     "execution_count": 529,
     "metadata": {},
     "output_type": "execute_result"
    }
   ],
   "source": [
    "result_lt = array1 < array2\n",
    "result_lt "
   ]
  },
  {
   "cell_type": "markdown",
   "id": "7daf5007-f429-46f3-9ffd-6a27d21d7837",
   "metadata": {},
   "source": [
    "\n",
    "### 3. **Greater Than or Equal To (`>=`)**"
   ]
  },
  {
   "cell_type": "code",
   "execution_count": 532,
   "id": "820857d5-9504-48e6-8be9-ef14afbe31ca",
   "metadata": {},
   "outputs": [
    {
     "data": {
      "text/plain": [
       "array([ 0,  1,  2,  3,  4,  5,  6,  7,  8,  9, 10, 11])"
      ]
     },
     "execution_count": 532,
     "metadata": {},
     "output_type": "execute_result"
    }
   ],
   "source": [
    "a11"
   ]
  },
  {
   "cell_type": "code",
   "execution_count": 534,
   "id": "2ac103b7-e729-461d-bd99-650bc8c85383",
   "metadata": {},
   "outputs": [
    {
     "data": {
      "text/plain": [
       "array([[ 0,  1,  2,  3],\n",
       "       [ 4,  5,  6,  7],\n",
       "       [ 8,  9, 10, 11]])"
      ]
     },
     "execution_count": 534,
     "metadata": {},
     "output_type": "execute_result"
    }
   ],
   "source": [
    "a21"
   ]
  },
  {
   "cell_type": "code",
   "execution_count": 536,
   "id": "254e993a-02f0-4b30-9a4a-fcbfded448ea",
   "metadata": {},
   "outputs": [
    {
     "data": {
      "text/plain": [
       "True"
      ]
     },
     "execution_count": 536,
     "metadata": {},
     "output_type": "execute_result"
    }
   ],
   "source": [
    "3>2"
   ]
  },
  {
   "cell_type": "code",
   "execution_count": 538,
   "id": "9980d04a-9478-431d-9501-bc85c3cd5225",
   "metadata": {},
   "outputs": [
    {
     "data": {
      "text/plain": [
       "array([[False, False,  True,  True],\n",
       "       [ True,  True,  True,  True],\n",
       "       [ True,  True,  True,  True]])"
      ]
     },
     "execution_count": 538,
     "metadata": {},
     "output_type": "execute_result"
    }
   ],
   "source": [
    "a21 >= 2"
   ]
  },
  {
   "cell_type": "code",
   "execution_count": 540,
   "id": "02e7eb43-f409-42dd-bddd-f83bfc46442e",
   "metadata": {},
   "outputs": [
    {
     "data": {
      "text/plain": [
       "array([[[ 0,  1,  2],\n",
       "        [ 3,  4,  5],\n",
       "        [ 6,  7,  8]],\n",
       "\n",
       "       [[ 9, 10, 11],\n",
       "        [12, 13, 14],\n",
       "        [15, 16, 17]],\n",
       "\n",
       "       [[18, 19, 20],\n",
       "        [21, 22, 23],\n",
       "        [24, 25, 26]]])"
      ]
     },
     "execution_count": 540,
     "metadata": {},
     "output_type": "execute_result"
    }
   ],
   "source": [
    "a33"
   ]
  },
  {
   "cell_type": "code",
   "execution_count": 542,
   "id": "71ccd114-fe77-42b4-b1ee-3c3ebd35858d",
   "metadata": {},
   "outputs": [
    {
     "data": {
      "text/plain": [
       "array([[False, False, False, False],\n",
       "       [False,  True,  True,  True],\n",
       "       [ True,  True,  True,  True]])"
      ]
     },
     "execution_count": 542,
     "metadata": {},
     "output_type": "execute_result"
    }
   ],
   "source": [
    "a22 >= 5"
   ]
  },
  {
   "cell_type": "code",
   "execution_count": 544,
   "id": "e50a1487-4a98-4ee7-bf3a-92b992bf331c",
   "metadata": {},
   "outputs": [
    {
     "data": {
      "text/plain": [
       "False"
      ]
     },
     "execution_count": 544,
     "metadata": {},
     "output_type": "execute_result"
    }
   ],
   "source": [
    "2>3"
   ]
  },
  {
   "cell_type": "code",
   "execution_count": 546,
   "id": "1a06368b-bd97-42fe-aebb-20e689f5d4e1",
   "metadata": {},
   "outputs": [
    {
     "data": {
      "text/plain": [
       "False"
      ]
     },
     "execution_count": 546,
     "metadata": {},
     "output_type": "execute_result"
    }
   ],
   "source": [
    "3>3"
   ]
  },
  {
   "cell_type": "code",
   "execution_count": 548,
   "id": "4336d6fa-0fb7-45a7-b288-76fd680b7f4b",
   "metadata": {},
   "outputs": [
    {
     "data": {
      "text/plain": [
       "array([[1, 2, 3],\n",
       "       [4, 5, 6]])"
      ]
     },
     "execution_count": 548,
     "metadata": {},
     "output_type": "execute_result"
    }
   ],
   "source": [
    "arr\n"
   ]
  },
  {
   "cell_type": "code",
   "execution_count": 550,
   "id": "c9df556e-f15e-4b24-91a3-e4f2efe6a2cb",
   "metadata": {},
   "outputs": [
    {
     "data": {
      "text/plain": [
       "array([[False, False, False],\n",
       "       [False, False,  True]])"
      ]
     },
     "execution_count": 550,
     "metadata": {},
     "output_type": "execute_result"
    }
   ],
   "source": [
    "arr>5"
   ]
  },
  {
   "cell_type": "code",
   "execution_count": 552,
   "id": "234190e8-47c0-4993-868a-b292655a1905",
   "metadata": {},
   "outputs": [
    {
     "data": {
      "text/plain": [
       "array([6])"
      ]
     },
     "execution_count": 552,
     "metadata": {},
     "output_type": "execute_result"
    }
   ],
   "source": [
    "arr[arr>5]"
   ]
  },
  {
   "cell_type": "code",
   "execution_count": 554,
   "id": "e4a61abc-783f-40e8-95f6-49c09054b343",
   "metadata": {},
   "outputs": [
    {
     "data": {
      "text/plain": [
       "array([1, 2, 3, 4])"
      ]
     },
     "execution_count": 554,
     "metadata": {},
     "output_type": "execute_result"
    }
   ],
   "source": [
    "arr[arr<5]"
   ]
  },
  {
   "cell_type": "code",
   "execution_count": 556,
   "id": "f41bc828-e800-4218-8991-5a7882a2687a",
   "metadata": {},
   "outputs": [
    {
     "data": {
      "text/plain": [
       "array([False,  True, False])"
      ]
     },
     "execution_count": 556,
     "metadata": {},
     "output_type": "execute_result"
    }
   ],
   "source": [
    "result_ge = array1 >= array2\n",
    "result_ge"
   ]
  },
  {
   "cell_type": "markdown",
   "id": "49fbafe5-fcc5-4f79-98ff-9fb57d04a690",
   "metadata": {},
   "source": [
    "\n",
    "### 4. **Less Than or Equal To (`<=`)**"
   ]
  },
  {
   "cell_type": "code",
   "execution_count": 561,
   "id": "96b43d73-5103-4b06-94a1-0f95c1ba9d1b",
   "metadata": {},
   "outputs": [
    {
     "data": {
      "text/plain": [
       "array([ True,  True,  True])"
      ]
     },
     "execution_count": 561,
     "metadata": {},
     "output_type": "execute_result"
    }
   ],
   "source": [
    "result_le = array1 <= array2\n",
    "result_le "
   ]
  },
  {
   "cell_type": "markdown",
   "id": "c9d057f8-f0e0-4ed3-bb35-46de4551a6a1",
   "metadata": {},
   "source": [
    "### 5. **Equal To (`==`)**"
   ]
  },
  {
   "cell_type": "code",
   "execution_count": 564,
   "id": "9deba2b7-fa0a-43ae-a264-0e03edf7aaed",
   "metadata": {},
   "outputs": [
    {
     "data": {
      "text/plain": [
       "array([[False, False, False, False],\n",
       "       [False,  True, False, False],\n",
       "       [False, False, False, False]])"
      ]
     },
     "execution_count": 564,
     "metadata": {},
     "output_type": "execute_result"
    }
   ],
   "source": [
    "a22 == 5"
   ]
  },
  {
   "cell_type": "code",
   "execution_count": 566,
   "id": "26b6d066-6a98-46e3-9b77-a28377a531f5",
   "metadata": {},
   "outputs": [
    {
     "data": {
      "text/plain": [
       "array([[False, False, False, False],\n",
       "       [False, False, False, False],\n",
       "       [ True, False, False, False]])"
      ]
     },
     "execution_count": 566,
     "metadata": {},
     "output_type": "execute_result"
    }
   ],
   "source": [
    "a21 == 8"
   ]
  },
  {
   "cell_type": "code",
   "execution_count": 568,
   "id": "825a2d97-f799-48a5-b551-b31927da84da",
   "metadata": {},
   "outputs": [
    {
     "data": {
      "text/plain": [
       "array([False,  True, False])"
      ]
     },
     "execution_count": 568,
     "metadata": {},
     "output_type": "execute_result"
    }
   ],
   "source": [
    "result_eq = array1 == array2\n",
    "result_eq "
   ]
  },
  {
   "cell_type": "code",
   "execution_count": 570,
   "id": "59ddb0f6-ec5a-4265-906b-c606bc6ff8a9",
   "metadata": {},
   "outputs": [],
   "source": [
    "l = [1,2,3,45]"
   ]
  },
  {
   "cell_type": "code",
   "execution_count": 574,
   "id": "d095d5fd-54f3-45a2-a29e-7f438cb63443",
   "metadata": {},
   "outputs": [
    {
     "data": {
      "text/plain": [
       "False"
      ]
     },
     "execution_count": 574,
     "metadata": {},
     "output_type": "execute_result"
    }
   ],
   "source": [
    "1>2"
   ]
  },
  {
   "cell_type": "code",
   "execution_count": 576,
   "id": "48004c73-181c-40dd-a7f6-0be9ac7c6ae8",
   "metadata": {},
   "outputs": [
    {
     "data": {
      "text/plain": [
       "array([ True,  True,  True, False,  True,  True,  True,  True,  True,\n",
       "        True,  True,  True])"
      ]
     },
     "execution_count": 576,
     "metadata": {},
     "output_type": "execute_result"
    }
   ],
   "source": [
    "a11 != 3"
   ]
  },
  {
   "cell_type": "code",
   "execution_count": 578,
   "id": "0eefa495-cd83-4df5-93c6-d5ae78c0ae82",
   "metadata": {},
   "outputs": [
    {
     "data": {
      "text/plain": [
       "array([ True, False,  True])"
      ]
     },
     "execution_count": 578,
     "metadata": {},
     "output_type": "execute_result"
    }
   ],
   "source": [
    "result_ne = array1 != array2\n",
    "result_ne"
   ]
  },
  {
   "cell_type": "markdown",
   "id": "bfac6db4-e979-4b08-bb01-9979e01e1b13",
   "metadata": {},
   "source": [
    "### Logical Operations on Numerical Arrays:"
   ]
  },
  {
   "cell_type": "code",
   "execution_count": 581,
   "id": "d5e6db99-59bf-4a8e-8536-d71624170484",
   "metadata": {},
   "outputs": [
    {
     "data": {
      "text/plain": [
       "array([15,  2,  3])"
      ]
     },
     "execution_count": 581,
     "metadata": {},
     "output_type": "execute_result"
    }
   ],
   "source": [
    "a1"
   ]
  },
  {
   "cell_type": "code",
   "execution_count": 583,
   "id": "44ab2c62-097d-4365-b207-1ee7ca2ac7b7",
   "metadata": {},
   "outputs": [
    {
     "data": {
      "text/plain": [
       "array([4, 5, 6])"
      ]
     },
     "execution_count": 583,
     "metadata": {},
     "output_type": "execute_result"
    }
   ],
   "source": [
    "a2"
   ]
  },
  {
   "cell_type": "code",
   "execution_count": 585,
   "id": "344cae5a-cc1e-4856-b01b-b6fd49cb9d6c",
   "metadata": {},
   "outputs": [],
   "source": [
    "import numpy as np\n",
    "\n",
    "# Numerical arrays\n",
    "array1 = np.array([10, 20, 30, 40])\n",
    "\n",
    "array2 = np.array([15, 20, 25, 50])"
   ]
  },
  {
   "cell_type": "code",
   "execution_count": 587,
   "id": "099163c9-d621-454b-8f90-1b4e90b68b7d",
   "metadata": {},
   "outputs": [
    {
     "data": {
      "text/plain": [
       "array([False,  True,  True,  True])"
      ]
     },
     "execution_count": 587,
     "metadata": {},
     "output_type": "execute_result"
    }
   ],
   "source": [
    "array1 > 15"
   ]
  },
  {
   "cell_type": "code",
   "execution_count": 589,
   "id": "72ef6514-def2-4272-9dc2-7c95b80bbcec",
   "metadata": {},
   "outputs": [
    {
     "data": {
      "text/plain": [
       "array([ True,  True,  True, False])"
      ]
     },
     "execution_count": 589,
     "metadata": {},
     "output_type": "execute_result"
    }
   ],
   "source": [
    "array2 < 30"
   ]
  },
  {
   "cell_type": "code",
   "execution_count": 591,
   "id": "091e739d-ce32-4231-a154-e18616219f72",
   "metadata": {},
   "outputs": [
    {
     "data": {
      "text/plain": [
       "False"
      ]
     },
     "execution_count": 591,
     "metadata": {},
     "output_type": "execute_result"
    }
   ],
   "source": [
    "True and False "
   ]
  },
  {
   "cell_type": "code",
   "execution_count": 593,
   "id": "0d178842-3777-4549-bccf-173ee3a52557",
   "metadata": {},
   "outputs": [
    {
     "data": {
      "text/plain": [
       "array([False,  True,  True,  True])"
      ]
     },
     "execution_count": 593,
     "metadata": {},
     "output_type": "execute_result"
    }
   ],
   "source": [
    "array1 > 15"
   ]
  },
  {
   "cell_type": "code",
   "execution_count": 595,
   "id": "ec475acf-9b45-4d69-b6ab-be7ed79cbea4",
   "metadata": {},
   "outputs": [
    {
     "data": {
      "text/plain": [
       "array([ True,  True,  True, False])"
      ]
     },
     "execution_count": 595,
     "metadata": {},
     "output_type": "execute_result"
    }
   ],
   "source": [
    "array2 < 30"
   ]
  },
  {
   "cell_type": "code",
   "execution_count": 597,
   "id": "6ca9d06d-bdf5-4e9d-ab1d-23f519e19db2",
   "metadata": {},
   "outputs": [
    {
     "ename": "ValueError",
     "evalue": "The truth value of an array with more than one element is ambiguous. Use a.any() or a.all()",
     "output_type": "error",
     "traceback": [
      "\u001b[1;31m---------------------------------------------------------------------------\u001b[0m",
      "\u001b[1;31mValueError\u001b[0m                                Traceback (most recent call last)",
      "Cell \u001b[1;32mIn[597], line 1\u001b[0m\n\u001b[1;32m----> 1\u001b[0m (array1 \u001b[38;5;241m>\u001b[39m \u001b[38;5;241m3\u001b[39m) \u001b[38;5;129;01mand\u001b[39;00m  (array2 \u001b[38;5;241m>\u001b[39m \u001b[38;5;241m5\u001b[39m)\n",
      "\u001b[1;31mValueError\u001b[0m: The truth value of an array with more than one element is ambiguous. Use a.any() or a.all()"
     ]
    }
   ],
   "source": [
    "(array1 > 3) and  (array2 > 5)"
   ]
  },
  {
   "cell_type": "code",
   "execution_count": 599,
   "id": "d283ea7c-918b-4c15-8121-7ff204301b54",
   "metadata": {},
   "outputs": [
    {
     "ename": "SyntaxError",
     "evalue": "invalid syntax (1693014925.py, line 1)",
     "output_type": "error",
     "traceback": [
      "\u001b[1;36m  Cell \u001b[1;32mIn[599], line 1\u001b[1;36m\u001b[0m\n\u001b[1;33m    & == and\u001b[0m\n\u001b[1;37m    ^\u001b[0m\n\u001b[1;31mSyntaxError\u001b[0m\u001b[1;31m:\u001b[0m invalid syntax\n"
     ]
    }
   ],
   "source": [
    "& == and\n",
    "| == or\n",
    "~ == not"
   ]
  },
  {
   "cell_type": "code",
   "execution_count": 601,
   "id": "c9e5ffcb-6b8c-426c-99a0-2198c3065f64",
   "metadata": {},
   "outputs": [
    {
     "data": {
      "text/plain": [
       "array([10, 20, 30, 40])"
      ]
     },
     "execution_count": 601,
     "metadata": {},
     "output_type": "execute_result"
    }
   ],
   "source": [
    "array1"
   ]
  },
  {
   "cell_type": "code",
   "execution_count": 603,
   "id": "2220a069-25bf-4160-ba12-ba8974babb62",
   "metadata": {},
   "outputs": [
    {
     "data": {
      "text/plain": [
       "array([15, 20, 25, 50])"
      ]
     },
     "execution_count": 603,
     "metadata": {},
     "output_type": "execute_result"
    }
   ],
   "source": [
    "array2\n"
   ]
  },
  {
   "cell_type": "code",
   "execution_count": 605,
   "id": "4cc144b6-9bcb-4818-9db6-8a324a4c6082",
   "metadata": {},
   "outputs": [
    {
     "data": {
      "text/plain": [
       "array([ True,  True,  True,  True])"
      ]
     },
     "execution_count": 605,
     "metadata": {},
     "output_type": "execute_result"
    }
   ],
   "source": [
    "(array1 > 3) & (array2 > 5)"
   ]
  },
  {
   "cell_type": "code",
   "execution_count": 607,
   "id": "a2911c0b-6136-46fe-b2d1-9b3f06654ac3",
   "metadata": {},
   "outputs": [
    {
     "data": {
      "text/plain": [
       "False"
      ]
     },
     "execution_count": 607,
     "metadata": {},
     "output_type": "execute_result"
    }
   ],
   "source": [
    "not True"
   ]
  },
  {
   "cell_type": "code",
   "execution_count": 609,
   "id": "262d8911-33fc-4b9e-974f-56d45e36ce4d",
   "metadata": {},
   "outputs": [
    {
     "ename": "SyntaxError",
     "evalue": "invalid syntax (427692260.py, line 1)",
     "output_type": "error",
     "traceback": [
      "\u001b[1;36m  Cell \u001b[1;32mIn[609], line 1\u001b[1;36m\u001b[0m\n\u001b[1;33m    True not False\u001b[0m\n\u001b[1;37m             ^\u001b[0m\n\u001b[1;31mSyntaxError\u001b[0m\u001b[1;31m:\u001b[0m invalid syntax\n"
     ]
    }
   ],
   "source": [
    "True not False"
   ]
  },
  {
   "cell_type": "code",
   "execution_count": 611,
   "id": "2a10e485-cb1b-476c-bb92-dd5e5f8b6dc1",
   "metadata": {},
   "outputs": [
    {
     "data": {
      "text/plain": [
       "array([False,  True,  True])"
      ]
     },
     "execution_count": 611,
     "metadata": {},
     "output_type": "execute_result"
    }
   ],
   "source": [
    "~(a1>3)"
   ]
  },
  {
   "cell_type": "code",
   "execution_count": 613,
   "id": "ec398d50-91bf-44dd-bb9b-5310c9e622f7",
   "metadata": {},
   "outputs": [
    {
     "data": {
      "text/plain": [
       "array([False,  True,  True, False])"
      ]
     },
     "execution_count": 613,
     "metadata": {},
     "output_type": "execute_result"
    }
   ],
   "source": [
    "(array1 > 15) & (array2 < 30)         "
   ]
  },
  {
   "cell_type": "code",
   "execution_count": 615,
   "id": "059da514-81d4-47aa-a728-d82c67cacf28",
   "metadata": {},
   "outputs": [],
   "source": [
    "a22 = np.arange(12).reshape(3,4)"
   ]
  },
  {
   "cell_type": "code",
   "execution_count": null,
   "id": "b2b79612-7022-40bd-80c0-c3d836c73b2c",
   "metadata": {},
   "outputs": [],
   "source": []
  },
  {
   "cell_type": "code",
   "execution_count": 618,
   "id": "eb1259fc-bbaa-4c1f-aa8e-a078a1f134f0",
   "metadata": {},
   "outputs": [
    {
     "data": {
      "text/plain": [
       "array([[ 0,  1,  2,  3],\n",
       "       [ 4,  5,  6,  7],\n",
       "       [ 8,  9, 10, 11]])"
      ]
     },
     "execution_count": 618,
     "metadata": {},
     "output_type": "execute_result"
    }
   ],
   "source": [
    "a22"
   ]
  },
  {
   "cell_type": "code",
   "execution_count": 620,
   "id": "25031649-a9f7-4193-8484-9ba6ab9eb707",
   "metadata": {},
   "outputs": [
    {
     "data": {
      "text/plain": [
       "array([3, 4, 5, 6, 7])"
      ]
     },
     "execution_count": 620,
     "metadata": {},
     "output_type": "execute_result"
    }
   ],
   "source": [
    "a22[(a22>2) & (a22<8)]"
   ]
  },
  {
   "cell_type": "code",
   "execution_count": 622,
   "id": "eb969237-d93e-4ec1-9267-e3636e8bf1a8",
   "metadata": {},
   "outputs": [
    {
     "data": {
      "text/plain": [
       "array([ 0,  1,  2,  3,  4,  5,  6,  7,  8,  9, 10, 11])"
      ]
     },
     "execution_count": 622,
     "metadata": {},
     "output_type": "execute_result"
    }
   ],
   "source": [
    "a11\n"
   ]
  },
  {
   "cell_type": "code",
   "execution_count": 624,
   "id": "923d778b-cd2a-4765-80c2-6a59eef3c8c2",
   "metadata": {},
   "outputs": [
    {
     "ename": "SyntaxError",
     "evalue": "invalid syntax (1320882720.py, line 1)",
     "output_type": "error",
     "traceback": [
      "\u001b[1;36m  Cell \u001b[1;32mIn[624], line 1\u001b[1;36m\u001b[0m\n\u001b[1;33m    and &\u001b[0m\n\u001b[1;37m    ^\u001b[0m\n\u001b[1;31mSyntaxError\u001b[0m\u001b[1;31m:\u001b[0m invalid syntax\n"
     ]
    }
   ],
   "source": [
    "and &"
   ]
  },
  {
   "cell_type": "code",
   "execution_count": 626,
   "id": "09bf31a1-a2cf-4621-9c27-0a0eae9b62d4",
   "metadata": {},
   "outputs": [
    {
     "data": {
      "text/plain": [
       "array([False, False, False, False,  True,  True,  True,  True,  True,\n",
       "        True, False, False])"
      ]
     },
     "execution_count": 626,
     "metadata": {},
     "output_type": "execute_result"
    }
   ],
   "source": [
    "(a11 >3) & (a11<10)"
   ]
  },
  {
   "cell_type": "code",
   "execution_count": 628,
   "id": "09593487-3bd6-4edc-8d3b-60076ef18f01",
   "metadata": {},
   "outputs": [
    {
     "data": {
      "text/plain": [
       "array([False,  True,  True, False])"
      ]
     },
     "execution_count": 628,
     "metadata": {},
     "output_type": "execute_result"
    }
   ],
   "source": [
    "result_and = (array1 > 15) & (array2 < 30)\n",
    "result_and "
   ]
  },
  {
   "cell_type": "code",
   "execution_count": 630,
   "id": "7fa2a850-b986-409f-be38-ab50b41fdf90",
   "metadata": {},
   "outputs": [
    {
     "data": {
      "text/plain": [
       "array([False,  True,  True,  True])"
      ]
     },
     "execution_count": 630,
     "metadata": {},
     "output_type": "execute_result"
    }
   ],
   "source": [
    "(array1 > 15)"
   ]
  },
  {
   "cell_type": "code",
   "execution_count": 632,
   "id": "e1a370f6-2142-4fed-9da3-b7d7bece2f3b",
   "metadata": {},
   "outputs": [
    {
     "data": {
      "text/plain": [
       "array([ True,  True,  True, False])"
      ]
     },
     "execution_count": 632,
     "metadata": {},
     "output_type": "execute_result"
    }
   ],
   "source": [
    "(array2 < 30)"
   ]
  },
  {
   "cell_type": "code",
   "execution_count": 634,
   "id": "6ce9ce81-b27f-4224-9060-6a2582d01923",
   "metadata": {},
   "outputs": [
    {
     "data": {
      "text/plain": [
       "array([ True,  True,  True,  True])"
      ]
     },
     "execution_count": 634,
     "metadata": {},
     "output_type": "execute_result"
    }
   ],
   "source": [
    "(array1 > 15) | (array2 < 30)"
   ]
  },
  {
   "cell_type": "code",
   "execution_count": 636,
   "id": "6fcb051a-a89b-4d47-8b63-49c7487ff164",
   "metadata": {},
   "outputs": [
    {
     "data": {
      "text/plain": [
       "array([[ 0,  1,  2,  3],\n",
       "       [ 4,  5,  6,  7],\n",
       "       [ 8,  9, 10, 11]])"
      ]
     },
     "execution_count": 636,
     "metadata": {},
     "output_type": "execute_result"
    }
   ],
   "source": [
    "a21"
   ]
  },
  {
   "cell_type": "code",
   "execution_count": 638,
   "id": "108c3121-193c-4b35-b4a9-231d8be42bb4",
   "metadata": {},
   "outputs": [
    {
     "data": {
      "text/plain": [
       "array([[False, False, False, False],\n",
       "       [False, False, False, False],\n",
       "       [False, False, False,  True]])"
      ]
     },
     "execution_count": 638,
     "metadata": {},
     "output_type": "execute_result"
    }
   ],
   "source": [
    "(a21> 10) | (a21>30)"
   ]
  },
  {
   "cell_type": "code",
   "execution_count": 640,
   "id": "e66827f7-2c4b-4087-8c54-15db7c8b8f01",
   "metadata": {},
   "outputs": [
    {
     "data": {
      "text/plain": [
       "array([ True,  True,  True,  True])"
      ]
     },
     "execution_count": 640,
     "metadata": {},
     "output_type": "execute_result"
    }
   ],
   "source": [
    "result_or = (array1 > 15) | (array2 < 30)\n",
    "result_or "
   ]
  },
  {
   "cell_type": "code",
   "execution_count": 642,
   "id": "38af7254-01d9-4df2-b2c1-4fa72d3591d3",
   "metadata": {},
   "outputs": [
    {
     "data": {
      "text/plain": [
       "array([ True, False, False, False])"
      ]
     },
     "execution_count": 642,
     "metadata": {},
     "output_type": "execute_result"
    }
   ],
   "source": [
    "result_not = ~(array1 > 15)\n",
    "result_not "
   ]
  },
  {
   "cell_type": "code",
   "execution_count": null,
   "id": "5ec0f323-e7dd-4c30-9bce-46c0168354bd",
   "metadata": {},
   "outputs": [],
   "source": []
  }
 ],
 "metadata": {
  "kernelspec": {
   "display_name": "Python 3 (ipykernel)",
   "language": "python",
   "name": "python3"
  },
  "language_info": {
   "codemirror_mode": {
    "name": "ipython",
    "version": 3
   },
   "file_extension": ".py",
   "mimetype": "text/x-python",
   "name": "python",
   "nbconvert_exporter": "python",
   "pygments_lexer": "ipython3",
   "version": "3.12.7"
  }
 },
 "nbformat": 4,
 "nbformat_minor": 5
}
