{
 "cells": [
  {
   "cell_type": "code",
   "execution_count": 1,
   "id": "2da234fb-aaf4-4612-b4ba-2f3a0eaa7564",
   "metadata": {},
   "outputs": [],
   "source": [
    "#instead of astrophy it's use it\"s\n",
    "a = 'his it\"s'"
   ]
  },
  {
   "cell_type": "code",
   "execution_count": 3,
   "id": "32156aa9-c2ab-4ba3-8798-934832675052",
   "metadata": {},
   "outputs": [
    {
     "data": {
      "text/plain": [
       "'s'"
      ]
     },
     "execution_count": 3,
     "metadata": {},
     "output_type": "execute_result"
    }
   ],
   "source": [
    "a[2]"
   ]
  },
  {
   "cell_type": "markdown",
   "id": "8b0d978f-f944-4fa2-856d-8e129705ad5f",
   "metadata": {},
   "source": [
    "# indexing\n",
    "* is used to acces a elemet in \n",
    "* list\n",
    "* tuple\n",
    "*    string\n",
    "* range\n",
    "* bytes\n",
    "* bytesarray\n",
    "* list comprehension\n",
    "* generator expression"
   ]
  },
  {
   "cell_type": "code",
   "execution_count": 9,
   "id": "f1005394-5a34-4084-b8a4-ebdda32d447b",
   "metadata": {},
   "outputs": [],
   "source": [
    "my_string = \"hello, world\""
   ]
  },
  {
   "cell_type": "code",
   "execution_count": 12,
   "id": "f3d02a52-54cf-46c5-a961-43c91e638594",
   "metadata": {},
   "outputs": [
    {
     "data": {
      "text/plain": [
       "','"
      ]
     },
     "execution_count": 12,
     "metadata": {},
     "output_type": "execute_result"
    }
   ],
   "source": [
    "my_string[5]"
   ]
  },
  {
   "cell_type": "code",
   "execution_count": 20,
   "id": "ecd281fe-3545-4954-8922-ce9dd8dc8fb7",
   "metadata": {},
   "outputs": [],
   "source": [
    "list=[12,3]"
   ]
  },
  {
   "cell_type": "code",
   "execution_count": 22,
   "id": "0af687b8-f14a-424d-aa50-cb1facc46a4c",
   "metadata": {},
   "outputs": [
    {
     "data": {
      "text/plain": [
       "12"
      ]
     },
     "execution_count": 22,
     "metadata": {},
     "output_type": "execute_result"
    }
   ],
   "source": [
    "list[0]"
   ]
  },
  {
   "cell_type": "code",
   "execution_count": 24,
   "id": "44c6ed7f-c2f8-4f6f-b220-903687bc07d7",
   "metadata": {},
   "outputs": [],
   "source": [
    "my_string = \"hello world\"\n"
   ]
  },
  {
   "cell_type": "code",
   "execution_count": 30,
   "id": "e7b56e92-ddb5-4ddd-95f4-0383bff856df",
   "metadata": {},
   "outputs": [
    {
     "data": {
      "text/plain": [
       "'l'"
      ]
     },
     "execution_count": 30,
     "metadata": {},
     "output_type": "execute_result"
    }
   ],
   "source": [
    "my_string[-2]"
   ]
  },
  {
   "cell_type": "markdown",
   "id": "01eae014-6284-4490-b884-50f6ba68430e",
   "metadata": {},
   "source": [
    "# slicing\n",
    "[start :stop :step]"
   ]
  },
  {
   "cell_type": "code",
   "execution_count": 33,
   "id": "2e3a78fa-795c-46d0-af9f-d8fd7cdd49dc",
   "metadata": {},
   "outputs": [],
   "source": [
    "text= \"python programming\""
   ]
  },
  {
   "cell_type": "code",
   "execution_count": 35,
   "id": "ffe74f12-1008-4f41-93c9-3a1a67faadb7",
   "metadata": {},
   "outputs": [
    {
     "data": {
      "text/plain": [
       "'pyt'"
      ]
     },
     "execution_count": 35,
     "metadata": {},
     "output_type": "execute_result"
    }
   ],
   "source": [
    "text[0:3]"
   ]
  },
  {
   "cell_type": "code",
   "execution_count": 47,
   "id": "a3eef251-08b3-4767-a541-a9d4277ff4cf",
   "metadata": {},
   "outputs": [
    {
     "data": {
      "text/plain": [
       "'tho'"
      ]
     },
     "execution_count": 47,
     "metadata": {},
     "output_type": "execute_result"
    }
   ],
   "source": [
    "text[2:5]"
   ]
  },
  {
   "cell_type": "code",
   "execution_count": 50,
   "id": "1312be1b-7566-4f30-b842-1b61f0c60523",
   "metadata": {},
   "outputs": [],
   "source": [
    "#basic slicing"
   ]
  },
  {
   "cell_type": "code",
   "execution_count": 52,
   "id": "ef6d178d-436f-4d06-ba4c-512b964f10ba",
   "metadata": {},
   "outputs": [
    {
     "data": {
      "text/plain": [
       "'pyth'"
      ]
     },
     "execution_count": 52,
     "metadata": {},
     "output_type": "execute_result"
    }
   ],
   "source": [
    "# omitting start and stop\n",
    "text[:4]"
   ]
  },
  {
   "cell_type": "code",
   "execution_count": 55,
   "id": "6edcb10e-9382-47f8-9dc0-f3c706d3795d",
   "metadata": {},
   "outputs": [
    {
     "data": {
      "text/plain": [
       "'thon programming'"
      ]
     },
     "execution_count": 55,
     "metadata": {},
     "output_type": "execute_result"
    }
   ],
   "source": [
    "text[2: ]"
   ]
  },
  {
   "cell_type": "code",
   "execution_count": 57,
   "id": "e4a08264-151b-48c8-9297-a1861f43bc19",
   "metadata": {},
   "outputs": [],
   "source": [
    "text = \"python programming\"\n",
    "substring = text[:6]"
   ]
  },
  {
   "cell_type": "code",
   "execution_count": 59,
   "id": "36504277-b9c2-4daa-9dd2-da2b04bfb912",
   "metadata": {},
   "outputs": [
    {
     "data": {
      "text/plain": [
       "'python'"
      ]
     },
     "execution_count": 59,
     "metadata": {},
     "output_type": "execute_result"
    }
   ],
   "source": [
    "substring"
   ]
  },
  {
   "cell_type": "code",
   "execution_count": 61,
   "id": "6b94f78a-d5ed-4b69-9f55-c7e13d6ac7a5",
   "metadata": {},
   "outputs": [],
   "source": [
    "substring = text[7: ]"
   ]
  },
  {
   "cell_type": "code",
   "execution_count": 63,
   "id": "778104b6-393b-4635-99f5-4694d2a6626a",
   "metadata": {},
   "outputs": [
    {
     "data": {
      "text/plain": [
       "'programming'"
      ]
     },
     "execution_count": 63,
     "metadata": {},
     "output_type": "execute_result"
    }
   ],
   "source": [
    "substring"
   ]
  },
  {
   "cell_type": "markdown",
   "id": "ae65ef45-fd14-48d3-9e79-f1cbc6e5c8fb",
   "metadata": {},
   "source": [
    "## negative indexing"
   ]
  },
  {
   "cell_type": "code",
   "execution_count": 66,
   "id": "6d5382bf-2c42-4fdc-89bd-a7037a1ece6d",
   "metadata": {},
   "outputs": [
    {
     "data": {
      "text/plain": [
       "'python programming'"
      ]
     },
     "execution_count": 66,
     "metadata": {},
     "output_type": "execute_result"
    }
   ],
   "source": [
    "text"
   ]
  },
  {
   "cell_type": "code",
   "execution_count": 68,
   "id": "9b76274c-bbd9-4d1d-83b0-a58cb7b23a3e",
   "metadata": {},
   "outputs": [
    {
     "data": {
      "text/plain": [
       "' programm'"
      ]
     },
     "execution_count": 68,
     "metadata": {},
     "output_type": "execute_result"
    }
   ],
   "source": [
    "text[-12:-3]"
   ]
  },
  {
   "cell_type": "code",
   "execution_count": 70,
   "id": "c0eb1774-2156-42c5-a761-d5cec12f5d5b",
   "metadata": {},
   "outputs": [
    {
     "data": {
      "text/plain": [
       "'gnimmargorp nohtyp'"
      ]
     },
     "execution_count": 70,
     "metadata": {},
     "output_type": "execute_result"
    }
   ],
   "source": [
    "text[::-1]"
   ]
  },
  {
   "cell_type": "code",
   "execution_count": 72,
   "id": "08693ec8-0291-4ef0-bd43-1d321a234416",
   "metadata": {},
   "outputs": [
    {
     "data": {
      "text/plain": [
       "'python programming'"
      ]
     },
     "execution_count": 72,
     "metadata": {},
     "output_type": "execute_result"
    }
   ],
   "source": [
    "text[::1]"
   ]
  },
  {
   "cell_type": "code",
   "execution_count": 74,
   "id": "476c3cb6-7b37-47a0-8e79-c50cc2ac6ce3",
   "metadata": {},
   "outputs": [
    {
     "data": {
      "text/plain": [
       "'ython programming'"
      ]
     },
     "execution_count": 74,
     "metadata": {},
     "output_type": "execute_result"
    }
   ],
   "source": [
    "text[1::]"
   ]
  },
  {
   "cell_type": "code",
   "execution_count": 76,
   "id": "80969af6-96bf-432e-8bc7-426aabf7efb9",
   "metadata": {},
   "outputs": [
    {
     "data": {
      "text/plain": [
       "'g'"
      ]
     },
     "execution_count": 76,
     "metadata": {},
     "output_type": "execute_result"
    }
   ],
   "source": [
    "text[-1::]"
   ]
  },
  {
   "cell_type": "code",
   "execution_count": 78,
   "id": "2f21d8e2-a7e5-4421-b0fd-d46ed1d40bb8",
   "metadata": {},
   "outputs": [],
   "source": [
    "original_string = \"hello, world!\""
   ]
  },
  {
   "cell_type": "code",
   "execution_count": 80,
   "id": "ee71eaa6-884d-41d1-888e-269911a34c30",
   "metadata": {},
   "outputs": [],
   "source": [
    "new_string = original_string.replace(\"worls\",\"python\")"
   ]
  },
  {
   "cell_type": "code",
   "execution_count": 82,
   "id": "b02fe5eb-b1e6-476e-b110-aca2d58df179",
   "metadata": {},
   "outputs": [
    {
     "data": {
      "text/plain": [
       "'hello, world!'"
      ]
     },
     "execution_count": 82,
     "metadata": {},
     "output_type": "execute_result"
    }
   ],
   "source": [
    "new_string"
   ]
  },
  {
   "cell_type": "code",
   "execution_count": 84,
   "id": "c49f0c38-4f79-499e-81c9-e2d00ee2c645",
   "metadata": {},
   "outputs": [
    {
     "data": {
      "text/plain": [
       "'hello, world!'"
      ]
     },
     "execution_count": 84,
     "metadata": {},
     "output_type": "execute_result"
    }
   ],
   "source": [
    "original_string"
   ]
  },
  {
   "cell_type": "code",
   "execution_count": 100,
   "id": "d5b2434d-63d9-4e5a-b985-292ca1008783",
   "metadata": {},
   "outputs": [],
   "source": [
    "name = \"my name\""
   ]
  },
  {
   "cell_type": "code",
   "execution_count": 136,
   "id": "9fa76d52-c181-4612-8775-06b6ee60e356",
   "metadata": {},
   "outputs": [],
   "source": [
    "your_name = name .replace (\"my\",\"his\")"
   ]
  },
  {
   "cell_type": "code",
   "execution_count": 114,
   "id": "e7900fdd-5a9c-4c08-b26e-dd89181eaa28",
   "metadata": {},
   "outputs": [
    {
     "data": {
      "text/plain": [
       "'his name'"
      ]
     },
     "execution_count": 114,
     "metadata": {},
     "output_type": "execute_result"
    }
   ],
   "source": [
    "your_name"
   ]
  },
  {
   "cell_type": "code",
   "execution_count": 116,
   "id": "4103d8e3-b65b-467b-8645-254c1612e5b5",
   "metadata": {},
   "outputs": [
    {
     "data": {
      "text/plain": [
       "'my name'"
      ]
     },
     "execution_count": 116,
     "metadata": {},
     "output_type": "execute_result"
    }
   ],
   "source": [
    "name"
   ]
  },
  {
   "cell_type": "code",
   "execution_count": 120,
   "id": "007d0f5c-f565-4efe-b45a-bccade1240d6",
   "metadata": {},
   "outputs": [],
   "source": [
    "part1 = \"hello\"\n",
    "part2 = \"world\"\n",
    "combined_string= part1 + \" \" + part2 + \"!\""
   ]
  },
  {
   "cell_type": "code",
   "execution_count": 122,
   "id": "29ba55c0-ae47-476a-b7f4-357ddec3b4e4",
   "metadata": {},
   "outputs": [
    {
     "data": {
      "text/plain": [
       "'hello world!'"
      ]
     },
     "execution_count": 122,
     "metadata": {},
     "output_type": "execute_result"
    }
   ],
   "source": [
    "combined_string"
   ]
  },
  {
   "cell_type": "markdown",
   "id": "5b99c60b-0791-494b-91b3-f0b6ec2e54a4",
   "metadata": {},
   "source": [
    "## formating"
   ]
  },
  {
   "cell_type": "code",
   "execution_count": 140,
   "id": "734f9e70-da47-4d9b-93ee-fc5177597f44",
   "metadata": {},
   "outputs": [],
   "source": [
    "name = \"alice\"\n",
    "age = 30"
   ]
  },
  {
   "cell_type": "markdown",
   "id": "3b86ad8e-c02e-49b6-ac02-67e0fae237e4",
   "metadata": {},
   "source": [
    "### concatination"
   ]
  },
  {
   "cell_type": "code",
   "execution_count": 142,
   "id": "c5981682-9ba4-4a52-8ca5-f8423f9e1ac3",
   "metadata": {},
   "outputs": [
    {
     "data": {
      "text/plain": [
       "'helloworld'"
      ]
     },
     "execution_count": 142,
     "metadata": {},
     "output_type": "execute_result"
    }
   ],
   "source": [
    "\"hello\" + \"world\""
   ]
  },
  {
   "cell_type": "code",
   "execution_count": 144,
   "id": "35b12ed1-220a-4fac-b432-0282c8171a50",
   "metadata": {},
   "outputs": [
    {
     "name": "stdout",
     "output_type": "stream",
     "text": [
      "may name is  alice and the age is  30\n"
     ]
    }
   ],
   "source": [
    "print(\"may name is \",name,\"and the age is \",age)"
   ]
  },
  {
   "cell_type": "code",
   "execution_count": 146,
   "id": "023303fb-0e0d-4039-93f7-28adce60e32d",
   "metadata": {},
   "outputs": [
    {
     "data": {
      "text/plain": [
       "'my name is alice and i am 30 years  old'"
      ]
     },
     "execution_count": 146,
     "metadata": {},
     "output_type": "execute_result"
    }
   ],
   "source": [
    "f\"my name is {name} and i am {age} years  old\""
   ]
  },
  {
   "cell_type": "markdown",
   "id": "cdbf6208-a9f1-4af5-8059-a12cef1d2159",
   "metadata": {},
   "source": [
    "### deleting variables"
   ]
  },
  {
   "cell_type": "code",
   "execution_count": 151,
   "id": "4057e6a4-bdc6-462d-be3a-ea36f6ffa1d5",
   "metadata": {},
   "outputs": [],
   "source": [
    "my_string = \"hello, world\""
   ]
  },
  {
   "cell_type": "code",
   "execution_count": 153,
   "id": "015533b8-6584-47d5-80d3-56f07343dd36",
   "metadata": {},
   "outputs": [
    {
     "data": {
      "text/plain": [
       "'hello, world'"
      ]
     },
     "execution_count": 153,
     "metadata": {},
     "output_type": "execute_result"
    }
   ],
   "source": [
    "my_string"
   ]
  },
  {
   "cell_type": "code",
   "execution_count": 155,
   "id": "c2e22f36-0bef-4933-9324-7b87c467e9a3",
   "metadata": {},
   "outputs": [],
   "source": [
    "del my_string"
   ]
  },
  {
   "cell_type": "code",
   "execution_count": 6,
   "id": "c20a83c1-8bdf-45af-870a-806a6c858024",
   "metadata": {},
   "outputs": [
    {
     "ename": "NameError",
     "evalue": "name 'my_string' is not defined",
     "output_type": "error",
     "traceback": [
      "\u001b[1;31m---------------------------------------------------------------------------\u001b[0m",
      "\u001b[1;31mNameError\u001b[0m                                 Traceback (most recent call last)",
      "Cell \u001b[1;32mIn[6], line 1\u001b[0m\n\u001b[1;32m----> 1\u001b[0m \u001b[38;5;28mprint\u001b[39m(my_string)\n",
      "\u001b[1;31mNameError\u001b[0m: name 'my_string' is not defined"
     ]
    }
   ],
   "source": [
    "print(my_string)"
   ]
  },
  {
   "cell_type": "markdown",
   "id": "46c96299-f935-44bb-8ece-a8e98d48b4ef",
   "metadata": {},
   "source": [
    "## repetiotion(multiplication)"
   ]
  },
  {
   "cell_type": "markdown",
   "id": "d88b7485-6781-40f4-b3af-40a4fef30d84",
   "metadata": {},
   "source": [
    "## loops operations in string in python\n",
    "* for loop\n",
    "* * while loop"
   ]
  },
  {
   "cell_type": "code",
   "execution_count": 13,
   "id": "899f6efa-f744-4367-8c6c-bb14e1a3d1fe",
   "metadata": {},
   "outputs": [
    {
     "name": "stdout",
     "output_type": "stream",
     "text": [
      "p\n",
      "y\n",
      "t\n",
      "h\n",
      "o\n",
      "n\n"
     ]
    }
   ],
   "source": [
    "# for loop\n",
    "text = \"python\"\n",
    "for char in text:\n",
    "    print(char)"
   ]
  },
  {
   "cell_type": "code",
   "execution_count": 17,
   "id": "1f6bbd4f-0180-471e-8ff9-cf56901ffbb9",
   "metadata": {},
   "outputs": [
    {
     "data": {
      "text/plain": [
       "'raaj'"
      ]
     },
     "execution_count": 17,
     "metadata": {},
     "output_type": "execute_result"
    }
   ],
   "source": [
    "name= 'Raaj'\n",
    "name.lower()"
   ]
  },
  {
   "cell_type": "code",
   "execution_count": 20,
   "id": "71c0a7c1-8554-499d-8e4f-f85702a42e6b",
   "metadata": {},
   "outputs": [
    {
     "data": {
      "text/plain": [
       "'RAAJ'"
      ]
     },
     "execution_count": 20,
     "metadata": {},
     "output_type": "execute_result"
    }
   ],
   "source": [
    "name= 'Raaj'\n",
    "name.upper()"
   ]
  },
  {
   "cell_type": "markdown",
   "id": "559614a1-aeff-4ee1-bf42-c45ceaeeca67",
   "metadata": {},
   "source": [
    "## create new string whhtn uppr case letters"
   ]
  },
  {
   "cell_type": "code",
   "execution_count": 22,
   "id": "9378fdf2-3a16-43a6-b0c4-51bd2db87a5b",
   "metadata": {},
   "outputs": [
    {
     "ename": "NameError",
     "evalue": "name 'uppercase_text' is not defined",
     "output_type": "error",
     "traceback": [
      "\u001b[1;31m---------------------------------------------------------------------------\u001b[0m",
      "\u001b[1;31mNameError\u001b[0m                                 Traceback (most recent call last)",
      "Cell \u001b[1;32mIn[22], line 2\u001b[0m\n\u001b[0;32m      1\u001b[0m text \u001b[38;5;241m=\u001b[39m \u001b[38;5;124m\"\u001b[39m\u001b[38;5;124mhello\u001b[39m\u001b[38;5;124m\"\u001b[39m\n\u001b[1;32m----> 2\u001b[0m uppercase_text\n",
      "\u001b[1;31mNameError\u001b[0m: name 'uppercase_text' is not defined"
     ]
    }
   ],
   "source": [
    "text = \"hello\"\n",
    "uppercase_text"
   ]
  },
  {
   "cell_type": "markdown",
   "id": "5a706fff-84af-4d4a-ad5b-b9d8cc8ef4ca",
   "metadata": {},
   "source": [
    "## memebership operator in strings\n"
   ]
  },
  {
   "cell_type": "markdown",
   "id": "f25db2e8-fa6e-452f-9080-4793488fdedf",
   "metadata": {},
   "source": [
    "##### hi"
   ]
  },
  {
   "cell_type": "code",
   "execution_count": 29,
   "id": "caebc9c8-bfb6-4e8c-b198-eb66fdaf4e45",
   "metadata": {},
   "outputs": [
    {
     "data": {
      "text/plain": [
       "True"
      ]
     },
     "execution_count": 29,
     "metadata": {},
     "output_type": "execute_result"
    }
   ],
   "source": [
    "text = \"hello, world\"\n",
    "\"w\" in text"
   ]
  },
  {
   "cell_type": "code",
   "execution_count": 31,
   "id": "59c29060-c2bd-48e8-ba4a-76ec733f1495",
   "metadata": {},
   "outputs": [
    {
     "data": {
      "text/plain": [
       "True"
      ]
     },
     "execution_count": 31,
     "metadata": {},
     "output_type": "execute_result"
    }
   ],
   "source": [
    "\"ello\" in text"
   ]
  },
  {
   "cell_type": "code",
   "execution_count": 35,
   "id": "8fbc2428-3afb-4ac9-9b7e-c660d17d8336",
   "metadata": {},
   "outputs": [
    {
     "ename": "NameError",
     "evalue": "name 'a' is not defined",
     "output_type": "error",
     "traceback": [
      "\u001b[1;31m---------------------------------------------------------------------------\u001b[0m",
      "\u001b[1;31mNameError\u001b[0m                                 Traceback (most recent call last)",
      "Cell \u001b[1;32mIn[35], line 1\u001b[0m\n\u001b[1;32m----> 1\u001b[0m \u001b[38;5;28mtype\u001b[39m(a)\n",
      "\u001b[1;31mNameError\u001b[0m: name 'a' is not defined"
     ]
    }
   ],
   "source": [
    "type(a)"
   ]
  },
  {
   "cell_type": "markdown",
   "id": "8addf53b-07aa-4a5a-bd4d-f9eb7052cc8d",
   "metadata": {},
   "source": [
    "## not in operator "
   ]
  },
  {
   "cell_type": "code",
   "execution_count": 43,
   "id": "fbcaf749-3005-4553-ae82-52960031dfe9",
   "metadata": {},
   "outputs": [],
   "source": [
    "text = \"hello, world\""
   ]
  },
  {
   "cell_type": "code",
   "execution_count": 45,
   "id": "b11279d7-7d0d-4fe9-af39-36102acf05b7",
   "metadata": {},
   "outputs": [
    {
     "data": {
      "text/plain": [
       "False"
      ]
     },
     "execution_count": 45,
     "metadata": {},
     "output_type": "execute_result"
    }
   ],
   "source": [
    "\"hello\" not in text"
   ]
  },
  {
   "cell_type": "code",
   "execution_count": 47,
   "id": "7256e86b-4ad3-4dc9-869f-aa7b5a7479aa",
   "metadata": {},
   "outputs": [
    {
     "data": {
      "text/plain": [
       "True"
      ]
     },
     "execution_count": 47,
     "metadata": {},
     "output_type": "execute_result"
    }
   ],
   "source": [
    "\"hi\" not in text"
   ]
  },
  {
   "cell_type": "markdown",
   "id": "309514f6-25ab-4928-87c5-a2a2092fef27",
   "metadata": {},
   "source": [
    "## check if substring that exist"
   ]
  },
  {
   "cell_type": "code",
   "execution_count": 67,
   "id": "8121a036-5ce9-44f9-a79e-b36f7e98136b",
   "metadata": {},
   "outputs": [],
   "source": [
    "text = \"ordering\""
   ]
  },
  {
   "cell_type": "code",
   "execution_count": 69,
   "id": "f802f69b-a360-4ad5-b534-0b11fb8888c9",
   "metadata": {},
   "outputs": [
    {
     "ename": "SyntaxError",
     "evalue": "invalid syntax (1412387875.py, line 1)",
     "output_type": "error",
     "traceback": [
      "\u001b[1;36m  Cell \u001b[1;32mIn[69], line 1\u001b[1;36m\u001b[0m\n\u001b[1;33m    \"ordering \" in my string\u001b[0m\n\u001b[1;37m                      ^\u001b[0m\n\u001b[1;31mSyntaxError\u001b[0m\u001b[1;31m:\u001b[0m invalid syntax\n"
     ]
    }
   ],
   "source": [
    "\"ordering \" in my string\n"
   ]
  },
  {
   "cell_type": "code",
   "execution_count": 71,
   "id": "7f629447-436e-48fc-bb32-6925cee0dd12",
   "metadata": {},
   "outputs": [
    {
     "data": {
      "text/plain": [
       "'Text'"
      ]
     },
     "execution_count": 71,
     "metadata": {},
     "output_type": "execute_result"
    }
   ],
   "source": [
    "text=\"text\"\n",
    "text.title()"
   ]
  },
  {
   "cell_type": "code",
   "execution_count": 79,
   "id": "9f69e0e9-b2e7-404e-ab23-321435dd2bf5",
   "metadata": {},
   "outputs": [
    {
     "data": {
      "text/plain": [
       "'text'"
      ]
     },
     "execution_count": 79,
     "metadata": {},
     "output_type": "execute_result"
    }
   ],
   "source": [
    "text=\"text   \"\n",
    "text.strip()"
   ]
  },
  {
   "cell_type": "code",
   "execution_count": 83,
   "id": "2c412ea1-4631-4179-a097-609f9595d59a",
   "metadata": {},
   "outputs": [
    {
     "data": {
      "text/plain": [
       "['hello,', 'world!', 'thid', 'id', 'assplit', 'method']"
      ]
     },
     "execution_count": 83,
     "metadata": {},
     "output_type": "execute_result"
    }
   ],
   "source": [
    "text = \"hello, world! thid id assplit method\"\n",
    "text.split(\" \")"
   ]
  },
  {
   "cell_type": "code",
   "execution_count": 87,
   "id": "d03eab09-e4fb-45c6-8cea-423c7664a58e",
   "metadata": {},
   "outputs": [
    {
     "ename": "NameError",
     "evalue": "name 'split' is not defined",
     "output_type": "error",
     "traceback": [
      "\u001b[1;31m---------------------------------------------------------------------------\u001b[0m",
      "\u001b[1;31mNameError\u001b[0m                                 Traceback (most recent call last)",
      "Cell \u001b[1;32mIn[87], line 1\u001b[0m\n\u001b[1;32m----> 1\u001b[0m split(text)\n",
      "\u001b[1;31mNameError\u001b[0m: name 'split' is not defined"
     ]
    }
   ],
   "source": [
    "split(text)"
   ]
  },
  {
   "cell_type": "code",
   "execution_count": 91,
   "id": "78390449-3565-4af6-947c-7ceae03102cd",
   "metadata": {},
   "outputs": [
    {
     "data": {
      "text/plain": [
       "['hello', 'world']"
      ]
     },
     "execution_count": 91,
     "metadata": {},
     "output_type": "execute_result"
    }
   ],
   "source": [
    "words = ['hello', 'world']\n",
    "words"
   ]
  },
  {
   "cell_type": "code",
   "execution_count": 103,
   "id": "33afe5ca-1811-4d5e-ab7e-106a2f2d51cf",
   "metadata": {},
   "outputs": [],
   "source": [
    "joined_text ='9'.join(words)"
   ]
  },
  {
   "cell_type": "code",
   "execution_count": 107,
   "id": "17c77b0d-8769-45b4-a708-698a76eb1653",
   "metadata": {},
   "outputs": [
    {
     "data": {
      "text/plain": [
       "'hello9world'"
      ]
     },
     "execution_count": 107,
     "metadata": {},
     "output_type": "execute_result"
    }
   ],
   "source": [
    "joined_text"
   ]
  },
  {
   "cell_type": "code",
   "execution_count": 109,
   "id": "e051db55-4087-45ce-a7a0-55a4d2ed7066",
   "metadata": {},
   "outputs": [],
   "source": [
    "text = \"hello\"\n",
    "index = text.find(\"world\")"
   ]
  },
  {
   "cell_type": "code",
   "execution_count": 111,
   "id": "cf7c061f-1805-4030-ae06-c101511c5bd6",
   "metadata": {},
   "outputs": [
    {
     "data": {
      "text/plain": [
       "-1"
      ]
     },
     "execution_count": 111,
     "metadata": {},
     "output_type": "execute_result"
    }
   ],
   "source": [
    "index"
   ]
  },
  {
   "cell_type": "code",
   "execution_count": 113,
   "id": "423cce15-9962-462c-beee-fb8501341477",
   "metadata": {},
   "outputs": [],
   "source": [
    "index = text.find(\"llo\")"
   ]
  },
  {
   "cell_type": "code",
   "execution_count": 115,
   "id": "635e1049-0f80-44ba-9bd2-b11ff2251a35",
   "metadata": {},
   "outputs": [
    {
     "data": {
      "text/plain": [
       "2"
      ]
     },
     "execution_count": 115,
     "metadata": {},
     "output_type": "execute_result"
    }
   ],
   "source": [
    "index"
   ]
  },
  {
   "cell_type": "code",
   "execution_count": 117,
   "id": "88798929-290b-4a7e-8d7b-70bc83a45e3f",
   "metadata": {},
   "outputs": [],
   "source": [
    "text = \"hello\"\n",
    "count = text.count(\"l\")"
   ]
  },
  {
   "cell_type": "code",
   "execution_count": 119,
   "id": "8ea00a1f-0c9c-47c7-be53-b2ad3ccd2386",
   "metadata": {},
   "outputs": [
    {
     "data": {
      "text/plain": [
       "2"
      ]
     },
     "execution_count": 119,
     "metadata": {},
     "output_type": "execute_result"
    }
   ],
   "source": [
    "count"
   ]
  },
  {
   "cell_type": "code",
   "execution_count": 123,
   "id": "045d6b12-dad9-47a2-b5f0-dd0eeccbb1a5",
   "metadata": {},
   "outputs": [
    {
     "data": {
      "text/plain": [
       "True"
      ]
     },
     "execution_count": 123,
     "metadata": {},
     "output_type": "execute_result"
    }
   ],
   "source": [
    "text = \"hello\"\n",
    "text.endswith(\"o\")"
   ]
  },
  {
   "cell_type": "code",
   "execution_count": 127,
   "id": "38738bb6",
   "metadata": {},
   "outputs": [
    {
     "data": {
      "text/plain": [
       "False"
      ]
     },
     "execution_count": 127,
     "metadata": {},
     "output_type": "execute_result"
    }
   ],
   "source": [
    "text = \"hello\"\n",
    "text.startswith(\"o\")"
   ]
  },
  {
   "cell_type": "code",
   "execution_count": 129,
   "id": "389db5c2-0126-47ef-ad2b-ce025d4fab52",
   "metadata": {},
   "outputs": [
    {
     "data": {
      "text/plain": [
       "True"
      ]
     },
     "execution_count": 129,
     "metadata": {},
     "output_type": "execute_result"
    }
   ],
   "source": [
    "text = \"123456\"\n",
    "text.isdigit()"
   ]
  },
  {
   "cell_type": "code",
   "execution_count": 131,
   "id": "dd972ae6",
   "metadata": {},
   "outputs": [
    {
     "ename": "AttributeError",
     "evalue": "'str' object has no attribute 'isstring'",
     "output_type": "error",
     "traceback": [
      "\u001b[1;31m---------------------------------------------------------------------------\u001b[0m",
      "\u001b[1;31mAttributeError\u001b[0m                            Traceback (most recent call last)",
      "Cell \u001b[1;32mIn[131], line 2\u001b[0m\n\u001b[0;32m      1\u001b[0m text \u001b[38;5;241m=\u001b[39m \u001b[38;5;124m\"\u001b[39m\u001b[38;5;124m123456\u001b[39m\u001b[38;5;124m\"\u001b[39m\n\u001b[1;32m----> 2\u001b[0m text\u001b[38;5;241m.\u001b[39misstring()\n",
      "\u001b[1;31mAttributeError\u001b[0m: 'str' object has no attribute 'isstring'"
     ]
    }
   ],
   "source": [
    "text = \"123456\"\n",
    "text.isstring()"
   ]
  },
  {
   "cell_type": "code",
   "execution_count": 157,
   "id": "1d7d9b8c-d9a5-49d3-bda8-99fa110d18aa",
   "metadata": {},
   "outputs": [
    {
     "data": {
      "text/plain": [
       "True"
      ]
     },
     "execution_count": 157,
     "metadata": {},
     "output_type": "execute_result"
    }
   ],
   "source": [
    "text = \"hello\"\n",
    "is_alpha = text.isalpha()\n",
    "is_alpha"
   ]
  },
  {
   "cell_type": "code",
   "execution_count": 137,
   "id": "ce1d5d82-ee2a-4d11-adf7-d4946b9d2fc4",
   "metadata": {},
   "outputs": [
    {
     "data": {
      "text/plain": [
       "True"
      ]
     },
     "execution_count": 137,
     "metadata": {},
     "output_type": "execute_result"
    }
   ],
   "source": [
    "text = \"hello\"\n",
    "is_lower = text.islower()\n",
    "is_lower"
   ]
  },
  {
   "cell_type": "code",
   "execution_count": 151,
   "id": "8c83b1f4-4e2c-494d-b496-b09cf678a395",
   "metadata": {},
   "outputs": [
    {
     "data": {
      "text/plain": [
       "'hello'"
      ]
     },
     "execution_count": 151,
     "metadata": {},
     "output_type": "execute_result"
    }
   ],
   "source": [
    "text = \"hello\"\n",
    "is_upper = text.isupper()\n",
    "text"
   ]
  },
  {
   "cell_type": "code",
   "execution_count": 159,
   "id": "701cbdee-0bca-4c77-a002-c539c820aea8",
   "metadata": {},
   "outputs": [
    {
     "data": {
      "text/plain": [
       "'0000000042'"
      ]
     },
     "execution_count": 159,
     "metadata": {},
     "output_type": "execute_result"
    }
   ],
   "source": [
    "text = \"42\"\n",
    "padded_text = text.zfill(10)\n",
    "padded_text"
   ]
  },
  {
   "cell_type": "code",
   "execution_count": 167,
   "id": "36049082-3fe8-4c6b-9a31-c1f3022f1527",
   "metadata": {},
   "outputs": [
    {
     "data": {
      "text/plain": [
       "3"
      ]
     },
     "execution_count": 167,
     "metadata": {},
     "output_type": "execute_result"
    }
   ],
   "source": [
    "text = \"hello \"\n",
    "index = text.rfind(\"l\")\n",
    "index"
   ]
  },
  {
   "cell_type": "code",
   "execution_count": 169,
   "id": "6441a154-9243-4dbc-9c50-909970295abe",
   "metadata": {},
   "outputs": [],
   "source": [
    "text = \"hello\"\n",
    "length = len(text)"
   ]
  },
  {
   "cell_type": "code",
   "execution_count": 173,
   "id": "8b37aced",
   "metadata": {},
   "outputs": [],
   "source": [
    "text = \"123456\"\n",
    "length = len(text)"
   ]
  },
  {
   "cell_type": "code",
   "execution_count": 177,
   "id": "64aa55f8",
   "metadata": {},
   "outputs": [],
   "source": [
    "text = \"1234)&&6\"\n",
    "length = len(text)"
   ]
  },
  {
   "cell_type": "code",
   "execution_count": 179,
   "id": "abc3e716-d7b1-46cc-87b7-f07d369fa425",
   "metadata": {},
   "outputs": [
    {
     "data": {
      "text/plain": [
       "8"
      ]
     },
     "execution_count": 179,
     "metadata": {},
     "output_type": "execute_result"
    }
   ],
   "source": [
    "len(text)"
   ]
  },
  {
   "cell_type": "code",
   "execution_count": 181,
   "id": "760e40b8-3bd6-4dcc-8287-522ceefb4333",
   "metadata": {},
   "outputs": [
    {
     "data": {
      "text/plain": [
       "['a', 'a', 'a', 'b', 'b', 'n', 'n']"
      ]
     },
     "execution_count": 181,
     "metadata": {},
     "output_type": "execute_result"
    }
   ],
   "source": [
    "#sorted()\n",
    "text = \"bannaba\"\n",
    "sorted(text)"
   ]
  },
  {
   "cell_type": "code",
   "execution_count": 187,
   "id": "63eb59a2",
   "metadata": {},
   "outputs": [
    {
     "data": {
      "text/plain": [
       "'abannab'"
      ]
     },
     "execution_count": 187,
     "metadata": {},
     "output_type": "execute_result"
    }
   ],
   "source": [
    "#sorted()\n",
    "text = \"bannaba\"\n",
    "''.join(reversed(text))"
   ]
  },
  {
   "cell_type": "code",
   "execution_count": 189,
   "id": "732d2e12-dd56-4434-8139-5096a75b47bd",
   "metadata": {},
   "outputs": [],
   "source": [
    "text = \"12345\"\n",
    "all_digits = all(char.isdigit() for char in text)"
   ]
  },
  {
   "cell_type": "code",
   "execution_count": 199,
   "id": "898a7819-d858-464e-aab6-93187631e5b1",
   "metadata": {},
   "outputs": [
    {
     "data": {
      "text/plain": [
       "15"
      ]
     },
     "execution_count": 199,
     "metadata": {},
     "output_type": "execute_result"
    }
   ],
   "source": [
    "numbers = [1, 2, 3, 4, 5]\n",
    "total = sum(numbers)\n",
    "total"
   ]
  },
  {
   "cell_type": "code",
   "execution_count": 201,
   "id": "95c17572",
   "metadata": {},
   "outputs": [
    {
     "ename": "NameError",
     "evalue": "name 'number' is not defined",
     "output_type": "error",
     "traceback": [
      "\u001b[1;31m---------------------------------------------------------------------------\u001b[0m",
      "\u001b[1;31mNameError\u001b[0m                                 Traceback (most recent call last)",
      "Cell \u001b[1;32mIn[201], line 3\u001b[0m\n\u001b[0;32m      1\u001b[0m numbers \u001b[38;5;241m=\u001b[39m [\u001b[38;5;241m1\u001b[39m, \u001b[38;5;241m2\u001b[39m, \u001b[38;5;241m3\u001b[39m, \u001b[38;5;241m4\u001b[39m, \u001b[38;5;241m5\u001b[39m]\n\u001b[0;32m      2\u001b[0m total \u001b[38;5;241m=\u001b[39m \u001b[38;5;28msum\u001b[39m(numbers)\n\u001b[1;32m----> 3\u001b[0m number\n",
      "\u001b[1;31mNameError\u001b[0m: name 'number' is not defined"
     ]
    }
   ],
   "source": [
    "numbers = [1, 2, 3, 4, 5]\n",
    "total = sum(numbers)\n",
    "number"
   ]
  },
  {
   "cell_type": "code",
   "execution_count": null,
   "id": "eb7b037a-3f45-4128-a30d-4b5ad9cee06b",
   "metadata": {},
   "outputs": [],
   "source": []
  }
 ],
 "metadata": {
  "kernelspec": {
   "display_name": "Python 3 (ipykernel)",
   "language": "python",
   "name": "python3"
  },
  "language_info": {
   "codemirror_mode": {
    "name": "ipython",
    "version": 3
   },
   "file_extension": ".py",
   "mimetype": "text/x-python",
   "name": "python",
   "nbconvert_exporter": "python",
   "pygments_lexer": "ipython3",
   "version": "3.12.7"
  }
 },
 "nbformat": 4,
 "nbformat_minor": 5
}
